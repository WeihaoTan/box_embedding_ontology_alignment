{
 "cells": [
  {
   "cell_type": "code",
   "execution_count": 3,
   "metadata": {},
   "outputs": [],
   "source": [
    "import numpy as np\n",
    "import pickle\n",
    "\n",
    "from boxes import *\n",
    "from learner import *\n",
    "\n",
    "import matplotlib.patches as patches\n",
    "import matplotlib.pyplot as plt\n",
    "import matplotlib.colors as mcolors\n"
   ]
  },
  {
   "cell_type": "code",
   "execution_count": 6,
   "metadata": {},
   "outputs": [],
   "source": [
    "PATH = \"../data/ontologies/anatomy/\"\n",
    "\n",
    "with open(f'{PATH}human.pickle', 'rb') as handle:\n",
    "    human = pickle.load(handle)\n",
    "    \n",
    "with open(f'{PATH}mouse.pickle', 'rb') as handle:\n",
    "    mouse = pickle.load(handle)\n",
    "\n",
    "with open(f'{PATH}entities.pickle', 'rb') as handle:\n",
    "    entities = pickle.load(handle)\n",
    "PATH = '../data/ontologies/anatomy/'\n",
    "\n",
    "# aligment training split\n",
    "ats = 0.8\n",
    "\n",
    "# Transitive closure\n",
    "Transitive_Closure = True\n",
    "\n",
    "if Transitive_Closure:\n",
    "    tc = \"tc_\"\n",
    "else:\n",
    "    tc = \"\"\n",
    "\n",
    "# Data in unary.tsv are probabilites separated by newlines. The probability on line n is P(n), where n is the id assigned to the nth element.\n",
    "unary_prob = torch.from_numpy(np.loadtxt(f'{PATH}unary/unary.tsv')).float().to(\"cuda\")\n",
    "num_boxes = unary_prob.shape[0]\n",
    "\n",
    "# We're going to use random negative sampling during training, so no need to include negatives in our training data itself\n",
    "train = Probs.load_from_julia(PATH, f'tr_pos_{tc}{ats}.tsv', f'tr_neg_{tc}{ats}.tsv', ratio_neg = 0).to(\"cuda\")\n",
    "\n",
    "# The dev set will have a fixed set of negatives, however.\n",
    "dev = Probs.load_from_julia(PATH, f'dev_align_pos_{ats}.tsv', f'dev_align_neg_{ats}.tsv', ratio_neg = 1).to(\"cuda\")\n",
    "\n",
    "# This set is used just for evaluation purposes after training\n",
    "tr_align = Probs.load_from_julia(PATH, f'tr_align_pos_{ats}.tsv', f'tr_align_neg_{ats}.tsv', ratio_neg = 1).to(\"cuda\")"
   ]
  },
  {
   "cell_type": "code",
   "execution_count": 7,
   "metadata": {},
   "outputs": [
    {
     "data": {
      "text/plain": [
       "<All keys matched successfully>"
      ]
     },
     "execution_count": 7,
     "metadata": {},
     "output_type": "execute_result"
    }
   ],
   "source": [
    "mPATH = \"../results/MinMaxSigmoidBoxes_nEpochs50_lr0.01_dims10_ratio1_tc_split0.8_UnaryTrue0.01/model.pth\"\n",
    "\n",
    "model_data = torch.load(mPATH)\n",
    "\n",
    "model = BoxModel(\n",
    "#     BoxParamType=DeltaBoxes,\n",
    "    BoxParamType=MinMaxSigmoidBoxes,\n",
    "    vol_func=soft_volume,\n",
    "    num_models=1,\n",
    "    num_boxes=num_boxes,\n",
    "    dims=10,\n",
    "    method=\"orig\").to(\"cuda\")\n",
    "\n",
    "model.load_state_dict(model_data['state_dict'])"
   ]
  },
  {
   "cell_type": "code",
   "execution_count": 8,
   "metadata": {},
   "outputs": [],
   "source": [
    "# Get the coordinates of the boxes\n",
    "\n",
    "beo = model(torch.tensor([[1, 1]]) )['box_embeddings_orig'].squeeze(0)"
   ]
  },
  {
   "cell_type": "code",
   "execution_count": 9,
   "metadata": {},
   "outputs": [
    {
     "name": "stdout",
     "output_type": "stream",
     "text": [
      "0.7977182269096375\n",
      "0.9181836247444153\n"
     ]
    }
   ],
   "source": [
    "print(model(torch.tensor([[4299, 52]]))['P(A|B)'].cpu().item())\n",
    "print(model(torch.tensor([[52, 4299]]))['P(A|B)'].cpu().item())"
   ]
  },
  {
   "cell_type": "code",
   "execution_count": 10,
   "metadata": {},
   "outputs": [
    {
     "name": "stdout",
     "output_type": "stream",
     "text": [
      "0.9566964507102966\n",
      "0.8540533781051636\n"
     ]
    }
   ],
   "source": [
    "print(model(torch.tensor([[3380, 32]]))['P(A|B)'].cpu().item())\n",
    "print(model(torch.tensor([[32, 3380]]))['P(A|B)'].cpu().item())"
   ]
  },
  {
   "cell_type": "code",
   "execution_count": 11,
   "metadata": {},
   "outputs": [
    {
     "name": "stdout",
     "output_type": "stream",
     "text": [
      "0.8980131149291992\n",
      "0.9755160808563232\n"
     ]
    }
   ],
   "source": [
    "print(model(torch.tensor([[5357, 56]]))['P(A|B)'].cpu().item())\n",
    "print(model(torch.tensor([[56, 5357]]))['P(A|B)'].cpu().item())"
   ]
  },
  {
   "cell_type": "code",
   "execution_count": null,
   "metadata": {},
   "outputs": [],
   "source": [
    "alignments = [(4299, 52),\n",
    "              (3380, 32),\n",
    "              (5357, 56),\n",
    "              (4299, 52),\n",
    "              (4299, 52),]\n",
    "\n",
    "\n"
   ]
  },
  {
   "cell_type": "code",
   "execution_count": null,
   "metadata": {},
   "outputs": [],
   "source": [
    "# row is a datapoint\n",
    "# columns are dimensions\n",
    "# [x1, y1]\n",
    "# [x2, y2]\n",
    "\n",
    "# one_node = points[0,:,:2]\n",
    "# width = abs(one_node[1,0] - one_node[0,0])\n",
    "# height = abs(one_node[1,1] - one_node[0,1])\n",
    "# one_node_min = torch.min(one_node, dim=0).values.cpu().detach().numpy()\n",
    "# one_node_min"
   ]
  },
  {
   "cell_type": "code",
   "execution_count": 12,
   "metadata": {},
   "outputs": [],
   "source": [
    "def get_boxes(idx, color, dim=0):\n",
    "    node = beo[idx,:,dim:dim+2].cpu().detach()\n",
    "    \n",
    "    width  = abs(node[1,0] - node[0,0])\n",
    "    height = abs(node[1,1] - node[0,1])\n",
    "    \n",
    "    node_min = torch.min(node, dim=0).values\n",
    "    \n",
    "    rect = patches.Rectangle(node_min, width, height, linewidth=2, edgecolor=color, fill=True, facecolor=color, alpha=0.5)\n",
    "    \n",
    "    return rect, node_min[0].item(), node_min[1].item(), entities['idx2label'][idx.item()], width, height"
   ]
  },
  {
   "cell_type": "code",
   "execution_count": 20,
   "metadata": {},
   "outputs": [
    {
     "data": {
      "image/png": "[encoded data removed]",
      "text/plain": [
       "<Figure size 1008x1008 with 1 Axes>"
      ]
     },
     "metadata": {},
     "output_type": "display_data"
    }
   ],
   "source": [
    "fig,ax = plt.subplots(1, figsize=(14,14), facecolor=\"white\")\n",
    "\n",
    "# box_idx = torch.tensor([4299, 52, 3380, 32, 5357, 56, 3030, 2784, 44, 732, 58, 4298, 5779, 5830])\n",
    "# box_idx = torch.tensor([3030, 732, 5779, 5830, 4299, 52, 3380, 32, 5357, 56])\n",
    "# box_idx = torch.tensor([1, 4299, 52, 3380, 32, 5357, 56, 58])\n",
    "# box_idx = torch.tensor([3380, 3377, 3382, 3471, 4299, 4746, 4982])\n",
    "# box_idx = torch.tensor([1, 2738, 6, 2784, 5014])\n",
    "# box_idx = torch.tensor([1, 6, 5, 8, 69])\n",
    "box_idx = torch.tensor([11, 3030, 32, 3380, 52, 4299, 56, 5357])\n",
    "\n",
    "# colors = list(mcolors.CSS4_COLORS)\n",
    "colors = ['xkcd:orange red', 'xkcd:sunflower', 'xkcd:magenta', 'xkcd:baby purple',\n",
    "          'xkcd:chartreuse',  'xkcd:greenish', 'xkcd:mint', 'xkcd:sky blue',\n",
    "           'xkcd:slate blue', 'xkcd:deep red', 'xkcd:greyish brown', 'xkcd:canary yellow' ]\n",
    "\n",
    "rectangles = []\n",
    "labels = []\n",
    "\n",
    "# rect1 = patches.Rectangle(one_node_min, width, height,linewidth=2,edgecolor='r', fill=True, facecolor='r', alpha=0.3)\n",
    "# rect2 = patches.Rectangle((0.5,0.1),.1,.3,linewidth=2,edgecolor='b', fill=True, facecolor='b', alpha=0.3)\n",
    "left = 100\n",
    "right = -100\n",
    "top = -100\n",
    "bottom = 100\n",
    "# 0, 4\n",
    "for i, bidx in enumerate(box_idx):\n",
    "    rect, xmin, ymin, name, w, h = get_boxes(bidx, colors[i], dim=6)\n",
    "    if xmin < left:\n",
    "        left = xmin\n",
    "    if ymin < bottom:\n",
    "        bottom = ymin\n",
    "    if xmin + w > right:\n",
    "        right = xmin+w\n",
    "    if ymin + h > top:\n",
    "        top = ymin+h\n",
    "    \n",
    "    ax.text(xmin, ymin, entities['idx2label'][bidx.item()], fontsize=28)\n",
    "    ax.add_patch(rect)\n",
    "    \n",
    "    if bidx.item() < 2738:\n",
    "        labels.append(name + \" (mouse)\")\n",
    "    else:\n",
    "        labels.append(name + \" (human)\")\n",
    "\n",
    "# ax.add_patch(rect2)\n",
    "\n",
    "# ax.set_xlim([-.1, 1.5])\n",
    "# ax.set_ylim([-.1, 1.5])\n",
    "\n",
    "ax.set_xlim([left-0.01, right+0.01])\n",
    "ax.set_ylim([bottom-0.01, top+0.01])\n",
    "\n",
    "ax.legend(labels, fontsize=18, loc=10)\n",
    "plt.show()\n",
    "\n"
   ]
  },
  {
   "cell_type": "code",
   "execution_count": null,
   "metadata": {},
   "outputs": [],
   "source": [
    "print( [(p, entities['idx2label'][p]) for p in mouse['children_of'][1] ] )\n",
    "# print( [(p, entities['idx2label'][p]) for p in human['children_of'][5014] ] )\n",
    "\n",
    "#             1\n",
    "#             |\n",
    "#     ________6________\n",
    "#    /        |        \\\n",
    "#   5   ______8_____   69\n",
    "#      /   /  |  \\  \\\n",
    "#     7   9  10  11  12\n",
    "\n",
    "x = model(torch.tensor([[69,6],\n",
    "                        [6,69]]))['P(A|B)']\n",
    "\n",
    "print(\"\",x[0].item(),\"\\n\", x[1].item())\n",
    "\n",
    "# print(model(torch.tensor([[1,6],[6,1]]))['P(A|B)'])\n",
    "# print(model(torch.tensor([[6,1]]))['P(A|B)'])"
   ]
  },
  {
   "cell_type": "code",
   "execution_count": null,
   "metadata": {},
   "outputs": [],
   "source": [
    "entities['idx2name'][8]"
   ]
  },
  {
   "cell_type": "code",
   "execution_count": null,
   "metadata": {},
   "outputs": [],
   "source": [
    "entities['name2idx']['NCI_C13236']"
   ]
  },
  {
   "cell_type": "code",
   "execution_count": null,
   "metadata": {},
   "outputs": [],
   "source": [
    "print('limb', entities['label2idx']['limb'])\n",
    "print('Limb', entities['label2idx']['Limb'])\n",
    "print('hindlimb', entities['label2idx']['hindlimb'])\n",
    "print('Lower_Extremity', entities['label2idx']['Lower_Extremity'])\n",
    "print('foot', entities['label2idx']['foot'])\n",
    "print('Foot', entities['label2idx']['Foot'])\n",
    "print('foot digit', entities['label2idx']['foot digit'])\n",
    "print('Toe', entities['label2idx']['Toe'])"
   ]
  },
  {
   "cell_type": "code",
   "execution_count": null,
   "metadata": {},
   "outputs": [],
   "source": [
    "print(\"limb given Limb {:.3f}\".format(model(torch.tensor([[11, 3030]]))['P(A|B)'].cpu().item()))\n",
    "print(\"Limb given limb {:.3f}\".format(model(torch.tensor([[3030, 11]]))['P(A|B)'].cpu().item()))\n",
    "\n",
    "print(\"hindlimb given Lower_Extremity {:.3f}\".format(model(torch.tensor([[32, 3380]]))['P(A|B)'].cpu().item()))\n",
    "print(\"Lower_Extremity  given hindlimb {:.3f}\".format(model(torch.tensor([[3380, 32]]))['P(A|B)'].cpu().item()))\n",
    "\n",
    "print(\"foot given Foot {:.3f}\".format(model(torch.tensor([[52, 4299]]))['P(A|B)'].cpu().item()))\n",
    "print(\"Foot given foot {:.3f}\".format(model(torch.tensor([[4299, 52]]))['P(A|B)'].cpu().item()))\n",
    "\n",
    "print(\"foot digit given Toe {:.3f}\".format(model(torch.tensor([[56, 5357]]))['P(A|B)'].cpu().item()))\n",
    "print(\"Toe given foot digit {:.3f}\".format(model(torch.tensor([[5357, 56]]))['P(A|B)'].cpu().item()))"
   ]
  }
 ],
 "metadata": {
  "kernelspec": {
   "display_name": "Python 3",
   "language": "python",
   "name": "python3"
  },
  "language_info": {
   "codemirror_mode": {
    "name": "ipython",
    "version": 3
   },
   "file_extension": ".py",
   "mimetype": "text/x-python",
   "name": "python",
   "nbconvert_exporter": "python",
   "pygments_lexer": "ipython3",
   "version": "3.7.5"
  }
 },
 "nbformat": 4,
 "nbformat_minor": 2
}
