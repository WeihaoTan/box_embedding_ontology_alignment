{
 "cells": [
  {
   "cell_type": "code",
   "execution_count": 1,
   "metadata": {},
   "outputs": [
    {
     "name": "stderr",
     "output_type": "stream",
     "text": [
      "/home/zonghaiyao/anaconda3/envs/run_boxmodel/lib/python3.7/site-packages/tqdm/autonotebook.py:17: TqdmExperimentalWarning: Using `tqdm.autonotebook.tqdm` in notebook mode. Use `tqdm.tqdm` instead to force console mode (e.g. in jupyter console)\n",
      "  \" (e.g. in jupyter console)\", TqdmExperimentalWarning)\n"
     ]
    },
    {
     "data": {
      "text/html": [
       "\n",
       "    <style>\n",
       "    .p-Widget.jp-OutputPrompt.jp-OutputArea-prompt:empty {\n",
       "      padding: 0;\n",
       "      border: 0;\n",
       "    }\n",
       "    </style>\n",
       "    "
      ],
      "text/plain": [
       "<IPython.core.display.HTML object>"
      ]
     },
     "metadata": {},
     "output_type": "display_data"
    }
   ],
   "source": [
    "import torch\n",
    "import pickle\n",
    "from torch import Tensor\n",
    "from torch.nn import Module, Parameter\n",
    "import torch.nn.functional as F\n",
    "import numpy as np\n",
    "from numpy import genfromtxt\n",
    "from sklearn.metrics import roc_curve, precision_recall_curve\n",
    "import matplotlib.pyplot as plt\n",
    "from learner import *\n",
    "from boxes import *"
   ]
  },
  {
   "cell_type": "code",
   "execution_count": 3,
   "metadata": {},
   "outputs": [
    {
     "name": "stdout",
     "output_type": "stream",
     "text": [
      "dict_keys(['edges', 'parents_of', 'children_of', 'mouse_entities'])\n",
      "dict_keys(['edges', 'parents_of', 'children_of', 'human_entities'])\n",
      "dict_keys(['all_edges', 'alignments', 'name2idx', 'idx2name', 'label2idx', 'idx2label', 'set', 'align_dict'])\n"
     ]
    }
   ],
   "source": [
    "PATH = \"../data/ontologies/anatomy/\"\n",
    "\n",
    "with open(f'{PATH}human.pickle', 'rb') as handle:\n",
    "    human = pickle.load(handle)\n",
    "    \n",
    "with open(f'{PATH}mouse.pickle', 'rb') as handle:\n",
    "    mouse = pickle.load(handle)\n",
    "\n",
    "with open(f'{PATH}entities.pickle', 'rb') as handle:\n",
    "    entities = pickle.load(handle)\n",
    "    \n",
    "print(mouse.keys())\n",
    "print(human.keys())\n",
    "print(entities.keys())"
   ]
  },
  {
   "cell_type": "markdown",
   "metadata": {},
   "source": [
    "### Separating the data by edge type: human, mouse, or alignment (across ontology)"
   ]
  },
  {
   "cell_type": "code",
   "execution_count": 4,
   "metadata": {},
   "outputs": [],
   "source": [
    "pos_edges = np.loadtxt('../data/ontologies/anatomy/tr_pos_0.8.tsv', delimiter='\\t', dtype=int)\n",
    "neg_edges = np.loadtxt('../data/ontologies/anatomy/tr_neg_0.8.tsv', delimiter='\\t', dtype=int)"
   ]
  },
  {
   "cell_type": "code",
   "execution_count": 5,
   "metadata": {
    "scrolled": true
   },
   "outputs": [],
   "source": [
    "pos_out = np.ones(pos_edges.shape[0], dtype=int)\n",
    "neg_out = np.zeros(neg_edges.shape[0], dtype=int)\n",
    "\n",
    "data_in = torch.from_numpy(np.concatenate((pos_edges, neg_edges[:len(pos_edges)]), axis=0))\n",
    "data_out = torch.from_numpy(np.concatenate((pos_out, neg_out[:len(pos_out)]), axis=0))"
   ]
  },
  {
   "cell_type": "code",
   "execution_count": 6,
   "metadata": {},
   "outputs": [
    {
     "name": "stdout",
     "output_type": "stream",
     "text": [
      "tensor([[1, 2],\n",
      "        [5, 6],\n",
      "        [2, 4],\n",
      "        [6, 7],\n",
      "        [2, 4],\n",
      "        [3, 6],\n",
      "        [1, 3]])\n"
     ]
    },
    {
     "data": {
      "text/plain": [
       "tensor([1, 0, 2, 0, 2, 2, 1])"
      ]
     },
     "execution_count": 6,
     "metadata": {},
     "output_type": "execute_result"
    }
   ],
   "source": [
    "sample = torch.tensor([[1,2],[5,6],[2,4],[6,7],[2,4],[3,6],[1,3]])\n",
    "print(sample)\n",
    "\n",
    "sample_class = sample > 3\n",
    "\n",
    "category = torch.zeros_like(sample[:,0])\n",
    "\n",
    "for i, (a,b) in enumerate(sample_class):\n",
    "    if a and b:\n",
    "        category[i] = 0\n",
    "    elif not a and not b:\n",
    "        category[i] = 1\n",
    "    else:\n",
    "        category[i] = 2\n",
    "        \n",
    "category"
   ]
  },
  {
   "cell_type": "code",
   "execution_count": 7,
   "metadata": {},
   "outputs": [],
   "source": [
    "# mouse upper bound\n",
    "mub = max(mouse['mouse_entities'])\n",
    "\n",
    "dl = DataLoader(pos_edges, batch_size=4, shuffle=True)\n",
    "\n",
    "def loss_categories(batch):\n",
    "    category = torch.zeros(size=(batch.shape[0],), dtype=int)\n",
    "    \n",
    "    batch_class = batch > mub\n",
    "\n",
    "    for i, (a,b) in enumerate(batch_class):\n",
    "        if a and b:\n",
    "            category[i] = 0\n",
    "        elif not a and not b:\n",
    "            category[i] = 1\n",
    "        else:\n",
    "            category[i] = 2\n",
    "\n",
    "    return category\n",
    "\n",
    "batches = [batch for batch in dl]\n",
    "\n",
    "test_batch = batches[0]\n",
    "test_category = loss_categories(batches[0])"
   ]
  },
  {
   "cell_type": "code",
   "execution_count": 8,
   "metadata": {},
   "outputs": [],
   "source": [
    "test_mouse = test_batch[test_category == 0]\n",
    "test_human = test_batch[test_category == 1]\n",
    "test_align = test_batch[test_category == 2]"
   ]
  },
  {
   "cell_type": "code",
   "execution_count": 9,
   "metadata": {},
   "outputs": [
    {
     "data": {
      "text/plain": [
       "tensor([], size=(0, 2), dtype=torch.int32)"
      ]
     },
     "execution_count": 9,
     "metadata": {},
     "output_type": "execute_result"
    }
   ],
   "source": [
    "torch.empty((0,2), dtype=torch.int32)"
   ]
  },
  {
   "cell_type": "code",
   "execution_count": 19,
   "metadata": {},
   "outputs": [
    {
     "data": {
      "text/plain": [
       "tensor(nan, requires_grad=True)"
      ]
     },
     "execution_count": 19,
     "metadata": {},
     "output_type": "execute_result"
    }
   ],
   "source": [
    "nantensor = torch.tensor(float('nan'), requires_grad=True)\n",
    "nantensor"
   ]
  },
  {
   "cell_type": "code",
   "execution_count": 21,
   "metadata": {},
   "outputs": [
    {
     "data": {
      "text/plain": [
       "tensor([0.1462])"
      ]
     },
     "execution_count": 21,
     "metadata": {},
     "output_type": "execute_result"
    }
   ],
   "source": [
    "torch.rand(size=(1,))"
   ]
  },
  {
   "cell_type": "code",
   "execution_count": 13,
   "metadata": {},
   "outputs": [
    {
     "data": {
      "text/plain": [
       "False"
      ]
     },
     "execution_count": 13,
     "metadata": {},
     "output_type": "execute_result"
    }
   ],
   "source": [
    "'mouse' in \"align_cond_kl_loss\""
   ]
  },
  {
   "cell_type": "code",
   "execution_count": 14,
   "metadata": {},
   "outputs": [],
   "source": [
    "def isnan(x):\n",
    "    return (x != x)\n",
    "\n",
    "if isnan(a):\n",
    "    print(\"true\")"
   ]
  },
  {
   "cell_type": "code",
   "execution_count": 15,
   "metadata": {},
   "outputs": [
    {
     "name": "stdout",
     "output_type": "stream",
     "text": [
      "2\n",
      "tensor(nan)\n",
      "4\n"
     ]
    }
   ],
   "source": [
    "some_dict = {'a':2, 'b':torch.tensor(float('nan')), 'c':4}\n",
    "for k,v in some_dict.items():\n",
    "    print(v)"
   ]
  },
  {
   "cell_type": "code",
   "execution_count": 16,
   "metadata": {},
   "outputs": [
    {
     "name": "stdout",
     "output_type": "stream",
     "text": [
      "hi\n"
     ]
    }
   ],
   "source": [
    "if len(test_align) > 0:\n",
    "    print('hi')"
   ]
  },
  {
   "cell_type": "code",
   "execution_count": 17,
   "metadata": {},
   "outputs": [
    {
     "name": "stdout",
     "output_type": "stream",
     "text": [
      "tensor(2)\n",
      "tensor(0)\n",
      "tensor(0)\n",
      "tensor(1)\n"
     ]
    }
   ],
   "source": [
    "for cat in test_category:\n",
    "    print(cat)"
   ]
  },
  {
   "cell_type": "code",
   "execution_count": 18,
   "metadata": {},
   "outputs": [
    {
     "ename": "IndexError",
     "evalue": "too many indices for tensor of dimension 1",
     "output_type": "error",
     "traceback": [
      "\u001b[0;31m---------------------------------------------------------------------------\u001b[0m",
      "\u001b[0;31mIndexError\u001b[0m                                Traceback (most recent call last)",
      "\u001b[0;32m<ipython-input-18-625ea7a45c99>\u001b[0m in \u001b[0;36m<module>\u001b[0;34m\u001b[0m\n\u001b[0;32m----> 1\u001b[0;31m \u001b[0mprint\u001b[0m\u001b[0;34m(\u001b[0m\u001b[0mcategory\u001b[0m\u001b[0;34m[\u001b[0m\u001b[0;34m:\u001b[0m\u001b[0;34m,\u001b[0m\u001b[0;36m0\u001b[0m\u001b[0;34m]\u001b[0m\u001b[0;34m)\u001b[0m\u001b[0;34m\u001b[0m\u001b[0;34m\u001b[0m\u001b[0m\n\u001b[0m\u001b[1;32m      2\u001b[0m \u001b[0mprint\u001b[0m\u001b[0;34m(\u001b[0m\u001b[0mcategory\u001b[0m\u001b[0;34m[\u001b[0m\u001b[0;34m:\u001b[0m\u001b[0;34m,\u001b[0m\u001b[0;36m1\u001b[0m\u001b[0;34m]\u001b[0m\u001b[0;34m)\u001b[0m\u001b[0;34m\u001b[0m\u001b[0;34m\u001b[0m\u001b[0m\n",
      "\u001b[0;31mIndexError\u001b[0m: too many indices for tensor of dimension 1"
     ]
    }
   ],
   "source": [
    "print(category[:,0])\n",
    "print(category[:,1])"
   ]
  },
  {
   "cell_type": "code",
   "execution_count": null,
   "metadata": {},
   "outputs": [],
   "source": [
    "data_out.shape"
   ]
  },
  {
   "cell_type": "code",
   "execution_count": null,
   "metadata": {},
   "outputs": [],
   "source": [
    "dims = 100\n",
    "\n",
    "init_min_vol = torch.finfo(torch.float32).tiny\n",
    "# init_min_vol = 0.00000000000000000000000000000000001\n",
    "\n",
    "per_dim_min = torch.tensor(init_min_vol).pow(1/dims)\n",
    "\n",
    "print(init_min_vol, per_dim_min)"
   ]
  },
  {
   "cell_type": "code",
   "execution_count": null,
   "metadata": {},
   "outputs": [],
   "source": [
    "negatives = genfromtxt('../data/ontologies/dev_align_neg_0.8.tsv', delimiter='\\t')\n",
    "positives = genfromtxt('../data/ontologies/dev_align_pos_0.8.tsv', delimiter='\\t')\n",
    "\n",
    "neg_out = np.zeros(negatives.shape[0])\n",
    "pos_out = np.ones(negatives.shape[0])\n",
    "\n",
    "data_in  = torch.from_numpy(np.concatenate((positives, negatives), axis=0))\n",
    "data_out = torch.from_numpy(np.concatenate((pos_out, neg_out), axis=0))\n",
    "\n",
    "# model_in = torch.from_numpy(model_in)\n",
    "# model_out = torch.from_numpy(model_out)"
   ]
  },
  {
   "cell_type": "markdown",
   "metadata": {},
   "source": [
    "## Dummy model"
   ]
  },
  {
   "cell_type": "code",
   "execution_count": null,
   "metadata": {},
   "outputs": [],
   "source": [
    "def model(data_in: Tensor):\n",
    "    return torch.rand(data_in.shape[0])\n",
    "\n",
    "# model(model_in)"
   ]
  },
  {
   "cell_type": "markdown",
   "metadata": {},
   "source": [
    "### Structure for comparing pairs of alignments"
   ]
  },
  {
   "cell_type": "code",
   "execution_count": null,
   "metadata": {},
   "outputs": [],
   "source": [
    "# Getting every pairwise\n",
    "\n",
    "print(data_in.shape)\n",
    "\n",
    "A_given_B = data_in[::2]\n",
    "B_given_A = data_in[1::2,:]\n",
    "\n",
    "data_out = data_out[::2]\n",
    "\n",
    "align_pair_in = torch.stack((A_given_B, B_given_A), dim=0)\n",
    "\n",
    "align_pair_out = torch.stack((model(A_given_B), model(B_given_A)), dim=1)\n"
   ]
  },
  {
   "cell_type": "markdown",
   "metadata": {},
   "source": [
    "### Different methods of comparison, taking the minimum or the mean"
   ]
  },
  {
   "cell_type": "code",
   "execution_count": null,
   "metadata": {},
   "outputs": [],
   "source": [
    "threshold = 0.5\n",
    "\n",
    "p = torch.min(align_pair_out, dim=1)\n",
    "hard_pred = p.values > threshold\n",
    "\n",
    "p_mean = torch.mean(align_pair_out, dim=1)\n",
    "hard_pred_mean = p_mean > threshold\n"
   ]
  },
  {
   "cell_type": "markdown",
   "metadata": {},
   "source": [
    "### Collect information on the classes \n",
    "- is it always guessing one class?\n",
    "- what is the ratio of the ontologies that are being chosen for the minimum?"
   ]
  },
  {
   "cell_type": "code",
   "execution_count": null,
   "metadata": {},
   "outputs": [],
   "source": [
    "range(p.values.shape[0])"
   ]
  },
  {
   "cell_type": "code",
   "execution_count": null,
   "metadata": {},
   "outputs": [],
   "source": [
    "# randt = torch.rand((4,2))\n",
    "# print(\"probabilities\", randt)\n",
    "\n",
    "# mint = torch.min(randt, dim=1)\n",
    "# print(\"mins\", mint.indices)\n",
    "\n",
    "# nodes1 = torch.randint(0, 10, (4,2))\n",
    "# nodes2 = torch.randint(0, 10, (4,2))\n",
    "\n",
    "# print(\"\\n\\n list of nodes\")\n",
    "# print(nodes1)\n",
    "# print(nodes2)\n",
    "\n",
    "# comb = torch.stack((nodes1, nodes2), dim=0)\n",
    "# print(comb.shape)\n",
    "\n",
    "# mint_new = mint.indices.repeat_interleave(randt.shape[1]).reshape(-1,randt.shape[1])\n",
    "\n",
    "# torch.gather(comb, dim=0, index=mint_new.view(1,mint_new.shape[0],-1))"
   ]
  },
  {
   "cell_type": "code",
   "execution_count": null,
   "metadata": {},
   "outputs": [],
   "source": [
    "min_indices = p.indices.repeat_interleave(data_in.shape[1]).reshape(-1,data_in.shape[1])\n",
    "\n",
    "min_nodes = torch.gather(align_pair_in, dim=0, index=min_indices.view(1, align_pair_in.shape[1] ,-1)).squeeze(0)"
   ]
  },
  {
   "cell_type": "code",
   "execution_count": null,
   "metadata": {},
   "outputs": [],
   "source": [
    "cnt = (min_nodes[:,1]>2737).sum().float()\n",
    "\n",
    "cnt / align_pair_in.shape[1]"
   ]
  },
  {
   "cell_type": "code",
   "execution_count": null,
   "metadata": {},
   "outputs": [],
   "source": [
    "true_pos = data_out[hard_pred==1].sum()"
   ]
  },
  {
   "cell_type": "code",
   "execution_count": null,
   "metadata": {},
   "outputs": [],
   "source": [
    "total_actual_pos = data_out[data_out==1].shape[0]\n",
    "total_actual_neg = data_out[data_out==0].shape[0]"
   ]
  },
  {
   "cell_type": "code",
   "execution_count": null,
   "metadata": {},
   "outputs": [],
   "source": [
    "total_pred_pos = (hard_pred==1).sum().float()\n",
    "total_actual_neg = data_out.shape[0] - total_actual_pos\n",
    "\n",
    "\n",
    "false_pos = total_pred_pos - true_pos\n",
    "false_neg = total_actual_pos - true_pos\n",
    "true_neg = total_actual_neg - false_pos\n"
   ]
  },
  {
   "cell_type": "code",
   "execution_count": null,
   "metadata": {},
   "outputs": [],
   "source": [
    "print(true_pos)\n",
    "print(total_pred_pos)\n",
    "print(false_pos)\n",
    "print(total_actual_pos)\n",
    "print(false_neg)\n",
    "print(total_actual_neg)\n",
    "print(true_neg)\n",
    "\n",
    "\n",
    "assert true_neg + true_pos + false_neg + false_pos == data_out.shape[0]\n",
    "print(true_neg + true_pos + false_neg + false_pos)\n"
   ]
  },
  {
   "cell_type": "markdown",
   "metadata": {},
   "source": [
    "### Get various pieces of information on the datasets -- based on varying the threshold value"
   ]
  },
  {
   "cell_type": "code",
   "execution_count": null,
   "metadata": {},
   "outputs": [],
   "source": [
    "fpr, tpr, thresholds1 = roc_curve(y_true=data_out, y_score=p)\n",
    "# thresholds1.shape\n",
    "\n",
    "precision, recall, thresholds2 = precision_recall_curve(y_true=data_out, probas_pred=p)"
   ]
  },
  {
   "cell_type": "markdown",
   "metadata": {},
   "source": [
    "### Save the data from above in dataframes"
   ]
  },
  {
   "cell_type": "code",
   "execution_count": null,
   "metadata": {},
   "outputs": [],
   "source": [
    "rec_col = RecorderCollection()\n",
    "\n",
    "rec_col.roc_plot.update_({'fpr':fpr}, thresholds1)\n",
    "rec_col.roc_plot.update_({'tpr':tpr}, thresholds1)\n",
    "\n",
    "rec_col.pr_plot.update_({'precision':precision[0:-1]}, thresholds2)\n",
    "rec_col.pr_plot.update_({'recall':recall[0:-1]}, thresholds2)"
   ]
  },
  {
   "cell_type": "code",
   "execution_count": null,
   "metadata": {},
   "outputs": [],
   "source": [
    "# rec_col.roc_plot.dataframe\n",
    "# rec_col.pr_plot.dataframe"
   ]
  },
  {
   "cell_type": "markdown",
   "metadata": {},
   "source": [
    "## Make some plots"
   ]
  },
  {
   "cell_type": "code",
   "execution_count": null,
   "metadata": {},
   "outputs": [],
   "source": [
    "# fig = plt.figure(figsize=(10,8), dpi=80, facecolor='white')\n",
    "\n",
    "# plt.plot(rec_col.roc_plot.dataframe['fpr'],rec_col.roc_plot.dataframe['tpr'])"
   ]
  },
  {
   "cell_type": "code",
   "execution_count": null,
   "metadata": {},
   "outputs": [],
   "source": [
    "# fig = plt.figure(figsize=(10,8), dpi=80, facecolor='white')\n",
    "\n",
    "# plt.plot(rec_col.pr_plot.dataframe['recall'], rec_col.pr_plot.dataframe['precision'])"
   ]
  },
  {
   "cell_type": "code",
   "execution_count": null,
   "metadata": {},
   "outputs": [],
   "source": [
    "# hard_pred.sum()\n",
    "# hard_pred_mean.sum()\n",
    "# the_means.shape"
   ]
  },
  {
   "cell_type": "code",
   "execution_count": null,
   "metadata": {},
   "outputs": [],
   "source": [
    "# m = model_out[0:10]\n",
    "# h = hard_pred[0:10]\n",
    "\n",
    "# mlast = model_out[-10:]\n",
    "# hlast = hard_pred[-10:]\n",
    "\n",
    "# print(mlast)\n",
    "# print(hlast)\n",
    "# print(align_pairs[-10:,:])\n",
    "\n",
    "# true_pos = m[h==1]\n",
    "# true_pos = mlast[hlast==1]\n",
    "\n",
    "# print(true_pos)\n",
    "\n",
    "true_pos = model_out[hard_pred==1].sum()\n",
    "print(true_pos)"
   ]
  },
  {
   "cell_type": "code",
   "execution_count": null,
   "metadata": {},
   "outputs": [],
   "source": [
    "a = torch.range(start=1,  end=12, dtype=int).reshape((3,4))\n",
    "b = torch.range(start=13, end=24, dtype=int).reshape((3,4))\n",
    "\n",
    "print(a, a.shape,'\\n', b, b.shape)\n",
    "\n",
    "c = torch.stack((a,b),dim=-3)\n",
    "print(c, c.shape)\n",
    "\n",
    "print(c[:,:,0])"
   ]
  },
  {
   "cell_type": "code",
   "execution_count": null,
   "metadata": {},
   "outputs": [],
   "source": [
    "# model_out = model_out.reshape((-1,2))\n",
    "# print(model_out.shape)\n",
    "# print(torch.all(torch.eq(model_out[:,0], model_out[:,1])))\n",
    "\n",
    "# pair = torch.cat((model(A_given_B), model(B_given_A)), dim=1)\n",
    "# p_out = torch.cat((A_given_B_out, B_given_A_out), dim=1)\n",
    "\n",
    "# p = torch.min(pair, dim=1)\n",
    "\n",
    "# p_out.shape"
   ]
  },
  {
   "cell_type": "code",
   "execution_count": null,
   "metadata": {},
   "outputs": [],
   "source": [
    "# A_given_B_pred = model(A_given_B) > 0.5\n",
    "# B_given_A_pred = model(B_given_A) > 0.5\n",
    "\n",
    "# pair = torch.eq(A_given_B_pred, B_given_A_pred)\n",
    "# print(A_given_B_pred[0:5])\n",
    "# print(B_given_A_pred[0:5])\n",
    "# print(pair[0:5])"
   ]
  },
  {
   "cell_type": "code",
   "execution_count": null,
   "metadata": {},
   "outputs": [],
   "source": [
    "# t = torch.rand((4,2))\n",
    "\n",
    "# idxs = torch.randint(low=0, high=2, size=(4,))\n",
    "\n",
    "# print(t)\n",
    "# print(idxs)\n",
    "\n",
    "# t.gather(dim=1, index=idxs.view(-1,1))"
   ]
  },
  {
   "cell_type": "code",
   "execution_count": null,
   "metadata": {},
   "outputs": [],
   "source": [
    "# u = torch.rand((8,))\n",
    "# print(u)\n",
    "# print(u.reshape(-1,2))"
   ]
  },
  {
   "cell_type": "code",
   "execution_count": null,
   "metadata": {},
   "outputs": [],
   "source": []
  }
 ],
 "metadata": {
  "kernelspec": {
   "display_name": "Python 3",
   "language": "python",
   "name": "python3"
  },
  "language_info": {
   "codemirror_mode": {
    "name": "ipython",
    "version": 3
   },
   "file_extension": ".py",
   "mimetype": "text/x-python",
   "name": "python",
   "nbconvert_exporter": "python",
   "pygments_lexer": "ipython3",
   "version": "3.7.5"
  }
 },
 "nbformat": 4,
 "nbformat_minor": 2
}
