{
 "cells": [
  {
   "cell_type": "code",
   "execution_count": 1,
   "metadata": {},
   "outputs": [
    {
     "name": "stderr",
     "output_type": "stream",
     "text": [
      "/home/zonghaiyao/anaconda3/envs/run_boxmodel/lib/python3.7/site-packages/tqdm/autonotebook.py:17: TqdmExperimentalWarning: Using `tqdm.autonotebook.tqdm` in notebook mode. Use `tqdm.tqdm` instead to force console mode (e.g. in jupyter console)\n",
      "  \" (e.g. in jupyter console)\", TqdmExperimentalWarning)\n"
     ]
    },
    {
     "data": {
      "text/html": [
       "\n",
       "    <style>\n",
       "    .p-Widget.jp-OutputPrompt.jp-OutputArea-prompt:empty {\n",
       "      padding: 0;\n",
       "      border: 0;\n",
       "    }\n",
       "    </style>\n",
       "    "
      ],
      "text/plain": [
       "<IPython.core.display.HTML object>"
      ]
     },
     "metadata": {},
     "output_type": "display_data"
    }
   ],
   "source": [
    "%load_ext autoreload\n",
    "%autoreload 2\n",
    "from boxes import *\n",
    "from learner import *\n",
    "import math"
   ]
  },
  {
   "cell_type": "code",
   "execution_count": 2,
   "metadata": {},
   "outputs": [],
   "source": [
    "PATH = '../data/wordnet/mjb/rigorous_sampling/mammal_pos_0.5_neg_10_samp_uniform_num_1182/0/'\n",
    "# Data in unary.tsv are probabilites separated by newlines. The probability on line n is P(n), where n is the id assigned to the nth element.\n",
    "unary_prob = torch.from_numpy(np.loadtxt(f'{PATH}train_tc_unary.tsv')).float().to(\"cpu\")\n",
    "num_boxes = unary_prob.shape[0]\n",
    "\n",
    "# We're going to use random negative sampling during training, so no need to include negatives in our training data itself\n",
    "train = Probs.load_from_julia(PATH, 'train_tc_pos.tsv', 'train_neg.tsv', ratio_neg = 0).to(\"cpu\")\n",
    "\n",
    "# The dev set will have a fixed set of negatives, however.\n",
    "dev = Probs.load_from_julia(PATH, 'dev_pos.tsv', 'dev_neg.tsv', ratio_neg = 1).to(\"cpu\")"
   ]
  },
  {
   "cell_type": "code",
   "execution_count": 4,
   "metadata": {},
   "outputs": [],
   "source": [
    "box_model = BoxModel(\n",
    "    BoxParamType=MinMaxSigmoidBoxes,\n",
    "    vol_func=soft_volume,\n",
    "    num_models=1,\n",
    "    num_boxes=num_boxes,\n",
    "    dims=50,\n",
    "    method=\"orig\").to(\"cpu\")\n",
    "\n",
    "train_dl = TensorDataLoader(train, batch_size=2**6, shuffle=True)\n",
    "\n",
    "opt = torch.optim.Adam(box_model.parameters(), lr=1e-2)"
   ]
  },
  {
   "cell_type": "code",
   "execution_count": 5,
   "metadata": {},
   "outputs": [],
   "source": [
    "def mean_cond_kl_loss(model_out: ModelOutput, target: Tensor, eps: float = torch.finfo(torch.float32).tiny) -> Tensor:\n",
    "    return kl_div_sym(model_out[\"P(A|B)\"], target, eps).mean()\n",
    "\n",
    "# See boxes/loss_functions.py file for more options. Note that you may have to changed them to fit your use case.\n",
    "# Also note that \"kl_div_sym\" is just binary cross-entropy."
   ]
  },
  {
   "cell_type": "code",
   "execution_count": 6,
   "metadata": {},
   "outputs": [],
   "source": [
    "# For this dataset we had unary probabilities as well as conditional probabilities. Our loss function will be a sum of these, which is provided by the following loss function wrapper:\n",
    "loss_func = LossPieces(mean_cond_kl_loss, (1e-2, mean_unary_kl_loss(unary_prob)))\n",
    "\n",
    "metrics = [metric_hard_accuracy, metric_hard_f1]\n",
    "\n",
    "rec_col = RecorderCollection()\n",
    "\n",
    "callbacks = CallbackCollection(\n",
    "    LossCallback(rec_col.train, train),\n",
    "    LossCallback(rec_col.dev, dev),\n",
    "    *(MetricCallback(rec_col.dev, dev, m) for m in metrics),\n",
    "    *(MetricCallback(rec_col.train, train, m) for m in metrics),\n",
    "    MetricCallback(rec_col.dev, dev, metric_pearson_r),\n",
    "    MetricCallback(rec_col.train, dev, metric_spearman_r),\n",
    "    PercentIncreaseEarlyStopping(rec_col.dev, \"mean_cond_kl_loss\", 0.25, 10),\n",
    "    PercentIncreaseEarlyStopping(rec_col.dev, \"mean_cond_kl_loss\", 0.5),\n",
    "#     GradientClipping(-1000,1000),\n",
    "    RandomNegativeSampling(num_boxes, 1),\n",
    "    StopIfNaN(),\n",
    ")\n",
    "\n",
    "l = Learner(train_dl, box_model, loss_func, opt, callbacks, recorder = rec_col.learn)"
   ]
  },
  {
   "cell_type": "code",
   "execution_count": null,
   "metadata": {},
   "outputs": [
    {
     "data": {
      "application/vnd.jupyter.widget-view+json": {
       "model_id": "858fee6772144c49b8c19fa8b356197f",
       "version_major": 2,
       "version_minor": 0
      },
      "text/plain": [
       "HBox(children=(IntProgress(value=0, description='Overall Training:', max=10, style=ProgressStyle(description_w…"
      ]
     },
     "metadata": {},
     "output_type": "display_data"
    },
    {
     "data": {
      "application/vnd.jupyter.widget-view+json": {
       "model_id": "",
       "version_major": 2,
       "version_minor": 0
      },
      "text/plain": [
       "HBox(children=(IntProgress(value=0, description='Current Batch:', max=54, style=ProgressStyle(description_widt…"
      ]
     },
     "metadata": {},
     "output_type": "display_data"
    },
    {
     "data": {
      "application/vnd.jupyter.widget-view+json": {
       "model_id": "",
       "version_major": 2,
       "version_minor": 0
      },
      "text/plain": [
       "HBox(children=(IntProgress(value=0, description='Current Batch:', max=54, style=ProgressStyle(description_widt…"
      ]
     },
     "metadata": {},
     "output_type": "display_data"
    },
    {
     "data": {
      "application/vnd.jupyter.widget-view+json": {
       "model_id": "",
       "version_major": 2,
       "version_minor": 0
      },
      "text/plain": [
       "HBox(children=(IntProgress(value=0, description='Current Batch:', max=54, style=ProgressStyle(description_widt…"
      ]
     },
     "metadata": {},
     "output_type": "display_data"
    },
    {
     "data": {
      "application/vnd.jupyter.widget-view+json": {
       "model_id": "",
       "version_major": 2,
       "version_minor": 0
      },
      "text/plain": [
       "HBox(children=(IntProgress(value=0, description='Current Batch:', max=54, style=ProgressStyle(description_widt…"
      ]
     },
     "metadata": {},
     "output_type": "display_data"
    },
    {
     "data": {
      "application/vnd.jupyter.widget-view+json": {
       "model_id": "",
       "version_major": 2,
       "version_minor": 0
      },
      "text/plain": [
       "HBox(children=(IntProgress(value=0, description='Current Batch:', max=54, style=ProgressStyle(description_widt…"
      ]
     },
     "metadata": {},
     "output_type": "display_data"
    },
    {
     "data": {
      "application/vnd.jupyter.widget-view+json": {
       "model_id": "",
       "version_major": 2,
       "version_minor": 0
      },
      "text/plain": [
       "HBox(children=(IntProgress(value=0, description='Current Batch:', max=54, style=ProgressStyle(description_widt…"
      ]
     },
     "metadata": {},
     "output_type": "display_data"
    },
    {
     "data": {
      "application/vnd.jupyter.widget-view+json": {
       "model_id": "",
       "version_major": 2,
       "version_minor": 0
      },
      "text/plain": [
       "HBox(children=(IntProgress(value=0, description='Current Batch:', max=54, style=ProgressStyle(description_widt…"
      ]
     },
     "metadata": {},
     "output_type": "display_data"
    },
    {
     "data": {
      "application/vnd.jupyter.widget-view+json": {
       "model_id": "",
       "version_major": 2,
       "version_minor": 0
      },
      "text/plain": [
       "HBox(children=(IntProgress(value=0, description='Current Batch:', max=54, style=ProgressStyle(description_widt…"
      ]
     },
     "metadata": {},
     "output_type": "display_data"
    },
    {
     "data": {
      "application/vnd.jupyter.widget-view+json": {
       "model_id": "",
       "version_major": 2,
       "version_minor": 0
      },
      "text/plain": [
       "HBox(children=(IntProgress(value=0, description='Current Batch:', max=54, style=ProgressStyle(description_widt…"
      ]
     },
     "metadata": {},
     "output_type": "display_data"
    }
   ],
   "source": [
    "l.train(10)"
   ]
  },
  {
   "cell_type": "code",
   "execution_count": 7,
   "metadata": {},
   "outputs": [
    {
     "data": {
      "text/html": [
       "<div>\n",
       "<style scoped>\n",
       "    .dataframe tbody tr th:only-of-type {\n",
       "        vertical-align: middle;\n",
       "    }\n",
       "\n",
       "    .dataframe tbody tr th {\n",
       "        vertical-align: top;\n",
       "    }\n",
       "\n",
       "    .dataframe thead th {\n",
       "        text-align: right;\n",
       "    }\n",
       "</style>\n",
       "<table border=\"1\" class=\"dataframe\">\n",
       "  <thead>\n",
       "    <tr style=\"text-align: right;\">\n",
       "      <th></th>\n",
       "      <th>0.01*mean_unary_kl_loss</th>\n",
       "      <th>loss</th>\n",
       "      <th>mean_cond_kl_loss</th>\n",
       "      <th>metric_hard_accuracy</th>\n",
       "      <th>metric_hard_f1</th>\n",
       "      <th>metric_spearman_r</th>\n",
       "    </tr>\n",
       "  </thead>\n",
       "  <tbody>\n",
       "    <tr>\n",
       "      <th>0.0</th>\n",
       "      <td>0.000495</td>\n",
       "      <td>8.190474</td>\n",
       "      <td>8.189979</td>\n",
       "      <td>0.000000</td>\n",
       "      <td>NaN</td>\n",
       "      <td>-0.047588</td>\n",
       "    </tr>\n",
       "    <tr>\n",
       "      <th>1.0</th>\n",
       "      <td>0.000399</td>\n",
       "      <td>5.486872</td>\n",
       "      <td>5.486473</td>\n",
       "      <td>0.000000</td>\n",
       "      <td>NaN</td>\n",
       "      <td>0.718769</td>\n",
       "    </tr>\n",
       "    <tr>\n",
       "      <th>2.0</th>\n",
       "      <td>0.000332</td>\n",
       "      <td>3.633273</td>\n",
       "      <td>3.632942</td>\n",
       "      <td>0.000000</td>\n",
       "      <td>NaN</td>\n",
       "      <td>0.785880</td>\n",
       "    </tr>\n",
       "    <tr>\n",
       "      <th>3.0</th>\n",
       "      <td>0.000285</td>\n",
       "      <td>2.478737</td>\n",
       "      <td>2.478452</td>\n",
       "      <td>0.001453</td>\n",
       "      <td>0.002902</td>\n",
       "      <td>0.803919</td>\n",
       "    </tr>\n",
       "    <tr>\n",
       "      <th>4.0</th>\n",
       "      <td>0.000253</td>\n",
       "      <td>1.780278</td>\n",
       "      <td>1.780025</td>\n",
       "      <td>0.032258</td>\n",
       "      <td>0.062500</td>\n",
       "      <td>0.812009</td>\n",
       "    </tr>\n",
       "    <tr>\n",
       "      <th>5.0</th>\n",
       "      <td>0.000233</td>\n",
       "      <td>1.348903</td>\n",
       "      <td>1.348670</td>\n",
       "      <td>0.198198</td>\n",
       "      <td>0.330827</td>\n",
       "      <td>0.816082</td>\n",
       "    </tr>\n",
       "    <tr>\n",
       "      <th>6.0</th>\n",
       "      <td>0.000219</td>\n",
       "      <td>1.069617</td>\n",
       "      <td>1.069398</td>\n",
       "      <td>0.415867</td>\n",
       "      <td>0.587438</td>\n",
       "      <td>0.818446</td>\n",
       "    </tr>\n",
       "    <tr>\n",
       "      <th>7.0</th>\n",
       "      <td>0.000209</td>\n",
       "      <td>0.879246</td>\n",
       "      <td>0.879037</td>\n",
       "      <td>0.589654</td>\n",
       "      <td>0.741865</td>\n",
       "      <td>0.819667</td>\n",
       "    </tr>\n",
       "    <tr>\n",
       "      <th>8.0</th>\n",
       "      <td>0.000203</td>\n",
       "      <td>0.746561</td>\n",
       "      <td>0.746359</td>\n",
       "      <td>0.694566</td>\n",
       "      <td>0.819756</td>\n",
       "      <td>0.820307</td>\n",
       "    </tr>\n",
       "    <tr>\n",
       "      <th>9.0</th>\n",
       "      <td>0.000199</td>\n",
       "      <td>0.649739</td>\n",
       "      <td>0.649540</td>\n",
       "      <td>0.753560</td>\n",
       "      <td>0.859463</td>\n",
       "      <td>0.820281</td>\n",
       "    </tr>\n",
       "    <tr>\n",
       "      <th>10.0</th>\n",
       "      <td>0.000197</td>\n",
       "      <td>0.583468</td>\n",
       "      <td>0.583271</td>\n",
       "      <td>0.791921</td>\n",
       "      <td>0.883879</td>\n",
       "      <td>0.820450</td>\n",
       "    </tr>\n",
       "  </tbody>\n",
       "</table>\n",
       "</div>"
      ],
      "text/plain": [
       "      0.01*mean_unary_kl_loss      loss  mean_cond_kl_loss  \\\n",
       "0.0                  0.000495  8.190474           8.189979   \n",
       "1.0                  0.000399  5.486872           5.486473   \n",
       "2.0                  0.000332  3.633273           3.632942   \n",
       "3.0                  0.000285  2.478737           2.478452   \n",
       "4.0                  0.000253  1.780278           1.780025   \n",
       "5.0                  0.000233  1.348903           1.348670   \n",
       "6.0                  0.000219  1.069617           1.069398   \n",
       "7.0                  0.000209  0.879246           0.879037   \n",
       "8.0                  0.000203  0.746561           0.746359   \n",
       "9.0                  0.000199  0.649739           0.649540   \n",
       "10.0                 0.000197  0.583468           0.583271   \n",
       "\n",
       "      metric_hard_accuracy  metric_hard_f1  metric_spearman_r  \n",
       "0.0               0.000000             NaN          -0.047588  \n",
       "1.0               0.000000             NaN           0.718769  \n",
       "2.0               0.000000             NaN           0.785880  \n",
       "3.0               0.001453        0.002902           0.803919  \n",
       "4.0               0.032258        0.062500           0.812009  \n",
       "5.0               0.198198        0.330827           0.816082  \n",
       "6.0               0.415867        0.587438           0.818446  \n",
       "7.0               0.589654        0.741865           0.819667  \n",
       "8.0               0.694566        0.819756           0.820307  \n",
       "9.0               0.753560        0.859463           0.820281  \n",
       "10.0              0.791921        0.883879           0.820450  "
      ]
     },
     "execution_count": 7,
     "metadata": {},
     "output_type": "execute_result"
    }
   ],
   "source": [
    "rec_col.train"
   ]
  },
  {
   "cell_type": "code",
   "execution_count": 8,
   "metadata": {},
   "outputs": [
    {
     "data": {
      "text/html": [
       "<div>\n",
       "<style scoped>\n",
       "    .dataframe tbody tr th:only-of-type {\n",
       "        vertical-align: middle;\n",
       "    }\n",
       "\n",
       "    .dataframe tbody tr th {\n",
       "        vertical-align: top;\n",
       "    }\n",
       "\n",
       "    .dataframe thead th {\n",
       "        text-align: right;\n",
       "    }\n",
       "</style>\n",
       "<table border=\"1\" class=\"dataframe\">\n",
       "  <thead>\n",
       "    <tr style=\"text-align: right;\">\n",
       "      <th></th>\n",
       "      <th>0.01*mean_unary_kl_loss</th>\n",
       "      <th>loss</th>\n",
       "      <th>mean_cond_kl_loss</th>\n",
       "      <th>metric_hard_accuracy</th>\n",
       "      <th>metric_hard_f1</th>\n",
       "      <th>metric_pearson_r</th>\n",
       "    </tr>\n",
       "  </thead>\n",
       "  <tbody>\n",
       "    <tr>\n",
       "      <th>0.0</th>\n",
       "      <td>0.000495</td>\n",
       "      <td>4.094842</td>\n",
       "      <td>4.094347</td>\n",
       "      <td>0.500000</td>\n",
       "      <td>NaN</td>\n",
       "      <td>-0.060927</td>\n",
       "    </tr>\n",
       "    <tr>\n",
       "      <th>1.0</th>\n",
       "      <td>0.000399</td>\n",
       "      <td>2.855434</td>\n",
       "      <td>2.855035</td>\n",
       "      <td>0.500000</td>\n",
       "      <td>NaN</td>\n",
       "      <td>0.536233</td>\n",
       "    </tr>\n",
       "    <tr>\n",
       "      <th>2.0</th>\n",
       "      <td>0.000332</td>\n",
       "      <td>1.998673</td>\n",
       "      <td>1.998341</td>\n",
       "      <td>0.500000</td>\n",
       "      <td>NaN</td>\n",
       "      <td>0.608633</td>\n",
       "    </tr>\n",
       "    <tr>\n",
       "      <th>3.0</th>\n",
       "      <td>0.000285</td>\n",
       "      <td>1.459790</td>\n",
       "      <td>1.459505</td>\n",
       "      <td>0.500202</td>\n",
       "      <td>0.000808</td>\n",
       "      <td>0.657780</td>\n",
       "    </tr>\n",
       "    <tr>\n",
       "      <th>4.0</th>\n",
       "      <td>0.000253</td>\n",
       "      <td>1.130311</td>\n",
       "      <td>1.130058</td>\n",
       "      <td>0.509300</td>\n",
       "      <td>0.036522</td>\n",
       "      <td>0.700758</td>\n",
       "    </tr>\n",
       "    <tr>\n",
       "      <th>5.0</th>\n",
       "      <td>0.000233</td>\n",
       "      <td>0.927085</td>\n",
       "      <td>0.926852</td>\n",
       "      <td>0.560857</td>\n",
       "      <td>0.218143</td>\n",
       "      <td>0.731539</td>\n",
       "    </tr>\n",
       "    <tr>\n",
       "      <th>6.0</th>\n",
       "      <td>0.000219</td>\n",
       "      <td>0.798469</td>\n",
       "      <td>0.798250</td>\n",
       "      <td>0.631217</td>\n",
       "      <td>0.416507</td>\n",
       "      <td>0.753592</td>\n",
       "    </tr>\n",
       "    <tr>\n",
       "      <th>7.0</th>\n",
       "      <td>0.000209</td>\n",
       "      <td>0.714136</td>\n",
       "      <td>0.713927</td>\n",
       "      <td>0.682167</td>\n",
       "      <td>0.535186</td>\n",
       "      <td>0.769105</td>\n",
       "    </tr>\n",
       "    <tr>\n",
       "      <th>8.0</th>\n",
       "      <td>0.000203</td>\n",
       "      <td>0.657529</td>\n",
       "      <td>0.657326</td>\n",
       "      <td>0.715528</td>\n",
       "      <td>0.603997</td>\n",
       "      <td>0.780063</td>\n",
       "    </tr>\n",
       "    <tr>\n",
       "      <th>9.0</th>\n",
       "      <td>0.000199</td>\n",
       "      <td>0.620478</td>\n",
       "      <td>0.620280</td>\n",
       "      <td>0.734735</td>\n",
       "      <td>0.640941</td>\n",
       "      <td>0.787405</td>\n",
       "    </tr>\n",
       "    <tr>\n",
       "      <th>10.0</th>\n",
       "      <td>0.000197</td>\n",
       "      <td>0.598016</td>\n",
       "      <td>0.597819</td>\n",
       "      <td>0.741205</td>\n",
       "      <td>0.653117</td>\n",
       "      <td>0.791031</td>\n",
       "    </tr>\n",
       "  </tbody>\n",
       "</table>\n",
       "</div>"
      ],
      "text/plain": [
       "      0.01*mean_unary_kl_loss      loss  mean_cond_kl_loss  \\\n",
       "0.0                  0.000495  4.094842           4.094347   \n",
       "1.0                  0.000399  2.855434           2.855035   \n",
       "2.0                  0.000332  1.998673           1.998341   \n",
       "3.0                  0.000285  1.459790           1.459505   \n",
       "4.0                  0.000253  1.130311           1.130058   \n",
       "5.0                  0.000233  0.927085           0.926852   \n",
       "6.0                  0.000219  0.798469           0.798250   \n",
       "7.0                  0.000209  0.714136           0.713927   \n",
       "8.0                  0.000203  0.657529           0.657326   \n",
       "9.0                  0.000199  0.620478           0.620280   \n",
       "10.0                 0.000197  0.598016           0.597819   \n",
       "\n",
       "      metric_hard_accuracy  metric_hard_f1  metric_pearson_r  \n",
       "0.0               0.500000             NaN         -0.060927  \n",
       "1.0               0.500000             NaN          0.536233  \n",
       "2.0               0.500000             NaN          0.608633  \n",
       "3.0               0.500202        0.000808          0.657780  \n",
       "4.0               0.509300        0.036522          0.700758  \n",
       "5.0               0.560857        0.218143          0.731539  \n",
       "6.0               0.631217        0.416507          0.753592  \n",
       "7.0               0.682167        0.535186          0.769105  \n",
       "8.0               0.715528        0.603997          0.780063  \n",
       "9.0               0.734735        0.640941          0.787405  \n",
       "10.0              0.741205        0.653117          0.791031  "
      ]
     },
     "execution_count": 8,
     "metadata": {},
     "output_type": "execute_result"
    }
   ],
   "source": [
    "rec_col.dev"
   ]
  }
 ],
 "metadata": {
  "kernelspec": {
   "display_name": "Python 3",
   "language": "python",
   "name": "python3"
  },
  "language_info": {
   "codemirror_mode": {
    "name": "ipython",
    "version": 3
   },
   "file_extension": ".py",
   "mimetype": "text/x-python",
   "name": "python",
   "nbconvert_exporter": "python",
   "pygments_lexer": "ipython3",
   "version": "3.7.5"
  }
 },
 "nbformat": 4,
 "nbformat_minor": 4
}
