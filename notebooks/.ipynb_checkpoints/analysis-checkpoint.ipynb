{
 "cells": [
  {
   "cell_type": "code",
   "execution_count": 72,
   "metadata": {},
   "outputs": [],
   "source": [
    "import numpy as np\n",
    "import pickle\n",
    "\n",
    "from boxes import *\n",
    "from learner import *"
   ]
  },
  {
   "cell_type": "markdown",
   "metadata": {},
   "source": [
    "### Load ontology data"
   ]
  },
  {
   "cell_type": "code",
   "execution_count": 2,
   "metadata": {},
   "outputs": [],
   "source": [
    "PATH = \"../data/ontologies/\"\n",
    "\n",
    "with open(f'{PATH}human.pickle', 'rb') as handle:\n",
    "    human = pickle.load(handle)\n",
    "    \n",
    "with open(f'{PATH}mouse.pickle', 'rb') as handle:\n",
    "    mouse = pickle.load(handle)\n",
    "\n",
    "with open(f'{PATH}entities.pickle', 'rb') as handle:\n",
    "    entities = pickle.load(handle)"
   ]
  },
  {
   "cell_type": "code",
   "execution_count": 3,
   "metadata": {},
   "outputs": [],
   "source": [
    "ats = 0.8\n",
    "\n",
    "unary_prob = torch.from_numpy(np.loadtxt(f'{PATH}unary.tsv')).float().to(\"cuda\")\n",
    "num_boxes = unary_prob.shape[0]\n",
    "\n",
    "# Model was trained on the following data set: \n",
    "train = Probs.load_from_julia(PATH, f'tr_pos_{ats}.tsv', f'tr_neg_{ats}.tsv', ratio_neg = 0).to(\"cuda\")\n",
    "\n",
    "# Model was evaluated on the following data set:\n",
    "dev = Probs.load_from_julia(PATH, f'dev_align_pos_{ats}.tsv', f'dev_align_neg_{ats}.tsv', ratio_neg = 1).to(\"cuda\")\n",
    "\n",
    "# Model was trained on the following (positive) alignments -- not the negatives:\n",
    "tr_align = Probs.load_from_julia(PATH, f'tr_align_pos_{ats}.tsv', f'tr_align_neg_{ats}.tsv', ratio_neg = 1).to(\"cuda\")"
   ]
  },
  {
   "cell_type": "code",
   "execution_count": 4,
   "metadata": {},
   "outputs": [
    {
     "data": {
      "text/plain": [
       "<All keys matched successfully>"
      ]
     },
     "execution_count": 4,
     "metadata": {},
     "output_type": "execute_result"
    }
   ],
   "source": [
    "mPATH = \"../results/DeltaBoxes_nEpochs50_lr0.01_dims10_ratio1_split0.8_UnaryFalse0.1/model.pth\"\n",
    "\n",
    "model_data = torch.load(mPATH)\n",
    "\n",
    "model = BoxModel(\n",
    "    BoxParamType=DeltaBoxes,\n",
    "    vol_func=soft_volume,\n",
    "    num_models=1,\n",
    "    num_boxes=num_boxes,\n",
    "    dims=10,\n",
    "    method=\"orig\").to(\"cuda\")\n",
    "\n",
    "model.load_state_dict(model_data['state_dict'])"
   ]
  },
  {
   "cell_type": "code",
   "execution_count": 5,
   "metadata": {},
   "outputs": [],
   "source": [
    "# Get the coordinates of the boxes\n",
    "\n",
    "beo = model(torch.tensor([[1, 1]]) )['box_embeddings_orig'].squeeze(0)"
   ]
  },
  {
   "cell_type": "code",
   "execution_count": 6,
   "metadata": {},
   "outputs": [],
   "source": [
    "# model_data.keys()\n",
    "# model_data['recorders']"
   ]
  },
  {
   "cell_type": "markdown",
   "metadata": {},
   "source": [
    "### Find an alignment in the dev set that has a parent and child that is in the training alignment dataset"
   ]
  },
  {
   "cell_type": "code",
   "execution_count": 7,
   "metadata": {},
   "outputs": [],
   "source": [
    "dev_pos_alignments = dev.tensors[0][:int(dev.tensors[0].shape[0]/2)]\n",
    "dev_pos_nodes = torch.unique(dev_pos_alignments).cpu()"
   ]
  },
  {
   "cell_type": "code",
   "execution_count": 8,
   "metadata": {},
   "outputs": [],
   "source": [
    "tr_pos_alignments = tr_align.tensors[0][:int(tr_align.tensors[0].shape[0]/2)]\n",
    "tr_pos_nodes = torch.unique(tr_pos_alignments).cpu()"
   ]
  },
  {
   "cell_type": "markdown",
   "metadata": {},
   "source": [
    "### Get the parents and children of the items in the dev_pos_nodes"
   ]
  },
  {
   "cell_type": "code",
   "execution_count": 9,
   "metadata": {},
   "outputs": [],
   "source": [
    "# mouse dev parents & children\n",
    "mdp = {}\n",
    "mdc = {}\n",
    "\n",
    "# human dev parents & children\n",
    "hdp = {}\n",
    "hdc = {}\n",
    "\n",
    "for node in dev_pos_nodes:\n",
    "    if node.item() in mouse['parents_of'] and node.item() in mouse['children_of']:\n",
    "        mdp[node.item()] = mouse['parents_of'][node.item()] \n",
    "        mdc[node.item()] = mouse['children_of'][node.item()] \n",
    "        \n",
    "    elif node.item() in human['parents_of'] and node.item() in human['children_of']:\n",
    "        hdp[node.item()] = human['parents_of'][node.item()] \n",
    "        hdc[node.item()] = human['children_of'][node.item()]\n",
    "        \n",
    "    else:\n",
    "        pass"
   ]
  },
  {
   "cell_type": "markdown",
   "metadata": {},
   "source": [
    "### See if any of the dev_pos_nodes parents/children are in tr_pos_alignments"
   ]
  },
  {
   "cell_type": "code",
   "execution_count": 10,
   "metadata": {},
   "outputs": [
    {
     "data": {
      "text/plain": [
       "tensor([   2,    3,    4,  ..., 6030, 6031, 6032])"
      ]
     },
     "execution_count": 10,
     "metadata": {},
     "output_type": "execute_result"
    }
   ],
   "source": [
    "tr_pos_nodes"
   ]
  },
  {
   "cell_type": "code",
   "execution_count": 11,
   "metadata": {},
   "outputs": [],
   "source": [
    "# a = [val for val in hdp[2741] if val in tr_pos_nodes] \n",
    "# b = [val for val in hdc[2741] if val in tr_pos_nodes] \n",
    "\n",
    "# if a and b:\n",
    "#     print(\"yup\")\n",
    "# else:\n",
    "#     print(\"nope\")"
   ]
  },
  {
   "cell_type": "code",
   "execution_count": 12,
   "metadata": {},
   "outputs": [],
   "source": [
    "# human dev nodes with parents & children in train (hdnwpcit): dictionary of nodes in dev \n",
    "# that have both parents and children as positive alignments in the training set\n",
    "hdnwpcit_parents = {}\n",
    "hdnwpcit_children = {}\n",
    "\n",
    "mdnwpcit_parents = {}\n",
    "mdnwpcit_children = {}\n",
    "\n",
    "for key in hdp:\n",
    "    # aligned parents in train (apit), aligned children in train (acit)\n",
    "    hapit = [val for val in hdp[key] if val in tr_pos_nodes] \n",
    "    hacit = [val for val in hdc[key] if val in tr_pos_nodes] \n",
    "    \n",
    "    if hapit and hacit:\n",
    "        hdnwpcit_parents[key] = hapit\n",
    "        hdnwpcit_children[key] = hacit\n",
    "    else:\n",
    "        pass\n",
    "        # print(key, \"does not have both parents and children as positive alignments in training set of alignments\")\n",
    "        \n",
    "        \n",
    "for key in mdp:\n",
    "    # aligned parents in train (apit), aligned children in train (acit)\n",
    "    mapit = [val for val in mdp[key] if val in tr_pos_nodes] \n",
    "    macit = [val for val in mdc[key] if val in tr_pos_nodes] \n",
    "    \n",
    "    if mapit and macit:\n",
    "        mdnwpcit_parents[key] = mapit\n",
    "        mdnwpcit_children[key] = macit\n",
    "    else:\n",
    "        pass\n",
    "        # print(key, \"does not have both parents and children as positive alignments in training set of alignments\")"
   ]
  },
  {
   "cell_type": "code",
   "execution_count": 13,
   "metadata": {},
   "outputs": [],
   "source": [
    "# THIS LIST WILL BE A BIT SHORTER BECAUSE IT IS ESSENTIALLY ONLY KEEPING ALIGNMENTS IN THE DEV SET \n",
    "# THAT HAVE CHILDREN AND PARENTS AS ALIGNMENTS -- ACROSS BOTH ONTOLOGIES.\n",
    "\n",
    "# EX) IF A NODE IN THE MOUSE SET HAS ALIGNMENTS AS PARENTS/CHILDREN BUT IT'S HUMAN ALIGNMENT DOESN'T, \n",
    "# IT WILL BE FILTERED OUT\n",
    "\n",
    "alignments_in_dev_we_care_about = []\n",
    "for hk in hdnwpcit_parents:\n",
    "    for mk in mdnwpcit_parents:\n",
    "        align = (hk, mk)\n",
    "        if align in entities['alignments']:\n",
    "            alignments_in_dev_we_care_about.append(align)"
   ]
  },
  {
   "cell_type": "code",
   "execution_count": 14,
   "metadata": {},
   "outputs": [],
   "source": [
    "tpa = tr_pos_alignments.cpu().numpy()\n",
    "train_aligns_compare = []\n",
    "for row in tpa:\n",
    "    train_aligns_compare.append((row[0], row[1]))\n",
    "\n",
    "# (1812, 1812) in train_aligns_compare"
   ]
  },
  {
   "cell_type": "code",
   "execution_count": 15,
   "metadata": {},
   "outputs": [],
   "source": [
    "# print(hdnwpcit_children[2741])\n",
    "# print(mdnwpcit_children[29])\n",
    "\n",
    "# MAKE A DICT OF THE CHILDREN AND THE PARENTS THAT HAVE ALIGNMENTS\n",
    "alignments_wca_parents = {}\n",
    "alignments_wca_children = {}\n",
    "\n",
    "for align in alignments_in_dev_we_care_about:\n",
    "    # GET PARENTS ON BOTH SIDES OF AN ALIGNMENT\n",
    "    h_parents = hdnwpcit_parents[align[0]]\n",
    "    m_parents = mdnwpcit_parents[align[1]]\n",
    "    \n",
    "    alignments_wca_parents[align] = []\n",
    "    \n",
    "    # COMPARE ALL PARENTS IN THE ONTOLOGIES TO SEE IF THAT ALIGNMENT IS IN THE TRAINING SET\n",
    "    for hp in h_parents:\n",
    "        for mp in m_parents:\n",
    "            \n",
    "            tr_align_p = (hp,mp)\n",
    "            \n",
    "            if tr_align_p in train_aligns_compare:\n",
    "                alignments_wca_parents[align].append(tr_align_p)\n",
    "    \n",
    "    # GET CHILDREN ON BOTH SIDES OF AN ALIGNMENT\n",
    "    h_children = hdnwpcit_children[align[0]]\n",
    "    m_children = mdnwpcit_children[align[1]]\n",
    "    \n",
    "    alignments_wca_children[align] = []\n",
    "    \n",
    "    \n",
    "    # COMPARE ALL CHILDREN IN THE ONTOLOGIES TO SEE IF THAT ALIGNMENT IS IN THE TRAINING SET\n",
    "    for hc in h_children:\n",
    "        for mc in m_children:\n",
    "            \n",
    "            tr_align_c = (hc,mc)\n",
    "            \n",
    "            if tr_align_c in train_aligns_compare:\n",
    "                alignments_wca_children[align].append(tr_align_c)\n",
    "                \n",
    "            \n",
    "# print(align, hdnwpcit_parents[align[0]], mdnwpcit_parents[align[1]]  )"
   ]
  },
  {
   "cell_type": "code",
   "execution_count": 16,
   "metadata": {},
   "outputs": [
    {
     "name": "stdout",
     "output_type": "stream",
     "text": [
      "29 --> 25\n"
     ]
    }
   ],
   "source": [
    "final_dict_parents = {}\n",
    "final_dict_children = {}\n",
    "\n",
    "for key in alignments_wca_parents:\n",
    "    if not alignments_wca_parents[key]:\n",
    "        pass\n",
    "    else:\n",
    "        final_dict_parents[key] = alignments_wca_parents[key]\n",
    "        final_dict_children[key] = alignments_wca_children[key]\n",
    "        \n",
    "print(len(alignments_wca_parents), \"-->\", len(final_dict_parents))"
   ]
  },
  {
   "cell_type": "code",
   "execution_count": 17,
   "metadata": {
    "scrolled": false
   },
   "outputs": [
    {
     "name": "stdout",
     "output_type": "stream",
     "text": [
      "alignment:\n",
      "\t (2741, 29) Head <--> head, ( 0.58 , 0.56 )\n",
      "parents:\n",
      "\t (2852, 10) Head_and_Neck <--> head/neck, ( 0.82 , 0.83 )\n",
      "children:\n",
      "\t (5815, 658) Head_Skin <--> head skin, ( 0.69 , 0.78 )\n",
      "\n",
      "\n",
      "alignment:\n",
      "\t (2759, 1661) Major_Salivary_Gland <--> major salivary gland, ( 0.53 , 0.67 )\n",
      "parents:\n",
      "\t (3025, 416) Salivary_Gland <--> salivary gland, ( 0.78 , 0.91 )\n",
      "children:\n",
      "\t (2758, 1665) Submandibular_Gland <--> submandibular gland, ( 0.78 , 0.81 )\n",
      "\t (2760, 1664) Sublingual_Salivary_Gland <--> sublingual gland, ( 0.88 , 0.86 )\n",
      "\t (3026, 1660) Parotid_Gland <--> parotid gland, ( 0.66 , 0.80 )\n",
      "\n",
      "\n",
      "alignment:\n",
      "\t (2822, 303) Middle_Ear <--> middle ear, ( 0.75 , 0.71 )\n",
      "parents:\n",
      "\t (2824, 283) Ear <--> ear, ( 0.67 , 0.99 )\n",
      "children:\n",
      "\t (3120, 307) Tympanic_Membrane <--> tympanic membrane, ( 0.96 , 0.74 )\n",
      "\t (4024, 304) Auditory_Ossicle <--> auditory bone, ( 0.62 , 0.53 )\n",
      "\t (4873, 306) Muscle_of_the_Tympanum <--> tympanic cavity muscle, ( 0.86 , 0.78 )\n",
      "\n",
      "\n",
      "alignment:\n",
      "\t (2849, 308) External_Ear <--> outer ear, ( 0.71 , 0.69 )\n",
      "parents:\n",
      "\t (2824, 283) Ear <--> ear, ( 0.67 , 0.99 )\n",
      "children:\n",
      "\t (3117, 310) External_Acoustic_Meatus <--> external acoustic meatus, ( 0.92 , 0.88 )\n",
      "\t (3977, 309) Auricle <--> auricle, ( 0.40 , 0.39 )\n",
      "\n",
      "\n",
      "alignment:\n",
      "\t (2941, 159) Cerebral_Hemisphere <--> cerebral hemisphere, ( 0.62 , 0.70 )\n",
      "parents:\n",
      "\t (2943, 160) Supratentorial_Brain <--> telencephalon, ( 0.92 , 0.93 )\n",
      "children:\n",
      "\t (3049, 223) Cortex <--> cerebral cortex, ( 0.80 , 0.86 )\n",
      "\n",
      "\n",
      "alignment:\n",
      "\t (2948, 221) Ventricle_Brain <--> brain ventricle, ( 0.88 , 0.89 )\n",
      "parents:\n",
      "\t (2939, 204) Brain <--> brain, ( 0.96 , 0.96 )\n",
      "children:\n",
      "\t (3355, 890) Choroid_Plexus <--> choroid plexus, ( 0.81 , 0.81 )\n",
      "\t (3474, 220) Third_Ventricle_of_Brain <--> third ventricle, ( 0.74 , 0.90 )\n",
      "\t (3484, 232) Lateral_Ventricle <--> lateral ventricle, ( 0.96 , 1.00 )\n",
      "\n",
      "\n",
      "alignment:\n",
      "\t (2975, 430) Gallbladder <--> gall bladder, ( 0.73 , 0.71 )\n",
      "parents:\n",
      "\t (2974, 427) Biliary_Tract <--> biliary tract, ( 0.80 , 0.66 )\n",
      "children:\n",
      "\t (5611, 1713) Gallbladder_Epithelium <--> gall bladder epithelium, ( 0.92 , 0.80 )\n",
      "\t (5612, 1714) Gallbladder_Lamina_Propria <--> gall bladder lamina propria, ( 0.73 , 0.71 )\n",
      "\t (5613, 1715) Gallbladder_Serosal_Surface <--> gall bladder serosa, ( 0.78 , 0.52 )\n",
      "\t (5693, 1716) Gallbladder_Smooth_Muscle_Tissue <--> gall bladder smooth muscle, ( 0.54 , 0.31 )\n",
      "\n",
      "\n",
      "alignment:\n",
      "\t (2990, 432) Liver <--> liver, ( 0.67 , 0.73 )\n",
      "parents:\n",
      "\t (2991, 395) Hepatobiliary_System <--> hepatobiliary system, ( 0.80 , 0.92 )\n",
      "children:\n",
      "\t (3216, 440) Hepatic_Tissue <--> liver parenchyma, ( 0.84 , 0.89 )\n",
      "\t (3330, 1711) Intrahepatic_Bile_Duct <--> bile duct intrahepatic part, ( 0.86 , 0.89 )\n",
      "\t (4734, 434) Liver_Lobe <--> liver lobe, ( 0.92 , 0.68 )\n",
      "\n",
      "\n",
      "alignment:\n",
      "\t (3001, 263) Autonomic_Nervous_System <--> autonomic nervous system, ( 0.74 , 0.72 )\n",
      "parents:\n",
      "\t (3080, 262) Peripheral_Nervous_System <--> peripheral nervous system, ( 0.82 , 0.81 )\n",
      "children:\n",
      "\t (3002, 270) Sympathetic_Nervous_System <--> sympathetic nervous system, ( 0.96 , 0.88 )\n",
      "\t (3083, 264) Autonomic_Ganglion <--> autonomic ganglion, ( 0.96 , 0.85 )\n",
      "\t (3422, 268) Parasympathetic_Nervous_System <--> parasympathetic nervous system, ( 0.94 , 0.89 )\n",
      "\n",
      "\n",
      "alignment:\n",
      "\t (3055, 1012) Cerebral_White_Matter <--> cerebral white matter, ( 0.83 , 0.50 )\n",
      "parents:\n",
      "\t (5600, 886) Brain_White_Matter <--> brain white matter, ( 0.99 , 0.82 )\n",
      "children:\n",
      "\n",
      "\n",
      "alignment:\n",
      "\t (3082, 271) Sympathetic_Ganglion <--> sympathetic ganglion, ( 0.93 , 0.60 )\n",
      "parents:\n",
      "\t (3083, 264) Autonomic_Ganglion <--> autonomic ganglion, ( 0.96 , 0.85 )\n",
      "\t (3002, 270) Sympathetic_Nervous_System <--> sympathetic nervous system, ( 0.96 , 0.88 )\n",
      "children:\n",
      "\t (5871, 1225) Thoracic_Ganglion <--> thoracic ganglion, ( 0.93 , 0.62 )\n",
      "\t (5872, 1224) Coeliac_Ganglion <--> celiac ganglion, ( 0.94 , 0.85 )\n",
      "\n",
      "\n",
      "alignment:\n",
      "\t (3118, 286) Internal_Ear <--> inner ear, ( 0.86 , 0.56 )\n",
      "parents:\n",
      "\t (2824, 283) Ear <--> ear, ( 0.67 , 0.99 )\n",
      "children:\n",
      "\t (2994, 287) Osseous_Labyrinth <--> bony labyrinth, ( 0.82 , 0.81 )\n",
      "\t (4165, 292) Membranous_Labyrinth <--> membranous labyrinth, ( 0.66 , 0.66 )\n",
      "\n",
      "\n",
      "alignment:\n",
      "\t (3244, 152) Endocrine_Pancreas <--> endocrine pancreas, ( 0.87 , 0.45 )\n",
      "parents:\n",
      "\t (2814, 143) Pancreas <--> pancreas, ( 0.85 , 0.68 )\n",
      "children:\n",
      "\t (3243, 151) Islet_of_Langerhans <--> pancreatic islet, ( 0.68 , 0.45 )\n",
      "\n",
      "\n",
      "alignment:\n",
      "\t (3313, 259) Cranial_Nerve <--> cranial nerve, ( 0.91 , 0.90 )\n",
      "parents:\n",
      "\t (3081, 260) Nerve <--> nerve, ( 0.62 , 0.61 )\n",
      "children:\n",
      "\t (3361, 1180) Vestibulocochlear_Nerve <--> vestibulocochlear VIII nerve, ( 0.87 , 0.89 )\n",
      "\t (3375, 1162) Facial_Nerve <--> facial VII nerve, ( 0.92 , 0.87 )\n",
      "\t (3394, 1165) Hypoglossal_Nerve <--> hypoglossal XII nerve, ( 0.68 , 0.90 )\n",
      "\t (3417, 1166) Oculomotor_Nerve <--> oculomotor III nerve, ( 0.66 , 0.82 )\n",
      "\t (3418, 1167) Olfactory_Nerve <--> olfactory I nerve, ( 0.67 , 0.77 )\n",
      "\t (3420, 1168) Optic_Nerve <--> optic II nerve, ( 0.56 , 0.96 )\n",
      "\t (3454, 1171) Trigeminal_Nerve <--> trigeminal V nerve, ( 0.85 , 0.55 )\n",
      "\t (3459, 1177) Vagus_Nerve <--> vagus X nerve, ( 0.88 , 0.85 )\n",
      "\t (3877, 1159) Accessory_Nerve <--> accessory XI nerve, ( 0.97 , 0.83 )\n",
      "\n",
      "\n",
      "alignment:\n",
      "\t (3399, 2226) Jugular_Vein <--> jugular vein, ( 0.85 , 0.93 )\n",
      "parents:\n",
      "\t (3378, 82) Vein <--> vein, ( 0.68 , 0.69 )\n",
      "children:\n",
      "\t (3940, 2227) Anterior_Jugular_Vein <--> anterior jugular vein, ( 0.59 , 0.86 )\n",
      "\t (4375, 2228) External_Jugular_Vein <--> external jugular vein, ( 0.46 , 0.91 )\n",
      "\t (4632, 2229) Internal_Jugular_Vein <--> internal jugular vein, ( 0.92 , 0.80 )\n",
      "\n",
      "\n",
      "alignment:\n",
      "\t (3407, 170) Lymphatic_System <--> lymphoid system, ( 0.87 , 0.77 )\n",
      "parents:\n",
      "\t (3032, 162) Immune_System <--> immune system, ( 0.91 , 0.93 )\n",
      "\t (3409, 17) Hematopoietic_and_Lymphatic_System <--> hemolymphoid system, ( 0.77 , 0.75 )\n",
      "children:\n",
      "\t (3406, 171) Lymph_Node <--> lymph node, ( 0.92 , 0.91 )\n",
      "\t (3788, 169) Lymphatic_Vessel <--> lymphatic vessel, ( 0.82 , 0.86 )\n",
      "\n",
      "\n",
      "alignment:\n",
      "\t (3428, 167) Peyer_s_Patch <--> peyer's patch, ( 0.62 , 0.29 )\n",
      "parents:\n",
      "\t (3429, 166) Gut_Associated_Lymphoid_Tissue <--> gut associated lymphoid tissue, ( 0.90 , 0.55 )\n",
      "children:\n",
      "\t (5708, 795) Peyer_s_Patch_Lymphoid_Follicle <--> peyer's patch follicle, ( 0.93 , 0.67 )\n",
      "\n",
      "\n",
      "alignment:\n",
      "\t (3460, 496) Vas_Deferens <--> vas deferens, ( 0.83 , 0.73 )\n",
      "parents:\n",
      "\t (2902, 477) Male_Reproductive_System <--> male reproductive system, ( 0.77 , 0.78 )\n",
      "children:\n",
      "\t (5672, 1837) Vas_Deferens_Epithelium <--> vas deferens epithelium, ( 0.93 , 0.63 )\n",
      "\n",
      "\n",
      "alignment:\n",
      "\t (3699, 484) Male_Urethra <--> male urethra, ( 0.65 , 0.20 )\n",
      "parents:\n",
      "\t (3022, 455) Urethra <--> urethra, ( 0.90 , 0.59 )\n",
      "children:\n",
      "\t (3698, 2650) Prostatic_Portion_of_the_Male_Urethra <--> prostatic urethra, ( 0.57 , 0.97 )\n",
      "\n",
      "\n",
      "alignment:\n",
      "\t (3790, 2532) Breast_Fluid_or_Secretion <--> mammary gland fluid/secretion, ( 0.94 , 0.41 )\n",
      "parents:\n",
      "\t (3792, 2531) Exocrine_Gland_Fluid_or_Secretion <--> exocrine gland fluid/secretion, ( 0.90 , 0.88 )\n",
      "children:\n",
      "\t (3789, 2579) Breast_Milk <--> mammary gland milk, ( 0.66 , 0.85 )\n",
      "\n",
      "\n",
      "alignment:\n",
      "\t (4291, 1746) Convoluted_Tubule <--> renal convoluted tubule, ( 0.99 , 0.91 )\n",
      "parents:\n",
      "\t (4014, 452) Renal_Tubule <--> renal tubule, ( 0.95 , 0.95 )\n",
      "children:\n",
      "\t (4290, 1747) Distal_Convoluted_Tubule <--> distal convoluted tubule, ( 0.97 , 0.90 )\n",
      "\t (5078, 1753) Proximal_Convoluted_Tube <--> proximal convoluted tubule, ( 1.00 , 0.88 )\n",
      "\n",
      "\n",
      "alignment:\n",
      "\t (4299, 52) Foot <--> foot, ( 0.48 , 0.46 )\n",
      "parents:\n",
      "\t (3380, 32) Lower_Extremity <--> hindlimb, ( 0.87 , 0.85 )\n",
      "children:\n",
      "\t (5357, 56) Toe <--> foot digit, ( 0.90 , 0.86 )\n",
      "\n",
      "\n",
      "alignment:\n",
      "\t (5519, 891) Choroid_Plexus_Epithelium <--> choroid plexus epithelium, ( 0.83 , 0.48 )\n",
      "parents:\n",
      "\t (3355, 890) Choroid_Plexus <--> choroid plexus, ( 0.81 , 0.81 )\n",
      "children:\n",
      "\t (5614, 1054) Choroid_Plexus_Epithelium_of_the_Fourth_Ventricle <--> fourth ventricle choroid plexus epithelium, ( 0.99 , 0.70 )\n",
      "\t (5623, 1032) Choroid_Plexus_Epithelium_of_the_Lateral_Ventricle <--> lateral ventricle choroid plexus epithelium, ( 0.95 , 0.92 )\n",
      "\n",
      "\n",
      "alignment:\n",
      "\t (5700, 1677) Lower_Jaw_Tooth <--> lower jaw tooth, ( 0.91 , 0.47 )\n",
      "parents:\n",
      "\t (5572, 1556) Lower_Jaw <--> lower jaw, ( 0.85 , 0.80 )\n",
      "children:\n",
      "\t (5702, 1680) Lower_Jaw_Molar <--> lower jaw molar, ( 0.92 , 0.57 )\n",
      "\n",
      "\n",
      "alignment:\n",
      "\t (5829, 369) Hand_Phalanx <--> hand phalanx, ( 0.82 , 0.78 )\n",
      "parents:\n",
      "\t (5003, 366) Phalanx <--> phalanx, ( 0.92 , 0.87 )\n",
      "children:\n",
      "\t (5831, 1462) Hand_Digit_5_Phalanx <--> hand digit 5 phalanx, ( 0.87 , 0.90 )\n",
      "\t (5833, 1460) Hand_Digit_3_Phalanx <--> hand digit 3 phalanx, ( 0.90 , 0.78 )\n",
      "\t (5834, 1459) Hand_Digit_2_Phalanx <--> hand digit 2 phalanx, ( 0.77 , 0.98 )\n",
      "\t (5842, 1457) Distal_Phalanx_of_Hand <--> distal phalanx of hand, ( 0.84 , 0.87 )\n",
      "\n",
      "\n"
     ]
    }
   ],
   "source": [
    "for align in final_dict_parents:\n",
    "    model_out1 = model(torch.tensor([[align[0], align[1]]]))['P(A|B)'].cpu().item()\n",
    "    model_out2 = model(torch.tensor([[align[1], align[0]]]))['P(A|B)'].cpu().item()\n",
    "    \n",
    "    print(\"alignment:\")\n",
    "    print(\"\\t\", align, entities['idx2label'][align[0]], \"<-->\", entities['idx2label'][align[1]], end=\", \")\n",
    "    print(\"(\", \"%.2f\" % model_out1,\",\", \"%.2f\" % model_out2, \")\")\n",
    "    \n",
    "    \n",
    "    print(\"parents:\")\n",
    "    for pa in final_dict_parents[align]: \n",
    "        model_out1 = model(torch.tensor([[pa[0], pa[1]]]))['P(A|B)'].cpu().item()\n",
    "        model_out2 = model(torch.tensor([[pa[1], pa[0]]]))['P(A|B)'].cpu().item()\n",
    "       \n",
    "        print(\"\\t\", pa, entities['idx2label'][pa[0]], \"<-->\", entities['idx2label'][pa[1]], end=\", \")\n",
    "        print(\"(\", \"%.2f\" % model_out1,\",\", \"%.2f\" % model_out2, \")\")\n",
    "        \n",
    "    print(\"children:\")\n",
    "    for ca in final_dict_children[align]: \n",
    "        model_out1 = model(torch.tensor([[ca[0], ca[1]]]))['P(A|B)'].cpu().item()\n",
    "        model_out2 = model(torch.tensor([[ca[1], ca[0]]]))['P(A|B)'].cpu().item()\n",
    "        \n",
    "        print(\"\\t\", ca, entities['idx2label'][ca[0]], \"<-->\", entities['idx2label'][ca[1]], end=\", \")\n",
    "        print(\"(\", \"%.2f\" % model_out1,\",\", \"%.2f\" % model_out2, \")\")\n",
    "\n",
    "    print(\"\\n\")"
   ]
  },
  {
   "cell_type": "code",
   "execution_count": 18,
   "metadata": {},
   "outputs": [
    {
     "name": "stdout",
     "output_type": "stream",
     "text": [
      "================ Mouse ==================\n",
      "Parents of: foot\n",
      "44 autopod, 32 hindlimb, \n",
      "\n",
      " Children of: foot\n",
      "56 foot digit, 57 metatarsus, 58 tarsus, 359 foot bone, 548 foot joint, 722 foot blood vessel, 725 foot connective tissue, 732 foot muscle, 734 foot nerve, 735 foot skin, \n",
      "\n",
      "\n",
      "================ Human ==================\n",
      "Parents of: Foot\n",
      "4298 Lower_Extremity_Part, 3380 Lower_Extremity, \n",
      "\n",
      " Children of: Foot\n",
      "4297 Dorsal_Region_of_Foot, 5012 Plantar_Region, 5357 Toe, 5779 Foot_Skin, 5830 Foot_Phalanx, "
     ]
    }
   ],
   "source": [
    "alignment = (4299, 52)\n",
    "special_parent_alignment = (3380, 32) \n",
    "special_child_alignment = (5357, 56)\n",
    "\n",
    "parents_of_alignment_mouse = mouse['parents_of'][52]\n",
    "parents_of_alignment_human = human['parents_of'][4299]\n",
    "\n",
    "children_of_alignment_mouse = mouse['children_of'][52]\n",
    "children_of_alignment_human = human['children_of'][4299]\n",
    "\n",
    "print(\"================ Mouse ==================\")\n",
    "print(\"Parents of:\", entities['idx2label'][52])\n",
    "\n",
    "for p in parents_of_alignment_mouse:\n",
    "    print(p, entities['idx2label'][p], end=', ')\n",
    "\n",
    "print(\"\\n\\n\", \"Children of:\", entities['idx2label'][52])\n",
    "    \n",
    "for c in children_of_alignment_mouse:\n",
    "    print(c, entities['idx2label'][c], end=', ')\n",
    "\n",
    "print(\"\\n\\n\\n================ Human ==================\")    \n",
    "    \n",
    "print(\"Parents of:\", entities['idx2label'][4299])\n",
    "\n",
    "for p in parents_of_alignment_human:\n",
    "    print(p, entities['idx2label'][p], end=', ')\n",
    "    \n",
    "print(\"\\n\\n\", \"Children of:\", entities['idx2label'][4299])\n",
    "\n",
    "for c in children_of_alignment_human:\n",
    "    print(c, entities['idx2label'][c], end=', ')\n",
    "    "
   ]
  },
  {
   "cell_type": "code",
   "execution_count": 19,
   "metadata": {},
   "outputs": [
    {
     "name": "stdout",
     "output_type": "stream",
     "text": [
      "[(3030, 'Limb')]\n",
      "[(2784, 'Body_Region')]\n"
     ]
    }
   ],
   "source": [
    "print( [(p, entities['idx2label'][p]) for p in human['parents_of'][3380] ] )\n",
    "print( [(p, entities['idx2label'][p]) for p in human['parents_of'][3030] ] )"
   ]
  },
  {
   "cell_type": "code",
   "execution_count": 20,
   "metadata": {},
   "outputs": [
    {
     "name": "stdout",
     "output_type": "stream",
     "text": [
      "[(3377, 'Femoral_Vein'), (3382, 'Bone_of_the_Lower_Extremity'), (3471, 'Tibial_Artery'), (4299, 'Foot'), (4746, 'Leg'), (4982, 'Pelvic_Girdle')]\n",
      "[(4298, 'Lower_Extremity_Part'), (3380, 'Lower_Extremity')]\n"
     ]
    }
   ],
   "source": [
    "print( [(p, entities['idx2label'][p]) for p in human['children_of'][3380] ] )\n",
    "print( [(p, entities['idx2label'][p]) for p in human['parents_of'][4982] ] )"
   ]
  },
  {
   "cell_type": "code",
   "execution_count": 21,
   "metadata": {},
   "outputs": [
    {
     "name": "stdout",
     "output_type": "stream",
     "text": [
      "0.35642296075820923\n",
      "0.39350178837776184\n"
     ]
    },
    {
     "data": {
      "text/plain": [
       "True"
      ]
     },
     "execution_count": 21,
     "metadata": {},
     "output_type": "execute_result"
    }
   ],
   "source": [
    "a = torch.tensor([[11,3030]]) \n",
    "b = torch.tensor([[3030,11]])\n",
    "\n",
    "print(model(a)['P(A|B)'].cpu().item())\n",
    "print(model(b)['P(A|B)'].cpu().item())\n",
    "\n",
    "(11,3030) in train_aligns_compare"
   ]
  },
  {
   "cell_type": "code",
   "execution_count": 40,
   "metadata": {},
   "outputs": [
    {
     "name": "stderr",
     "output_type": "stream",
     "text": [
      "/data/anaconda/envs/run_boxmodel/lib/python3.7/site-packages/ipykernel/__main__.py:20: UserWarning: torch.range is deprecated in favor of torch.arange and will be removed in 0.5. Note that arange generates values in [start; end), not [start; end].\n"
     ]
    }
   ],
   "source": [
    "def get_min_align_score(a, b):\n",
    "    \n",
    "    A_given_B = torch.stack((a,b), dim=1)\n",
    "    B_given_A = torch.stack((b,a), dim=1)\n",
    "    \n",
    "    out1 = model(A_given_B)['P(A|B)']\n",
    "    out2 = model(B_given_A)['P(A|B)']\n",
    "    \n",
    "    out_min, _ = torch.min(torch.stack( (out1,out2), dim=1) , dim=1)\n",
    "    \n",
    "    return out_min\n",
    "\n",
    "num_nodes = len((entities['name2idx']))\n",
    "\n",
    "all_alignments = torch.zeros((num_nodes, num_nodes))\n",
    "\n",
    "\n",
    "for i in dev_pos_nodes:\n",
    "    aa = i.repeat(len((entities['name2idx']))).cuda()\n",
    "    bb = torch.range(0, len((entities['name2idx']))-1, dtype=torch.long).cuda()\n",
    "    \n",
    "    all_alignments[i.item()] = get_min_align_score(aa, bb)\n",
    "\n",
    "# for i in dev_pos_nodes\n",
    "# aa = dev_pos_nodes[0]\n",
    "# all_alignments[aa] = []\n",
    "# for j in range(len(entities['name2idx'])):\n",
    "#     all_alignments[aa].append(get_min_align_score(aa, j))\n",
    "\n",
    "# calc_all_alignments"
   ]
  },
  {
   "cell_type": "code",
   "execution_count": 67,
   "metadata": {},
   "outputs": [
    {
     "name": "stderr",
     "output_type": "stream",
     "text": [
      "/opt/conda/conda-bld/pytorch_1573049310284/work/aten/src/ATen/native/LegacyDefinitions.cpp:19: UserWarning: masked_fill_ received a mask with dtype torch.uint8, this behavior is now deprecated,please use a mask with dtype torch.bool instead.\n"
     ]
    }
   ],
   "source": [
    "mask = torch.eye(num_nodes).byte()\n",
    "all_alignments.masked_fill_(mask, 0)\n",
    "\n",
    "max_aligns = all_alignments.topk(k=5, dim=1)\n",
    "\n",
    "topk_dev = all_alignments[dev_pos_nodes].topk(k=5, dim=1)"
   ]
  },
  {
   "cell_type": "code",
   "execution_count": 71,
   "metadata": {},
   "outputs": [
    {
     "data": {
      "text/plain": [
       "torch.Size([605, 5])"
      ]
     },
     "execution_count": 71,
     "metadata": {},
     "output_type": "execute_result"
    }
   ],
   "source": [
    "topk_dev.values.shape"
   ]
  },
  {
   "cell_type": "code",
   "execution_count": null,
   "metadata": {},
   "outputs": [],
   "source": [
    "import matplotlib.patches as patches\n",
    "import matplotlib.pyplot as plt"
   ]
  },
  {
   "cell_type": "code",
   "execution_count": null,
   "metadata": {},
   "outputs": [],
   "source": [
    "fig,ax = plt.subplots(1, figsize=(10,10), facecolor=\"white\")\n",
    "\n",
    "rect1 = patches.Rectangle((0.4,0.2),.4,.3,linewidth=2,edgecolor='r', fill=True, facecolor='r', alpha=0.3)\n",
    "rect2 = patches.Rectangle((0.5,0.1),.1,.3,linewidth=2,edgecolor='b', fill=True, facecolor='b', alpha=0.3)\n",
    "ax.text(0.4,0.2, \"Hello\", fontsize=20)\n",
    "\n",
    "ax.add_patch(rect1)\n",
    "ax.add_patch(rect2)\n",
    "ax.legend((\"hi\",\"hello\"))\n",
    "\n",
    "\n",
    "plt.show()"
   ]
  }
 ],
 "metadata": {
  "kernelspec": {
   "display_name": "Python 3",
   "language": "python",
   "name": "python3"
  },
  "language_info": {
   "codemirror_mode": {
    "name": "ipython",
    "version": 3
   },
   "file_extension": ".py",
   "mimetype": "text/x-python",
   "name": "python",
   "nbconvert_exporter": "python",
   "pygments_lexer": "ipython3",
   "version": "3.7.5"
  }
 },
 "nbformat": 4,
 "nbformat_minor": 2
}
