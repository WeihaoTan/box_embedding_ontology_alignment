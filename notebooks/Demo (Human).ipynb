{
 "cells": [
  {
   "cell_type": "code",
   "execution_count": 1,
   "metadata": {},
   "outputs": [
    {
     "name": "stderr",
     "output_type": "stream",
     "text": [
      "/home/zonghaiyao/anaconda3/envs/run_boxmodel/lib/python3.7/site-packages/tqdm/autonotebook.py:17: TqdmExperimentalWarning: Using `tqdm.autonotebook.tqdm` in notebook mode. Use `tqdm.tqdm` instead to force console mode (e.g. in jupyter console)\n",
      "  \" (e.g. in jupyter console)\", TqdmExperimentalWarning)\n"
     ]
    },
    {
     "data": {
      "text/html": [
       "\n",
       "    <style>\n",
       "    .p-Widget.jp-OutputPrompt.jp-OutputArea-prompt:empty {\n",
       "      padding: 0;\n",
       "      border: 0;\n",
       "    }\n",
       "    </style>\n",
       "    "
      ],
      "text/plain": [
       "<IPython.core.display.HTML object>"
      ]
     },
     "metadata": {},
     "output_type": "display_data"
    }
   ],
   "source": [
    "%load_ext autoreload\n",
    "%autoreload 2\n",
    "from boxes import *\n",
    "from learner import *\n",
    "import math"
   ]
  },
  {
   "cell_type": "code",
   "execution_count": 2,
   "metadata": {},
   "outputs": [],
   "source": [
    "PATH = '../data/ontologies/anatomy/'\n",
    "# Data in unary.tsv are probabilites separated by newlines. The probability on line n is P(n), where n is the id assigned to the nth element.\n",
    "unary_prob = torch.from_numpy(np.loadtxt(f'{PATH}unary/human_unary.tsv')).float().to(\"cpu\")\n",
    "num_boxes = unary_prob.shape[0]\n",
    "\n",
    "# We're going to use random negative sampling during training, so no need to include negatives in our training data itself\n",
    "train = Probs.load_from_julia(PATH, 'individual_analysis/human_adj_tr_pos.tsv', 'individual_analysis/human_adj_tr_neg.tsv', ratio_neg = 0).to(\"cpu\")\n",
    "\n",
    "# The dev set will have a fixed set of negatives, however.\n",
    "dev = Probs.load_from_julia(PATH, 'individual_analysis/human_adj_dev_pos.tsv', 'individual_analysis/human_adj_dev_neg.tsv', ratio_neg = 1).to(\"cpu\")"
   ]
  },
  {
   "cell_type": "code",
   "execution_count": 3,
   "metadata": {},
   "outputs": [],
   "source": [
    "box_model = BoxModel(\n",
    "    BoxParamType=MinMaxSigmoidBoxes,\n",
    "    vol_func=soft_volume,\n",
    "    num_models=1,\n",
    "    num_boxes=num_boxes,\n",
    "    dims=50,\n",
    "    method=\"orig\").to(\"cpu\")\n",
    "\n",
    "train_dl = TensorDataLoader(train, batch_size=2**6, shuffle=True)\n",
    "\n",
    "opt = torch.optim.Adam(box_model.parameters(), lr=1e-2)"
   ]
  },
  {
   "cell_type": "code",
   "execution_count": 4,
   "metadata": {},
   "outputs": [],
   "source": [
    "def mean_cond_kl_loss(model_out: ModelOutput, target: Tensor, eps: float = torch.finfo(torch.float32).tiny) -> Tensor:\n",
    "    return kl_div_sym(model_out[\"P(A|B)\"], target, eps).mean()\n",
    "\n",
    "# See boxes/loss_functions.py file for more options. Note that you may have to changed them to fit your use case.\n",
    "# Also note that \"kl_div_sym\" is just binary cross-entropy."
   ]
  },
  {
   "cell_type": "code",
   "execution_count": 5,
   "metadata": {},
   "outputs": [],
   "source": [
    "# For this dataset we had unary probabilities as well as conditional probabilities. Our loss function will be a sum of these, which is provided by the following loss function wrapper:\n",
    "loss_func = LossPieces(mean_cond_kl_loss, (1e-2, mean_unary_kl_loss(unary_prob)))\n",
    "\n",
    "metrics = [metric_hard_accuracy, metric_hard_f1]\n",
    "\n",
    "rec_col = RecorderCollection()\n",
    "\n",
    "callbacks = CallbackCollection(\n",
    "    LossCallback(rec_col.train, train),\n",
    "    LossCallback(rec_col.dev, dev),\n",
    "    *(MetricCallback(rec_col.dev, dev, m) for m in metrics),\n",
    "    *(MetricCallback(rec_col.train, train, m) for m in metrics),\n",
    "    MetricCallback(rec_col.dev, dev, metric_pearson_r),\n",
    "    MetricCallback(rec_col.train, dev, metric_spearman_r),\n",
    "    PercentIncreaseEarlyStopping(rec_col.dev, \"mean_cond_kl_loss\", 0.25, 10),\n",
    "    PercentIncreaseEarlyStopping(rec_col.dev, \"mean_cond_kl_loss\", 0.5),\n",
    "#     GradientClipping(-1000,1000),\n",
    "    RandomNegativeSampling(num_boxes, 1),\n",
    "    StopIfNaN(),\n",
    ")\n",
    "\n",
    "l = Learner(train_dl, box_model, loss_func, opt, callbacks, recorder = rec_col.learn)"
   ]
  },
  {
   "cell_type": "code",
   "execution_count": 6,
   "metadata": {},
   "outputs": [
    {
     "data": {
      "application/vnd.jupyter.widget-view+json": {
       "model_id": "3b619fc7ed3a4beeb5c2b6c9d8170778",
       "version_major": 2,
       "version_minor": 0
      },
      "text/plain": [
       "HBox(children=(IntProgress(value=0, description='Overall Training:', max=20, style=ProgressStyle(description_w…"
      ]
     },
     "metadata": {},
     "output_type": "display_data"
    },
    {
     "data": {
      "application/vnd.jupyter.widget-view+json": {
       "model_id": "",
       "version_major": 2,
       "version_minor": 0
      },
      "text/plain": [
       "HBox(children=(IntProgress(value=0, description='Current Batch:', max=68, style=ProgressStyle(description_widt…"
      ]
     },
     "metadata": {},
     "output_type": "display_data"
    },
    {
     "data": {
      "application/vnd.jupyter.widget-view+json": {
       "model_id": "",
       "version_major": 2,
       "version_minor": 0
      },
      "text/plain": [
       "HBox(children=(IntProgress(value=0, description='Current Batch:', max=68, style=ProgressStyle(description_widt…"
      ]
     },
     "metadata": {},
     "output_type": "display_data"
    },
    {
     "data": {
      "application/vnd.jupyter.widget-view+json": {
       "model_id": "",
       "version_major": 2,
       "version_minor": 0
      },
      "text/plain": [
       "HBox(children=(IntProgress(value=0, description='Current Batch:', max=68, style=ProgressStyle(description_widt…"
      ]
     },
     "metadata": {},
     "output_type": "display_data"
    },
    {
     "data": {
      "application/vnd.jupyter.widget-view+json": {
       "model_id": "",
       "version_major": 2,
       "version_minor": 0
      },
      "text/plain": [
       "HBox(children=(IntProgress(value=0, description='Current Batch:', max=68, style=ProgressStyle(description_widt…"
      ]
     },
     "metadata": {},
     "output_type": "display_data"
    },
    {
     "data": {
      "application/vnd.jupyter.widget-view+json": {
       "model_id": "",
       "version_major": 2,
       "version_minor": 0
      },
      "text/plain": [
       "HBox(children=(IntProgress(value=0, description='Current Batch:', max=68, style=ProgressStyle(description_widt…"
      ]
     },
     "metadata": {},
     "output_type": "display_data"
    },
    {
     "data": {
      "application/vnd.jupyter.widget-view+json": {
       "model_id": "",
       "version_major": 2,
       "version_minor": 0
      },
      "text/plain": [
       "HBox(children=(IntProgress(value=0, description='Current Batch:', max=68, style=ProgressStyle(description_widt…"
      ]
     },
     "metadata": {},
     "output_type": "display_data"
    },
    {
     "data": {
      "application/vnd.jupyter.widget-view+json": {
       "model_id": "",
       "version_major": 2,
       "version_minor": 0
      },
      "text/plain": [
       "HBox(children=(IntProgress(value=0, description='Current Batch:', max=68, style=ProgressStyle(description_widt…"
      ]
     },
     "metadata": {},
     "output_type": "display_data"
    },
    {
     "data": {
      "application/vnd.jupyter.widget-view+json": {
       "model_id": "",
       "version_major": 2,
       "version_minor": 0
      },
      "text/plain": [
       "HBox(children=(IntProgress(value=0, description='Current Batch:', max=68, style=ProgressStyle(description_widt…"
      ]
     },
     "metadata": {},
     "output_type": "display_data"
    },
    {
     "data": {
      "application/vnd.jupyter.widget-view+json": {
       "model_id": "",
       "version_major": 2,
       "version_minor": 0
      },
      "text/plain": [
       "HBox(children=(IntProgress(value=0, description='Current Batch:', max=68, style=ProgressStyle(description_widt…"
      ]
     },
     "metadata": {},
     "output_type": "display_data"
    },
    {
     "data": {
      "application/vnd.jupyter.widget-view+json": {
       "model_id": "",
       "version_major": 2,
       "version_minor": 0
      },
      "text/plain": [
       "HBox(children=(IntProgress(value=0, description='Current Batch:', max=68, style=ProgressStyle(description_widt…"
      ]
     },
     "metadata": {},
     "output_type": "display_data"
    },
    {
     "data": {
      "application/vnd.jupyter.widget-view+json": {
       "model_id": "",
       "version_major": 2,
       "version_minor": 0
      },
      "text/plain": [
       "HBox(children=(IntProgress(value=0, description='Current Batch:', max=68, style=ProgressStyle(description_widt…"
      ]
     },
     "metadata": {},
     "output_type": "display_data"
    },
    {
     "data": {
      "application/vnd.jupyter.widget-view+json": {
       "model_id": "",
       "version_major": 2,
       "version_minor": 0
      },
      "text/plain": [
       "HBox(children=(IntProgress(value=0, description='Current Batch:', max=68, style=ProgressStyle(description_widt…"
      ]
     },
     "metadata": {},
     "output_type": "display_data"
    },
    {
     "data": {
      "application/vnd.jupyter.widget-view+json": {
       "model_id": "",
       "version_major": 2,
       "version_minor": 0
      },
      "text/plain": [
       "HBox(children=(IntProgress(value=0, description='Current Batch:', max=68, style=ProgressStyle(description_widt…"
      ]
     },
     "metadata": {},
     "output_type": "display_data"
    },
    {
     "data": {
      "application/vnd.jupyter.widget-view+json": {
       "model_id": "",
       "version_major": 2,
       "version_minor": 0
      },
      "text/plain": [
       "HBox(children=(IntProgress(value=0, description='Current Batch:', max=68, style=ProgressStyle(description_widt…"
      ]
     },
     "metadata": {},
     "output_type": "display_data"
    },
    {
     "data": {
      "application/vnd.jupyter.widget-view+json": {
       "model_id": "",
       "version_major": 2,
       "version_minor": 0
      },
      "text/plain": [
       "HBox(children=(IntProgress(value=0, description='Current Batch:', max=68, style=ProgressStyle(description_widt…"
      ]
     },
     "metadata": {},
     "output_type": "display_data"
    },
    {
     "data": {
      "application/vnd.jupyter.widget-view+json": {
       "model_id": "",
       "version_major": 2,
       "version_minor": 0
      },
      "text/plain": [
       "HBox(children=(IntProgress(value=0, description='Current Batch:', max=68, style=ProgressStyle(description_widt…"
      ]
     },
     "metadata": {},
     "output_type": "display_data"
    },
    {
     "data": {
      "application/vnd.jupyter.widget-view+json": {
       "model_id": "",
       "version_major": 2,
       "version_minor": 0
      },
      "text/plain": [
       "HBox(children=(IntProgress(value=0, description='Current Batch:', max=68, style=ProgressStyle(description_widt…"
      ]
     },
     "metadata": {},
     "output_type": "display_data"
    },
    {
     "data": {
      "application/vnd.jupyter.widget-view+json": {
       "model_id": "",
       "version_major": 2,
       "version_minor": 0
      },
      "text/plain": [
       "HBox(children=(IntProgress(value=0, description='Current Batch:', max=68, style=ProgressStyle(description_widt…"
      ]
     },
     "metadata": {},
     "output_type": "display_data"
    },
    {
     "data": {
      "application/vnd.jupyter.widget-view+json": {
       "model_id": "",
       "version_major": 2,
       "version_minor": 0
      },
      "text/plain": [
       "HBox(children=(IntProgress(value=0, description='Current Batch:', max=68, style=ProgressStyle(description_widt…"
      ]
     },
     "metadata": {},
     "output_type": "display_data"
    },
    {
     "data": {
      "application/vnd.jupyter.widget-view+json": {
       "model_id": "",
       "version_major": 2,
       "version_minor": 0
      },
      "text/plain": [
       "HBox(children=(IntProgress(value=0, description='Current Batch:', max=68, style=ProgressStyle(description_widt…"
      ]
     },
     "metadata": {},
     "output_type": "display_data"
    },
    {
     "name": "stdout",
     "output_type": "stream",
     "text": [
      "\n"
     ]
    }
   ],
   "source": [
    "l.train(20)"
   ]
  },
  {
   "cell_type": "code",
   "execution_count": 7,
   "metadata": {},
   "outputs": [
    {
     "data": {
      "text/html": [
       "<div>\n",
       "<style scoped>\n",
       "    .dataframe tbody tr th:only-of-type {\n",
       "        vertical-align: middle;\n",
       "    }\n",
       "\n",
       "    .dataframe tbody tr th {\n",
       "        vertical-align: top;\n",
       "    }\n",
       "\n",
       "    .dataframe thead th {\n",
       "        text-align: right;\n",
       "    }\n",
       "</style>\n",
       "<table border=\"1\" class=\"dataframe\">\n",
       "  <thead>\n",
       "    <tr style=\"text-align: right;\">\n",
       "      <th></th>\n",
       "      <th>0.01*mean_unary_kl_loss</th>\n",
       "      <th>loss</th>\n",
       "      <th>mean_cond_kl_loss</th>\n",
       "      <th>metric_hard_accuracy</th>\n",
       "      <th>metric_hard_f1</th>\n",
       "      <th>metric_spearman_r</th>\n",
       "    </tr>\n",
       "  </thead>\n",
       "  <tbody>\n",
       "    <tr>\n",
       "      <th>0.0</th>\n",
       "      <td>0.000030</td>\n",
       "      <td>8.081954</td>\n",
       "      <td>8.081924</td>\n",
       "      <td>0.000000</td>\n",
       "      <td>NaN</td>\n",
       "      <td>-0.022125</td>\n",
       "    </tr>\n",
       "    <tr>\n",
       "      <th>1.0</th>\n",
       "      <td>0.000029</td>\n",
       "      <td>7.135197</td>\n",
       "      <td>7.135168</td>\n",
       "      <td>0.000000</td>\n",
       "      <td>NaN</td>\n",
       "      <td>0.138873</td>\n",
       "    </tr>\n",
       "    <tr>\n",
       "      <th>2.0</th>\n",
       "      <td>0.000028</td>\n",
       "      <td>6.106736</td>\n",
       "      <td>6.106708</td>\n",
       "      <td>0.000000</td>\n",
       "      <td>NaN</td>\n",
       "      <td>0.241461</td>\n",
       "    </tr>\n",
       "    <tr>\n",
       "      <th>3.0</th>\n",
       "      <td>0.000027</td>\n",
       "      <td>5.155363</td>\n",
       "      <td>5.155335</td>\n",
       "      <td>0.000000</td>\n",
       "      <td>NaN</td>\n",
       "      <td>0.295832</td>\n",
       "    </tr>\n",
       "    <tr>\n",
       "      <th>4.0</th>\n",
       "      <td>0.000027</td>\n",
       "      <td>4.304075</td>\n",
       "      <td>4.304049</td>\n",
       "      <td>0.000231</td>\n",
       "      <td>0.000461</td>\n",
       "      <td>0.322863</td>\n",
       "    </tr>\n",
       "    <tr>\n",
       "      <th>5.0</th>\n",
       "      <td>0.000026</td>\n",
       "      <td>3.569152</td>\n",
       "      <td>3.569126</td>\n",
       "      <td>0.011078</td>\n",
       "      <td>0.021913</td>\n",
       "      <td>0.342317</td>\n",
       "    </tr>\n",
       "    <tr>\n",
       "      <th>6.0</th>\n",
       "      <td>0.000026</td>\n",
       "      <td>2.941990</td>\n",
       "      <td>2.941965</td>\n",
       "      <td>0.057466</td>\n",
       "      <td>0.108686</td>\n",
       "      <td>0.355511</td>\n",
       "    </tr>\n",
       "    <tr>\n",
       "      <th>7.0</th>\n",
       "      <td>0.000026</td>\n",
       "      <td>2.424571</td>\n",
       "      <td>2.424545</td>\n",
       "      <td>0.133395</td>\n",
       "      <td>0.235390</td>\n",
       "      <td>0.362881</td>\n",
       "    </tr>\n",
       "    <tr>\n",
       "      <th>8.0</th>\n",
       "      <td>0.000025</td>\n",
       "      <td>1.995613</td>\n",
       "      <td>1.995588</td>\n",
       "      <td>0.201939</td>\n",
       "      <td>0.336022</td>\n",
       "      <td>0.367635</td>\n",
       "    </tr>\n",
       "    <tr>\n",
       "      <th>9.0</th>\n",
       "      <td>0.000025</td>\n",
       "      <td>1.651311</td>\n",
       "      <td>1.651286</td>\n",
       "      <td>0.275790</td>\n",
       "      <td>0.432344</td>\n",
       "      <td>0.370271</td>\n",
       "    </tr>\n",
       "    <tr>\n",
       "      <th>10.0</th>\n",
       "      <td>0.000025</td>\n",
       "      <td>1.367500</td>\n",
       "      <td>1.367475</td>\n",
       "      <td>0.358412</td>\n",
       "      <td>0.527693</td>\n",
       "      <td>0.368858</td>\n",
       "    </tr>\n",
       "    <tr>\n",
       "      <th>11.0</th>\n",
       "      <td>0.000025</td>\n",
       "      <td>1.136192</td>\n",
       "      <td>1.136167</td>\n",
       "      <td>0.431802</td>\n",
       "      <td>0.603159</td>\n",
       "      <td>0.368887</td>\n",
       "    </tr>\n",
       "    <tr>\n",
       "      <th>12.0</th>\n",
       "      <td>0.000025</td>\n",
       "      <td>0.950995</td>\n",
       "      <td>0.950971</td>\n",
       "      <td>0.502423</td>\n",
       "      <td>0.668817</td>\n",
       "      <td>0.366970</td>\n",
       "    </tr>\n",
       "    <tr>\n",
       "      <th>13.0</th>\n",
       "      <td>0.000025</td>\n",
       "      <td>0.801392</td>\n",
       "      <td>0.801367</td>\n",
       "      <td>0.575121</td>\n",
       "      <td>0.730256</td>\n",
       "      <td>0.363840</td>\n",
       "    </tr>\n",
       "    <tr>\n",
       "      <th>14.0</th>\n",
       "      <td>0.000025</td>\n",
       "      <td>0.673761</td>\n",
       "      <td>0.673737</td>\n",
       "      <td>0.645511</td>\n",
       "      <td>0.784572</td>\n",
       "      <td>0.361903</td>\n",
       "    </tr>\n",
       "    <tr>\n",
       "      <th>15.0</th>\n",
       "      <td>0.000025</td>\n",
       "      <td>0.575167</td>\n",
       "      <td>0.575142</td>\n",
       "      <td>0.706208</td>\n",
       "      <td>0.827810</td>\n",
       "      <td>0.357503</td>\n",
       "    </tr>\n",
       "    <tr>\n",
       "      <th>16.0</th>\n",
       "      <td>0.000025</td>\n",
       "      <td>0.491407</td>\n",
       "      <td>0.491382</td>\n",
       "      <td>0.759289</td>\n",
       "      <td>0.863177</td>\n",
       "      <td>0.354920</td>\n",
       "    </tr>\n",
       "    <tr>\n",
       "      <th>17.0</th>\n",
       "      <td>0.000025</td>\n",
       "      <td>0.424615</td>\n",
       "      <td>0.424590</td>\n",
       "      <td>0.804293</td>\n",
       "      <td>0.891532</td>\n",
       "      <td>0.351790</td>\n",
       "    </tr>\n",
       "    <tr>\n",
       "      <th>18.0</th>\n",
       "      <td>0.000025</td>\n",
       "      <td>0.372018</td>\n",
       "      <td>0.371993</td>\n",
       "      <td>0.837757</td>\n",
       "      <td>0.911717</td>\n",
       "      <td>0.348805</td>\n",
       "    </tr>\n",
       "    <tr>\n",
       "      <th>19.0</th>\n",
       "      <td>0.000025</td>\n",
       "      <td>0.327496</td>\n",
       "      <td>0.327471</td>\n",
       "      <td>0.870067</td>\n",
       "      <td>0.930520</td>\n",
       "      <td>0.345713</td>\n",
       "    </tr>\n",
       "    <tr>\n",
       "      <th>20.0</th>\n",
       "      <td>0.000025</td>\n",
       "      <td>0.291422</td>\n",
       "      <td>0.291397</td>\n",
       "      <td>0.894069</td>\n",
       "      <td>0.944072</td>\n",
       "      <td>0.343379</td>\n",
       "    </tr>\n",
       "  </tbody>\n",
       "</table>\n",
       "</div>"
      ],
      "text/plain": [
       "      0.01*mean_unary_kl_loss      loss  mean_cond_kl_loss  \\\n",
       "0.0                  0.000030  8.081954           8.081924   \n",
       "1.0                  0.000029  7.135197           7.135168   \n",
       "2.0                  0.000028  6.106736           6.106708   \n",
       "3.0                  0.000027  5.155363           5.155335   \n",
       "4.0                  0.000027  4.304075           4.304049   \n",
       "5.0                  0.000026  3.569152           3.569126   \n",
       "6.0                  0.000026  2.941990           2.941965   \n",
       "7.0                  0.000026  2.424571           2.424545   \n",
       "8.0                  0.000025  1.995613           1.995588   \n",
       "9.0                  0.000025  1.651311           1.651286   \n",
       "10.0                 0.000025  1.367500           1.367475   \n",
       "11.0                 0.000025  1.136192           1.136167   \n",
       "12.0                 0.000025  0.950995           0.950971   \n",
       "13.0                 0.000025  0.801392           0.801367   \n",
       "14.0                 0.000025  0.673761           0.673737   \n",
       "15.0                 0.000025  0.575167           0.575142   \n",
       "16.0                 0.000025  0.491407           0.491382   \n",
       "17.0                 0.000025  0.424615           0.424590   \n",
       "18.0                 0.000025  0.372018           0.371993   \n",
       "19.0                 0.000025  0.327496           0.327471   \n",
       "20.0                 0.000025  0.291422           0.291397   \n",
       "\n",
       "      metric_hard_accuracy  metric_hard_f1  metric_spearman_r  \n",
       "0.0               0.000000             NaN          -0.022125  \n",
       "1.0               0.000000             NaN           0.138873  \n",
       "2.0               0.000000             NaN           0.241461  \n",
       "3.0               0.000000             NaN           0.295832  \n",
       "4.0               0.000231        0.000461           0.322863  \n",
       "5.0               0.011078        0.021913           0.342317  \n",
       "6.0               0.057466        0.108686           0.355511  \n",
       "7.0               0.133395        0.235390           0.362881  \n",
       "8.0               0.201939        0.336022           0.367635  \n",
       "9.0               0.275790        0.432344           0.370271  \n",
       "10.0              0.358412        0.527693           0.368858  \n",
       "11.0              0.431802        0.603159           0.368887  \n",
       "12.0              0.502423        0.668817           0.366970  \n",
       "13.0              0.575121        0.730256           0.363840  \n",
       "14.0              0.645511        0.784572           0.361903  \n",
       "15.0              0.706208        0.827810           0.357503  \n",
       "16.0              0.759289        0.863177           0.354920  \n",
       "17.0              0.804293        0.891532           0.351790  \n",
       "18.0              0.837757        0.911717           0.348805  \n",
       "19.0              0.870067        0.930520           0.345713  \n",
       "20.0              0.894069        0.944072           0.343379  "
      ]
     },
     "execution_count": 7,
     "metadata": {},
     "output_type": "execute_result"
    }
   ],
   "source": [
    "rec_col.train"
   ]
  },
  {
   "cell_type": "code",
   "execution_count": 8,
   "metadata": {},
   "outputs": [
    {
     "data": {
      "text/html": [
       "<div>\n",
       "<style scoped>\n",
       "    .dataframe tbody tr th:only-of-type {\n",
       "        vertical-align: middle;\n",
       "    }\n",
       "\n",
       "    .dataframe tbody tr th {\n",
       "        vertical-align: top;\n",
       "    }\n",
       "\n",
       "    .dataframe thead th {\n",
       "        text-align: right;\n",
       "    }\n",
       "</style>\n",
       "<table border=\"1\" class=\"dataframe\">\n",
       "  <thead>\n",
       "    <tr style=\"text-align: right;\">\n",
       "      <th></th>\n",
       "      <th>0.01*mean_unary_kl_loss</th>\n",
       "      <th>loss</th>\n",
       "      <th>mean_cond_kl_loss</th>\n",
       "      <th>metric_hard_accuracy</th>\n",
       "      <th>metric_hard_f1</th>\n",
       "      <th>metric_pearson_r</th>\n",
       "    </tr>\n",
       "  </thead>\n",
       "  <tbody>\n",
       "    <tr>\n",
       "      <th>0.0</th>\n",
       "      <td>0.000030</td>\n",
       "      <td>4.048131</td>\n",
       "      <td>4.048100</td>\n",
       "      <td>0.500000</td>\n",
       "      <td>NaN</td>\n",
       "      <td>-0.004201</td>\n",
       "    </tr>\n",
       "    <tr>\n",
       "      <th>1.0</th>\n",
       "      <td>0.000029</td>\n",
       "      <td>3.779072</td>\n",
       "      <td>3.779042</td>\n",
       "      <td>0.500000</td>\n",
       "      <td>NaN</td>\n",
       "      <td>0.139024</td>\n",
       "    </tr>\n",
       "    <tr>\n",
       "      <th>2.0</th>\n",
       "      <td>0.000028</td>\n",
       "      <td>3.493037</td>\n",
       "      <td>3.493009</td>\n",
       "      <td>0.500000</td>\n",
       "      <td>NaN</td>\n",
       "      <td>0.206030</td>\n",
       "    </tr>\n",
       "    <tr>\n",
       "      <th>3.0</th>\n",
       "      <td>0.000027</td>\n",
       "      <td>3.224127</td>\n",
       "      <td>3.224100</td>\n",
       "      <td>0.500000</td>\n",
       "      <td>NaN</td>\n",
       "      <td>0.219987</td>\n",
       "    </tr>\n",
       "    <tr>\n",
       "      <th>4.0</th>\n",
       "      <td>0.000027</td>\n",
       "      <td>2.982553</td>\n",
       "      <td>2.982526</td>\n",
       "      <td>0.500000</td>\n",
       "      <td>NaN</td>\n",
       "      <td>0.235346</td>\n",
       "    </tr>\n",
       "    <tr>\n",
       "      <th>5.0</th>\n",
       "      <td>0.000026</td>\n",
       "      <td>2.774221</td>\n",
       "      <td>2.774195</td>\n",
       "      <td>0.500459</td>\n",
       "      <td>0.001833</td>\n",
       "      <td>0.251156</td>\n",
       "    </tr>\n",
       "    <tr>\n",
       "      <th>6.0</th>\n",
       "      <td>0.000026</td>\n",
       "      <td>2.598428</td>\n",
       "      <td>2.598402</td>\n",
       "      <td>0.501835</td>\n",
       "      <td>0.009124</td>\n",
       "      <td>0.271093</td>\n",
       "    </tr>\n",
       "    <tr>\n",
       "      <th>7.0</th>\n",
       "      <td>0.000026</td>\n",
       "      <td>2.462819</td>\n",
       "      <td>2.462794</td>\n",
       "      <td>0.507339</td>\n",
       "      <td>0.032432</td>\n",
       "      <td>0.286270</td>\n",
       "    </tr>\n",
       "    <tr>\n",
       "      <th>8.0</th>\n",
       "      <td>0.000025</td>\n",
       "      <td>2.358990</td>\n",
       "      <td>2.358965</td>\n",
       "      <td>0.516514</td>\n",
       "      <td>0.072183</td>\n",
       "      <td>0.296494</td>\n",
       "    </tr>\n",
       "    <tr>\n",
       "      <th>9.0</th>\n",
       "      <td>0.000025</td>\n",
       "      <td>2.278745</td>\n",
       "      <td>2.278720</td>\n",
       "      <td>0.522936</td>\n",
       "      <td>0.097222</td>\n",
       "      <td>0.308827</td>\n",
       "    </tr>\n",
       "    <tr>\n",
       "      <th>10.0</th>\n",
       "      <td>0.000025</td>\n",
       "      <td>2.218349</td>\n",
       "      <td>2.218324</td>\n",
       "      <td>0.530734</td>\n",
       "      <td>0.127877</td>\n",
       "      <td>0.316910</td>\n",
       "    </tr>\n",
       "    <tr>\n",
       "      <th>11.0</th>\n",
       "      <td>0.000025</td>\n",
       "      <td>2.166595</td>\n",
       "      <td>2.166571</td>\n",
       "      <td>0.536697</td>\n",
       "      <td>0.151261</td>\n",
       "      <td>0.325137</td>\n",
       "    </tr>\n",
       "    <tr>\n",
       "      <th>12.0</th>\n",
       "      <td>0.000025</td>\n",
       "      <td>2.135867</td>\n",
       "      <td>2.135843</td>\n",
       "      <td>0.536697</td>\n",
       "      <td>0.155518</td>\n",
       "      <td>0.329746</td>\n",
       "    </tr>\n",
       "    <tr>\n",
       "      <th>13.0</th>\n",
       "      <td>0.000025</td>\n",
       "      <td>2.113173</td>\n",
       "      <td>2.113148</td>\n",
       "      <td>0.543578</td>\n",
       "      <td>0.179720</td>\n",
       "      <td>0.333258</td>\n",
       "    </tr>\n",
       "    <tr>\n",
       "      <th>14.0</th>\n",
       "      <td>0.000025</td>\n",
       "      <td>2.092490</td>\n",
       "      <td>2.092465</td>\n",
       "      <td>0.553211</td>\n",
       "      <td>0.210697</td>\n",
       "      <td>0.336455</td>\n",
       "    </tr>\n",
       "    <tr>\n",
       "      <th>15.0</th>\n",
       "      <td>0.000025</td>\n",
       "      <td>2.084325</td>\n",
       "      <td>2.084301</td>\n",
       "      <td>0.553211</td>\n",
       "      <td>0.214516</td>\n",
       "      <td>0.339877</td>\n",
       "    </tr>\n",
       "    <tr>\n",
       "      <th>16.0</th>\n",
       "      <td>0.000025</td>\n",
       "      <td>2.076204</td>\n",
       "      <td>2.076180</td>\n",
       "      <td>0.560550</td>\n",
       "      <td>0.238474</td>\n",
       "      <td>0.343287</td>\n",
       "    </tr>\n",
       "    <tr>\n",
       "      <th>17.0</th>\n",
       "      <td>0.000025</td>\n",
       "      <td>2.077541</td>\n",
       "      <td>2.077517</td>\n",
       "      <td>0.564220</td>\n",
       "      <td>0.253145</td>\n",
       "      <td>0.345980</td>\n",
       "    </tr>\n",
       "    <tr>\n",
       "      <th>18.0</th>\n",
       "      <td>0.000025</td>\n",
       "      <td>2.080467</td>\n",
       "      <td>2.080442</td>\n",
       "      <td>0.566055</td>\n",
       "      <td>0.256289</td>\n",
       "      <td>0.346982</td>\n",
       "    </tr>\n",
       "    <tr>\n",
       "      <th>19.0</th>\n",
       "      <td>0.000025</td>\n",
       "      <td>2.082769</td>\n",
       "      <td>2.082744</td>\n",
       "      <td>0.569725</td>\n",
       "      <td>0.267188</td>\n",
       "      <td>0.349343</td>\n",
       "    </tr>\n",
       "    <tr>\n",
       "      <th>20.0</th>\n",
       "      <td>0.000025</td>\n",
       "      <td>2.088990</td>\n",
       "      <td>2.088966</td>\n",
       "      <td>0.569725</td>\n",
       "      <td>0.263736</td>\n",
       "      <td>0.351553</td>\n",
       "    </tr>\n",
       "  </tbody>\n",
       "</table>\n",
       "</div>"
      ],
      "text/plain": [
       "      0.01*mean_unary_kl_loss      loss  mean_cond_kl_loss  \\\n",
       "0.0                  0.000030  4.048131           4.048100   \n",
       "1.0                  0.000029  3.779072           3.779042   \n",
       "2.0                  0.000028  3.493037           3.493009   \n",
       "3.0                  0.000027  3.224127           3.224100   \n",
       "4.0                  0.000027  2.982553           2.982526   \n",
       "5.0                  0.000026  2.774221           2.774195   \n",
       "6.0                  0.000026  2.598428           2.598402   \n",
       "7.0                  0.000026  2.462819           2.462794   \n",
       "8.0                  0.000025  2.358990           2.358965   \n",
       "9.0                  0.000025  2.278745           2.278720   \n",
       "10.0                 0.000025  2.218349           2.218324   \n",
       "11.0                 0.000025  2.166595           2.166571   \n",
       "12.0                 0.000025  2.135867           2.135843   \n",
       "13.0                 0.000025  2.113173           2.113148   \n",
       "14.0                 0.000025  2.092490           2.092465   \n",
       "15.0                 0.000025  2.084325           2.084301   \n",
       "16.0                 0.000025  2.076204           2.076180   \n",
       "17.0                 0.000025  2.077541           2.077517   \n",
       "18.0                 0.000025  2.080467           2.080442   \n",
       "19.0                 0.000025  2.082769           2.082744   \n",
       "20.0                 0.000025  2.088990           2.088966   \n",
       "\n",
       "      metric_hard_accuracy  metric_hard_f1  metric_pearson_r  \n",
       "0.0               0.500000             NaN         -0.004201  \n",
       "1.0               0.500000             NaN          0.139024  \n",
       "2.0               0.500000             NaN          0.206030  \n",
       "3.0               0.500000             NaN          0.219987  \n",
       "4.0               0.500000             NaN          0.235346  \n",
       "5.0               0.500459        0.001833          0.251156  \n",
       "6.0               0.501835        0.009124          0.271093  \n",
       "7.0               0.507339        0.032432          0.286270  \n",
       "8.0               0.516514        0.072183          0.296494  \n",
       "9.0               0.522936        0.097222          0.308827  \n",
       "10.0              0.530734        0.127877          0.316910  \n",
       "11.0              0.536697        0.151261          0.325137  \n",
       "12.0              0.536697        0.155518          0.329746  \n",
       "13.0              0.543578        0.179720          0.333258  \n",
       "14.0              0.553211        0.210697          0.336455  \n",
       "15.0              0.553211        0.214516          0.339877  \n",
       "16.0              0.560550        0.238474          0.343287  \n",
       "17.0              0.564220        0.253145          0.345980  \n",
       "18.0              0.566055        0.256289          0.346982  \n",
       "19.0              0.569725        0.267188          0.349343  \n",
       "20.0              0.569725        0.263736          0.351553  "
      ]
     },
     "execution_count": 8,
     "metadata": {},
     "output_type": "execute_result"
    }
   ],
   "source": [
    "rec_col.dev"
   ]
  },
  {
   "cell_type": "code",
   "execution_count": null,
   "metadata": {},
   "outputs": [],
   "source": []
  }
 ],
 "metadata": {
  "kernelspec": {
   "display_name": "Python 3",
   "language": "python",
   "name": "python3"
  },
  "language_info": {
   "codemirror_mode": {
    "name": "ipython",
    "version": 3
   },
   "file_extension": ".py",
   "mimetype": "text/x-python",
   "name": "python",
   "nbconvert_exporter": "python",
   "pygments_lexer": "ipython3",
   "version": "3.7.5"
  }
 },
 "nbformat": 4,
 "nbformat_minor": 4
}
