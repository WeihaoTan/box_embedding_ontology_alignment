{
 "cells": [
  {
   "cell_type": "code",
   "execution_count": 15,
   "metadata": {},
   "outputs": [
    {
     "name": "stdout",
     "output_type": "stream",
     "text": [
      "The autoreload extension is already loaded. To reload it, use:\n",
      "  %reload_ext autoreload\n"
     ]
    }
   ],
   "source": [
    "%load_ext autoreload\n",
    "%autoreload 2\n",
    "from boxes import *\n",
    "from learner import *\n",
    "import math"
   ]
  },
  {
   "cell_type": "code",
   "execution_count": 16,
   "metadata": {},
   "outputs": [],
   "source": [
    "PATH = '../data/ontologies/'\n",
    "# Data in unary.tsv are probabilites separated by newlines. The probability on line n is P(n), where n is the id assigned to the nth element.\n",
    "unary_prob = torch.from_numpy(np.loadtxt(f'{PATH}mouse_unary.tsv')).float().to(\"cuda\")\n",
    "num_boxes = unary_prob.shape[0]\n",
    "\n",
    "# We're going to use random negative sampling during training, so no need to include negatives in our training data itself\n",
    "train = Probs.load_from_julia(PATH, 'mouse_adj_tr_pos.tsv', 'mouse_adj_tr_neg.tsv', ratio_neg = 0).to(\"cuda\")\n",
    "\n",
    "# The dev set will have a fixed set of negatives, however.\n",
    "dev = Probs.load_from_julia(PATH, 'mouse_adj_dev_pos.tsv', 'mouse_adj_dev_neg.tsv', ratio_neg = 1).to(\"cuda\")"
   ]
  },
  {
   "cell_type": "code",
   "execution_count": 23,
   "metadata": {},
   "outputs": [],
   "source": [
    "box_model = BoxModel(\n",
    "    BoxParamType=MinMaxSigmoidBoxes,\n",
    "    vol_func=soft_volume,\n",
    "    num_models=1,\n",
    "    num_boxes=num_boxes,\n",
    "    dims=75,\n",
    "    method=\"orig\").to(\"cuda\")\n",
    "\n",
    "train_dl = TensorDataLoader(train, batch_size=2**6, shuffle=True)\n",
    "\n",
    "opt = torch.optim.Adam(box_model.parameters(), lr=1e-2)"
   ]
  },
  {
   "cell_type": "code",
   "execution_count": 24,
   "metadata": {},
   "outputs": [],
   "source": [
    "def mean_cond_kl_loss(model_out: ModelOutput, target: Tensor, eps: float = torch.finfo(torch.float32).tiny) -> Tensor:\n",
    "    return kl_div_sym(model_out[\"P(A|B)\"], target, eps).mean()\n",
    "\n",
    "# See boxes/loss_functions.py file for more options. Note that you may have to changed them to fit your use case.\n",
    "# Also note that \"kl_div_sym\" is just binary cross-entropy."
   ]
  },
  {
   "cell_type": "code",
   "execution_count": 25,
   "metadata": {},
   "outputs": [],
   "source": [
    "# For this dataset we had unary probabilities as well as conditional probabilities. Our loss function will be a sum of these, which is provided by the following loss function wrapper:\n",
    "loss_func = LossPieces(mean_cond_kl_loss, (1e-2, mean_unary_kl_loss(unary_prob)))\n",
    "\n",
    "metrics = [metric_hard_accuracy, metric_hard_f1]\n",
    "\n",
    "rec_col = RecorderCollection()\n",
    "\n",
    "callbacks = CallbackCollection(\n",
    "    LossCallback(rec_col.train, train),\n",
    "    LossCallback(rec_col.dev, dev),\n",
    "    *(MetricCallback(rec_col.dev, dev, m) for m in metrics),\n",
    "    *(MetricCallback(rec_col.train, train, m) for m in metrics),\n",
    "    MetricCallback(rec_col.dev, dev, metric_pearson_r),\n",
    "    MetricCallback(rec_col.train, dev, metric_spearman_r),\n",
    "    PercentIncreaseEarlyStopping(rec_col.dev, \"mean_cond_kl_loss\", 0.25, 10),\n",
    "    PercentIncreaseEarlyStopping(rec_col.dev, \"mean_cond_kl_loss\", 0.5),\n",
    "#     GradientClipping(-1000,1000),\n",
    "    RandomNegativeSampling(num_boxes, 1),\n",
    "    StopIfNaN(),\n",
    ")\n",
    "\n",
    "l = Learner(train_dl, box_model, loss_func, opt, callbacks, recorder = rec_col.learn)"
   ]
  },
  {
   "cell_type": "code",
   "execution_count": 26,
   "metadata": {},
   "outputs": [
    {
     "data": {
      "application/vnd.jupyter.widget-view+json": {
       "model_id": "cba09baef2814b9b96fab689fd7cd373",
       "version_major": 2,
       "version_minor": 0
      },
      "text/plain": [
       "HBox(children=(IntProgress(value=0, description='Overall Training:', max=20, style=ProgressStyle(description_w…"
      ]
     },
     "metadata": {},
     "output_type": "display_data"
    },
    {
     "data": {
      "application/vnd.jupyter.widget-view+json": {
       "model_id": "",
       "version_major": 2,
       "version_minor": 0
      },
      "text/plain": [
       "HBox(children=(IntProgress(value=0, description='Current Batch:', max=43, style=ProgressStyle(description_widt…"
      ]
     },
     "metadata": {},
     "output_type": "display_data"
    },
    {
     "data": {
      "application/vnd.jupyter.widget-view+json": {
       "model_id": "",
       "version_major": 2,
       "version_minor": 0
      },
      "text/plain": [
       "HBox(children=(IntProgress(value=0, description='Current Batch:', max=43, style=ProgressStyle(description_widt…"
      ]
     },
     "metadata": {},
     "output_type": "display_data"
    },
    {
     "data": {
      "application/vnd.jupyter.widget-view+json": {
       "model_id": "",
       "version_major": 2,
       "version_minor": 0
      },
      "text/plain": [
       "HBox(children=(IntProgress(value=0, description='Current Batch:', max=43, style=ProgressStyle(description_widt…"
      ]
     },
     "metadata": {},
     "output_type": "display_data"
    },
    {
     "data": {
      "application/vnd.jupyter.widget-view+json": {
       "model_id": "",
       "version_major": 2,
       "version_minor": 0
      },
      "text/plain": [
       "HBox(children=(IntProgress(value=0, description='Current Batch:', max=43, style=ProgressStyle(description_widt…"
      ]
     },
     "metadata": {},
     "output_type": "display_data"
    },
    {
     "data": {
      "application/vnd.jupyter.widget-view+json": {
       "model_id": "",
       "version_major": 2,
       "version_minor": 0
      },
      "text/plain": [
       "HBox(children=(IntProgress(value=0, description='Current Batch:', max=43, style=ProgressStyle(description_widt…"
      ]
     },
     "metadata": {},
     "output_type": "display_data"
    },
    {
     "data": {
      "application/vnd.jupyter.widget-view+json": {
       "model_id": "",
       "version_major": 2,
       "version_minor": 0
      },
      "text/plain": [
       "HBox(children=(IntProgress(value=0, description='Current Batch:', max=43, style=ProgressStyle(description_widt…"
      ]
     },
     "metadata": {},
     "output_type": "display_data"
    },
    {
     "data": {
      "application/vnd.jupyter.widget-view+json": {
       "model_id": "",
       "version_major": 2,
       "version_minor": 0
      },
      "text/plain": [
       "HBox(children=(IntProgress(value=0, description='Current Batch:', max=43, style=ProgressStyle(description_widt…"
      ]
     },
     "metadata": {},
     "output_type": "display_data"
    },
    {
     "data": {
      "application/vnd.jupyter.widget-view+json": {
       "model_id": "",
       "version_major": 2,
       "version_minor": 0
      },
      "text/plain": [
       "HBox(children=(IntProgress(value=0, description='Current Batch:', max=43, style=ProgressStyle(description_widt…"
      ]
     },
     "metadata": {},
     "output_type": "display_data"
    },
    {
     "data": {
      "application/vnd.jupyter.widget-view+json": {
       "model_id": "",
       "version_major": 2,
       "version_minor": 0
      },
      "text/plain": [
       "HBox(children=(IntProgress(value=0, description='Current Batch:', max=43, style=ProgressStyle(description_widt…"
      ]
     },
     "metadata": {},
     "output_type": "display_data"
    },
    {
     "data": {
      "application/vnd.jupyter.widget-view+json": {
       "model_id": "",
       "version_major": 2,
       "version_minor": 0
      },
      "text/plain": [
       "HBox(children=(IntProgress(value=0, description='Current Batch:', max=43, style=ProgressStyle(description_widt…"
      ]
     },
     "metadata": {},
     "output_type": "display_data"
    },
    {
     "data": {
      "application/vnd.jupyter.widget-view+json": {
       "model_id": "",
       "version_major": 2,
       "version_minor": 0
      },
      "text/plain": [
       "HBox(children=(IntProgress(value=0, description='Current Batch:', max=43, style=ProgressStyle(description_widt…"
      ]
     },
     "metadata": {},
     "output_type": "display_data"
    },
    {
     "data": {
      "application/vnd.jupyter.widget-view+json": {
       "model_id": "",
       "version_major": 2,
       "version_minor": 0
      },
      "text/plain": [
       "HBox(children=(IntProgress(value=0, description='Current Batch:', max=43, style=ProgressStyle(description_widt…"
      ]
     },
     "metadata": {},
     "output_type": "display_data"
    },
    {
     "data": {
      "application/vnd.jupyter.widget-view+json": {
       "model_id": "",
       "version_major": 2,
       "version_minor": 0
      },
      "text/plain": [
       "HBox(children=(IntProgress(value=0, description='Current Batch:', max=43, style=ProgressStyle(description_widt…"
      ]
     },
     "metadata": {},
     "output_type": "display_data"
    },
    {
     "data": {
      "application/vnd.jupyter.widget-view+json": {
       "model_id": "",
       "version_major": 2,
       "version_minor": 0
      },
      "text/plain": [
       "HBox(children=(IntProgress(value=0, description='Current Batch:', max=43, style=ProgressStyle(description_widt…"
      ]
     },
     "metadata": {},
     "output_type": "display_data"
    },
    {
     "data": {
      "application/vnd.jupyter.widget-view+json": {
       "model_id": "",
       "version_major": 2,
       "version_minor": 0
      },
      "text/plain": [
       "HBox(children=(IntProgress(value=0, description='Current Batch:', max=43, style=ProgressStyle(description_widt…"
      ]
     },
     "metadata": {},
     "output_type": "display_data"
    },
    {
     "data": {
      "application/vnd.jupyter.widget-view+json": {
       "model_id": "",
       "version_major": 2,
       "version_minor": 0
      },
      "text/plain": [
       "HBox(children=(IntProgress(value=0, description='Current Batch:', max=43, style=ProgressStyle(description_widt…"
      ]
     },
     "metadata": {},
     "output_type": "display_data"
    },
    {
     "data": {
      "application/vnd.jupyter.widget-view+json": {
       "model_id": "",
       "version_major": 2,
       "version_minor": 0
      },
      "text/plain": [
       "HBox(children=(IntProgress(value=0, description='Current Batch:', max=43, style=ProgressStyle(description_widt…"
      ]
     },
     "metadata": {},
     "output_type": "display_data"
    },
    {
     "data": {
      "application/vnd.jupyter.widget-view+json": {
       "model_id": "",
       "version_major": 2,
       "version_minor": 0
      },
      "text/plain": [
       "HBox(children=(IntProgress(value=0, description='Current Batch:', max=43, style=ProgressStyle(description_widt…"
      ]
     },
     "metadata": {},
     "output_type": "display_data"
    },
    {
     "data": {
      "application/vnd.jupyter.widget-view+json": {
       "model_id": "",
       "version_major": 2,
       "version_minor": 0
      },
      "text/plain": [
       "HBox(children=(IntProgress(value=0, description='Current Batch:', max=43, style=ProgressStyle(description_widt…"
      ]
     },
     "metadata": {},
     "output_type": "display_data"
    },
    {
     "data": {
      "application/vnd.jupyter.widget-view+json": {
       "model_id": "",
       "version_major": 2,
       "version_minor": 0
      },
      "text/plain": [
       "HBox(children=(IntProgress(value=0, description='Current Batch:', max=43, style=ProgressStyle(description_widt…"
      ]
     },
     "metadata": {},
     "output_type": "display_data"
    },
    {
     "name": "stdout",
     "output_type": "stream",
     "text": [
      "\n"
     ]
    }
   ],
   "source": [
    "l.train(20)"
   ]
  },
  {
   "cell_type": "code",
   "execution_count": 27,
   "metadata": {},
   "outputs": [
    {
     "data": {
      "text/html": [
       "<div>\n",
       "<style scoped>\n",
       "    .dataframe tbody tr th:only-of-type {\n",
       "        vertical-align: middle;\n",
       "    }\n",
       "\n",
       "    .dataframe tbody tr th {\n",
       "        vertical-align: top;\n",
       "    }\n",
       "\n",
       "    .dataframe thead th {\n",
       "        text-align: right;\n",
       "    }\n",
       "</style>\n",
       "<table border=\"1\" class=\"dataframe\">\n",
       "  <thead>\n",
       "    <tr style=\"text-align: right;\">\n",
       "      <th></th>\n",
       "      <th>0.01*mean_unary_kl_loss</th>\n",
       "      <th>loss</th>\n",
       "      <th>mean_cond_kl_loss</th>\n",
       "      <th>metric_hard_accuracy</th>\n",
       "      <th>metric_hard_f1</th>\n",
       "      <th>metric_spearman_r</th>\n",
       "    </tr>\n",
       "  </thead>\n",
       "  <tbody>\n",
       "    <tr>\n",
       "      <th>0.0</th>\n",
       "      <td>0.000053</td>\n",
       "      <td>9.759809</td>\n",
       "      <td>9.759756</td>\n",
       "      <td>0.000000</td>\n",
       "      <td>NaN</td>\n",
       "      <td>0.047735</td>\n",
       "    </tr>\n",
       "    <tr>\n",
       "      <th>1.0</th>\n",
       "      <td>0.000051</td>\n",
       "      <td>8.856616</td>\n",
       "      <td>8.856565</td>\n",
       "      <td>0.000000</td>\n",
       "      <td>NaN</td>\n",
       "      <td>0.107965</td>\n",
       "    </tr>\n",
       "    <tr>\n",
       "      <th>2.0</th>\n",
       "      <td>0.000050</td>\n",
       "      <td>7.874654</td>\n",
       "      <td>7.874604</td>\n",
       "      <td>0.000000</td>\n",
       "      <td>NaN</td>\n",
       "      <td>0.125365</td>\n",
       "    </tr>\n",
       "    <tr>\n",
       "      <th>3.0</th>\n",
       "      <td>0.000049</td>\n",
       "      <td>6.948559</td>\n",
       "      <td>6.948510</td>\n",
       "      <td>0.000000</td>\n",
       "      <td>NaN</td>\n",
       "      <td>0.119864</td>\n",
       "    </tr>\n",
       "    <tr>\n",
       "      <th>4.0</th>\n",
       "      <td>0.000049</td>\n",
       "      <td>6.097200</td>\n",
       "      <td>6.097152</td>\n",
       "      <td>0.000000</td>\n",
       "      <td>NaN</td>\n",
       "      <td>0.113542</td>\n",
       "    </tr>\n",
       "    <tr>\n",
       "      <th>5.0</th>\n",
       "      <td>0.000048</td>\n",
       "      <td>5.330537</td>\n",
       "      <td>5.330489</td>\n",
       "      <td>0.000000</td>\n",
       "      <td>NaN</td>\n",
       "      <td>0.109052</td>\n",
       "    </tr>\n",
       "    <tr>\n",
       "      <th>6.0</th>\n",
       "      <td>0.000047</td>\n",
       "      <td>4.649946</td>\n",
       "      <td>4.649899</td>\n",
       "      <td>0.005492</td>\n",
       "      <td>0.010925</td>\n",
       "      <td>0.106832</td>\n",
       "    </tr>\n",
       "    <tr>\n",
       "      <th>7.0</th>\n",
       "      <td>0.000047</td>\n",
       "      <td>4.046620</td>\n",
       "      <td>4.046574</td>\n",
       "      <td>0.047602</td>\n",
       "      <td>0.090877</td>\n",
       "      <td>0.112718</td>\n",
       "    </tr>\n",
       "    <tr>\n",
       "      <th>8.0</th>\n",
       "      <td>0.000046</td>\n",
       "      <td>3.512738</td>\n",
       "      <td>3.512691</td>\n",
       "      <td>0.093006</td>\n",
       "      <td>0.170184</td>\n",
       "      <td>0.115774</td>\n",
       "    </tr>\n",
       "    <tr>\n",
       "      <th>9.0</th>\n",
       "      <td>0.000046</td>\n",
       "      <td>3.045454</td>\n",
       "      <td>3.045408</td>\n",
       "      <td>0.113512</td>\n",
       "      <td>0.203880</td>\n",
       "      <td>0.120169</td>\n",
       "    </tr>\n",
       "    <tr>\n",
       "      <th>10.0</th>\n",
       "      <td>0.000046</td>\n",
       "      <td>2.631469</td>\n",
       "      <td>2.631423</td>\n",
       "      <td>0.130355</td>\n",
       "      <td>0.230645</td>\n",
       "      <td>0.127287</td>\n",
       "    </tr>\n",
       "    <tr>\n",
       "      <th>11.0</th>\n",
       "      <td>0.000046</td>\n",
       "      <td>2.263200</td>\n",
       "      <td>2.263154</td>\n",
       "      <td>0.153424</td>\n",
       "      <td>0.266032</td>\n",
       "      <td>0.130438</td>\n",
       "    </tr>\n",
       "    <tr>\n",
       "      <th>12.0</th>\n",
       "      <td>0.000046</td>\n",
       "      <td>1.943892</td>\n",
       "      <td>1.943846</td>\n",
       "      <td>0.190040</td>\n",
       "      <td>0.319385</td>\n",
       "      <td>0.133552</td>\n",
       "    </tr>\n",
       "    <tr>\n",
       "      <th>13.0</th>\n",
       "      <td>0.000046</td>\n",
       "      <td>1.665457</td>\n",
       "      <td>1.665412</td>\n",
       "      <td>0.239839</td>\n",
       "      <td>0.386887</td>\n",
       "      <td>0.137062</td>\n",
       "    </tr>\n",
       "    <tr>\n",
       "      <th>14.0</th>\n",
       "      <td>0.000046</td>\n",
       "      <td>1.427187</td>\n",
       "      <td>1.427142</td>\n",
       "      <td>0.302819</td>\n",
       "      <td>0.464868</td>\n",
       "      <td>0.137014</td>\n",
       "    </tr>\n",
       "    <tr>\n",
       "      <th>15.0</th>\n",
       "      <td>0.000046</td>\n",
       "      <td>1.221000</td>\n",
       "      <td>1.220954</td>\n",
       "      <td>0.369462</td>\n",
       "      <td>0.539572</td>\n",
       "      <td>0.137978</td>\n",
       "    </tr>\n",
       "    <tr>\n",
       "      <th>16.0</th>\n",
       "      <td>0.000046</td>\n",
       "      <td>1.045068</td>\n",
       "      <td>1.045022</td>\n",
       "      <td>0.441230</td>\n",
       "      <td>0.612297</td>\n",
       "      <td>0.138329</td>\n",
       "    </tr>\n",
       "    <tr>\n",
       "      <th>17.0</th>\n",
       "      <td>0.000046</td>\n",
       "      <td>0.896632</td>\n",
       "      <td>0.896587</td>\n",
       "      <td>0.514097</td>\n",
       "      <td>0.679081</td>\n",
       "      <td>0.137196</td>\n",
       "    </tr>\n",
       "    <tr>\n",
       "      <th>18.0</th>\n",
       "      <td>0.000046</td>\n",
       "      <td>0.771281</td>\n",
       "      <td>0.771235</td>\n",
       "      <td>0.603442</td>\n",
       "      <td>0.752683</td>\n",
       "      <td>0.134499</td>\n",
       "    </tr>\n",
       "    <tr>\n",
       "      <th>19.0</th>\n",
       "      <td>0.000046</td>\n",
       "      <td>0.664871</td>\n",
       "      <td>0.664825</td>\n",
       "      <td>0.678140</td>\n",
       "      <td>0.808204</td>\n",
       "      <td>0.130486</td>\n",
       "    </tr>\n",
       "    <tr>\n",
       "      <th>20.0</th>\n",
       "      <td>0.000046</td>\n",
       "      <td>0.573888</td>\n",
       "      <td>0.573842</td>\n",
       "      <td>0.747345</td>\n",
       "      <td>0.855407</td>\n",
       "      <td>0.127658</td>\n",
       "    </tr>\n",
       "  </tbody>\n",
       "</table>\n",
       "</div>"
      ],
      "text/plain": [
       "      0.01*mean_unary_kl_loss      loss  mean_cond_kl_loss  \\\n",
       "0.0                  0.000053  9.759809           9.759756   \n",
       "1.0                  0.000051  8.856616           8.856565   \n",
       "2.0                  0.000050  7.874654           7.874604   \n",
       "3.0                  0.000049  6.948559           6.948510   \n",
       "4.0                  0.000049  6.097200           6.097152   \n",
       "5.0                  0.000048  5.330537           5.330489   \n",
       "6.0                  0.000047  4.649946           4.649899   \n",
       "7.0                  0.000047  4.046620           4.046574   \n",
       "8.0                  0.000046  3.512738           3.512691   \n",
       "9.0                  0.000046  3.045454           3.045408   \n",
       "10.0                 0.000046  2.631469           2.631423   \n",
       "11.0                 0.000046  2.263200           2.263154   \n",
       "12.0                 0.000046  1.943892           1.943846   \n",
       "13.0                 0.000046  1.665457           1.665412   \n",
       "14.0                 0.000046  1.427187           1.427142   \n",
       "15.0                 0.000046  1.221000           1.220954   \n",
       "16.0                 0.000046  1.045068           1.045022   \n",
       "17.0                 0.000046  0.896632           0.896587   \n",
       "18.0                 0.000046  0.771281           0.771235   \n",
       "19.0                 0.000046  0.664871           0.664825   \n",
       "20.0                 0.000046  0.573888           0.573842   \n",
       "\n",
       "      metric_hard_accuracy  metric_hard_f1  metric_spearman_r  \n",
       "0.0               0.000000             NaN           0.047735  \n",
       "1.0               0.000000             NaN           0.107965  \n",
       "2.0               0.000000             NaN           0.125365  \n",
       "3.0               0.000000             NaN           0.119864  \n",
       "4.0               0.000000             NaN           0.113542  \n",
       "5.0               0.000000             NaN           0.109052  \n",
       "6.0               0.005492        0.010925           0.106832  \n",
       "7.0               0.047602        0.090877           0.112718  \n",
       "8.0               0.093006        0.170184           0.115774  \n",
       "9.0               0.113512        0.203880           0.120169  \n",
       "10.0              0.130355        0.230645           0.127287  \n",
       "11.0              0.153424        0.266032           0.130438  \n",
       "12.0              0.190040        0.319385           0.133552  \n",
       "13.0              0.239839        0.386887           0.137062  \n",
       "14.0              0.302819        0.464868           0.137014  \n",
       "15.0              0.369462        0.539572           0.137978  \n",
       "16.0              0.441230        0.612297           0.138329  \n",
       "17.0              0.514097        0.679081           0.137196  \n",
       "18.0              0.603442        0.752683           0.134499  \n",
       "19.0              0.678140        0.808204           0.130486  \n",
       "20.0              0.747345        0.855407           0.127658  "
      ]
     },
     "execution_count": 27,
     "metadata": {},
     "output_type": "execute_result"
    }
   ],
   "source": [
    "rec_col.train"
   ]
  },
  {
   "cell_type": "code",
   "execution_count": 28,
   "metadata": {},
   "outputs": [
    {
     "data": {
      "text/html": [
       "<div>\n",
       "<style scoped>\n",
       "    .dataframe tbody tr th:only-of-type {\n",
       "        vertical-align: middle;\n",
       "    }\n",
       "\n",
       "    .dataframe tbody tr th {\n",
       "        vertical-align: top;\n",
       "    }\n",
       "\n",
       "    .dataframe thead th {\n",
       "        text-align: right;\n",
       "    }\n",
       "</style>\n",
       "<table border=\"1\" class=\"dataframe\">\n",
       "  <thead>\n",
       "    <tr style=\"text-align: right;\">\n",
       "      <th></th>\n",
       "      <th>0.01*mean_unary_kl_loss</th>\n",
       "      <th>loss</th>\n",
       "      <th>mean_cond_kl_loss</th>\n",
       "      <th>metric_hard_accuracy</th>\n",
       "      <th>metric_hard_f1</th>\n",
       "      <th>metric_pearson_r</th>\n",
       "    </tr>\n",
       "  </thead>\n",
       "  <tbody>\n",
       "    <tr>\n",
       "      <th>0.0</th>\n",
       "      <td>0.000053</td>\n",
       "      <td>4.860791</td>\n",
       "      <td>4.860738</td>\n",
       "      <td>0.500000</td>\n",
       "      <td>NaN</td>\n",
       "      <td>0.024612</td>\n",
       "    </tr>\n",
       "    <tr>\n",
       "      <th>1.0</th>\n",
       "      <td>0.000051</td>\n",
       "      <td>4.678537</td>\n",
       "      <td>4.678485</td>\n",
       "      <td>0.500000</td>\n",
       "      <td>NaN</td>\n",
       "      <td>0.120056</td>\n",
       "    </tr>\n",
       "    <tr>\n",
       "      <th>2.0</th>\n",
       "      <td>0.000050</td>\n",
       "      <td>4.496689</td>\n",
       "      <td>4.496638</td>\n",
       "      <td>0.500000</td>\n",
       "      <td>NaN</td>\n",
       "      <td>0.163623</td>\n",
       "    </tr>\n",
       "    <tr>\n",
       "      <th>3.0</th>\n",
       "      <td>0.000049</td>\n",
       "      <td>4.325918</td>\n",
       "      <td>4.325869</td>\n",
       "      <td>0.500000</td>\n",
       "      <td>NaN</td>\n",
       "      <td>0.176754</td>\n",
       "    </tr>\n",
       "    <tr>\n",
       "      <th>4.0</th>\n",
       "      <td>0.000049</td>\n",
       "      <td>4.177110</td>\n",
       "      <td>4.177062</td>\n",
       "      <td>0.500000</td>\n",
       "      <td>NaN</td>\n",
       "      <td>0.178708</td>\n",
       "    </tr>\n",
       "    <tr>\n",
       "      <th>5.0</th>\n",
       "      <td>0.000048</td>\n",
       "      <td>4.055986</td>\n",
       "      <td>4.055938</td>\n",
       "      <td>0.500000</td>\n",
       "      <td>NaN</td>\n",
       "      <td>0.178014</td>\n",
       "    </tr>\n",
       "    <tr>\n",
       "      <th>6.0</th>\n",
       "      <td>0.000047</td>\n",
       "      <td>3.962523</td>\n",
       "      <td>3.962476</td>\n",
       "      <td>0.500000</td>\n",
       "      <td>NaN</td>\n",
       "      <td>0.186494</td>\n",
       "    </tr>\n",
       "    <tr>\n",
       "      <th>7.0</th>\n",
       "      <td>0.000047</td>\n",
       "      <td>3.875570</td>\n",
       "      <td>3.875524</td>\n",
       "      <td>0.500701</td>\n",
       "      <td>0.002801</td>\n",
       "      <td>0.189883</td>\n",
       "    </tr>\n",
       "    <tr>\n",
       "      <th>8.0</th>\n",
       "      <td>0.000046</td>\n",
       "      <td>3.811825</td>\n",
       "      <td>3.811778</td>\n",
       "      <td>0.500701</td>\n",
       "      <td>0.002801</td>\n",
       "      <td>0.191558</td>\n",
       "    </tr>\n",
       "    <tr>\n",
       "      <th>9.0</th>\n",
       "      <td>0.000046</td>\n",
       "      <td>3.773464</td>\n",
       "      <td>3.773418</td>\n",
       "      <td>0.500701</td>\n",
       "      <td>0.002801</td>\n",
       "      <td>0.195844</td>\n",
       "    </tr>\n",
       "    <tr>\n",
       "      <th>10.0</th>\n",
       "      <td>0.000046</td>\n",
       "      <td>3.730722</td>\n",
       "      <td>3.730676</td>\n",
       "      <td>0.500701</td>\n",
       "      <td>0.002801</td>\n",
       "      <td>0.200912</td>\n",
       "    </tr>\n",
       "    <tr>\n",
       "      <th>11.0</th>\n",
       "      <td>0.000046</td>\n",
       "      <td>3.693030</td>\n",
       "      <td>3.692984</td>\n",
       "      <td>0.500701</td>\n",
       "      <td>0.002801</td>\n",
       "      <td>0.191948</td>\n",
       "    </tr>\n",
       "    <tr>\n",
       "      <th>12.0</th>\n",
       "      <td>0.000046</td>\n",
       "      <td>3.667333</td>\n",
       "      <td>3.667287</td>\n",
       "      <td>0.500701</td>\n",
       "      <td>0.002801</td>\n",
       "      <td>0.183955</td>\n",
       "    </tr>\n",
       "    <tr>\n",
       "      <th>13.0</th>\n",
       "      <td>0.000046</td>\n",
       "      <td>3.645250</td>\n",
       "      <td>3.645204</td>\n",
       "      <td>0.500701</td>\n",
       "      <td>0.002801</td>\n",
       "      <td>0.170493</td>\n",
       "    </tr>\n",
       "    <tr>\n",
       "      <th>14.0</th>\n",
       "      <td>0.000046</td>\n",
       "      <td>3.628618</td>\n",
       "      <td>3.628572</td>\n",
       "      <td>0.500000</td>\n",
       "      <td>0.002797</td>\n",
       "      <td>0.162825</td>\n",
       "    </tr>\n",
       "    <tr>\n",
       "      <th>15.0</th>\n",
       "      <td>0.000046</td>\n",
       "      <td>3.618118</td>\n",
       "      <td>3.618073</td>\n",
       "      <td>0.500000</td>\n",
       "      <td>0.011096</td>\n",
       "      <td>0.159177</td>\n",
       "    </tr>\n",
       "    <tr>\n",
       "      <th>16.0</th>\n",
       "      <td>0.000046</td>\n",
       "      <td>3.608731</td>\n",
       "      <td>3.608685</td>\n",
       "      <td>0.500000</td>\n",
       "      <td>0.016552</td>\n",
       "      <td>0.155925</td>\n",
       "    </tr>\n",
       "    <tr>\n",
       "      <th>17.0</th>\n",
       "      <td>0.000046</td>\n",
       "      <td>3.614196</td>\n",
       "      <td>3.614150</td>\n",
       "      <td>0.500701</td>\n",
       "      <td>0.019284</td>\n",
       "      <td>0.155102</td>\n",
       "    </tr>\n",
       "    <tr>\n",
       "      <th>18.0</th>\n",
       "      <td>0.000046</td>\n",
       "      <td>3.623873</td>\n",
       "      <td>3.623827</td>\n",
       "      <td>0.502805</td>\n",
       "      <td>0.027435</td>\n",
       "      <td>0.154030</td>\n",
       "    </tr>\n",
       "    <tr>\n",
       "      <th>19.0</th>\n",
       "      <td>0.000046</td>\n",
       "      <td>3.642478</td>\n",
       "      <td>3.642431</td>\n",
       "      <td>0.505610</td>\n",
       "      <td>0.035568</td>\n",
       "      <td>0.152706</td>\n",
       "    </tr>\n",
       "    <tr>\n",
       "      <th>20.0</th>\n",
       "      <td>0.000046</td>\n",
       "      <td>3.662295</td>\n",
       "      <td>3.662249</td>\n",
       "      <td>0.508415</td>\n",
       "      <td>0.048847</td>\n",
       "      <td>0.149870</td>\n",
       "    </tr>\n",
       "  </tbody>\n",
       "</table>\n",
       "</div>"
      ],
      "text/plain": [
       "      0.01*mean_unary_kl_loss      loss  mean_cond_kl_loss  \\\n",
       "0.0                  0.000053  4.860791           4.860738   \n",
       "1.0                  0.000051  4.678537           4.678485   \n",
       "2.0                  0.000050  4.496689           4.496638   \n",
       "3.0                  0.000049  4.325918           4.325869   \n",
       "4.0                  0.000049  4.177110           4.177062   \n",
       "5.0                  0.000048  4.055986           4.055938   \n",
       "6.0                  0.000047  3.962523           3.962476   \n",
       "7.0                  0.000047  3.875570           3.875524   \n",
       "8.0                  0.000046  3.811825           3.811778   \n",
       "9.0                  0.000046  3.773464           3.773418   \n",
       "10.0                 0.000046  3.730722           3.730676   \n",
       "11.0                 0.000046  3.693030           3.692984   \n",
       "12.0                 0.000046  3.667333           3.667287   \n",
       "13.0                 0.000046  3.645250           3.645204   \n",
       "14.0                 0.000046  3.628618           3.628572   \n",
       "15.0                 0.000046  3.618118           3.618073   \n",
       "16.0                 0.000046  3.608731           3.608685   \n",
       "17.0                 0.000046  3.614196           3.614150   \n",
       "18.0                 0.000046  3.623873           3.623827   \n",
       "19.0                 0.000046  3.642478           3.642431   \n",
       "20.0                 0.000046  3.662295           3.662249   \n",
       "\n",
       "      metric_hard_accuracy  metric_hard_f1  metric_pearson_r  \n",
       "0.0               0.500000             NaN          0.024612  \n",
       "1.0               0.500000             NaN          0.120056  \n",
       "2.0               0.500000             NaN          0.163623  \n",
       "3.0               0.500000             NaN          0.176754  \n",
       "4.0               0.500000             NaN          0.178708  \n",
       "5.0               0.500000             NaN          0.178014  \n",
       "6.0               0.500000             NaN          0.186494  \n",
       "7.0               0.500701        0.002801          0.189883  \n",
       "8.0               0.500701        0.002801          0.191558  \n",
       "9.0               0.500701        0.002801          0.195844  \n",
       "10.0              0.500701        0.002801          0.200912  \n",
       "11.0              0.500701        0.002801          0.191948  \n",
       "12.0              0.500701        0.002801          0.183955  \n",
       "13.0              0.500701        0.002801          0.170493  \n",
       "14.0              0.500000        0.002797          0.162825  \n",
       "15.0              0.500000        0.011096          0.159177  \n",
       "16.0              0.500000        0.016552          0.155925  \n",
       "17.0              0.500701        0.019284          0.155102  \n",
       "18.0              0.502805        0.027435          0.154030  \n",
       "19.0              0.505610        0.035568          0.152706  \n",
       "20.0              0.508415        0.048847          0.149870  "
      ]
     },
     "execution_count": 28,
     "metadata": {},
     "output_type": "execute_result"
    }
   ],
   "source": [
    "rec_col.dev"
   ]
  },
  {
   "cell_type": "code",
   "execution_count": null,
   "metadata": {},
   "outputs": [],
   "source": []
  }
 ],
 "metadata": {
  "kernelspec": {
   "display_name": "Python 3",
   "language": "python",
   "name": "python3"
  },
  "language_info": {
   "codemirror_mode": {
    "name": "ipython",
    "version": 3
   },
   "file_extension": ".py",
   "mimetype": "text/x-python",
   "name": "python",
   "nbconvert_exporter": "python",
   "pygments_lexer": "ipython3",
   "version": "3.7.4"
  }
 },
 "nbformat": 4,
 "nbformat_minor": 4
}
