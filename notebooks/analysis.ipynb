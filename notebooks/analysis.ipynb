{
 "cells": [
  {
   "cell_type": "code",
   "execution_count": 6,
   "metadata": {},
   "outputs": [],
   "source": [
    "import numpy as np\n",
    "import pickle\n",
    "\n",
    "from boxes import *\n",
    "from learner import *"
   ]
  },
  {
   "cell_type": "markdown",
   "metadata": {},
   "source": [
    "### Load ontology data"
   ]
  },
  {
   "cell_type": "code",
   "execution_count": 7,
   "metadata": {},
   "outputs": [],
   "source": [
    "PATH = \"../data/ontologies/anatomy/\"\n",
    "\n",
    "with open(f'{PATH}human.pickle', 'rb') as handle:\n",
    "    human = pickle.load(handle)\n",
    "    \n",
    "with open(f'{PATH}mouse.pickle', 'rb') as handle:\n",
    "    mouse = pickle.load(handle)\n",
    "\n",
    "with open(f'{PATH}entities.pickle', 'rb') as handle:\n",
    "    entities = pickle.load(handle)"
   ]
  },
  {
   "cell_type": "code",
   "execution_count": 8,
   "metadata": {},
   "outputs": [],
   "source": [
    "ats = 0.8\n",
    "\n",
    "unary_prob = torch.from_numpy(np.loadtxt(f'{PATH}unary/unary.tsv')).float().to(\"cpu\")\n",
    "num_boxes = unary_prob.shape[0]\n",
    "\n",
    "PATH = \"../data/ontologies/anatomy/subset/\"\n",
    "# Model was trained on the following data set: \n",
    "train = Probs.load_from_julia(PATH, f'tr_pos_{ats}.tsv', f'tr_neg_{ats}.tsv', ratio_neg = 0).to(\"cpu\")\n",
    "\n",
    "# Model was evaluated on the following data set:\n",
    "dev = Probs.load_from_julia(PATH, f'dev_align_pos_{ats}.tsv', f'dev_align_neg_{ats}.tsv', ratio_neg = 1).to(\"cpu\")\n",
    "\n",
    "# Model was trained on the following (positive) alignments -- not the negatives:\n",
    "tr_align = Probs.load_from_julia(PATH, f'tr_align_pos_{ats}.tsv', f'tr_align_neg_{ats}.tsv', ratio_neg = 1).to(\"cpu\")"
   ]
  },
  {
   "cell_type": "code",
   "execution_count": 12,
   "metadata": {},
   "outputs": [
    {
     "data": {
      "text/plain": [
       "<All keys matched successfully>"
      ]
     },
     "execution_count": 12,
     "metadata": {},
     "output_type": "execute_result"
    }
   ],
   "source": [
    "# mPATH = \"../results/DeltaBoxes_nEpochs50_lr0.01_dims10_ratio1_split0.8_UnaryFalse0.1/model.pth\"\n",
    "mPATH = \"../results/MinMaxSigmoidBoxes_nEpochs20_lr0.01_dims10_ratio1_split0.8_UnaryFalse0.01/model.pth\"\n",
    "model_data = torch.load(mPATH)\n",
    "\n",
    "model = BoxModel(\n",
    "    BoxParamType=MinMaxSigmoidBoxes,\n",
    "    vol_func=soft_volume,\n",
    "    num_models=1,\n",
    "    num_boxes=num_boxes,\n",
    "    dims=10,\n",
    "    method=\"orig\").to(\"cpu\")\n",
    "\n",
    "model.load_state_dict(model_data['state_dict'])"
   ]
  },
  {
   "cell_type": "code",
   "execution_count": 13,
   "metadata": {},
   "outputs": [],
   "source": [
    "# Get the coordinates of the boxes\n",
    "\n",
    "beo = model(torch.tensor([[1, 1]]) )['box_embeddings_orig'].squeeze(0)"
   ]
  },
  {
   "cell_type": "code",
   "execution_count": 15,
   "metadata": {},
   "outputs": [
    {
     "data": {
      "text/plain": [
       "RecorderCollection(learn=           mouse_cond_kl_loss  human_cond_kl_loss  0.05*align_cond_kl_loss  \\\n",
       "0.005650             1.513573            1.284088                 0.029980   \n",
       "0.011299             1.520736            1.338882                 0.029382   \n",
       "0.016949             1.377617            1.400375                 0.037320   \n",
       "0.022599             1.482881            1.209440                 0.035692   \n",
       "0.028249             1.447968            1.204116                 0.039426   \n",
       "...                       ...                 ...                      ...   \n",
       "19.977401            0.236297            0.421850                 0.037789   \n",
       "19.983051            0.426704            0.363740                 0.037682   \n",
       "19.988701            0.537071            0.351328                 0.035645   \n",
       "19.994350            0.270324            0.465867                 0.038309   \n",
       "20.000000            0.428260            0.364566                 0.036611   \n",
       "\n",
       "               loss  \n",
       "0.005650   2.827641  \n",
       "0.011299   2.889001  \n",
       "0.016949   2.815312  \n",
       "0.022599   2.728014  \n",
       "0.028249   2.691511  \n",
       "...             ...  \n",
       "19.977401  0.695935  \n",
       "19.983051  0.828126  \n",
       "19.988701  0.924045  \n",
       "19.994350  0.774500  \n",
       "20.000000  0.829437  \n",
       "\n",
       "[3540 rows x 4 columns], train=      0.05*align_cond_kl_loss  human_cond_kl_loss      loss  \\\n",
       "0.0                  0.102151            2.035566  4.185498   \n",
       "1.0                  0.096694            1.604984  3.397648   \n",
       "2.0                  0.092655            1.260229  2.746893   \n",
       "3.0                  0.089123            1.009041  2.260658   \n",
       "4.0                  0.086184            0.827300  1.888973   \n",
       "5.0                  0.083669            0.690427  1.598501   \n",
       "6.0                  0.081435            0.584063  1.362347   \n",
       "7.0                  0.079661            0.504083  1.178157   \n",
       "8.0                  0.078197            0.443493  1.038543   \n",
       "9.0                  0.077125            0.396612  0.927365   \n",
       "10.0                 0.076205            0.357845  0.834135   \n",
       "11.0                 0.075516            0.327001  0.758578   \n",
       "12.0                 0.075081            0.304409  0.700631   \n",
       "13.0                 0.074738            0.283032  0.650951   \n",
       "14.0                 0.074559            0.266428  0.612592   \n",
       "15.0                 0.074444            0.251173  0.574483   \n",
       "16.0                 0.074385            0.237283  0.543565   \n",
       "17.0                 0.074329            0.223775  0.514937   \n",
       "18.0                 0.074239            0.214551  0.492005   \n",
       "19.0                 0.074303            0.206323  0.472464   \n",
       "20.0                 0.074415            0.199431  0.454896   \n",
       "\n",
       "      metric_hard_accuracy  metric_hard_f1  metric_spearman_r  \\\n",
       "0.0               0.001063        0.002123          -0.047381   \n",
       "1.0               0.029753        0.057787          -0.058687   \n",
       "2.0               0.120251        0.214687          -0.052784   \n",
       "3.0               0.219251        0.359648          -0.047103   \n",
       "4.0               0.314797        0.478852          -0.042193   \n",
       "5.0               0.411405        0.582973          -0.037307   \n",
       "6.0               0.498450        0.665288          -0.031544   \n",
       "7.0               0.570176        0.726258          -0.030506   \n",
       "8.0               0.626494        0.770361          -0.030341   \n",
       "9.0               0.668910        0.801613          -0.027025   \n",
       "10.0              0.701585        0.824625          -0.024903   \n",
       "11.0              0.725228        0.840733          -0.025761   \n",
       "12.0              0.741610        0.851637          -0.028412   \n",
       "13.0              0.755424        0.860674          -0.027643   \n",
       "14.0              0.763305        0.865766          -0.028209   \n",
       "15.0              0.769503        0.869739          -0.029228   \n",
       "16.0              0.775436        0.873516          -0.027662   \n",
       "17.0              0.779952        0.876374          -0.025790   \n",
       "18.0              0.782697        0.878105          -0.026563   \n",
       "19.0              0.783229        0.878439          -0.026346   \n",
       "20.0              0.785088        0.879607          -0.026969   \n",
       "\n",
       "      mouse_cond_kl_loss  \n",
       "0.0             2.047781  \n",
       "1.0             1.695970  \n",
       "2.0             1.394009  \n",
       "3.0             1.162494  \n",
       "4.0             0.975489  \n",
       "5.0             0.824405  \n",
       "6.0             0.696850  \n",
       "7.0             0.594413  \n",
       "8.0             0.516853  \n",
       "9.0             0.453629  \n",
       "10.0            0.400085  \n",
       "11.0            0.356062  \n",
       "12.0            0.321140  \n",
       "13.0            0.293182  \n",
       "14.0            0.271605  \n",
       "15.0            0.248866  \n",
       "16.0            0.231897  \n",
       "17.0            0.216833  \n",
       "18.0            0.203215  \n",
       "19.0            0.191838  \n",
       "20.0            0.181050  , dev=      0.05*align_cond_kl_loss  human_cond_kl_loss      loss  \\\n",
       "0.0                  0.055688                 NaN  0.055688   \n",
       "1.0                  0.054969                 NaN  0.054969   \n",
       "2.0                  0.054051                 NaN  0.054051   \n",
       "3.0                  0.053281                 NaN  0.053281   \n",
       "4.0                  0.052664                 NaN  0.052664   \n",
       "5.0                  0.052208                 NaN  0.052208   \n",
       "6.0                  0.051872                 NaN  0.051872   \n",
       "7.0                  0.051727                 NaN  0.051727   \n",
       "8.0                  0.051573                 NaN  0.051573   \n",
       "9.0                  0.051439                 NaN  0.051439   \n",
       "10.0                 0.051509                 NaN  0.051509   \n",
       "11.0                 0.051681                 NaN  0.051681   \n",
       "12.0                 0.051914                 NaN  0.051914   \n",
       "13.0                 0.052021                 NaN  0.052021   \n",
       "14.0                 0.055671                 NaN  0.055671   \n",
       "15.0                 0.052483                 NaN  0.052483   \n",
       "16.0                 0.052706                 NaN  0.052706   \n",
       "17.0                 0.052904                 NaN  0.052904   \n",
       "18.0                 0.053123                 NaN  0.053123   \n",
       "19.0                 0.053369                 NaN  0.053369   \n",
       "20.0                 0.053603                 NaN  0.053603   \n",
       "\n",
       "      metric_hard_accuracy  metric_hard_f1  metric_pearson_r  \\\n",
       "0.0               0.500825        0.009820         -0.021053   \n",
       "1.0               0.501650        0.016287         -0.032894   \n",
       "2.0               0.502475        0.022690         -0.036642   \n",
       "3.0               0.502475        0.022690         -0.037576   \n",
       "4.0               0.502475        0.041335         -0.041203   \n",
       "5.0               0.497525        0.043956         -0.041970   \n",
       "6.0               0.491749        0.049383         -0.042289   \n",
       "7.0               0.491749        0.058104         -0.044856   \n",
       "8.0               0.492574        0.072398         -0.043713   \n",
       "9.0               0.492574        0.086181         -0.041946   \n",
       "10.0              0.486799        0.082596         -0.042400   \n",
       "11.0              0.486799        0.085294         -0.044361   \n",
       "12.0              0.488449        0.098837         -0.044776   \n",
       "13.0              0.487624        0.101302         -0.040563   \n",
       "14.0              0.493399        0.115274         -0.041659   \n",
       "15.0              0.492574        0.117647         -0.043544   \n",
       "16.0              0.489274        0.104197         -0.042200   \n",
       "17.0              0.488449        0.101449         -0.038836   \n",
       "18.0              0.490924        0.107091         -0.036876   \n",
       "19.0              0.490924        0.109668         -0.036555   \n",
       "20.0              0.490099        0.104348         -0.038185   \n",
       "\n",
       "      mouse_cond_kl_loss  \n",
       "0.0                  NaN  \n",
       "1.0                  NaN  \n",
       "2.0                  NaN  \n",
       "3.0                  NaN  \n",
       "4.0                  NaN  \n",
       "5.0                  NaN  \n",
       "6.0                  NaN  \n",
       "7.0                  NaN  \n",
       "8.0                  NaN  \n",
       "9.0                  NaN  \n",
       "10.0                 NaN  \n",
       "11.0                 NaN  \n",
       "12.0                 NaN  \n",
       "13.0                 NaN  \n",
       "14.0                 NaN  \n",
       "15.0                 NaN  \n",
       "16.0                 NaN  \n",
       "17.0                 NaN  \n",
       "18.0                 NaN  \n",
       "19.0                 NaN  \n",
       "20.0                 NaN  , onto=Empty DataFrame\n",
       "Columns: []\n",
       "Index: [], train_align=     metric_hard_accuracy_align  metric_hard_accuracy_align_mean  \\\n",
       "0.1                    0.659110                         0.557296   \n",
       "0.2                    0.618302                         0.602226   \n",
       "0.3                    0.534213                         0.546579   \n",
       "0.4                    0.511129                         0.523495   \n",
       "0.5                    0.502473                         0.507832   \n",
       "0.6                    0.500000                         0.500824   \n",
       "0.7                    0.500000                         0.500000   \n",
       "0.8                    0.500000                         0.500000   \n",
       "0.9                    0.500000                         0.500000   \n",
       "\n",
       "     metric_hard_f1_align  metric_hard_f1_align_mean  \n",
       "0.1              0.712348                   0.686148  \n",
       "0.2              0.513144                   0.632381  \n",
       "0.3              0.228142                   0.421053  \n",
       "0.4              0.090491                   0.213605  \n",
       "0.5              0.017901                   0.058360  \n",
       "0.6                   NaN                   0.004930  \n",
       "0.7                   NaN                        NaN  \n",
       "0.8                   NaN                        NaN  \n",
       "0.9                   NaN                        NaN  , dev_align=     metric_hard_accuracy_align  metric_hard_accuracy_align_mean  \\\n",
       "0.1                    0.496700                         0.457096   \n",
       "0.2                    0.533003                         0.500000   \n",
       "0.3                    0.511551                         0.495050   \n",
       "0.4                    0.503300                         0.504951   \n",
       "0.5                    0.500000                         0.493399   \n",
       "0.6                    0.500000                         0.498350   \n",
       "0.7                    0.500000                         0.500000   \n",
       "0.8                    0.500000                         0.500000   \n",
       "0.9                    0.500000                         0.500000   \n",
       "\n",
       "     metric_hard_f1_align  metric_hard_f1_align_mean  \n",
       "0.1              0.522692                   0.589263  \n",
       "0.2              0.318072                   0.480274  \n",
       "0.3              0.154286                   0.288372  \n",
       "0.4              0.056426                   0.162011  \n",
       "0.5              0.006557                   0.019169  \n",
       "0.6                   NaN                        NaN  \n",
       "0.7                   NaN                        NaN  \n",
       "0.8                   NaN                        NaN  \n",
       "0.9                   NaN                        NaN  , dev_roc_plot=               fpr       tpr\n",
       "1.560360  0.000000  0.000000\n",
       "0.560360  0.003300  0.000000\n",
       "0.493030  0.003300  0.006601\n",
       "0.481319  0.006601  0.006601\n",
       "0.447603  0.006601  0.016502\n",
       "...            ...       ...\n",
       "0.024492  0.990099  0.986799\n",
       "0.021566  0.996700  0.986799\n",
       "0.019486  0.996700  0.996700\n",
       "0.016531  1.000000  0.996700\n",
       "0.016153  1.000000  1.000000\n",
       "\n",
       "[293 rows x 2 columns], dev_pr_plot=          precision    recall\n",
       "0.016153   0.500000  1.000000\n",
       "0.016531   0.499174  0.996700\n",
       "0.019486   0.500000  0.996700\n",
       "0.019599   0.499171  0.993399\n",
       "0.019738   0.498339  0.990099\n",
       "...             ...       ...\n",
       "0.456380   0.600000  0.009901\n",
       "0.481319   0.500000  0.006601\n",
       "0.493030   0.666667  0.006601\n",
       "0.515740   0.500000  0.003300\n",
       "0.560360   0.000000  0.000000\n",
       "\n",
       "[606 rows x 2 columns], tr_roc_plot=               fpr       tpr\n",
       "1.574584  0.000000  0.000000\n",
       "0.574584  0.000000  0.000824\n",
       "0.535599  0.000000  0.002473\n",
       "0.532768  0.000824  0.002473\n",
       "0.524690  0.000824  0.004946\n",
       "...            ...       ...\n",
       "0.031460  0.969497  0.998351\n",
       "0.031303  0.969497  0.999176\n",
       "0.031033  0.970322  0.999176\n",
       "0.030938  0.970322  1.000000\n",
       "0.013670  1.000000  1.000000\n",
       "\n",
       "[1046 rows x 2 columns], tr_pr_plot=          precision    recall\n",
       "0.030938   0.507531  1.000000\n",
       "0.031033   0.507325  0.999176\n",
       "0.031303   0.507538  0.999176\n",
       "0.031460   0.507331  0.998351\n",
       "0.031679   0.507544  0.998351\n",
       "...             ...       ...\n",
       "0.532634   0.800000  0.003298\n",
       "0.532768   0.750000  0.002473\n",
       "0.535599   1.000000  0.002473\n",
       "0.570096   1.000000  0.001649\n",
       "0.574584   1.000000  0.000824\n",
       "\n",
       "[2390 rows x 2 columns], probs=     Alignment 1 Probablity  Alignment 2 Probablity  Minimum Probablity\n",
       "0                  0.147685                0.142381            0.142381\n",
       "1                  0.090681                0.065809            0.065809\n",
       "2                  0.163307                0.196978            0.163307\n",
       "3                  0.430573                0.479701            0.430573\n",
       "4                  0.277366                0.169022            0.169022\n",
       "..                      ...                     ...                 ...\n",
       "601                0.777803                0.027967            0.027967\n",
       "602                0.586633                0.094744            0.094744\n",
       "603                0.158840                0.267351            0.158840\n",
       "604                0.351479                0.401168            0.351479\n",
       "605                0.199101                0.156691            0.156691\n",
       "\n",
       "[606 rows x 3 columns], bias=   pct_of_align_cond_on_human_as_min\n",
       "0                           0.447195)"
      ]
     },
     "execution_count": 15,
     "metadata": {},
     "output_type": "execute_result"
    }
   ],
   "source": [
    "model_data.keys()\n",
    "model_data['recorders']"
   ]
  },
  {
   "cell_type": "markdown",
   "metadata": {},
   "source": [
    "### Find an alignment in the dev set that has a parent and child that is in the training alignment dataset"
   ]
  },
  {
   "cell_type": "code",
   "execution_count": 16,
   "metadata": {},
   "outputs": [],
   "source": [
    "dev_pos_alignments = dev.tensors[0][:int(dev.tensors[0].shape[0]/2)]\n",
    "dev_pos_nodes = torch.unique(dev_pos_alignments).cpu()"
   ]
  },
  {
   "cell_type": "code",
   "execution_count": 17,
   "metadata": {},
   "outputs": [],
   "source": [
    "tr_pos_alignments = tr_align.tensors[0][:int(tr_align.tensors[0].shape[0]/2)]\n",
    "tr_pos_nodes = torch.unique(tr_pos_alignments).cpu()"
   ]
  },
  {
   "cell_type": "markdown",
   "metadata": {},
   "source": [
    "### Get the parents and children of the items in the dev_pos_nodes"
   ]
  },
  {
   "cell_type": "code",
   "execution_count": 18,
   "metadata": {},
   "outputs": [],
   "source": [
    "# mouse dev parents & children\n",
    "mdp = {}\n",
    "mdc = {}\n",
    "\n",
    "# human dev parents & children\n",
    "hdp = {}\n",
    "hdc = {}\n",
    "\n",
    "for node in dev_pos_nodes:\n",
    "    if node.item() in mouse['parents_of'] and node.item() in mouse['children_of']:\n",
    "        mdp[node.item()] = mouse['parents_of'][node.item()] \n",
    "        mdc[node.item()] = mouse['children_of'][node.item()] \n",
    "        \n",
    "    elif node.item() in human['parents_of'] and node.item() in human['children_of']:\n",
    "        hdp[node.item()] = human['parents_of'][node.item()] \n",
    "        hdc[node.item()] = human['children_of'][node.item()]\n",
    "        \n",
    "    else:\n",
    "        pass"
   ]
  },
  {
   "cell_type": "markdown",
   "metadata": {},
   "source": [
    "### See if any of the dev_pos_nodes parents/children are in tr_pos_alignments"
   ]
  },
  {
   "cell_type": "code",
   "execution_count": 19,
   "metadata": {},
   "outputs": [
    {
     "data": {
      "text/plain": [
       "tensor([  0,   1,   2,   3,   4,   7,  12,  20,  27,  29,  35,  36,  38,  40,\n",
       "         66,  73,  93, 110, 121, 139, 144, 145, 147, 148, 151, 153, 156, 157,\n",
       "        160, 165, 169, 172, 173, 174, 177, 181, 184, 185, 186, 187, 188])"
      ]
     },
     "execution_count": 19,
     "metadata": {},
     "output_type": "execute_result"
    }
   ],
   "source": [
    "tr_pos_nodes"
   ]
  },
  {
   "cell_type": "code",
   "execution_count": 22,
   "metadata": {},
   "outputs": [],
   "source": [
    "# a = [val for val in hdp[2741] if val in tr_pos_nodes] \n",
    "# b = [val for val in hdc[2741] if val in tr_pos_nodes] \n",
    "\n",
    "# if a and b:\n",
    "#     print(\"yup\")\n",
    "# else:\n",
    "#     print(\"nope\")"
   ]
  },
  {
   "cell_type": "code",
   "execution_count": 23,
   "metadata": {},
   "outputs": [],
   "source": [
    "# human dev nodes with parents & children in train (hdnwpcit): dictionary of nodes in dev \n",
    "# that have both parents and children as positive alignments in the training set\n",
    "hdnwpcit_parents = {}\n",
    "hdnwpcit_children = {}\n",
    "\n",
    "mdnwpcit_parents = {}\n",
    "mdnwpcit_children = {}\n",
    "\n",
    "for key in hdp:\n",
    "    # aligned parents in train (apit), aligned children in train (acit)\n",
    "    hapit = [val for val in hdp[key] if val in tr_pos_nodes] \n",
    "    hacit = [val for val in hdc[key] if val in tr_pos_nodes] \n",
    "    \n",
    "    if hapit and hacit:\n",
    "        hdnwpcit_parents[key] = hapit\n",
    "        hdnwpcit_children[key] = hacit\n",
    "    else:\n",
    "        pass\n",
    "        # print(key, \"does not have both parents and children as positive alignments in training set of alignments\")\n",
    "        \n",
    "        \n",
    "for key in mdp:\n",
    "    # aligned parents in train (apit), aligned children in train (acit)\n",
    "    mapit = [val for val in mdp[key] if val in tr_pos_nodes] \n",
    "    macit = [val for val in mdc[key] if val in tr_pos_nodes] \n",
    "    \n",
    "    if mapit and macit:\n",
    "        mdnwpcit_parents[key] = mapit\n",
    "        mdnwpcit_children[key] = macit\n",
    "    else:\n",
    "        pass\n",
    "        # print(key, \"does not have both parents and children as positive alignments in training set of alignments\")"
   ]
  },
  {
   "cell_type": "code",
   "execution_count": 24,
   "metadata": {},
   "outputs": [],
   "source": [
    "# THIS LIST WILL BE A BIT SHORTER BECAUSE IT IS ESSENTIALLY ONLY KEEPING ALIGNMENTS IN THE DEV SET \n",
    "# THAT HAVE CHILDREN AND PARENTS AS ALIGNMENTS -- ACROSS BOTH ONTOLOGIES.\n",
    "\n",
    "# EX) IF A NODE IN THE MOUSE SET HAS ALIGNMENTS AS PARENTS/CHILDREN BUT IT'S HUMAN ALIGNMENT DOESN'T, \n",
    "# IT WILL BE FILTERED OUT\n",
    "\n",
    "alignments_in_dev_we_care_about = []\n",
    "for hk in hdnwpcit_parents:\n",
    "    for mk in mdnwpcit_parents:\n",
    "        align = (hk, mk)\n",
    "        if align in entities['alignments']:\n",
    "            alignments_in_dev_we_care_about.append(align)"
   ]
  },
  {
   "cell_type": "code",
   "execution_count": 25,
   "metadata": {},
   "outputs": [],
   "source": [
    "tpa = tr_pos_alignments.cpu().numpy()\n",
    "train_aligns_compare = []\n",
    "for row in tpa:\n",
    "    train_aligns_compare.append((row[0], row[1]))\n",
    "\n",
    "# (1812, 1812) in train_aligns_compare"
   ]
  },
  {
   "cell_type": "code",
   "execution_count": 26,
   "metadata": {},
   "outputs": [],
   "source": [
    "# print(hdnwpcit_children[2741])\n",
    "# print(mdnwpcit_children[29])\n",
    "\n",
    "# MAKE A DICT OF THE CHILDREN AND THE PARENTS THAT HAVE ALIGNMENTS\n",
    "alignments_wca_parents = {}\n",
    "alignments_wca_children = {}\n",
    "\n",
    "for align in alignments_in_dev_we_care_about:\n",
    "    # GET PARENTS ON BOTH SIDES OF AN ALIGNMENT\n",
    "    h_parents = hdnwpcit_parents[align[0]]\n",
    "    m_parents = mdnwpcit_parents[align[1]]\n",
    "    \n",
    "    alignments_wca_parents[align] = []\n",
    "    \n",
    "    # COMPARE ALL PARENTS IN THE ONTOLOGIES TO SEE IF THAT ALIGNMENT IS IN THE TRAINING SET\n",
    "    for hp in h_parents:\n",
    "        for mp in m_parents:\n",
    "            \n",
    "            tr_align_p = (hp,mp)\n",
    "            \n",
    "            if tr_align_p in train_aligns_compare:\n",
    "                alignments_wca_parents[align].append(tr_align_p)\n",
    "    \n",
    "    # GET CHILDREN ON BOTH SIDES OF AN ALIGNMENT\n",
    "    h_children = hdnwpcit_children[align[0]]\n",
    "    m_children = mdnwpcit_children[align[1]]\n",
    "    \n",
    "    alignments_wca_children[align] = []\n",
    "    \n",
    "    \n",
    "    # COMPARE ALL CHILDREN IN THE ONTOLOGIES TO SEE IF THAT ALIGNMENT IS IN THE TRAINING SET\n",
    "    for hc in h_children:\n",
    "        for mc in m_children:\n",
    "            \n",
    "            tr_align_c = (hc,mc)\n",
    "            \n",
    "            if tr_align_c in train_aligns_compare:\n",
    "                alignments_wca_children[align].append(tr_align_c)\n",
    "                \n",
    "            \n",
    "# print(align, hdnwpcit_parents[align[0]], mdnwpcit_parents[align[1]]  )"
   ]
  },
  {
   "cell_type": "code",
   "execution_count": 27,
   "metadata": {},
   "outputs": [
    {
     "name": "stdout",
     "output_type": "stream",
     "text": [
      "0 --> 0\n"
     ]
    }
   ],
   "source": [
    "final_dict_parents = {}\n",
    "final_dict_children = {}\n",
    "\n",
    "for key in alignments_wca_parents:\n",
    "    if not alignments_wca_parents[key]:\n",
    "        pass\n",
    "    else:\n",
    "        final_dict_parents[key] = alignments_wca_parents[key]\n",
    "        final_dict_children[key] = alignments_wca_children[key]\n",
    "        \n",
    "print(len(alignments_wca_parents), \"-->\", len(final_dict_parents))"
   ]
  },
  {
   "cell_type": "code",
   "execution_count": 28,
   "metadata": {
    "scrolled": false
   },
   "outputs": [],
   "source": [
    "for align in final_dict_parents:\n",
    "    model_out1 = model(torch.tensor([[align[0], align[1]]]))['P(A|B)'].cpu().item()\n",
    "    model_out2 = model(torch.tensor([[align[1], align[0]]]))['P(A|B)'].cpu().item()\n",
    "    \n",
    "    print(\"alignment:\")\n",
    "    print(\"\\t\", align, entities['idx2label'][align[0]], \"<-->\", entities['idx2label'][align[1]], end=\", \")\n",
    "    print(\"(\", \"%.2f\" % model_out1,\",\", \"%.2f\" % model_out2, \")\")\n",
    "    \n",
    "    \n",
    "    print(\"parents:\")\n",
    "    for pa in final_dict_parents[align]: \n",
    "        model_out1 = model(torch.tensor([[pa[0], pa[1]]]))['P(A|B)'].cpu().item()\n",
    "        model_out2 = model(torch.tensor([[pa[1], pa[0]]]))['P(A|B)'].cpu().item()\n",
    "       \n",
    "        print(\"\\t\", pa, entities['idx2label'][pa[0]], \"<-->\", entities['idx2label'][pa[1]], end=\", \")\n",
    "        print(\"(\", \"%.2f\" % model_out1,\",\", \"%.2f\" % model_out2, \")\")\n",
    "        \n",
    "    print(\"children:\")\n",
    "    for ca in final_dict_children[align]: \n",
    "        model_out1 = model(torch.tensor([[ca[0], ca[1]]]))['P(A|B)'].cpu().item()\n",
    "        model_out2 = model(torch.tensor([[ca[1], ca[0]]]))['P(A|B)'].cpu().item()\n",
    "        \n",
    "        print(\"\\t\", ca, entities['idx2label'][ca[0]], \"<-->\", entities['idx2label'][ca[1]], end=\", \")\n",
    "        print(\"(\", \"%.2f\" % model_out1,\",\", \"%.2f\" % model_out2, \")\")\n",
    "\n",
    "    print(\"\\n\")"
   ]
  },
  {
   "cell_type": "code",
   "execution_count": 29,
   "metadata": {},
   "outputs": [
    {
     "name": "stdout",
     "output_type": "stream",
     "text": [
      "================ Mouse ==================\n",
      "Parents of: foot\n",
      "44 autopod, 32 hindlimb, \n",
      "\n",
      " Children of: foot\n",
      "56 foot digit, 57 metatarsus, 58 tarsus, 359 foot bone, 548 foot joint, 722 foot blood vessel, 725 foot connective tissue, 732 foot muscle, 734 foot nerve, 735 foot skin, \n",
      "\n",
      "\n",
      "================ Human ==================\n",
      "Parents of: Foot\n",
      "4298 Lower_Extremity_Part, 3380 Lower_Extremity, \n",
      "\n",
      " Children of: Foot\n",
      "4297 Dorsal_Region_of_Foot, 5012 Plantar_Region, 5357 Toe, 5779 Foot_Skin, 5830 Foot_Phalanx, "
     ]
    }
   ],
   "source": [
    "alignment = (4299, 52)\n",
    "special_parent_alignment = (3380, 32) \n",
    "special_child_alignment = (5357, 56)\n",
    "\n",
    "parents_of_alignment_mouse = mouse['parents_of'][52]\n",
    "parents_of_alignment_human = human['parents_of'][4299]\n",
    "\n",
    "children_of_alignment_mouse = mouse['children_of'][52]\n",
    "children_of_alignment_human = human['children_of'][4299]\n",
    "\n",
    "print(\"================ Mouse ==================\")\n",
    "print(\"Parents of:\", entities['idx2label'][52])\n",
    "\n",
    "for p in parents_of_alignment_mouse:\n",
    "    print(p, entities['idx2label'][p], end=', ')\n",
    "\n",
    "print(\"\\n\\n\", \"Children of:\", entities['idx2label'][52])\n",
    "    \n",
    "for c in children_of_alignment_mouse:\n",
    "    print(c, entities['idx2label'][c], end=', ')\n",
    "\n",
    "print(\"\\n\\n\\n================ Human ==================\")    \n",
    "    \n",
    "print(\"Parents of:\", entities['idx2label'][4299])\n",
    "\n",
    "for p in parents_of_alignment_human:\n",
    "    print(p, entities['idx2label'][p], end=', ')\n",
    "    \n",
    "print(\"\\n\\n\", \"Children of:\", entities['idx2label'][4299])\n",
    "\n",
    "for c in children_of_alignment_human:\n",
    "    print(c, entities['idx2label'][c], end=', ')\n",
    "    "
   ]
  },
  {
   "cell_type": "code",
   "execution_count": 30,
   "metadata": {},
   "outputs": [
    {
     "name": "stdout",
     "output_type": "stream",
     "text": [
      "[(3030, 'Limb')]\n",
      "[(2784, 'Body_Region')]\n"
     ]
    }
   ],
   "source": [
    "print( [(p, entities['idx2label'][p]) for p in human['parents_of'][3380] ] )\n",
    "print( [(p, entities['idx2label'][p]) for p in human['parents_of'][3030] ] )"
   ]
  },
  {
   "cell_type": "code",
   "execution_count": 31,
   "metadata": {},
   "outputs": [
    {
     "name": "stdout",
     "output_type": "stream",
     "text": [
      "[(3377, 'Femoral_Vein'), (3382, 'Bone_of_the_Lower_Extremity'), (3471, 'Tibial_Artery'), (4299, 'Foot'), (4746, 'Leg'), (4982, 'Pelvic_Girdle')]\n",
      "[(4298, 'Lower_Extremity_Part'), (3380, 'Lower_Extremity')]\n"
     ]
    }
   ],
   "source": [
    "print( [(p, entities['idx2label'][p]) for p in human['children_of'][3380] ] )\n",
    "print( [(p, entities['idx2label'][p]) for p in human['parents_of'][4982] ] )"
   ]
  },
  {
   "cell_type": "code",
   "execution_count": 32,
   "metadata": {},
   "outputs": [
    {
     "name": "stdout",
     "output_type": "stream",
     "text": [
      "0.6621345281600952\n",
      "0.3805795907974243\n"
     ]
    },
    {
     "data": {
      "text/plain": [
       "False"
      ]
     },
     "execution_count": 32,
     "metadata": {},
     "output_type": "execute_result"
    }
   ],
   "source": [
    "a = torch.tensor([[11,3030]]) \n",
    "b = torch.tensor([[3030,11]])\n",
    "\n",
    "print(model(a)['P(A|B)'].cpu().item())\n",
    "print(model(b)['P(A|B)'].cpu().item())\n",
    "\n",
    "(11,3030) in train_aligns_compare"
   ]
  },
  {
   "cell_type": "code",
   "execution_count": 34,
   "metadata": {},
   "outputs": [
    {
     "name": "stderr",
     "output_type": "stream",
     "text": [
      "/home/zonghaiyao/.local/lib/python3.7/site-packages/ipykernel_launcher.py:22: UserWarning: torch.range is deprecated in favor of torch.arange and will be removed in 0.5. Note that arange generates values in [start; end), not [start; end].\n"
     ]
    }
   ],
   "source": [
    "def get_min_align_score(a, b):\n",
    "    \n",
    "    A_given_B = torch.stack((a,b), dim=1)\n",
    "    B_given_A = torch.stack((b,a), dim=1)\n",
    "    \n",
    "    out1 = model(A_given_B)['P(A|B)']\n",
    "    out2 = model(B_given_A)['P(A|B)']\n",
    "    \n",
    "    out_min, _ = torch.min(torch.stack( (out1,out2), dim=1) , dim=1)\n",
    "    \n",
    "    return out_min\n",
    "\n",
    "num_nodes = len((entities['name2idx']))\n",
    "\n",
    "all_alignments = torch.zeros((num_nodes, num_nodes))\n",
    "\n",
    "\n",
    "for i in dev_pos_nodes:\n",
    "#     aa = i.repeat(len((entities['name2idx']))).cuda()\n",
    "#     bb = torch.range(0, len((entities['name2idx']))-1, dtype=torch.long).cuda()\n",
    "    aa = i.repeat(len((entities['name2idx'])))\n",
    "    bb = torch.range(0, len((entities['name2idx']))-1, dtype=torch.long)\n",
    "    \n",
    "    all_alignments[i.item()] = get_min_align_score(aa, bb)\n",
    "\n",
    "# for i in dev_pos_nodes\n",
    "# aa = dev_pos_nodes[0]\n",
    "# all_alignments[aa] = []\n",
    "# for j in range(len(entities['name2idx'])):\n",
    "#     all_alignments[aa].append(get_min_align_score(aa, j))\n",
    "\n",
    "# calc_all_alignments"
   ]
  },
  {
   "cell_type": "code",
   "execution_count": 35,
   "metadata": {},
   "outputs": [
    {
     "name": "stderr",
     "output_type": "stream",
     "text": [
      "/pytorch/aten/src/ATen/native/LegacyDefinitions.cpp:14: UserWarning: masked_fill_ received a mask with dtype torch.uint8, this behavior is now deprecated,please use a mask with dtype torch.bool instead.\n"
     ]
    }
   ],
   "source": [
    "mask = torch.eye(num_nodes).byte()\n",
    "all_alignments.masked_fill_(mask, 0)\n",
    "\n",
    "max_aligns = all_alignments.topk(k=5, dim=1)\n",
    "\n",
    "topk_dev = all_alignments[dev_pos_nodes].topk(k=5, dim=1)"
   ]
  },
  {
   "cell_type": "code",
   "execution_count": 36,
   "metadata": {},
   "outputs": [
    {
     "data": {
      "text/plain": [
       "torch.Size([10, 5])"
      ]
     },
     "execution_count": 36,
     "metadata": {},
     "output_type": "execute_result"
    }
   ],
   "source": [
    "topk_dev.values.shape"
   ]
  },
  {
   "cell_type": "code",
   "execution_count": 37,
   "metadata": {},
   "outputs": [],
   "source": [
    "import matplotlib.patches as patches\n",
    "import matplotlib.pyplot as plt"
   ]
  },
  {
   "cell_type": "code",
   "execution_count": 38,
   "metadata": {},
   "outputs": [
    {
     "data": {
      "image/png": "[encoded data removed]",
      "text/plain": [
       "<Figure size 720x720 with 1 Axes>"
      ]
     },
     "metadata": {},
     "output_type": "display_data"
    }
   ],
   "source": [
    "fig,ax = plt.subplots(1, figsize=(10,10), facecolor=\"white\")\n",
    "\n",
    "rect1 = patches.Rectangle((0.4,0.2),.4,.3,linewidth=2,edgecolor='r', fill=True, facecolor='r', alpha=0.3)\n",
    "rect2 = patches.Rectangle((0.5,0.1),.1,.3,linewidth=2,edgecolor='b', fill=True, facecolor='b', alpha=0.3)\n",
    "ax.text(0.4,0.2, \"Hello\", fontsize=20)\n",
    "\n",
    "ax.add_patch(rect1)\n",
    "ax.add_patch(rect2)\n",
    "ax.legend((\"hi\",\"hello\"))\n",
    "\n",
    "\n",
    "plt.show()"
   ]
  },
  {
   "cell_type": "code",
   "execution_count": null,
   "metadata": {},
   "outputs": [],
   "source": []
  }
 ],
 "metadata": {
  "kernelspec": {
   "display_name": "Python 3",
   "language": "python",
   "name": "python3"
  },
  "language_info": {
   "codemirror_mode": {
    "name": "ipython",
    "version": 3
   },
   "file_extension": ".py",
   "mimetype": "text/x-python",
   "name": "python",
   "nbconvert_exporter": "python",
   "pygments_lexer": "ipython3",
   "version": "3.7.5"
  }
 },
 "nbformat": 4,
 "nbformat_minor": 2
}
