{
 "cells": [
  {
   "cell_type": "code",
   "execution_count": 1,
   "metadata": {},
   "outputs": [
    {
     "data": {
      "text/html": [
       "\n",
       "    <style>\n",
       "    .p-Widget.jp-OutputPrompt.jp-OutputArea-prompt:empty {\n",
       "      padding: 0;\n",
       "      border: 0;\n",
       "    }\n",
       "    </style>\n",
       "    "
      ],
      "text/plain": [
       "<IPython.core.display.HTML object>"
      ]
     },
     "metadata": {},
     "output_type": "display_data"
    }
   ],
   "source": [
    "%load_ext autoreload\n",
    "%autoreload 2\n",
    "from boxes import *\n",
    "from learner import *\n",
    "import math\n",
    "import matplotlib.pyplot as plt\n",
    "import os\n",
    "import wandb\n",
    "import pickle\n",
    "\n",
    "%matplotlib inline"
   ]
  },
  {
   "cell_type": "code",
   "execution_count": 2,
   "metadata": {},
   "outputs": [],
   "source": [
    "def set_seed(seed):\n",
    "    np.random.seed(seed)\n",
    "    torch.manual_seed(seed) # cpu\n",
    "    torch.cuda.manual_seed_all(seed)  # gpu\n",
    "    \n",
    "set_seed(42)\n",
    "\n",
    "torch.set_printoptions(precision=16)"
   ]
  },
  {
   "cell_type": "code",
   "execution_count": 3,
   "metadata": {},
   "outputs": [
    {
     "data": {
      "text/plain": [
       "False"
      ]
     },
     "execution_count": 3,
     "metadata": {},
     "output_type": "execute_result"
    }
   ],
   "source": [
    "use_cuda = torch.cuda.is_available()\n",
    "device = torch.device('cuda' if use_cuda else 'cpu')\n",
    "use_cuda"
   ]
  },
  {
   "cell_type": "code",
   "execution_count": 273,
   "metadata": {},
   "outputs": [],
   "source": [
    "PATH = 'data/ontologies/anatomy/'\n",
    "\n",
    "# aligment training split\n",
    "ats = 0.8\n",
    "\n",
    "# Transitive closure\n",
    "Transitive_Closure = False\n",
    "\n",
    "if Transitive_Closure:\n",
    "    tc = \"tc_\"\n",
    "else:\n",
    "    tc = \"\"\n",
    "\n",
    "# Data in unary.tsv are probabilites separated by newlines. The probability on line n is P(n), where n is the id assigned to the nth element.\n",
    "unary_prob = torch.from_numpy(np.loadtxt(f'{PATH}unary/unary.tsv')).float().to(device)\n",
    "num_boxes = unary_prob.shape[0]\n",
    "\n",
    "# We're going to use random negative sampling during training, so no need to include negatives in our training data itself\n",
    "train = Probs.load_from_julia(PATH, f'tr_pos_{tc}{ats}.tsv', f'tr_neg_{ats}.tsv', ratio_neg = 0).to(device)\n",
    "\n",
    "# The dev set will have a fixed set of negatives, however.\n",
    "dev = Probs.load_from_julia(PATH, f'dev_align_pos_{ats}.tsv', f'dev_align_neg_{ats}.tsv', ratio_neg = 1).to(device)\n",
    "\n",
    "# This set is used just for evaluation purposes after training\n",
    "tr_align = Probs.load_from_julia(PATH, f'tr_align_pos_{ats}.tsv', f'tr_align_neg_{ats}.tsv', ratio_neg = 1).to(device)\n"
   ]
  },
  {
   "cell_type": "code",
   "execution_count": 274,
   "metadata": {},
   "outputs": [],
   "source": [
    "with open('data/ontologies/anatomy/human.pickle', 'rb') as f:\n",
    "    human_pickle = pickle.load(f)\n",
    "    \n",
    "with open('data/ontologies/anatomy/mouse.pickle', 'rb') as f:\n",
    "    mouse_pickle = pickle.load(f)\n",
    "    \n",
    "with open('data/ontologies/anatomy/entities.pickle', 'rb') as f:\n",
    "    entity_pickle = pickle.load(f)"
   ]
  },
  {
   "cell_type": "code",
   "execution_count": 275,
   "metadata": {},
   "outputs": [],
   "source": [
    "mouse_eval = Probs.load_from_julia(PATH, 'human_dev_pos.tsv', 'human_dev_neg.tsv', ratio_neg = 1).to(device)\n",
    "human_eval = Probs.load_from_julia(PATH, 'mouse_dev_pos.tsv', 'mouse_dev_neg.tsv', ratio_neg = 1).to(device)"
   ]
  },
  {
   "cell_type": "code",
   "execution_count": 276,
   "metadata": {},
   "outputs": [],
   "source": [
    "import torch\n",
    "from torch import Tensor # for type annotations\n",
    "import torch.nn.functional as F\n",
    "from typing import *\n",
    "\n",
    "\n",
    "def intersection(A: Tensor, B: Tensor) -> Tensor:\n",
    "    \"\"\"\n",
    "    :param A: Tensor(..., zZ, dim)\n",
    "    :param B: Tensor(..., zZ, dim)\n",
    "    :return: Tensor(..., zZ, dim), box embeddings for A intersect B\n",
    "    \"\"\"\n",
    "    z = torch.max(A[...,0,:], B[...,0,:])\n",
    "    Z = torch.min(A[...,1,:], B[...,1,:])\n",
    "    return torch.stack((z, Z), dim=-2)\n",
    "\n",
    "def neg_edge_adjustment(A: Tensor) -> Tensor:\n",
    "    \"\"\"\n",
    "    :param A: Tensor(..., zZ, dim)\n",
    "    \n",
    "    Replace \"negative\" edges with their mean.\n",
    "    \n",
    "    (TODO: optimize this)\n",
    "    \"\"\"\n",
    "    center_of_meet = torch.mean(A, dim=-2)\n",
    "    neg_edges_mask = ((A[...,1,:] - A[...,0,:]) >= 0)\n",
    "    neg_edges_mask_stack = torch.stack((neg_edges_mask, neg_edges_mask), dim=-2)\n",
    "    center_of_meet_stack = torch.stack((center_of_meet, center_of_meet), dim=-2)\n",
    "    return torch.where(neg_edges_mask_stack, A, center_of_meet_stack)\n",
    "\n",
    "def join(A: Tensor, B: Tensor) -> Tensor:\n",
    "    \"\"\"\n",
    "    :param A: Tensor(model, pair, zZ, dim)\n",
    "    :param B: Tensor(model, pair, zZ, dim)\n",
    "    :return: Tensor(model, pair, zZ, dim), box embeddings for the smallest box which contains A and B\n",
    "    \"\"\"\n",
    "    z = torch.min(A[:,:,0], B[:,:,0])\n",
    "    Z = torch.max(A[:,:,1], B[:,:,1])\n",
    "    return torch.stack((z, Z), dim=2)\n",
    "\n",
    "\n",
    "def clamp_volume(boxes: Tensor) -> Tensor:\n",
    "    \"\"\"\n",
    "    :param boxes: Tensor(... zZ, dim)\n",
    "    :return: Tensor(...) of volumes\n",
    "    \"\"\"\n",
    "    return torch.prod((boxes[...,1,:] - boxes[...,0,:]).clamp_min(0), dim=-1)\n",
    "\n",
    "\n",
    "def soft_volume(boxes: Tensor) -> Tensor:\n",
    "    \"\"\"\n",
    "    :param sidelengths: Tensor(model, box, dim)\n",
    "    :return: Tensor(model, box) of volumes\n",
    "    \"\"\"\n",
    "    return torch.prod(F.softplus(boxes[:,:,1] - boxes[:,:,0]), dim=-1)\n",
    "\n",
    "\n",
    "def log_clamp_volume(boxes: Tensor, eps:float = torch.finfo(torch.float32).tiny) -> Tensor:\n",
    "    \"\"\"\n",
    "    :param boxes: Tensor(model, box, zZ, dim)\n",
    "    :return: Tensor(model, box) of volumes\n",
    "    \"\"\"\n",
    "    return torch.sum(torch.log((boxes[:,:,1] - boxes[:,:,0]).clamp_min(0) + eps), dim=-1)\n",
    "\n",
    "\n",
    "def log_soft_volume(boxes: Tensor, eps:float = torch.finfo(torch.float32).tiny) -> Tensor:\n",
    "    \"\"\"\n",
    "    :param sidelengths: Tensor(model, box, dim)\n",
    "    :return: Tensor(model, box) of volumes\n",
    "    \"\"\"\n",
    "    return torch.sum(torch.log(F.softplus(boxes[:,:,1] - boxes[:,:,0]) + eps), dim=-1)\n",
    "\n",
    "\n",
    "def smallest_containing_box(boxes: Tensor) -> Tensor:\n",
    "    \"\"\"\n",
    "    Returns the smallest box which contains all boxes in `boxes`.\n",
    "    \n",
    "    :param boxes: Box embedding of shape (model, box, zZ, dim)\n",
    "    :return: Tensor of shape (model, 1, zZ, dim)\n",
    "    \"\"\"\n",
    "    z = boxes[:,:,0]\n",
    "    Z = boxes[:,:,1]\n",
    "    min_z, _ = torch.min(z, dim=1, keepdim=True)\n",
    "    max_Z, _ = torch.max(Z, dim=1, keepdim=True)\n",
    "    return torch.stack((min_z, max_Z), dim=2)\n",
    "\n",
    "def smallest_containing_box_outside_unit_cube(boxes: Tensor) -> Tensor:\n",
    "    \"\"\"\n",
    "    Returns the smallest box which contains all boxes in `boxes` and the unit cube.\n",
    "\n",
    "    :param boxes: Box embedding of shape (model, box, zZ, dim)\n",
    "    :return: Tensor of shape (model, 1, zZ, dim)\n",
    "    \"\"\"\n",
    "    z = boxes[:,:,0]\n",
    "    Z = boxes[:,:,1]\n",
    "    min_z, _ = torch.min(z, dim=1, keepdim=True)\n",
    "    max_Z, _ = torch.max(Z, dim=1, keepdim=True)\n",
    "    min_z = min_z.clamp_max(0)\n",
    "    max_Z = max_Z.clamp_min(1)\n",
    "    return torch.stack((min_z, max_Z), dim=2)\n",
    "\n",
    "\n",
    "def detect_small_boxes(boxes: Tensor, vol_func: Callable = clamp_volume, min_vol: float = 1e-20) -> Tensor:\n",
    "    \"\"\"\n",
    "    Returns the indices of boxes with volume smaller than eps.\n",
    "\n",
    "    :param boxes: box parametrization as Tensor(model, box, z/Z, dim)\n",
    "    :param vol_func: function taking in side lengths and returning volumes\n",
    "    :param min_vol: minimum volume of boxes\n",
    "    :return: masked tensor which selects boxes whose side lengths are less than min_vol\n",
    "    \"\"\"\n",
    "    return vol_func(boxes) < min_vol\n",
    "\n",
    "\n",
    "def replace_Z_by_cube(boxes: Tensor, indices: Tensor, cube_vol: float = 1e-20) -> Tensor:\n",
    "    \"\"\"\n",
    "    Returns a new Z parameter for boxes for which those boxes[indices] are now replaced by cubes of size cube_vol\n",
    "\n",
    "    :param boxes: box parametrization as Tensor(model, box, z/Z, dim)\n",
    "    :param indices: box indices to replace by a cube\n",
    "    :param cube_vol: volume of cube\n",
    "    :return: tensor representing the Z parameter\n",
    "    \"\"\"\n",
    "    return boxes[:, :, 0][indices] + cube_vol ** (1 / boxes.shape[-1])\n",
    "\n",
    "\n",
    "\n",
    "def replace_Z_by_cube_(boxes: Tensor, indices: Tensor, cube_vol: float = 1e-20) -> Tensor:\n",
    "    \"\"\"\n",
    "    Replaces the boxes indexed by `indices` by a cube of volume `min_vol` with the same z coordinate\n",
    "\n",
    "    :param boxes: box parametrization as Tensor(model, box, z/Z, dim)\n",
    "    :param indices: box indices to replace by a cube\n",
    "    :param cube_vol: volume of cube\n",
    "    :return: tensor representing the box parametrization with those boxes\n",
    "    \"\"\"\n",
    "    boxes[:, :, 1][indices] = replace_Z_by_cube(boxes, indices, cube_vol)\n",
    "\n",
    "\n",
    "def disjoint_boxes_mask(A: Tensor, B: Tensor) -> Tensor:\n",
    "    \"\"\"\n",
    "    Returns a mask for when A and B are disjoint.\n",
    "    Note: This is symmetric with respect to the arguments.\n",
    "    \"\"\"\n",
    "    return ((B[:,:,1] <= A[:,:,0]) | (B[:,:,0] >= A[:,:,1])).any(dim=-1)\n",
    "\n",
    "\n",
    "def overlapping_boxes_mask(A: Tensor, B: Tensor) -> Tensor:\n",
    "    return disjoint_boxes_mask(A, B) ^ 1\n",
    "\n",
    "\n",
    "def containing_boxes_mask(A: Tensor, B: Tensor) -> Tensor:\n",
    "    \"\"\"\n",
    "    Returns a mask for when B contains A.\n",
    "    Note: This is *not* symmetric with respect to it's arguments!\n",
    "    \"\"\"\n",
    "    return ((B[:,:,1] >= A[:,:,1]) & (B[:,:,0] <= A[:,:,0])).all(dim=-1)\n",
    "\n",
    "\n",
    "def needing_pull_mask(A: Tensor, B: Tensor, target_prob_B_given_A: Tensor) -> Tensor:\n",
    "    return (target_prob_B_given_A != 0) & disjoint_boxes_mask(A, B)\n",
    "\n",
    "\n",
    "def needing_push_mask(A: Tensor, B: Tensor, target_prob_B_given_A: Tensor) -> Tensor:\n",
    "    return (target_prob_B_given_A != 1) & containing_boxes_mask(A, B)\n"
   ]
  },
  {
   "cell_type": "code",
   "execution_count": 277,
   "metadata": {},
   "outputs": [],
   "source": [
    "import torch\n",
    "from torch import Tensor\n",
    "import scipy.stats as spstats # For Spearman r\n",
    "from sklearn.metrics import roc_curve, precision_recall_curve  # for roc_curve\n",
    "\n",
    "\n",
    "def metric_hard_accuracy(model, data_in, data_out):\n",
    "    hard_pred = model(data_in, is_align=torch.tensor(0))[\"P(A|B)\"] > 0.5\n",
    "    return (data_out == hard_pred.float()).float().mean()\n",
    "\n",
    "\n",
    "def metric_hard_f1(model, data_in, data_out):\n",
    "    hard_pred = model(data_in, is_align=torch.tensor(0))[\"P(A|B)\"] > 0.5\n",
    "    true_pos = data_out[hard_pred==1].sum()\n",
    "    total_pred_pos = (hard_pred==1).sum().float()\n",
    "    total_actual_pos = data_out.sum().float()\n",
    "    precision = true_pos / total_pred_pos\n",
    "    recall = true_pos / total_actual_pos\n",
    "    return 2 * (precision*recall) / (precision + recall)\n",
    "\n",
    "def metric_hard_accuracy_align(model, data_in, data_out, threshold:float):\n",
    "    A_given_B = data_in[::2]\n",
    "    B_given_A = data_in[1::2,:]\n",
    "    data_out = data_out[::2]\n",
    "\n",
    "    align_probs = torch.stack((model(A_given_B, is_align=torch.tensor(1))[\"P(A|B)\"], model(B_given_A, is_align=torch.tensor(1))[\"P(A|B)\"]), dim=1)\n",
    "    p = torch.min(align_probs, dim=1).values\n",
    "    hard_pred = p > threshold\n",
    "\n",
    "    return (data_out == hard_pred).float().mean()\n",
    "\n",
    "def metric_hard_f1_align(model, data_in, data_out, threshold:float):\n",
    "    A_given_B = data_in[::2]\n",
    "    B_given_A = data_in[1::2,:]\n",
    "    data_out = data_out[::2]\n",
    "\n",
    "    align_probs = torch.stack((model(A_given_B, is_align=torch.tensor(1))[\"P(A|B)\"], model(B_given_A, is_align=torch.tensor(1))[\"P(A|B)\"]), dim=1)\n",
    "    p = torch.min(align_probs, dim=1).values\n",
    "    hard_pred = p > threshold\n",
    "\n",
    "    true_pos = data_out[hard_pred==1].sum()\n",
    "    total_pred_pos = (hard_pred==1).sum().float()\n",
    "    total_actual_pos = data_out.sum().float()\n",
    "\n",
    "    precision = true_pos / total_pred_pos\n",
    "    recall = true_pos / total_actual_pos\n",
    "\n",
    "    return 2 * (precision*recall) / (precision + recall)\n",
    "\n",
    "def metric_hard_accuracy_align_mean(model, data_in, data_out, threshold):\n",
    "    A_given_B = data_in[::2]\n",
    "    B_given_A = data_in[1::2,:]\n",
    "    data_out = data_out[::2]\n",
    "\n",
    "    align_probs = torch.stack((model(A_given_B, is_align=torch.tensor(1))[\"P(A|B)\"], model(B_given_A, is_align=torch.tensor(1))[\"P(A|B)\"]), dim=1)\n",
    "    p = torch.mean(align_probs, dim=1)\n",
    "    hard_pred = p > threshold\n",
    "\n",
    "    return (data_out == hard_pred).float().mean()\n",
    "\n",
    "def metric_hard_f1_align_mean(model, data_in, data_out, threshold):\n",
    "    A_given_B = data_in[::2]\n",
    "    B_given_A = data_in[1::2,:]\n",
    "    data_out = data_out[::2]\n",
    "\n",
    "    align_probs = torch.stack((model(A_given_B, is_align=torch.tensor(1))[\"P(A|B)\"], model(B_given_A, is_align=torch.tensor(1))[\"P(A|B)\"]), dim=1)\n",
    "    p = torch.mean(align_probs, dim=1)\n",
    "    hard_pred = p > threshold\n",
    "\n",
    "    true_pos = data_out[hard_pred==1].sum()\n",
    "    total_pred_pos = (hard_pred==1).sum().float()\n",
    "    total_actual_pos = data_out.sum().float()\n",
    "\n",
    "    precision = true_pos / total_pred_pos\n",
    "    recall = true_pos / total_actual_pos\n",
    "\n",
    "    return 2 * (precision*recall) / (precision + recall)\n"
   ]
  },
  {
   "cell_type": "code",
   "execution_count": 278,
   "metadata": {},
   "outputs": [],
   "source": [
    "import torch\n",
    "from torch.utils.data import Dataset\n",
    "from typing import *\n",
    "from dataclasses import dataclass, field\n",
    "import wandb\n",
    "\n",
    "try:\n",
    "    from IPython import get_ipython\n",
    "    if 'IPKernelApp' not in get_ipython().config:  # pragma: no cover\n",
    "        raise ImportError(\"console\")\n",
    "except:\n",
    "    pass\n",
    "else:\n",
    "    import ipywidgets as widgets\n",
    "    from IPython.core.display import HTML, display\n",
    "\n",
    "if TYPE_CHECKING:\n",
    "    from learner import Learner, Recorder\n",
    "\n",
    "\n",
    "class Callback:\n",
    "    def learner_post_init(self, learner: Learner):\n",
    "        pass\n",
    "\n",
    "    def train_begin(self, learner: Learner):\n",
    "        pass\n",
    "\n",
    "    def epoch_begin(self, learner: Learner):\n",
    "        pass\n",
    "\n",
    "    def batch_begin(self, learner: Learner):\n",
    "        pass\n",
    "\n",
    "    def backward_end(self, learner: Learner):\n",
    "        pass\n",
    "\n",
    "    def batch_end(self, learner: Learner):\n",
    "        pass\n",
    "\n",
    "    def epoch_end(self, learner: Learner):\n",
    "        pass\n",
    "\n",
    "    def train_end(self, learner: Learner):\n",
    "        pass\n",
    "\n",
    "    def eval_align(self, learner: Learner, threshold:float):\n",
    "        pass\n",
    "\n",
    "    def metric_plots(self, l: Learner):\n",
    "        pass\n",
    "\n",
    "    def eval_end(self, l: Learner):\n",
    "        pass\n",
    "\n",
    "    def bias_metric(self, l: Learner):\n",
    "        pass\n",
    "\n",
    "class CallbackCollection:\n",
    "\n",
    "    def __init__(self, *callbacks: Callback):\n",
    "        self._callbacks = callbacks\n",
    "\n",
    "    def __call__(self, action: str, *args, **kwargs):\n",
    "        for c in self._callbacks:\n",
    "            getattr(c, action)(*args, **kwargs)\n",
    "\n",
    "    def __getattr__(self, action: str):\n",
    "        return lambda *args, **kwargs: self.__call__(action, *args, **kwargs)\n",
    "\n",
    "\n",
    "@dataclass\n",
    "class GradientClipping(Callback):\n",
    "    min: float = None\n",
    "    max: float = None\n",
    "\n",
    "    def backward_end(self, learner: Learner):\n",
    "        for param in learner.model.parameters():\n",
    "            if param.grad is not None:\n",
    "                param.grad = param.grad.clamp(self.min, self.max)\n",
    "\n",
    "\n",
    "@dataclass\n",
    "class LossCallback(Callback):\n",
    "    recorder: Recorder\n",
    "    ds: Dataset\n",
    "    weighted: bool = True\n",
    "\n",
    "    @torch.no_grad()\n",
    "    def train_begin(self, learner: Learner):\n",
    "        self.epoch_end(learner)\n",
    "\n",
    "    @torch.no_grad()\n",
    "    def epoch_end(self, l: Learner):\n",
    "        data_in, data_out = self.ds[:]\n",
    "        if l.categories:\n",
    "            split_in, split_out = l.split_data(data_in, data_out, split=2737)\n",
    "            \n",
    "            model_pred = []\n",
    "            count = 0\n",
    "            for item in split_in:\n",
    "                if len(item)>0:\n",
    "                    if count<2:\n",
    "                        model_pred.append(l.model(item, is_align=torch.tensor(0)))\n",
    "                    else:\n",
    "                        model_pred.append(l.model(item, is_align=torch.tensor(1)))\n",
    "                else:\n",
    "                    model_pred.append({'P(A|B)':l.TensorNaN(device=data_in.device)})\n",
    "                count+=1\n",
    "\n",
    "            #model_pred = [l.model(item) if len(item)>0 else {'P(A|B)':l.TensorNaN(device=data_in.device)} for item in split_in]\n",
    "            l.loss_fn(model_pred, split_out, l, self.recorder, weighted=self.weighted, categories=True)  \n",
    "        else:\n",
    "            output = l.model(data_in, is_align=torch.tensor(0))\n",
    "            l.loss_fn(output, data_out, l, self.recorder, weighted=self.weighted) # this logs the data to the recorder\n",
    "\n",
    "\n",
    "@dataclass\n",
    "class MetricCallback(Callback):\n",
    "    recorder: Recorder\n",
    "    ds: Dataset\n",
    "    data_categories: str\n",
    "    metric: Callable\n",
    "    use_wandb: bool = False\n",
    "    name: Union[str, None] = None\n",
    "\n",
    "    def __post_init__(self):\n",
    "        if self.name is None:\n",
    "            self.name = self.metric.__name__\n",
    "        self.name = self.recorder.get_unique_name(self.name)\n",
    "\n",
    "    @torch.no_grad()\n",
    "    def train_begin(self, learner: Learner):\n",
    "        self.epoch_end(learner)\n",
    "\n",
    "    @torch.no_grad()\n",
    "    def epoch_end(self, l: Learner):\n",
    "        data_in, data_out = self.ds[:]\n",
    "        metric_val = self.metric(l.model, data_in, data_out)\n",
    "        self.recorder.update_({self.name: metric_val}, l.progress.current_epoch_iter)\n",
    "        \n",
    "        print(\"evaluation_\" + self.data_categories + \"_\" + self.name, str(metric_val))\n",
    "        \n",
    "        if self.use_wandb:\n",
    "            metric_name = \"evaluation_\" + self.data_categories + \"_\" + self.name\n",
    "            wandb.log({metric_name: metric_val})\n",
    "\n",
    "@dataclass\n",
    "class EvalAlignment(Callback):\n",
    "    recorder: Recorder\n",
    "    ds: Dataset\n",
    "    data_categories: str\n",
    "    metric: callable\n",
    "    use_wandb: bool = False\n",
    "    name: Union[str, None] = None\n",
    "        \n",
    "\n",
    "    def __post_init__(self):\n",
    "        if self.name is None:\n",
    "            self.name = self.metric.__name__\n",
    "        self.name = self.recorder.get_unique_name(self.name)\n",
    "\n",
    "    @torch.no_grad()\n",
    "    def eval_align(self, l: Learner, threshold: float):\n",
    "        data_in, data_out = self.ds[:]\n",
    "        metric_val = self.metric(l.model, data_in, data_out, threshold)\n",
    "        self.recorder.update_({self.name: metric_val}, threshold)\n",
    "        \n",
    "        print(\"align_evaluation_\" + self.data_categories + \"_\" + str(threshold) + \"_\" + self.name, str(metric_val))\n",
    "        \n",
    "        if self.use_wandb:\n",
    "            metric_name = \"align_evaluation_\" + self.data_categories + \"_\" + str(threshold) + \"_\" + self.name\n",
    "            wandb.log({metric_name: metric_val})\n"
   ]
  },
  {
   "cell_type": "code",
   "execution_count": 286,
   "metadata": {},
   "outputs": [],
   "source": [
    "import torch\n",
    "from torch import Tensor\n",
    "import torch.nn as nn\n",
    "from torch.nn import Module, Parameter\n",
    "import torch.nn.functional as F\n",
    "\n",
    "\n",
    "################################################\n",
    "# Box Parametrization Layers\n",
    "################################################\n",
    "default_init_min_vol = torch.finfo(torch.float32).tiny\n",
    "\n",
    "\n",
    "\n",
    "class BoxParam(Module):\n",
    "    \"\"\"\n",
    "    An example class for creating a box parametrization.\n",
    "    Don't inherit from this, it is just an example which contains the methods for a class to be used as a BoxParam\n",
    "    layer. Refer to the docstring of the functions when implementing your own BoxParam.\n",
    "\n",
    "    Note: to avoid naming conflicts with min/max functions, we refer to the min coordinate for a box as `z`, and the\n",
    "    max coordinate as `Z`.\n",
    "    \"\"\"\n",
    "\n",
    "    def __init__(self, num_models:int, num_boxes:int, dim:int, **kwargs):\n",
    "        \"\"\"\n",
    "        Creates the Parameters used for the representation of boxes.\n",
    "\n",
    "        :param num_models: Number of models\n",
    "        :param num_boxes: Number of boxes\n",
    "        :param dim: Dimension\n",
    "        :param kwargs: Unused for now, but include this for future possible parameters.\n",
    "        \"\"\"\n",
    "        # Remember to call:\n",
    "        super().__init__()\n",
    "        raise NotImplemented\n",
    "\n",
    "\n",
    "    def forward(self, box_indices = slice(None, None, None), **kwargs) -> Tensor:\n",
    "        \"\"\"\n",
    "        Returns a Tensor representing the boxes specified by `box_indices` in the form they should be used for training.\n",
    "\n",
    "        :param box_indices: Slice, List, or Tensor of the box indices\n",
    "        :param kwargs: Unused for now, but include this for future possible parameters.\n",
    "        :return: Tensor of shape (model, id, zZ, dim).\n",
    "        \"\"\"\n",
    "        raise NotImplemented\n",
    "\n",
    "\n",
    "class Boxes(Module):\n",
    "    \"\"\"\n",
    "    Parametrize boxes using the min coordinate and max coordinate,\n",
    "    initialized to be in the unit hypercube.\n",
    "\n",
    "    self.boxes[model, box, min/max, dim] \\in [0,1]\n",
    "\n",
    "    In this parametrization, the min and max coordinates are explicitly stored\n",
    "    in separate dimensions (as shown above), which means that care must be\n",
    "    taken to preserve max > min while training. (See MinBoxSize Callback.)\n",
    "    \"\"\"\n",
    "\n",
    "    def __init__(self, num_models: int, num_boxes: int, dims: int,\n",
    "                 init_min_vol: float = default_init_min_vol, method = \"gibbs\", gibbs_iter: int = 2000, **kwargs):\n",
    "        super().__init__()\n",
    "        self.boxes = Parameter(initialize_boxes_in_unit_cube((num_models, num_boxes), dims, init_min_vol, method, gibbs_iter, **kwargs))\n",
    "\n",
    "    def forward(self, box_indices = slice(None, None, None), **kwargs) -> Tensor:\n",
    "        \"\"\"\n",
    "        Returns a Tensor representing the box embeddings specified by box_indices.\n",
    "\n",
    "        :param box_indices: Slice, List, or Tensor of the box indices\n",
    "        :param kwargs: Unused for now, but include this for future possible parameters.\n",
    "        :return: NamedTensor of shape (model, id, zZ, dim).\n",
    "        \"\"\"\n",
    "        return self.boxes[:, box_indices]\n",
    "\n",
    "\n",
    "\n",
    "class MinMaxSigmoidBoxes(Module):\n",
    "    \"\"\"\n",
    "    Parametrize boxes using sigmoid to make them always valid and contained within the unit cube.\n",
    "\n",
    "    self.boxes[model, box, 2, dim] in Reals\n",
    "\n",
    "\n",
    "    In this parametrization, we first convert to the unit cube:\n",
    "\n",
    "    unit_cube_boxes = torch.sigmoid(self.boxes)  # shape: (model, box, 2, dim)\n",
    "\n",
    "    We now select the z/Z coordinates by taking the min/max over axis 2, i.e.\n",
    "\n",
    "    z, _ = torch.min(unit_cube_boxes, dim=2)\n",
    "    Z, _ = torch.max(unit_cube_boxes, dim=2)\n",
    "    \"\"\"\n",
    "\n",
    "    def __init__(self, num_models: int, num_boxes: int, dim: int, init_min_vol: float = default_init_min_vol,  **kwargs):\n",
    "        super().__init__()\n",
    "        unit_boxes = Boxes(num_models, num_boxes, dim, init_min_vol, **kwargs)\n",
    "        self._from_UnitBoxes(unit_boxes)\n",
    "        del unit_boxes\n",
    "\n",
    "\n",
    "    def _from_UnitBoxes(self, unit_boxes:Boxes):\n",
    "        boxes = unit_boxes().detach().clone()\n",
    "        self.boxes = Parameter(torch.log(boxes / (1-boxes)))\n",
    "\n",
    "\n",
    "    def forward(self, box_indices = slice(None, None, None), **kwargs) -> Tensor:\n",
    "        \"\"\"\n",
    "        Returns a Tensor representing the box embeddings specified by box_indices.\n",
    "\n",
    "        :param box_indices: A NamedTensor of the box indices\n",
    "        :param kwargs: Unused for now, but include this for future possible parameters.\n",
    "        :return: Tensor of shape (model, id, zZ, dim).\n",
    "        \"\"\"\n",
    "        unit_cube_boxes = torch.sigmoid(self.boxes)\n",
    "        z, _ = torch.min(unit_cube_boxes, dim=2)\n",
    "        Z, _ = torch.max(unit_cube_boxes, dim=2)\n",
    "        return torch.stack((z,Z), dim=2)\n",
    "    \n",
    "class AlignmentBoxes(Module):\n",
    "    \"\"\"\n",
    "    Parametrize boxes using sigmoid to make them always valid and contained within the unit cube.\n",
    "\n",
    "    self.boxes[model, box, 2, dim] in Reals\n",
    "\n",
    "\n",
    "    In this parametrization, we first convert to the unit cube:\n",
    "\n",
    "    unit_cube_boxes = torch.sigmoid(self.boxes)  # shape: (model, box, 2, dim)\n",
    "\n",
    "    We now select the z/Z coordinates by taking the min/max over axis 2, i.e.\n",
    "\n",
    "    z, _ = torch.min(unit_cube_boxes, dim=2)\n",
    "    Z, _ = torch.max(unit_cube_boxes, dim=2)\n",
    "    \"\"\"\n",
    "\n",
    "    def __init__(self, num_models: int, num_boxes: int, dim: int, init_min_vol: float = default_init_min_vol,  **kwargs):\n",
    "        super().__init__()\n",
    "        unit_boxes = Boxes(num_models, num_boxes, dim, init_min_vol, **kwargs)\n",
    "        self._from_UnitBoxes(unit_boxes)\n",
    "        self.fc = nn.Linear(dim, dim)\n",
    "        del unit_boxes\n",
    "\n",
    "\n",
    "    def _from_UnitBoxes(self, unit_boxes:Boxes):\n",
    "        boxes = unit_boxes().detach().clone()\n",
    "        self.boxes = Parameter(torch.log(boxes / (1-boxes)))\n",
    "\n",
    "\n",
    "    def forward(self, box_indices = slice(None, None, None), is_align=torch.tensor(0), **kwargs) -> Tensor:\n",
    "        \"\"\"\n",
    "        Returns a Tensor representing the box embeddings specified by box_indices.\n",
    "\n",
    "        :param box_indices: A NamedTensor of the box indices\n",
    "        :param kwargs: Unused for now, but include this for future possible parameters.\n",
    "        :return: Tensor of shape (model, id, zZ, dim).\n",
    "        \"\"\"\n",
    "        unit_cube_boxes = torch.sigmoid(self.boxes)\n",
    "        z, _ = torch.min(unit_cube_boxes, dim=2)\n",
    "        Z, _ = torch.max(unit_cube_boxes, dim=2)\n",
    "\n",
    "        if is_align.tolist() == 1:\n",
    "#             print(\"z before1:\", z[0][10])\n",
    "#             print(\"w:\", self.fc.weight)\n",
    "            z = self.fc(z)\n",
    "            Z = self.fc(Z)\n",
    "\n",
    "        return torch.stack((z,Z), dim=2)\n",
    "\n",
    "\n",
    "###############################################\n",
    "# Downstream Model\n",
    "###############################################\n",
    "\n",
    "class WeightedSum(Module):\n",
    "    def __init__(self, num_models: int) -> None:\n",
    "        super().__init__()\n",
    "        self.weights = Parameter(torch.rand(num_models))\n",
    "\n",
    "    def forward(self, box_vols: Tensor) -> Tensor:\n",
    "        return (F.softmax(self.weights, dim=0).unsqueeze(0) @ box_vols).squeeze()\n",
    "\n",
    "\n",
    "class LogWeightedSum(Module):\n",
    "    def __init__(self, num_models: int) -> None:\n",
    "        super().__init__()\n",
    "        self.weights = Parameter(torch.rand(num_models))\n",
    "\n",
    "    def forward(self, log_box_vols: Tensor) -> Tensor:\n",
    "        return (torch.logsumexp(self.weights + log_box_vols, 0) - torch.logsumexp(self.weights, 0))\n",
    "\n",
    "\n",
    "class BoxModel(Module):\n",
    "    def __init__(self, BoxParamType: type, vol_func: Callable,\n",
    "                 num_models:int, num_boxes:int, dims:int,\n",
    "                 init_min_vol: float = default_init_min_vol, universe_box: Optional[Callable] = None, **kwargs):\n",
    "        super().__init__()\n",
    "        self.box_embedding = BoxParamType(num_models, num_boxes, dims, init_min_vol, **kwargs)\n",
    "        self.vol_func = vol_func\n",
    "\n",
    "        if universe_box is None:\n",
    "            z = torch.zeros(dims)\n",
    "            Z = torch.ones(dims)\n",
    "            self.universe_box = lambda _: torch.stack((z,Z))[None, None]\n",
    "            self.universe_vol = lambda _: self.vol_func(self.universe_box(None)).squeeze()\n",
    "            self.clamp = True\n",
    "        else:\n",
    "            self.universe_box = universe_box\n",
    "            self.universe_vol = lambda b: self.vol_func(self.universe_box(b))\n",
    "            self.clamp = False\n",
    "\n",
    "        self.weights = WeightedSum(num_models)\n",
    "\n",
    "    def forward(self, box_indices: Tensor, is_align: Tensor) -> Dict:\n",
    "        #print(\"is_align in BoxModel:\", is_align)\n",
    "        # Unary\n",
    "        box_embeddings_orig = self.box_embedding(is_align = is_align)\n",
    "        if self.clamp:\n",
    "            box_embeddings = box_embeddings_orig.clamp(0,1)\n",
    "        else:\n",
    "            box_embeddings = box_embeddings_orig\n",
    "\n",
    "        universe_vol = self.universe_vol(box_embeddings)\n",
    "\n",
    "        unary_probs = self.weights(self.vol_func(box_embeddings) / universe_vol)\n",
    "\n",
    "        # Conditional\n",
    "        A = box_embeddings[:, box_indices[:,0]]\n",
    "        B = box_embeddings[:, box_indices[:,1]]\n",
    "        A_int_B_vol = self.weights(self.vol_func(intersection(A, B)) / universe_vol) + torch.finfo(torch.float32).tiny\n",
    "        B_vol = unary_probs[box_indices[:,1]] + torch.finfo(torch.float32).tiny\n",
    "        P_A_given_B = torch.exp(torch.log(A_int_B_vol) - torch.log(B_vol))\n",
    "        \n",
    "        # symmetric same\n",
    "        # print(\"you are in right place!\")\n",
    "#         A = box_embeddings[:, box_indices[:,0]]\n",
    "#         B = box_embeddings[:, box_indices[:,1]]\n",
    "#         A_int_B_vol = self.weights(self.vol_func(intersection(A, B)) / universe_vol) + torch.finfo(torch.float32).tiny\n",
    "#         A_join_B_vol = self.weights(self.vol_func(join(A, B)) / universe_vol) + torch.finfo(torch.float32).tiny\n",
    "#         P_A_given_B = torch.exp(torch.log(A_int_B_vol) - torch.log(A_join_B_vol))\n",
    "\n",
    "        return {\n",
    "            \"unary_probs\": unary_probs,\n",
    "            \"box_embeddings_orig\": box_embeddings_orig,\n",
    "            \"A\": A,\n",
    "            \"B\": B,\n",
    "            \"P(A|B)\": P_A_given_B,\n",
    "        }\n"
   ]
  },
  {
   "cell_type": "code",
   "execution_count": 287,
   "metadata": {},
   "outputs": [],
   "source": [
    "dims = 16\n",
    "lr = 0.07342406890949607\n",
    "#lr = 0.2\n",
    "rns_ratio = 5\n",
    "#box_type = MinMaxSigmoidBoxes, AlignmentBoxes\n",
    "use_unary = False\n",
    "unary_weight = 1e-2"
   ]
  },
  {
   "cell_type": "code",
   "execution_count": 288,
   "metadata": {},
   "outputs": [],
   "source": [
    "box_model = BoxModel(\n",
    "    BoxParamType=AlignmentBoxes,\n",
    "    vol_func=soft_volume,\n",
    "    num_models=1,\n",
    "    num_boxes=num_boxes,\n",
    "    dims=dims,\n",
    "    method=\"tree\").to(device)\n",
    "\n",
    "\n",
    "#### IF YOU ARE LOADING FROM JULIA WITH ratio_neg=0, train_dl WILL ONLY CONTAIN POSITIVE EXAMPLES\n",
    "#### THIS MEANS YOUR MODEL SHOULD USE NEGATIVE SAMPLING DURING TRAINING\n",
    "train_dl = TensorDataLoader(train, batch_size=2**6, shuffle=True)\n",
    "\n",
    "mouse_dl = TensorDataLoader(mouse_eval, batch_size=2**6)\n",
    "human_dl = TensorDataLoader(human_eval, batch_size=2**6)\n",
    "\n",
    "eval_dl = [mouse_dl, human_dl]\n",
    "\n",
    "opt = torch.optim.Adam(box_model.parameters(), lr=lr)"
   ]
  },
  {
   "cell_type": "code",
   "execution_count": 289,
   "metadata": {},
   "outputs": [],
   "source": [
    "def mean_cond_kl_loss(model_out: ModelOutput, target: Tensor, eps: float = torch.finfo(torch.float32).tiny) -> Tensor:\n",
    "    return kl_div_sym(model_out[\"P(A|B)\"], target, eps).mean()\n",
    "\n",
    "def human_cond_kl_loss(model_out: ModelOutput, target: Tensor, eps: float = torch.finfo(torch.float32).tiny) -> Tensor:\n",
    "    return kl_div_sym(model_out[\"P(A|B)\"], target, eps).mean()\n",
    "\n",
    "def mouse_cond_kl_loss(model_out: ModelOutput, target: Tensor, eps: float = torch.finfo(torch.float32).tiny) -> Tensor:\n",
    "    return kl_div_sym(model_out[\"P(A|B)\"], target, eps).mean()\n",
    "\n",
    "def align_cond_kl_loss(model_out: ModelOutput, target: Tensor, eps: float = torch.finfo(torch.float32).tiny) -> Tensor:\n",
    "    return kl_div_sym(model_out[\"P(A|B)\"], target, eps).mean()\n",
    "\n",
    "# See boxes/loss_functions.py file for more options. Note that you may have to changed them to fit your use case.\n",
    "# Also note that \"kl_div_sym\" is just binary cross-entropy."
   ]
  },
  {
   "cell_type": "code",
   "execution_count": 290,
   "metadata": {},
   "outputs": [],
   "source": [
    "global my_batch_in\n",
    "global my_batch_out\n",
    "my_batch_in = None\n",
    "my_batch_out = None\n",
    "\n",
    "@dataclass\n",
    "class Learner:\n",
    "    train_dl: DataLoader\n",
    "    model: Module\n",
    "    loss_fn: Callable\n",
    "    opt: optim.Optimizer\n",
    "    callbacks: CallbackCollection = field(default_factory=CallbackCollection)\n",
    "    recorder: Recorder = field(default_factory=Recorder)\n",
    "    categories: bool = False\n",
    "    use_wandb: bool = False\n",
    "    reraise_keyboard_interrupt: bool = False\n",
    "    reraise_stop_training_exceptions: bool = False\n",
    "\n",
    "    def __post_init__(self):\n",
    "        self.progress = Progress(0,0,len(self.train_dl))\n",
    "        self.callbacks.learner_post_init(self)\n",
    "\n",
    "    #the split parameter will be used to find human/mouse/align data, so you need change it when using diff dataset(index)\n",
    "    def split_data(self, batch_in, batch_out, split):\n",
    "        category = torch.zeros(size=(batch_in.shape[0],), dtype=int)\n",
    "\n",
    "        batch_class = batch_in > split\n",
    "\n",
    "        for i, (a,b) in enumerate(batch_class):\n",
    "            if not a and not b:\n",
    "                category[i] = 0\n",
    "            elif a and b:\n",
    "                category[i] = 1\n",
    "            else:\n",
    "                category[i] = 2\n",
    "\n",
    "        self.mouse_in = batch_in[category == 0]\n",
    "        self.human_in = batch_in[category == 1]\n",
    "        self.align_in = batch_in[category == 2]\n",
    "\n",
    "        self.mouse_out = batch_out[category == 0]\n",
    "        self.human_out = batch_out[category == 1]\n",
    "        self.align_out = batch_out[category == 2]\n",
    "\n",
    "        # INPUT TO THE MODEL:\n",
    "        data_in = (self.mouse_in, self.human_in, self.align_in)\n",
    "        # TARGET/LABEL:\n",
    "        data_out = (self.mouse_out, self.human_out, self.align_out)\n",
    "\n",
    "        return data_in, data_out\n",
    "\n",
    "    def TensorNaN(self, size:Union[None,List[int], Tuple[int]]=None, device=None, requires_grad:bool=True):\n",
    "        if size is None:    \n",
    "            return torch.tensor(float('nan'), device=device, requires_grad=requires_grad)\n",
    "        else:\n",
    "            return float('nan') * torch.zeros(size=size, device=device, requires_grad=requires_grad)\n",
    "\n",
    "\n",
    "    def train(self, epochs, progress_bar = True):\n",
    "        global my_batch_in\n",
    "        global my_batch_out\n",
    "        try:\n",
    "            self.callbacks.train_begin(self)\n",
    "            for epoch in trange(epochs, desc=\"Overall Training:\", disable=not progress_bar):\n",
    "                self.callbacks.epoch_begin(self)\n",
    "                for iteration, batch in enumerate(tqdm(self.train_dl, desc=\"Current Batch:\", leave=False, disable=not progress_bar)):\n",
    "                    if len(batch) == 2: # KLUDGE\n",
    "                        self.batch_in, self.batch_out = batch\n",
    "                    else:\n",
    "                        self.batch_in = batch[0]\n",
    "                        self.batch_out = None\n",
    "                    self.progress.increment()\n",
    "                    self.callbacks.batch_begin(self)\n",
    "                    self.opt.zero_grad()\n",
    "                    \n",
    "                    if self.categories:\n",
    "                        self.data_in, self.data_out = self.split_data(self.batch_in, self.batch_out, split=2737)\n",
    "                        #2737 is max mouse index  \n",
    "                        self.model_pred = []\n",
    "                        count = 0\n",
    "                        for item in self.data_in:\n",
    "                            if len(item)>0:\n",
    "                                if count<2:\n",
    "                                    self.model_pred.append(self.model(item, is_align=torch.tensor(0)))\n",
    "                                else:\n",
    "                                    self.model_pred.append(self.model(item, is_align=torch.tensor(0)))\n",
    "                            else:\n",
    "                                self.model_pred.append({'P(A|B)':self.TensorNaN(device=self.batch_in.device)})\n",
    "                            count+=1\n",
    "                        #self.model_pred = [self.model(item, is_align=is_align) if len(item)>0 else {'P(A|B)':self.TensorNaN(device=self.batch_in.device)} for item in self.data_in]\n",
    "                        self.loss = self.loss_fn(self.model_pred, self.data_out, self, self.recorder, categories=True, use_wandb=self.use_wandb)                        \n",
    "                    else:\n",
    "                        self.model_out = self.model(self.batch_in, is_align=False)\n",
    "                        if self.batch_out is None:\n",
    "                            self.loss = self.loss_fn(self.model_out, self, self.recorder, categories=True, use_wandb=self.use_wandb)\n",
    "                        else:\n",
    "                            self.loss = self.loss_fn(self.model_out, self.batch_out, self, self.recorder, categories=True, use_wandb=self.use_wandb)\n",
    "                        \n",
    "                    # Log metrics inside your training loop\n",
    "                    if self.use_wandb:\n",
    "                        metrics = {'epoch': epoch, 'loss': self.loss}\n",
    "                        wandb.log(metrics)\n",
    "\n",
    "                    # print(self.recorder.dataframe)\n",
    "                    self.loss.backward()\n",
    "                    self.callbacks.backward_end(self)\n",
    "                    self.opt.step()\n",
    "                    self.callbacks.batch_end(self)\n",
    "                # print(self.recorder.dataframe)\n",
    "                \n",
    "                # run evaluating at the end of every epoch\n",
    "                #self.evaluation(np.arange(0.1, 1, 0.1))\n",
    "                self.evaluation([0.5])\n",
    "                \n",
    "                \n",
    "                self.callbacks.epoch_end(self)\n",
    "        except StopTrainingException as e:\n",
    "            print(e)\n",
    "            if self.reraise_stop_training_exceptions:\n",
    "                raise e\n",
    "        except KeyboardInterrupt:\n",
    "            print(f\"Stopped training at {self.progress.partial_epoch_progress()} epochs due to keyboard interrupt.\")\n",
    "            if self.reraise_keyboard_interrupt:\n",
    "                raise KeyboardInterrupt\n",
    "        finally:\n",
    "            self.callbacks.train_end(self)\n",
    "\n",
    "\n",
    "    def evaluation(self, trials, progress_bar=True):\n",
    "        with torch.no_grad():\n",
    "            # self.callbacks.eval_begin(self)\n",
    "            for t in trials:\n",
    "                self.callbacks.eval_align(self, t)\n",
    "            self.callbacks.metric_plots(self)\n",
    "            self.callbacks.bias_metric(self)\n",
    "            self.callbacks.eval_end(self)"
   ]
  },
  {
   "cell_type": "code",
   "execution_count": 291,
   "metadata": {},
   "outputs": [],
   "source": [
    "# For this dataset we had unary probabilities as well as conditional probabilities. Our loss function will be a sum of these, which is provided by the following loss function wrapper:\n",
    "\n",
    "# if use_unary:\n",
    "#     loss_func = LossPieces(mean_cond_kl_loss, (unary_weight, mean_unary_kl_loss(unary_prob)))\n",
    "# else:\n",
    "#     loss_func = LossPieces(mean_cond_kl_loss)\n",
    "\n",
    "loss_func = LossPieces( (0.05, mouse_cond_kl_loss), (0.05 ,human_cond_kl_loss), (0.05, align_cond_kl_loss))\n",
    "\n",
    "metrics = [metric_hard_accuracy, metric_hard_f1]\n",
    "align_metrics = [metric_hard_accuracy_align, metric_hard_f1_align, metric_hard_accuracy_align_mean, metric_hard_f1_align_mean]\n",
    "\n",
    "rec_col = RecorderCollection()\n",
    "\n",
    "#threshold = np.arange(0.1, 1, 0.1)\n",
    "threshold = [0.5]\n",
    "\n",
    "callbacks = CallbackCollection(\n",
    "    LossCallback(rec_col.train, train),\n",
    "    LossCallback(rec_col.dev, dev),\n",
    "#     *(MetricCallback(rec_col.dev, dev, \"dev\", m) for m in metrics),\n",
    "#     *(MetricCallback(rec_col.train, train, \"train\", m) for m in metrics),\n",
    "    *(MetricCallback(rec_col.onto, human_eval, \"human\", m) for m in metrics),\n",
    "    *(MetricCallback(rec_col.onto, mouse_eval, \"mouse\", m) for m in metrics),\n",
    "    *(EvalAlignment(rec_col.train_align, tr_align, \"train_align\", m) for m in align_metrics),\n",
    "    *(EvalAlignment(rec_col.dev_align, dev, \"dev_align\", m) for m in align_metrics),\n",
    "    #JustGiveMeTheData(rec_col.probs, dev, get_probabilities),\n",
    "    #BiasMetric(rec_col.bias, dev, pct_of_align_cond_on_human_as_min),\n",
    "    #PlotMetrics(rec_col.dev_roc_plot, dev, roc_plot),\n",
    "    #PlotMetrics(rec_col.dev_pr_plot, dev, pr_plot),\n",
    "    #PlotMetrics(rec_col.tr_roc_plot, tr_align, roc_plot),\n",
    "    #PlotMetrics(rec_col.tr_pr_plot, tr_align, pr_plot),\n",
    "    #MetricCallback(rec_col.train, train, 'train', metric_pearson_r),\n",
    "    #MetricCallback(rec_col.train, train, 'train', metric_spearman_r),\n",
    "    #MetricCallback(rec_col.dev, dev, 'dev', metric_pearson_r),\n",
    "    #MetricCallback(rec_col.dev, dev, 'dev', metric_spearman_r),\n",
    "#     MetricCallback(rec_col.train, train, 'train', mean_reciprocal_rank),\n",
    "#     MetricCallback(rec_col.dev, dev, 'dev', mean_reciprocal_rank),\n",
    "#     PercentIncreaseEarlyStopping(rec_col.dev, \"mean_cond_kl_loss\", 0.25, 10),\n",
    "#     PercentIncreaseEarlyStopping(rec_col.dev, \"mean_cond_kl_loss\", 0.5),\n",
    "#     PercentIncreaseEarlyStopping(rec_col.dev, \"mouse_cond_kl_loss\", 0.25, 10),\n",
    "#     PercentIncreaseEarlyStopping(rec_col.dev, \"mouse_cond_kl_loss\", 0.5),\n",
    "#     GradientClipping(-1000,1000),\n",
    "#     RandomNegativeSampling(num_boxes, rns_ratio),\n",
    "    StopIfNaN(),\n",
    ")\n",
    "\n",
    "# l = Learner(train_dl, box_model, loss_func, opt, callbacks, recorder = rec_col.learn)\n",
    "l = Learner(train_dl, box_model, loss_func, opt, callbacks, recorder = rec_col.learn, categories=True)"
   ]
  },
  {
   "cell_type": "code",
   "execution_count": 292,
   "metadata": {
    "scrolled": false
   },
   "outputs": [
    {
     "name": "stdout",
     "output_type": "stream",
     "text": [
      "evaluation_human_metric_hard_accuracy tensor(0.5000000000000000)\n",
      "evaluation_human_metric_hard_f1 tensor(nan)\n",
      "evaluation_mouse_metric_hard_accuracy_1 tensor(0.5000000000000000)\n",
      "evaluation_mouse_metric_hard_f1_1 tensor(nan)\n"
     ]
    },
    {
     "data": {
      "application/vnd.jupyter.widget-view+json": {
       "model_id": "67614b39c6ec47959c48f885548920dd",
       "version_major": 2,
       "version_minor": 0
      },
      "text/plain": [
       "HBox(children=(HTML(value='Overall Training:'), FloatProgress(value=0.0), HTML(value='')))"
      ]
     },
     "metadata": {},
     "output_type": "display_data"
    },
    {
     "data": {
      "application/vnd.jupyter.widget-view+json": {
       "model_id": "",
       "version_major": 2,
       "version_minor": 0
      },
      "text/plain": [
       "HBox(children=(HTML(value='Current Batch:'), FloatProgress(value=0.0, max=177.0), HTML(value='')))"
      ]
     },
     "metadata": {},
     "output_type": "display_data"
    },
    {
     "name": "stdout",
     "output_type": "stream",
     "text": [
      "align_evaluation_train_align_0.5_metric_hard_accuracy_align tensor(0.6863149404525757)\n",
      "align_evaluation_train_align_0.5_metric_hard_f1_align tensor(0.6793088912963867)\n",
      "align_evaluation_train_align_0.5_metric_hard_accuracy_align_mean tensor(0.6434460282325745)\n",
      "align_evaluation_train_align_0.5_metric_hard_f1_align_mean tensor(0.7219544053077698)\n",
      "align_evaluation_dev_align_0.5_metric_hard_accuracy_align tensor(0.4587458670139313)\n",
      "align_evaluation_dev_align_0.5_metric_hard_f1_align tensor(0.3109243512153625)\n",
      "align_evaluation_dev_align_0.5_metric_hard_accuracy_align_mean tensor(0.4224422574043274)\n",
      "align_evaluation_dev_align_0.5_metric_hard_f1_align_mean tensor(0.4696969389915466)\n",
      "evaluation_human_metric_hard_accuracy tensor(0.7182055711746216)\n",
      "evaluation_human_metric_hard_f1 tensor(0.6280896663665771)\n",
      "evaluation_mouse_metric_hard_accuracy_1 tensor(0.7900608777999878)\n",
      "evaluation_mouse_metric_hard_f1_1 tensor(0.7530636787414551)\n"
     ]
    },
    {
     "data": {
      "application/vnd.jupyter.widget-view+json": {
       "model_id": "",
       "version_major": 2,
       "version_minor": 0
      },
      "text/plain": [
       "HBox(children=(HTML(value='Current Batch:'), FloatProgress(value=0.0, max=177.0), HTML(value='')))"
      ]
     },
     "metadata": {},
     "output_type": "display_data"
    },
    {
     "name": "stdout",
     "output_type": "stream",
     "text": [
      "align_evaluation_train_align_0.5_metric_hard_accuracy_align tensor(0.6995053291320801)\n",
      "align_evaluation_train_align_0.5_metric_hard_f1_align tensor(0.7384284138679504)\n",
      "align_evaluation_train_align_0.5_metric_hard_accuracy_align_mean tensor(0.5869744420051575)\n",
      "align_evaluation_train_align_0.5_metric_hard_f1_align_mean tensor(0.7075306177139282)\n",
      "align_evaluation_dev_align_0.5_metric_hard_accuracy_align tensor(0.4884488582611084)\n",
      "align_evaluation_dev_align_0.5_metric_hard_f1_align tensor(0.4599303007125854)\n",
      "align_evaluation_dev_align_0.5_metric_hard_accuracy_align_mean tensor(0.4372937381267548)\n",
      "align_evaluation_dev_align_0.5_metric_hard_f1_align_mean tensor(0.5633803009986877)\n",
      "evaluation_human_metric_hard_accuracy tensor(0.8630952239036560)\n",
      "evaluation_human_metric_hard_f1 tensor(0.8665629029273987)\n",
      "evaluation_mouse_metric_hard_accuracy_1 tensor(0.8766365647315979)\n",
      "evaluation_mouse_metric_hard_f1_1 tensor(0.8825697898864746)\n"
     ]
    },
    {
     "data": {
      "application/vnd.jupyter.widget-view+json": {
       "model_id": "",
       "version_major": 2,
       "version_minor": 0
      },
      "text/plain": [
       "HBox(children=(HTML(value='Current Batch:'), FloatProgress(value=0.0, max=177.0), HTML(value='')))"
      ]
     },
     "metadata": {},
     "output_type": "display_data"
    },
    {
     "name": "stdout",
     "output_type": "stream",
     "text": [
      "align_evaluation_train_align_0.5_metric_hard_accuracy_align tensor(0.6953833699226379)\n",
      "align_evaluation_train_align_0.5_metric_hard_f1_align tensor(0.7354099154472351)\n",
      "align_evaluation_train_align_0.5_metric_hard_accuracy_align_mean tensor(0.5795547962188721)\n",
      "align_evaluation_train_align_0.5_metric_hard_f1_align_mean tensor(0.7038327455520630)\n",
      "align_evaluation_dev_align_0.5_metric_hard_accuracy_align tensor(0.5016501545906067)\n",
      "align_evaluation_dev_align_0.5_metric_hard_f1_align tensor(0.5160256028175354)\n",
      "align_evaluation_dev_align_0.5_metric_hard_accuracy_align_mean tensor(0.4488448798656464)\n",
      "align_evaluation_dev_align_0.5_metric_hard_f1_align_mean tensor(0.5824999809265137)\n",
      "evaluation_human_metric_hard_accuracy tensor(0.8699187040328979)\n",
      "evaluation_human_metric_hard_f1 tensor(0.8813559412956238)\n",
      "evaluation_mouse_metric_hard_accuracy_1 tensor(0.8743315339088440)\n",
      "evaluation_mouse_metric_hard_f1_1 tensor(0.8860462903976440)\n"
     ]
    },
    {
     "data": {
      "application/vnd.jupyter.widget-view+json": {
       "model_id": "",
       "version_major": 2,
       "version_minor": 0
      },
      "text/plain": [
       "HBox(children=(HTML(value='Current Batch:'), FloatProgress(value=0.0, max=177.0), HTML(value='')))"
      ]
     },
     "metadata": {},
     "output_type": "display_data"
    },
    {
     "name": "stdout",
     "output_type": "stream",
     "text": [
      "align_evaluation_train_align_0.5_metric_hard_accuracy_align tensor(0.7102226018905640)\n",
      "align_evaluation_train_align_0.5_metric_hard_f1_align tensor(0.7563257813453674)\n",
      "align_evaluation_train_align_0.5_metric_hard_accuracy_align_mean tensor(0.5816158056259155)\n",
      "align_evaluation_train_align_0.5_metric_hard_f1_align_mean tensor(0.7050275802612305)\n",
      "align_evaluation_dev_align_0.5_metric_hard_accuracy_align tensor(0.5247524976730347)\n",
      "align_evaluation_dev_align_0.5_metric_hard_f1_align tensor(0.5384615659713745)\n",
      "align_evaluation_dev_align_0.5_metric_hard_accuracy_align_mean tensor(0.4636963605880737)\n",
      "align_evaluation_dev_align_0.5_metric_hard_f1_align_mean tensor(0.5992602109909058)\n",
      "evaluation_human_metric_hard_accuracy tensor(0.8699187040328979)\n",
      "evaluation_human_metric_hard_f1 tensor(0.8835759162902832)\n",
      "evaluation_mouse_metric_hard_accuracy_1 tensor(0.8708279728889465)\n",
      "evaluation_mouse_metric_hard_f1_1 tensor(0.8845678567886353)\n"
     ]
    },
    {
     "data": {
      "application/vnd.jupyter.widget-view+json": {
       "model_id": "",
       "version_major": 2,
       "version_minor": 0
      },
      "text/plain": [
       "HBox(children=(HTML(value='Current Batch:'), FloatProgress(value=0.0, max=177.0), HTML(value='')))"
      ]
     },
     "metadata": {},
     "output_type": "display_data"
    },
    {
     "name": "stdout",
     "output_type": "stream",
     "text": [
      "align_evaluation_train_align_0.5_metric_hard_accuracy_align tensor(0.7180544137954712)\n",
      "align_evaluation_train_align_0.5_metric_hard_f1_align tensor(0.7646248936653137)\n",
      "align_evaluation_train_align_0.5_metric_hard_accuracy_align_mean tensor(0.5906842350959778)\n",
      "align_evaluation_train_align_0.5_metric_hard_f1_align_mean tensor(0.7095641493797302)\n",
      "align_evaluation_dev_align_0.5_metric_hard_accuracy_align tensor(0.5264026522636414)\n",
      "align_evaluation_dev_align_0.5_metric_hard_f1_align tensor(0.5363489985466003)\n",
      "align_evaluation_dev_align_0.5_metric_hard_accuracy_align_mean tensor(0.4620462059974670)\n",
      "align_evaluation_dev_align_0.5_metric_hard_f1_align_mean tensor(0.5975308418273926)\n",
      "evaluation_human_metric_hard_accuracy tensor(0.8713704943656921)\n",
      "evaluation_human_metric_hard_f1 tensor(0.8852331638336182)\n",
      "evaluation_mouse_metric_hard_accuracy_1 tensor(0.8699981570243835)\n",
      "evaluation_mouse_metric_hard_f1_1 tensor(0.8843504190444946)\n"
     ]
    },
    {
     "data": {
      "application/vnd.jupyter.widget-view+json": {
       "model_id": "",
       "version_major": 2,
       "version_minor": 0
      },
      "text/plain": [
       "HBox(children=(HTML(value='Current Batch:'), FloatProgress(value=0.0, max=177.0), HTML(value='')))"
      ]
     },
     "metadata": {},
     "output_type": "display_data"
    },
    {
     "name": "stdout",
     "output_type": "stream",
     "text": [
      "align_evaluation_train_align_0.5_metric_hard_accuracy_align tensor(0.7551525235176086)\n",
      "align_evaluation_train_align_0.5_metric_hard_f1_align tensor(0.7948895096778870)\n",
      "align_evaluation_train_align_0.5_metric_hard_accuracy_align_mean tensor(0.6079967021942139)\n",
      "align_evaluation_train_align_0.5_metric_hard_f1_align_mean tensor(0.7183890938758850)\n",
      "align_evaluation_dev_align_0.5_metric_hard_accuracy_align tensor(0.5181518197059631)\n",
      "align_evaluation_dev_align_0.5_metric_hard_f1_align tensor(0.5394322276115417)\n",
      "align_evaluation_dev_align_0.5_metric_hard_accuracy_align_mean tensor(0.4702970385551453)\n",
      "align_evaluation_dev_align_0.5_metric_hard_f1_align_mean tensor(0.5992509126663208)\n",
      "evaluation_human_metric_hard_accuracy tensor(0.8697735071182251)\n",
      "evaluation_human_metric_hard_f1 tensor(0.8843327164649963)\n",
      "evaluation_mouse_metric_hard_accuracy_1 tensor(0.8699981570243835)\n",
      "evaluation_mouse_metric_hard_f1_1 tensor(0.8847285509109497)\n"
     ]
    },
    {
     "data": {
      "application/vnd.jupyter.widget-view+json": {
       "model_id": "",
       "version_major": 2,
       "version_minor": 0
      },
      "text/plain": [
       "HBox(children=(HTML(value='Current Batch:'), FloatProgress(value=0.0, max=177.0), HTML(value='')))"
      ]
     },
     "metadata": {},
     "output_type": "display_data"
    },
    {
     "name": "stdout",
     "output_type": "stream",
     "text": [
      "align_evaluation_train_align_0.5_metric_hard_accuracy_align tensor(0.7642209529876709)\n",
      "align_evaluation_train_align_0.5_metric_hard_f1_align tensor(0.8027586936950684)\n",
      "align_evaluation_train_align_0.5_metric_hard_accuracy_align_mean tensor(0.6125308871269226)\n",
      "align_evaluation_train_align_0.5_metric_hard_f1_align_mean tensor(0.7207368016242981)\n",
      "align_evaluation_dev_align_0.5_metric_hard_accuracy_align tensor(0.5561056137084961)\n",
      "align_evaluation_dev_align_0.5_metric_hard_f1_align tensor(0.5568369626998901)\n",
      "align_evaluation_dev_align_0.5_metric_hard_accuracy_align_mean tensor(0.4801980257034302)\n",
      "align_evaluation_dev_align_0.5_metric_hard_f1_align_mean tensor(0.6027743220329285)\n",
      "evaluation_human_metric_hard_accuracy tensor(0.8667247295379639)\n",
      "evaluation_human_metric_hard_f1 tensor(0.8821868896484375)\n",
      "evaluation_mouse_metric_hard_accuracy_1 tensor(0.8664945363998413)\n",
      "evaluation_mouse_metric_hard_f1_1 tensor(0.8819500803947449)\n"
     ]
    },
    {
     "data": {
      "application/vnd.jupyter.widget-view+json": {
       "model_id": "",
       "version_major": 2,
       "version_minor": 0
      },
      "text/plain": [
       "HBox(children=(HTML(value='Current Batch:'), FloatProgress(value=0.0, max=177.0), HTML(value='')))"
      ]
     },
     "metadata": {},
     "output_type": "display_data"
    },
    {
     "name": "stdout",
     "output_type": "stream",
     "text": [
      "align_evaluation_train_align_0.5_metric_hard_accuracy_align tensor(0.7769991755485535)\n",
      "align_evaluation_train_align_0.5_metric_hard_f1_align tensor(0.8129969239234924)\n",
      "align_evaluation_train_align_0.5_metric_hard_accuracy_align_mean tensor(0.6236603260040283)\n",
      "align_evaluation_train_align_0.5_metric_hard_f1_align_mean tensor(0.7265648841857910)\n",
      "align_evaluation_dev_align_0.5_metric_hard_accuracy_align tensor(0.5610560774803162)\n",
      "align_evaluation_dev_align_0.5_metric_hard_f1_align tensor(0.5667752027511597)\n",
      "align_evaluation_dev_align_0.5_metric_hard_accuracy_align_mean tensor(0.5033003091812134)\n",
      "align_evaluation_dev_align_0.5_metric_hard_f1_align_mean tensor(0.6185044050216675)\n",
      "evaluation_human_metric_hard_accuracy tensor(0.8700639009475708)\n",
      "evaluation_human_metric_hard_f1 tensor(0.8848281502723694)\n",
      "evaluation_mouse_metric_hard_accuracy_1 tensor(0.8687073588371277)\n",
      "evaluation_mouse_metric_hard_f1_1 tensor(0.8838309645652771)\n"
     ]
    },
    {
     "data": {
      "application/vnd.jupyter.widget-view+json": {
       "model_id": "",
       "version_major": 2,
       "version_minor": 0
      },
      "text/plain": [
       "HBox(children=(HTML(value='Current Batch:'), FloatProgress(value=0.0, max=177.0), HTML(value='')))"
      ]
     },
     "metadata": {},
     "output_type": "display_data"
    },
    {
     "name": "stdout",
     "output_type": "stream",
     "text": [
      "align_evaluation_train_align_0.5_metric_hard_accuracy_align tensor(0.7922506332397461)\n",
      "align_evaluation_train_align_0.5_metric_hard_f1_align tensor(0.8241451382637024)\n",
      "align_evaluation_train_align_0.5_metric_hard_accuracy_align_mean tensor(0.6356141567230225)\n",
      "align_evaluation_train_align_0.5_metric_hard_f1_align_mean tensor(0.7327690720558167)\n",
      "align_evaluation_dev_align_0.5_metric_hard_accuracy_align tensor(0.5594059228897095)\n",
      "align_evaluation_dev_align_0.5_metric_hard_f1_align tensor(0.5601317882537842)\n",
      "align_evaluation_dev_align_0.5_metric_hard_accuracy_align_mean tensor(0.5132012963294983)\n",
      "align_evaluation_dev_align_0.5_metric_hard_f1_align_mean tensor(0.6213093996047974)\n",
      "evaluation_human_metric_hard_accuracy tensor(0.8702090382575989)\n",
      "evaluation_human_metric_hard_f1 tensor(0.8850603699684143)\n",
      "evaluation_mouse_metric_hard_accuracy_1 tensor(0.8665867447853088)\n",
      "evaluation_mouse_metric_hard_f1_1 tensor(0.8821757435798645)\n"
     ]
    },
    {
     "data": {
      "application/vnd.jupyter.widget-view+json": {
       "model_id": "",
       "version_major": 2,
       "version_minor": 0
      },
      "text/plain": [
       "HBox(children=(HTML(value='Current Batch:'), FloatProgress(value=0.0, max=177.0), HTML(value='')))"
      ]
     },
     "metadata": {},
     "output_type": "display_data"
    },
    {
     "name": "stdout",
     "output_type": "stream",
     "text": [
      "align_evaluation_train_align_0.5_metric_hard_accuracy_align tensor(0.8075020313262939)\n",
      "align_evaluation_train_align_0.5_metric_hard_f1_align tensor(0.8373389244079590)\n",
      "align_evaluation_train_align_0.5_metric_hard_accuracy_align_mean tensor(0.6516900062561035)\n",
      "align_evaluation_train_align_0.5_metric_hard_f1_align_mean tensor(0.7416692376136780)\n",
      "align_evaluation_dev_align_0.5_metric_hard_accuracy_align tensor(0.5792078971862793)\n",
      "align_evaluation_dev_align_0.5_metric_hard_f1_align tensor(0.5728642940521240)\n",
      "align_evaluation_dev_align_0.5_metric_hard_accuracy_align_mean tensor(0.5165016651153564)\n",
      "align_evaluation_dev_align_0.5_metric_hard_f1_align_mean tensor(0.6219354867935181)\n",
      "evaluation_human_metric_hard_accuracy tensor(0.8700639009475708)\n",
      "evaluation_human_metric_hard_f1 tensor(0.8849466443061829)\n",
      "evaluation_mouse_metric_hard_accuracy_1 tensor(0.8691683411598206)\n",
      "evaluation_mouse_metric_hard_f1_1 tensor(0.8841916322708130)\n"
     ]
    },
    {
     "data": {
      "application/vnd.jupyter.widget-view+json": {
       "model_id": "",
       "version_major": 2,
       "version_minor": 0
      },
      "text/plain": [
       "HBox(children=(HTML(value='Current Batch:'), FloatProgress(value=0.0, max=177.0), HTML(value='')))"
      ]
     },
     "metadata": {},
     "output_type": "display_data"
    },
    {
     "name": "stdout",
     "output_type": "stream",
     "text": [
      "align_evaluation_train_align_0.5_metric_hard_accuracy_align tensor(0.8124485015869141)\n",
      "align_evaluation_train_align_0.5_metric_hard_f1_align tensor(0.8405187726020813)\n",
      "align_evaluation_train_align_0.5_metric_hard_accuracy_align_mean tensor(0.6611706614494324)\n",
      "align_evaluation_train_align_0.5_metric_hard_f1_align_mean tensor(0.7469211816787720)\n",
      "align_evaluation_dev_align_0.5_metric_hard_accuracy_align tensor(0.5891088843345642)\n",
      "align_evaluation_dev_align_0.5_metric_hard_f1_align tensor(0.5772495865821838)\n",
      "align_evaluation_dev_align_0.5_metric_hard_accuracy_align_mean tensor(0.5346534848213196)\n",
      "align_evaluation_dev_align_0.5_metric_hard_f1_align_mean tensor(0.6308900713920593)\n",
      "evaluation_human_metric_hard_accuracy tensor(0.8694831728935242)\n",
      "evaluation_human_metric_hard_f1 tensor(0.8845215439796448)\n",
      "evaluation_mouse_metric_hard_accuracy_1 tensor(0.8677853345870972)\n",
      "evaluation_mouse_metric_hard_f1_1 tensor(0.8831676840782166)\n"
     ]
    },
    {
     "data": {
      "application/vnd.jupyter.widget-view+json": {
       "model_id": "",
       "version_major": 2,
       "version_minor": 0
      },
      "text/plain": [
       "HBox(children=(HTML(value='Current Batch:'), FloatProgress(value=0.0, max=177.0), HTML(value='')))"
      ]
     },
     "metadata": {},
     "output_type": "display_data"
    },
    {
     "name": "stdout",
     "output_type": "stream",
     "text": [
      "align_evaluation_train_align_0.5_metric_hard_accuracy_align tensor(0.8264633417129517)\n",
      "align_evaluation_train_align_0.5_metric_hard_f1_align tensor(0.8519169688224792)\n",
      "align_evaluation_train_align_0.5_metric_hard_accuracy_align_mean tensor(0.6685902476310730)\n",
      "align_evaluation_train_align_0.5_metric_hard_f1_align_mean tensor(0.7510836124420166)\n",
      "align_evaluation_dev_align_0.5_metric_hard_accuracy_align tensor(0.5957095623016357)\n",
      "align_evaluation_dev_align_0.5_metric_hard_f1_align tensor(0.5840407013893127)\n",
      "align_evaluation_dev_align_0.5_metric_hard_accuracy_align_mean tensor(0.5561056137084961)\n",
      "align_evaluation_dev_align_0.5_metric_hard_f1_align_mean tensor(0.6408544182777405)\n",
      "evaluation_human_metric_hard_accuracy tensor(0.8683217167854309)\n",
      "evaluation_human_metric_hard_f1 tensor(0.8836135268211365)\n",
      "evaluation_mouse_metric_hard_accuracy_1 tensor(0.8684307336807251)\n",
      "evaluation_mouse_metric_hard_f1_1 tensor(0.8837095499038696)\n"
     ]
    },
    {
     "data": {
      "application/vnd.jupyter.widget-view+json": {
       "model_id": "",
       "version_major": 2,
       "version_minor": 0
      },
      "text/plain": [
       "HBox(children=(HTML(value='Current Batch:'), FloatProgress(value=0.0, max=177.0), HTML(value='')))"
      ]
     },
     "metadata": {},
     "output_type": "display_data"
    },
    {
     "name": "stdout",
     "output_type": "stream",
     "text": [
      "align_evaluation_train_align_0.5_metric_hard_accuracy_align tensor(0.8289365172386169)\n",
      "align_evaluation_train_align_0.5_metric_hard_f1_align tensor(0.8535121679306030)\n",
      "align_evaluation_train_align_0.5_metric_hard_accuracy_align_mean tensor(0.6809563040733337)\n",
      "align_evaluation_train_align_0.5_metric_hard_f1_align_mean tensor(0.7581250071525574)\n",
      "align_evaluation_dev_align_0.5_metric_hard_accuracy_align tensor(0.5973597168922424)\n",
      "align_evaluation_dev_align_0.5_metric_hard_f1_align tensor(0.5821917653083801)\n",
      "align_evaluation_dev_align_0.5_metric_hard_accuracy_align_mean tensor(0.5594059228897095)\n",
      "align_evaluation_dev_align_0.5_metric_hard_f1_align_mean tensor(0.6425702571868896)\n",
      "evaluation_human_metric_hard_accuracy tensor(0.8697735071182251)\n",
      "evaluation_human_metric_hard_f1 tensor(0.8847487568855286)\n",
      "evaluation_mouse_metric_hard_accuracy_1 tensor(0.8696293830871582)\n",
      "evaluation_mouse_metric_hard_f1_1 tensor(0.8846091032028198)\n"
     ]
    },
    {
     "data": {
      "application/vnd.jupyter.widget-view+json": {
       "model_id": "",
       "version_major": 2,
       "version_minor": 0
      },
      "text/plain": [
       "HBox(children=(HTML(value='Current Batch:'), FloatProgress(value=0.0, max=177.0), HTML(value='')))"
      ]
     },
     "metadata": {},
     "output_type": "display_data"
    },
    {
     "name": "stdout",
     "output_type": "stream",
     "text": [
      "align_evaluation_train_align_0.5_metric_hard_accuracy_align tensor(0.8322341442108154)\n",
      "align_evaluation_train_align_0.5_metric_hard_f1_align tensor(0.8559291362762451)\n",
      "align_evaluation_train_align_0.5_metric_hard_accuracy_align_mean tensor(0.6941467523574829)\n",
      "align_evaluation_train_align_0.5_metric_hard_f1_align_mean tensor(0.7657828330993652)\n",
      "align_evaluation_dev_align_0.5_metric_hard_accuracy_align tensor(0.5940594077110291)\n",
      "align_evaluation_dev_align_0.5_metric_hard_f1_align tensor(0.5802047848701477)\n",
      "align_evaluation_dev_align_0.5_metric_hard_accuracy_align_mean tensor(0.5676567554473877)\n",
      "align_evaluation_dev_align_0.5_metric_hard_f1_align_mean tensor(0.6478494405746460)\n",
      "evaluation_human_metric_hard_accuracy tensor(0.8691927790641785)\n",
      "evaluation_human_metric_hard_f1 tensor(0.8842943310737610)\n",
      "evaluation_mouse_metric_hard_accuracy_1 tensor(0.8692605495452881)\n",
      "evaluation_mouse_metric_hard_f1_1 tensor(0.8843203783035278)\n"
     ]
    },
    {
     "data": {
      "application/vnd.jupyter.widget-view+json": {
       "model_id": "",
       "version_major": 2,
       "version_minor": 0
      },
      "text/plain": [
       "HBox(children=(HTML(value='Current Batch:'), FloatProgress(value=0.0, max=177.0), HTML(value='')))"
      ]
     },
     "metadata": {},
     "output_type": "display_data"
    },
    {
     "name": "stdout",
     "output_type": "stream",
     "text": [
      "align_evaluation_train_align_0.5_metric_hard_accuracy_align tensor(0.8408903479576111)\n",
      "align_evaluation_train_align_0.5_metric_hard_f1_align tensor(0.8626334667205811)\n",
      "align_evaluation_train_align_0.5_metric_hard_accuracy_align_mean tensor(0.7019785642623901)\n",
      "align_evaluation_train_align_0.5_metric_hard_f1_align_mean tensor(0.7704033255577087)\n",
      "align_evaluation_dev_align_0.5_metric_hard_accuracy_align tensor(0.6072607040405273)\n",
      "align_evaluation_dev_align_0.5_metric_hard_f1_align tensor(0.5882353186607361)\n",
      "align_evaluation_dev_align_0.5_metric_hard_accuracy_align_mean tensor(0.5742574334144592)\n",
      "align_evaluation_dev_align_0.5_metric_hard_f1_align_mean tensor(0.6494565606117249)\n",
      "evaluation_human_metric_hard_accuracy tensor(0.8704994320869446)\n",
      "evaluation_human_metric_hard_f1 tensor(0.8853470087051392)\n",
      "evaluation_mouse_metric_hard_accuracy_1 tensor(0.8696293830871582)\n",
      "evaluation_mouse_metric_hard_f1_1 tensor(0.8846279978752136)\n"
     ]
    },
    {
     "data": {
      "application/vnd.jupyter.widget-view+json": {
       "model_id": "",
       "version_major": 2,
       "version_minor": 0
      },
      "text/plain": [
       "HBox(children=(HTML(value='Current Batch:'), FloatProgress(value=0.0, max=177.0), HTML(value='')))"
      ]
     },
     "metadata": {},
     "output_type": "display_data"
    },
    {
     "name": "stdout",
     "output_type": "stream",
     "text": [
      "align_evaluation_train_align_0.5_metric_hard_accuracy_align tensor(0.8417147397994995)\n",
      "align_evaluation_train_align_0.5_metric_hard_f1_align tensor(0.8632478713989258)\n",
      "align_evaluation_train_align_0.5_metric_hard_accuracy_align_mean tensor(0.7114592194557190)\n",
      "align_evaluation_train_align_0.5_metric_hard_f1_align_mean tensor(0.7760717272758484)\n",
      "align_evaluation_dev_align_0.5_metric_hard_accuracy_align tensor(0.6138613820075989)\n",
      "align_evaluation_dev_align_0.5_metric_hard_f1_align tensor(0.5937500000000000)\n",
      "align_evaluation_dev_align_0.5_metric_hard_accuracy_align_mean tensor(0.5792078971862793)\n",
      "align_evaluation_dev_align_0.5_metric_hard_f1_align_mean tensor(0.6511628031730652)\n",
      "evaluation_human_metric_hard_accuracy tensor(0.8702090382575989)\n",
      "evaluation_human_metric_hard_f1 tensor(0.8850899338722229)\n",
      "evaluation_mouse_metric_hard_accuracy_1 tensor(0.8696293830871582)\n",
      "evaluation_mouse_metric_hard_f1_1 tensor(0.8846279978752136)\n"
     ]
    },
    {
     "data": {
      "application/vnd.jupyter.widget-view+json": {
       "model_id": "",
       "version_major": 2,
       "version_minor": 0
      },
      "text/plain": [
       "HBox(children=(HTML(value='Current Batch:'), FloatProgress(value=0.0, max=177.0), HTML(value='')))"
      ]
     },
     "metadata": {},
     "output_type": "display_data"
    },
    {
     "name": "stdout",
     "output_type": "stream",
     "text": [
      "align_evaluation_train_align_0.5_metric_hard_accuracy_align tensor(0.8462489843368530)\n",
      "align_evaluation_train_align_0.5_metric_hard_f1_align tensor(0.8667380809783936)\n",
      "align_evaluation_train_align_0.5_metric_hard_accuracy_align_mean tensor(0.7188788056373596)\n",
      "align_evaluation_train_align_0.5_metric_hard_f1_align_mean tensor(0.7805663347244263)\n",
      "align_evaluation_dev_align_0.5_metric_hard_accuracy_align tensor(0.6023102402687073)\n",
      "align_evaluation_dev_align_0.5_metric_hard_f1_align tensor(0.5851979255676270)\n",
      "align_evaluation_dev_align_0.5_metric_hard_accuracy_align_mean tensor(0.5924092531204224)\n",
      "align_evaluation_dev_align_0.5_metric_hard_f1_align_mean tensor(0.6574202775955200)\n",
      "evaluation_human_metric_hard_accuracy tensor(0.8699187040328979)\n",
      "evaluation_human_metric_hard_f1 tensor(0.8848624825477600)\n",
      "evaluation_mouse_metric_hard_accuracy_1 tensor(0.8700903654098511)\n",
      "evaluation_mouse_metric_hard_f1_1 tensor(0.8850077390670776)\n"
     ]
    },
    {
     "data": {
      "application/vnd.jupyter.widget-view+json": {
       "model_id": "",
       "version_major": 2,
       "version_minor": 0
      },
      "text/plain": [
       "HBox(children=(HTML(value='Current Batch:'), FloatProgress(value=0.0, max=177.0), HTML(value='')))"
      ]
     },
     "metadata": {},
     "output_type": "display_data"
    },
    {
     "name": "stdout",
     "output_type": "stream",
     "text": [
      "align_evaluation_train_align_0.5_metric_hard_accuracy_align tensor(0.8503710031509399)\n",
      "align_evaluation_train_align_0.5_metric_hard_f1_align tensor(0.8698458671569824)\n",
      "align_evaluation_train_align_0.5_metric_hard_accuracy_align_mean tensor(0.7291838526725769)\n",
      "align_evaluation_train_align_0.5_metric_hard_f1_align_mean tensor(0.7868959307670593)\n",
      "align_evaluation_dev_align_0.5_metric_hard_accuracy_align tensor(0.6171616911888123)\n",
      "align_evaluation_dev_align_0.5_metric_hard_f1_align tensor(0.5958187580108643)\n",
      "align_evaluation_dev_align_0.5_metric_hard_accuracy_align_mean tensor(0.6122112274169922)\n",
      "align_evaluation_dev_align_0.5_metric_hard_f1_align_mean tensor(0.6694796085357666)\n",
      "evaluation_human_metric_hard_accuracy tensor(0.8699187040328979)\n",
      "evaluation_human_metric_hard_f1 tensor(0.8848624825477600)\n",
      "evaluation_mouse_metric_hard_accuracy_1 tensor(0.8716577291488647)\n",
      "evaluation_mouse_metric_hard_f1_1 tensor(0.8862373232841492)\n"
     ]
    },
    {
     "data": {
      "application/vnd.jupyter.widget-view+json": {
       "model_id": "",
       "version_major": 2,
       "version_minor": 0
      },
      "text/plain": [
       "HBox(children=(HTML(value='Current Batch:'), FloatProgress(value=0.0, max=177.0), HTML(value='')))"
      ]
     },
     "metadata": {},
     "output_type": "display_data"
    },
    {
     "name": "stdout",
     "output_type": "stream",
     "text": [
      "align_evaluation_train_align_0.5_metric_hard_accuracy_align tensor(0.8540807962417603)\n",
      "align_evaluation_train_align_0.5_metric_hard_f1_align tensor(0.8726618885993958)\n",
      "align_evaluation_train_align_0.5_metric_hard_accuracy_align_mean tensor(0.7283594608306885)\n",
      "align_evaluation_train_align_0.5_metric_hard_f1_align_mean tensor(0.7863857150077820)\n",
      "align_evaluation_dev_align_0.5_metric_hard_accuracy_align tensor(0.6171616911888123)\n",
      "align_evaluation_dev_align_0.5_metric_hard_f1_align tensor(0.5944056510925293)\n",
      "align_evaluation_dev_align_0.5_metric_hard_accuracy_align_mean tensor(0.6221122145652771)\n",
      "align_evaluation_dev_align_0.5_metric_hard_f1_align_mean tensor(0.6751772761344910)\n",
      "evaluation_human_metric_hard_accuracy tensor(0.8709349632263184)\n",
      "evaluation_human_metric_hard_f1 tensor(0.8856886029243469)\n",
      "evaluation_mouse_metric_hard_accuracy_1 tensor(0.8727641701698303)\n",
      "evaluation_mouse_metric_hard_f1_1 tensor(0.8871073126792908)\n"
     ]
    },
    {
     "data": {
      "application/vnd.jupyter.widget-view+json": {
       "model_id": "",
       "version_major": 2,
       "version_minor": 0
      },
      "text/plain": [
       "HBox(children=(HTML(value='Current Batch:'), FloatProgress(value=0.0, max=177.0), HTML(value='')))"
      ]
     },
     "metadata": {},
     "output_type": "display_data"
    },
    {
     "name": "stdout",
     "output_type": "stream",
     "text": [
      "align_evaluation_train_align_0.5_metric_hard_accuracy_align tensor(0.8536685705184937)\n",
      "align_evaluation_train_align_0.5_metric_hard_f1_align tensor(0.8723480701446533)\n",
      "align_evaluation_train_align_0.5_metric_hard_accuracy_align_mean tensor(0.7407254576683044)\n",
      "align_evaluation_train_align_0.5_metric_hard_f1_align_mean tensor(0.7941079735755920)\n",
      "align_evaluation_dev_align_0.5_metric_hard_accuracy_align tensor(0.6138613820075989)\n",
      "align_evaluation_dev_align_0.5_metric_hard_f1_align tensor(0.5923345088958740)\n",
      "align_evaluation_dev_align_0.5_metric_hard_accuracy_align_mean tensor(0.6155115365982056)\n",
      "align_evaluation_dev_align_0.5_metric_hard_f1_align_mean tensor(0.6695035696029663)\n",
      "evaluation_human_metric_hard_accuracy tensor(0.8707897663116455)\n",
      "evaluation_human_metric_hard_f1 tensor(0.8855746984481812)\n",
      "evaluation_mouse_metric_hard_accuracy_1 tensor(0.8713811635971069)\n",
      "evaluation_mouse_metric_hard_f1_1 tensor(0.8860014677047729)\n"
     ]
    },
    {
     "data": {
      "application/vnd.jupyter.widget-view+json": {
       "model_id": "",
       "version_major": 2,
       "version_minor": 0
      },
      "text/plain": [
       "HBox(children=(HTML(value='Current Batch:'), FloatProgress(value=0.0, max=177.0), HTML(value='')))"
      ]
     },
     "metadata": {},
     "output_type": "display_data"
    },
    {
     "name": "stdout",
     "output_type": "stream",
     "text": [
      "align_evaluation_train_align_0.5_metric_hard_accuracy_align tensor(0.8544930219650269)\n",
      "align_evaluation_train_align_0.5_metric_hard_f1_align tensor(0.8729758858680725)\n",
      "align_evaluation_train_align_0.5_metric_hard_accuracy_align_mean tensor(0.7464963197708130)\n",
      "align_evaluation_train_align_0.5_metric_hard_f1_align_mean tensor(0.7977638840675354)\n",
      "align_evaluation_dev_align_0.5_metric_hard_accuracy_align tensor(0.6155115365982056)\n",
      "align_evaluation_dev_align_0.5_metric_hard_f1_align tensor(0.5933681726455688)\n",
      "align_evaluation_dev_align_0.5_metric_hard_accuracy_align_mean tensor(0.6237623691558838)\n",
      "align_evaluation_dev_align_0.5_metric_hard_f1_align_mean tensor(0.6733524203300476)\n",
      "evaluation_human_metric_hard_accuracy tensor(0.8696283102035522)\n",
      "evaluation_human_metric_hard_f1 tensor(0.8846647739410400)\n",
      "evaluation_mouse_metric_hard_accuracy_1 tensor(0.8717499375343323)\n",
      "evaluation_mouse_metric_hard_f1_1 tensor(0.8863096833229065)\n"
     ]
    },
    {
     "data": {
      "application/vnd.jupyter.widget-view+json": {
       "model_id": "",
       "version_major": 2,
       "version_minor": 0
      },
      "text/plain": [
       "HBox(children=(HTML(value='Current Batch:'), FloatProgress(value=0.0, max=177.0), HTML(value='')))"
      ]
     },
     "metadata": {},
     "output_type": "display_data"
    },
    {
     "name": "stdout",
     "output_type": "stream",
     "text": [
      "align_evaluation_train_align_0.5_metric_hard_accuracy_align tensor(0.8586149811744690)\n",
      "align_evaluation_train_align_0.5_metric_hard_f1_align tensor(0.8760390281677246)\n",
      "align_evaluation_train_align_0.5_metric_hard_accuracy_align_mean tensor(0.7510305047035217)\n",
      "align_evaluation_train_align_0.5_metric_hard_f1_align_mean tensor(0.8006600737571716)\n",
      "align_evaluation_dev_align_0.5_metric_hard_accuracy_align tensor(0.6270626783370972)\n",
      "align_evaluation_dev_align_0.5_metric_hard_f1_align tensor(0.6007066369056702)\n",
      "align_evaluation_dev_align_0.5_metric_hard_accuracy_align_mean tensor(0.6254125237464905)\n",
      "align_evaluation_dev_align_0.5_metric_hard_f1_align_mean tensor(0.6743184924125671)\n",
      "evaluation_human_metric_hard_accuracy tensor(0.8697735071182251)\n",
      "evaluation_human_metric_hard_f1 tensor(0.8847784399986267)\n",
      "evaluation_mouse_metric_hard_accuracy_1 tensor(0.8725797533988953)\n",
      "evaluation_mouse_metric_hard_f1_1 tensor(0.8869622349739075)\n"
     ]
    },
    {
     "data": {
      "application/vnd.jupyter.widget-view+json": {
       "model_id": "",
       "version_major": 2,
       "version_minor": 0
      },
      "text/plain": [
       "HBox(children=(HTML(value='Current Batch:'), FloatProgress(value=0.0, max=177.0), HTML(value='')))"
      ]
     },
     "metadata": {},
     "output_type": "display_data"
    },
    {
     "name": "stdout",
     "output_type": "stream",
     "text": [
      "align_evaluation_train_align_0.5_metric_hard_accuracy_align tensor(0.8627369999885559)\n",
      "align_evaluation_train_align_0.5_metric_hard_f1_align tensor(0.8793040513992310)\n",
      "align_evaluation_train_align_0.5_metric_hard_accuracy_align_mean tensor(0.7551525235176086)\n",
      "align_evaluation_train_align_0.5_metric_hard_f1_align_mean tensor(0.8033112287521362)\n",
      "align_evaluation_dev_align_0.5_metric_hard_accuracy_align tensor(0.6155115365982056)\n",
      "align_evaluation_dev_align_0.5_metric_hard_f1_align tensor(0.5933681726455688)\n",
      "align_evaluation_dev_align_0.5_metric_hard_accuracy_align_mean tensor(0.6287128925323486)\n",
      "align_evaluation_dev_align_0.5_metric_hard_f1_align_mean tensor(0.6762589812278748)\n",
      "evaluation_human_metric_hard_accuracy tensor(0.8702090382575989)\n",
      "evaluation_human_metric_hard_f1 tensor(0.8851194977760315)\n",
      "evaluation_mouse_metric_hard_accuracy_1 tensor(0.8726719617843628)\n",
      "evaluation_mouse_metric_hard_f1_1 tensor(0.8870347142219543)\n"
     ]
    },
    {
     "data": {
      "application/vnd.jupyter.widget-view+json": {
       "model_id": "",
       "version_major": 2,
       "version_minor": 0
      },
      "text/plain": [
       "HBox(children=(HTML(value='Current Batch:'), FloatProgress(value=0.0, max=177.0), HTML(value='')))"
      ]
     },
     "metadata": {},
     "output_type": "display_data"
    },
    {
     "name": "stdout",
     "output_type": "stream",
     "text": [
      "align_evaluation_train_align_0.5_metric_hard_accuracy_align tensor(0.8631492257118225)\n",
      "align_evaluation_train_align_0.5_metric_hard_f1_align tensor(0.8796228766441345)\n",
      "align_evaluation_train_align_0.5_metric_hard_accuracy_align_mean tensor(0.7576256990432739)\n",
      "align_evaluation_train_align_0.5_metric_hard_f1_align_mean tensor(0.8049104213714600)\n",
      "align_evaluation_dev_align_0.5_metric_hard_accuracy_align tensor(0.6287128925323486)\n",
      "align_evaluation_dev_align_0.5_metric_hard_f1_align tensor(0.6017698645591736)\n",
      "align_evaluation_dev_align_0.5_metric_hard_accuracy_align_mean tensor(0.6386138796806335)\n",
      "align_evaluation_dev_align_0.5_metric_hard_f1_align_mean tensor(0.6821480393409729)\n",
      "evaluation_human_metric_hard_accuracy tensor(0.8703542351722717)\n",
      "evaluation_human_metric_hard_f1 tensor(0.8852332830429077)\n",
      "evaluation_mouse_metric_hard_accuracy_1 tensor(0.8733173608779907)\n",
      "evaluation_mouse_metric_hard_f1_1 tensor(0.8875429630279541)\n"
     ]
    },
    {
     "data": {
      "application/vnd.jupyter.widget-view+json": {
       "model_id": "",
       "version_major": 2,
       "version_minor": 0
      },
      "text/plain": [
       "HBox(children=(HTML(value='Current Batch:'), FloatProgress(value=0.0, max=177.0), HTML(value='')))"
      ]
     },
     "metadata": {},
     "output_type": "display_data"
    },
    {
     "name": "stdout",
     "output_type": "stream",
     "text": [
      "align_evaluation_train_align_0.5_metric_hard_accuracy_align tensor(0.8672712445259094)\n",
      "align_evaluation_train_align_0.5_metric_hard_f1_align tensor(0.8828238844871521)\n",
      "align_evaluation_train_align_0.5_metric_hard_accuracy_align_mean tensor(0.7605111002922058)\n",
      "align_evaluation_train_align_0.5_metric_hard_f1_align_mean tensor(0.8067841529846191)\n",
      "align_evaluation_dev_align_0.5_metric_hard_accuracy_align tensor(0.6254125237464905)\n",
      "align_evaluation_dev_align_0.5_metric_hard_f1_align tensor(0.5982300639152527)\n",
      "align_evaluation_dev_align_0.5_metric_hard_accuracy_align_mean tensor(0.6369637250900269)\n",
      "align_evaluation_dev_align_0.5_metric_hard_f1_align_mean tensor(0.6793003678321838)\n",
      "evaluation_human_metric_hard_accuracy tensor(0.8699187040328979)\n",
      "evaluation_human_metric_hard_f1 tensor(0.8848921060562134)\n",
      "evaluation_mouse_metric_hard_accuracy_1 tensor(0.8728563785552979)\n",
      "evaluation_mouse_metric_hard_f1_1 tensor(0.8871799707412720)\n"
     ]
    },
    {
     "data": {
      "application/vnd.jupyter.widget-view+json": {
       "model_id": "",
       "version_major": 2,
       "version_minor": 0
      },
      "text/plain": [
       "HBox(children=(HTML(value='Current Batch:'), FloatProgress(value=0.0, max=177.0), HTML(value='')))"
      ]
     },
     "metadata": {},
     "output_type": "display_data"
    },
    {
     "name": "stdout",
     "output_type": "stream",
     "text": [
      "align_evaluation_train_align_0.5_metric_hard_accuracy_align tensor(0.8685078024864197)\n",
      "align_evaluation_train_align_0.5_metric_hard_f1_align tensor(0.8837887048721313)\n",
      "align_evaluation_train_align_0.5_metric_hard_accuracy_align_mean tensor(0.7675185203552246)\n",
      "align_evaluation_train_align_0.5_metric_hard_f1_align_mean tensor(0.8113712072372437)\n",
      "align_evaluation_dev_align_0.5_metric_hard_accuracy_align tensor(0.6254125237464905)\n",
      "align_evaluation_dev_align_0.5_metric_hard_f1_align tensor(0.5982300639152527)\n",
      "align_evaluation_dev_align_0.5_metric_hard_accuracy_align_mean tensor(0.6386138796806335)\n",
      "align_evaluation_dev_align_0.5_metric_hard_f1_align_mean tensor(0.6793558001518250)\n",
      "evaluation_human_metric_hard_accuracy tensor(0.8706446290016174)\n",
      "evaluation_human_metric_hard_f1 tensor(0.8854609131813049)\n",
      "evaluation_mouse_metric_hard_accuracy_1 tensor(0.8733173608779907)\n",
      "evaluation_mouse_metric_hard_f1_1 tensor(0.8875429630279541)\n"
     ]
    },
    {
     "data": {
      "application/vnd.jupyter.widget-view+json": {
       "model_id": "",
       "version_major": 2,
       "version_minor": 0
      },
      "text/plain": [
       "HBox(children=(HTML(value='Current Batch:'), FloatProgress(value=0.0, max=177.0), HTML(value='')))"
      ]
     },
     "metadata": {},
     "output_type": "display_data"
    },
    {
     "name": "stdout",
     "output_type": "stream",
     "text": [
      "align_evaluation_train_align_0.5_metric_hard_accuracy_align tensor(0.8693322539329529)\n",
      "align_evaluation_train_align_0.5_metric_hard_f1_align tensor(0.8844330906867981)\n",
      "align_evaluation_train_align_0.5_metric_hard_accuracy_align_mean tensor(0.7716405391693115)\n",
      "align_evaluation_train_align_0.5_metric_hard_f1_align_mean tensor(0.8140939474105835)\n",
      "align_evaluation_dev_align_0.5_metric_hard_accuracy_align tensor(0.6320132017135620)\n",
      "align_evaluation_dev_align_0.5_metric_hard_f1_align tensor(0.6024955511093140)\n",
      "align_evaluation_dev_align_0.5_metric_hard_accuracy_align_mean tensor(0.6402640342712402)\n",
      "align_evaluation_dev_align_0.5_metric_hard_f1_align_mean tensor(0.6794117689132690)\n",
      "evaluation_human_metric_hard_accuracy tensor(0.8699187040328979)\n",
      "evaluation_human_metric_hard_f1 tensor(0.8848921060562134)\n",
      "evaluation_mouse_metric_hard_accuracy_1 tensor(0.8735939264297485)\n",
      "evaluation_mouse_metric_hard_f1_1 tensor(0.8877609372138977)\n"
     ]
    },
    {
     "data": {
      "application/vnd.jupyter.widget-view+json": {
       "model_id": "",
       "version_major": 2,
       "version_minor": 0
      },
      "text/plain": [
       "HBox(children=(HTML(value='Current Batch:'), FloatProgress(value=0.0, max=177.0), HTML(value='')))"
      ]
     },
     "metadata": {},
     "output_type": "display_data"
    },
    {
     "name": "stdout",
     "output_type": "stream",
     "text": [
      "align_evaluation_train_align_0.5_metric_hard_accuracy_align tensor(0.8709810376167297)\n",
      "align_evaluation_train_align_0.5_metric_hard_f1_align tensor(0.8857247233390808)\n",
      "align_evaluation_train_align_0.5_metric_hard_accuracy_align_mean tensor(0.7753503918647766)\n",
      "align_evaluation_train_align_0.5_metric_hard_f1_align_mean tensor(0.8165600895881653)\n",
      "align_evaluation_dev_align_0.5_metric_hard_accuracy_align tensor(0.6303630471229553)\n",
      "align_evaluation_dev_align_0.5_metric_hard_f1_align tensor(0.6014235019683838)\n",
      "align_evaluation_dev_align_0.5_metric_hard_accuracy_align_mean tensor(0.6468647122383118)\n",
      "align_evaluation_dev_align_0.5_metric_hard_f1_align_mean tensor(0.6834319233894348)\n",
      "evaluation_human_metric_hard_accuracy tensor(0.8696283102035522)\n",
      "evaluation_human_metric_hard_f1 tensor(0.8846647739410400)\n",
      "evaluation_mouse_metric_hard_accuracy_1 tensor(0.8740549683570862)\n",
      "evaluation_mouse_metric_hard_f1_1 tensor(0.8881244659423828)\n"
     ]
    },
    {
     "data": {
      "application/vnd.jupyter.widget-view+json": {
       "model_id": "",
       "version_major": 2,
       "version_minor": 0
      },
      "text/plain": [
       "HBox(children=(HTML(value='Current Batch:'), FloatProgress(value=0.0, max=177.0), HTML(value='')))"
      ]
     },
     "metadata": {},
     "output_type": "display_data"
    },
    {
     "name": "stdout",
     "output_type": "stream",
     "text": [
      "align_evaluation_train_align_0.5_metric_hard_accuracy_align tensor(0.8718054294586182)\n",
      "align_evaluation_train_align_0.5_metric_hard_f1_align tensor(0.8863719105720520)\n",
      "align_evaluation_train_align_0.5_metric_hard_accuracy_align_mean tensor(0.7827699780464172)\n",
      "align_evaluation_train_align_0.5_metric_hard_f1_align_mean tensor(0.8215374350547791)\n",
      "align_evaluation_dev_align_0.5_metric_hard_accuracy_align tensor(0.6287128925323486)\n",
      "align_evaluation_dev_align_0.5_metric_hard_f1_align tensor(0.5989304780960083)\n",
      "align_evaluation_dev_align_0.5_metric_hard_accuracy_align_mean tensor(0.6452144980430603)\n",
      "align_evaluation_dev_align_0.5_metric_hard_f1_align_mean tensor(0.6824224591255188)\n",
      "evaluation_human_metric_hard_accuracy tensor(0.8704994320869446)\n",
      "evaluation_human_metric_hard_f1 tensor(0.8853470087051392)\n",
      "evaluation_mouse_metric_hard_accuracy_1 tensor(0.8742393255233765)\n",
      "evaluation_mouse_metric_hard_f1_1 tensor(0.8882700204849243)\n"
     ]
    },
    {
     "data": {
      "application/vnd.jupyter.widget-view+json": {
       "model_id": "",
       "version_major": 2,
       "version_minor": 0
      },
      "text/plain": [
       "HBox(children=(HTML(value='Current Batch:'), FloatProgress(value=0.0, max=177.0), HTML(value='')))"
      ]
     },
     "metadata": {},
     "output_type": "display_data"
    },
    {
     "name": "stdout",
     "output_type": "stream",
     "text": [
      "align_evaluation_train_align_0.5_metric_hard_accuracy_align tensor(0.8742786645889282)\n",
      "align_evaluation_train_align_0.5_metric_hard_f1_align tensor(0.8883193135261536)\n",
      "align_evaluation_train_align_0.5_metric_hard_accuracy_align_mean tensor(0.7815333604812622)\n",
      "align_evaluation_train_align_0.5_metric_hard_f1_align_mean tensor(0.8207036256790161)\n",
      "align_evaluation_dev_align_0.5_metric_hard_accuracy_align tensor(0.6270626783370972)\n",
      "align_evaluation_dev_align_0.5_metric_hard_f1_align tensor(0.5978648066520691)\n",
      "align_evaluation_dev_align_0.5_metric_hard_accuracy_align_mean tensor(0.6518151760101318)\n",
      "align_evaluation_dev_align_0.5_metric_hard_f1_align_mean tensor(0.6864784359931946)\n",
      "evaluation_human_metric_hard_accuracy tensor(0.8702090382575989)\n",
      "evaluation_human_metric_hard_f1 tensor(0.8851194977760315)\n",
      "evaluation_mouse_metric_hard_accuracy_1 tensor(0.8740549683570862)\n",
      "evaluation_mouse_metric_hard_f1_1 tensor(0.8881244659423828)\n"
     ]
    },
    {
     "data": {
      "application/vnd.jupyter.widget-view+json": {
       "model_id": "",
       "version_major": 2,
       "version_minor": 0
      },
      "text/plain": [
       "HBox(children=(HTML(value='Current Batch:'), FloatProgress(value=0.0, max=177.0), HTML(value='')))"
      ]
     },
     "metadata": {},
     "output_type": "display_data"
    },
    {
     "name": "stdout",
     "output_type": "stream",
     "text": [
      "align_evaluation_train_align_0.5_metric_hard_accuracy_align tensor(0.8779884576797485)\n",
      "align_evaluation_train_align_0.5_metric_hard_f1_align tensor(0.8912564516067505)\n",
      "align_evaluation_train_align_0.5_metric_hard_accuracy_align_mean tensor(0.7856553792953491)\n",
      "align_evaluation_train_align_0.5_metric_hard_f1_align_mean tensor(0.8234894275665283)\n",
      "align_evaluation_dev_align_0.5_metric_hard_accuracy_align tensor(0.6287128925323486)\n",
      "align_evaluation_dev_align_0.5_metric_hard_f1_align tensor(0.6003552079200745)\n",
      "align_evaluation_dev_align_0.5_metric_hard_accuracy_align_mean tensor(0.6485148668289185)\n",
      "align_evaluation_dev_align_0.5_metric_hard_f1_align_mean tensor(0.6844444870948792)\n",
      "evaluation_human_metric_hard_accuracy tensor(0.8697735071182251)\n",
      "evaluation_human_metric_hard_f1 tensor(0.8847784399986267)\n",
      "evaluation_mouse_metric_hard_accuracy_1 tensor(0.8744237422943115)\n",
      "evaluation_mouse_metric_hard_f1_1 tensor(0.8884155750274658)\n"
     ]
    },
    {
     "data": {
      "application/vnd.jupyter.widget-view+json": {
       "model_id": "",
       "version_major": 2,
       "version_minor": 0
      },
      "text/plain": [
       "HBox(children=(HTML(value='Current Batch:'), FloatProgress(value=0.0, max=177.0), HTML(value='')))"
      ]
     },
     "metadata": {},
     "output_type": "display_data"
    },
    {
     "name": "stdout",
     "output_type": "stream",
     "text": [
      "align_evaluation_train_align_0.5_metric_hard_accuracy_align tensor(0.8779884576797485)\n",
      "align_evaluation_train_align_0.5_metric_hard_f1_align tensor(0.8912564516067505)\n",
      "align_evaluation_train_align_0.5_metric_hard_accuracy_align_mean tensor(0.7885407805442810)\n",
      "align_evaluation_train_align_0.5_metric_hard_f1_align_mean tensor(0.8254508972167969)\n",
      "align_evaluation_dev_align_0.5_metric_hard_accuracy_align tensor(0.6303630471229553)\n",
      "align_evaluation_dev_align_0.5_metric_hard_f1_align tensor(0.6014235019683838)\n",
      "align_evaluation_dev_align_0.5_metric_hard_accuracy_align_mean tensor(0.6518151760101318)\n",
      "align_evaluation_dev_align_0.5_metric_hard_f1_align_mean tensor(0.6864784359931946)\n",
      "evaluation_human_metric_hard_accuracy tensor(0.8699187040328979)\n",
      "evaluation_human_metric_hard_f1 tensor(0.8848921060562134)\n",
      "evaluation_mouse_metric_hard_accuracy_1 tensor(0.8744237422943115)\n",
      "evaluation_mouse_metric_hard_f1_1 tensor(0.8884155750274658)\n"
     ]
    },
    {
     "data": {
      "application/vnd.jupyter.widget-view+json": {
       "model_id": "",
       "version_major": 2,
       "version_minor": 0
      },
      "text/plain": [
       "HBox(children=(HTML(value='Current Batch:'), FloatProgress(value=0.0, max=177.0), HTML(value='')))"
      ]
     },
     "metadata": {},
     "output_type": "display_data"
    },
    {
     "name": "stdout",
     "output_type": "stream",
     "text": [
      "align_evaluation_train_align_0.5_metric_hard_accuracy_align tensor(0.8788128495216370)\n",
      "align_evaluation_train_align_0.5_metric_hard_f1_align tensor(0.8919117450714111)\n",
      "align_evaluation_train_align_0.5_metric_hard_accuracy_align_mean tensor(0.7897773981094360)\n",
      "align_evaluation_train_align_0.5_metric_hard_f1_align_mean tensor(0.8262943029403687)\n",
      "align_evaluation_dev_align_0.5_metric_hard_accuracy_align tensor(0.6303630471229553)\n",
      "align_evaluation_dev_align_0.5_metric_hard_f1_align tensor(0.6014235019683838)\n",
      "align_evaluation_dev_align_0.5_metric_hard_accuracy_align_mean tensor(0.6567656993865967)\n",
      "align_evaluation_dev_align_0.5_metric_hard_f1_align_mean tensor(0.6895523071289062)\n",
      "evaluation_human_metric_hard_accuracy tensor(0.8702090382575989)\n",
      "evaluation_human_metric_hard_f1 tensor(0.8851194977760315)\n",
      "evaluation_mouse_metric_hard_accuracy_1 tensor(0.8743315339088440)\n",
      "evaluation_mouse_metric_hard_f1_1 tensor(0.8883427381515503)\n"
     ]
    },
    {
     "data": {
      "application/vnd.jupyter.widget-view+json": {
       "model_id": "",
       "version_major": 2,
       "version_minor": 0
      },
      "text/plain": [
       "HBox(children=(HTML(value='Current Batch:'), FloatProgress(value=0.0, max=177.0), HTML(value='')))"
      ]
     },
     "metadata": {},
     "output_type": "display_data"
    },
    {
     "name": "stdout",
     "output_type": "stream",
     "text": [
      "align_evaluation_train_align_0.5_metric_hard_accuracy_align tensor(0.8816982507705688)\n",
      "align_evaluation_train_align_0.5_metric_hard_f1_align tensor(0.8942130208015442)\n",
      "align_evaluation_train_align_0.5_metric_hard_accuracy_align_mean tensor(0.7897773981094360)\n",
      "align_evaluation_train_align_0.5_metric_hard_f1_align_mean tensor(0.8262943029403687)\n",
      "align_evaluation_dev_align_0.5_metric_hard_accuracy_align tensor(0.6336633563041687)\n",
      "align_evaluation_dev_align_0.5_metric_hard_f1_align tensor(0.6035714745521545)\n",
      "align_evaluation_dev_align_0.5_metric_hard_accuracy_align_mean tensor(0.6567656993865967)\n",
      "align_evaluation_dev_align_0.5_metric_hard_f1_align_mean tensor(0.6895523071289062)\n",
      "evaluation_human_metric_hard_accuracy tensor(0.8697735071182251)\n",
      "evaluation_human_metric_hard_f1 tensor(0.8847784399986267)\n",
      "evaluation_mouse_metric_hard_accuracy_1 tensor(0.8740549683570862)\n",
      "evaluation_mouse_metric_hard_f1_1 tensor(0.8881244659423828)\n"
     ]
    },
    {
     "data": {
      "application/vnd.jupyter.widget-view+json": {
       "model_id": "",
       "version_major": 2,
       "version_minor": 0
      },
      "text/plain": [
       "HBox(children=(HTML(value='Current Batch:'), FloatProgress(value=0.0, max=177.0), HTML(value='')))"
      ]
     },
     "metadata": {},
     "output_type": "display_data"
    },
    {
     "name": "stdout",
     "output_type": "stream",
     "text": [
      "align_evaluation_train_align_0.5_metric_hard_accuracy_align tensor(0.8808738589286804)\n",
      "align_evaluation_train_align_0.5_metric_hard_f1_align tensor(0.8935543298721313)\n",
      "align_evaluation_train_align_0.5_metric_hard_accuracy_align_mean tensor(0.7922506332397461)\n",
      "align_evaluation_train_align_0.5_metric_hard_f1_align_mean tensor(0.8279863595962524)\n",
      "align_evaluation_dev_align_0.5_metric_hard_accuracy_align tensor(0.6303630471229553)\n",
      "align_evaluation_dev_align_0.5_metric_hard_f1_align tensor(0.6014235019683838)\n",
      "align_evaluation_dev_align_0.5_metric_hard_accuracy_align_mean tensor(0.6584158539772034)\n",
      "align_evaluation_dev_align_0.5_metric_hard_f1_align_mean tensor(0.6905829906463623)\n",
      "evaluation_human_metric_hard_accuracy tensor(0.8691927790641785)\n",
      "evaluation_human_metric_hard_f1 tensor(0.8843240141868591)\n",
      "evaluation_mouse_metric_hard_accuracy_1 tensor(0.8741471767425537)\n",
      "evaluation_mouse_metric_hard_f1_1 tensor(0.8881971836090088)\n"
     ]
    },
    {
     "data": {
      "application/vnd.jupyter.widget-view+json": {
       "model_id": "",
       "version_major": 2,
       "version_minor": 0
      },
      "text/plain": [
       "HBox(children=(HTML(value='Current Batch:'), FloatProgress(value=0.0, max=177.0), HTML(value='')))"
      ]
     },
     "metadata": {},
     "output_type": "display_data"
    },
    {
     "name": "stdout",
     "output_type": "stream",
     "text": [
      "align_evaluation_train_align_0.5_metric_hard_accuracy_align tensor(0.8808738589286804)\n",
      "align_evaluation_train_align_0.5_metric_hard_f1_align tensor(0.8935543298721313)\n",
      "align_evaluation_train_align_0.5_metric_hard_accuracy_align_mean tensor(0.7943116426467896)\n",
      "align_evaluation_train_align_0.5_metric_hard_f1_align_mean tensor(0.8294017314910889)\n",
      "align_evaluation_dev_align_0.5_metric_hard_accuracy_align tensor(0.6320132017135620)\n",
      "align_evaluation_dev_align_0.5_metric_hard_f1_align tensor(0.6024955511093140)\n",
      "align_evaluation_dev_align_0.5_metric_hard_accuracy_align_mean tensor(0.6666666865348816)\n",
      "align_evaluation_dev_align_0.5_metric_hard_f1_align_mean tensor(0.6957831382751465)\n",
      "evaluation_human_metric_hard_accuracy tensor(0.8693379759788513)\n",
      "evaluation_human_metric_hard_f1 tensor(0.8844376206398010)\n",
      "evaluation_mouse_metric_hard_accuracy_1 tensor(0.8743315339088440)\n",
      "evaluation_mouse_metric_hard_f1_1 tensor(0.8883427381515503)\n"
     ]
    },
    {
     "data": {
      "application/vnd.jupyter.widget-view+json": {
       "model_id": "",
       "version_major": 2,
       "version_minor": 0
      },
      "text/plain": [
       "HBox(children=(HTML(value='Current Batch:'), FloatProgress(value=0.0, max=177.0), HTML(value='')))"
      ]
     },
     "metadata": {},
     "output_type": "display_data"
    },
    {
     "name": "stdout",
     "output_type": "stream",
     "text": [
      "align_evaluation_train_align_0.5_metric_hard_accuracy_align tensor(0.8808738589286804)\n",
      "align_evaluation_train_align_0.5_metric_hard_f1_align tensor(0.8935543298721313)\n",
      "align_evaluation_train_align_0.5_metric_hard_accuracy_align_mean tensor(0.7947238087654114)\n",
      "align_evaluation_train_align_0.5_metric_hard_f1_align_mean tensor(0.8296853303909302)\n",
      "align_evaluation_dev_align_0.5_metric_hard_accuracy_align tensor(0.6320132017135620)\n",
      "align_evaluation_dev_align_0.5_metric_hard_f1_align tensor(0.6024955511093140)\n",
      "align_evaluation_dev_align_0.5_metric_hard_accuracy_align_mean tensor(0.6666666865348816)\n",
      "align_evaluation_dev_align_0.5_metric_hard_f1_align_mean tensor(0.6957831382751465)\n",
      "evaluation_human_metric_hard_accuracy tensor(0.8696283102035522)\n",
      "evaluation_human_metric_hard_f1 tensor(0.8846647739410400)\n",
      "evaluation_mouse_metric_hard_accuracy_1 tensor(0.8745159506797791)\n",
      "evaluation_mouse_metric_hard_f1_1 tensor(0.8884882926940918)\n"
     ]
    },
    {
     "data": {
      "application/vnd.jupyter.widget-view+json": {
       "model_id": "",
       "version_major": 2,
       "version_minor": 0
      },
      "text/plain": [
       "HBox(children=(HTML(value='Current Batch:'), FloatProgress(value=0.0, max=177.0), HTML(value='')))"
      ]
     },
     "metadata": {},
     "output_type": "display_data"
    },
    {
     "name": "stdout",
     "output_type": "stream",
     "text": [
      "align_evaluation_train_align_0.5_metric_hard_accuracy_align tensor(0.8816982507705688)\n",
      "align_evaluation_train_align_0.5_metric_hard_f1_align tensor(0.8942130208015442)\n",
      "align_evaluation_train_align_0.5_metric_hard_accuracy_align_mean tensor(0.7947238087654114)\n",
      "align_evaluation_train_align_0.5_metric_hard_f1_align_mean tensor(0.8296853303909302)\n",
      "align_evaluation_dev_align_0.5_metric_hard_accuracy_align tensor(0.6320132017135620)\n",
      "align_evaluation_dev_align_0.5_metric_hard_f1_align tensor(0.6024955511093140)\n",
      "align_evaluation_dev_align_0.5_metric_hard_accuracy_align_mean tensor(0.6650164723396301)\n",
      "align_evaluation_dev_align_0.5_metric_hard_f1_align_mean tensor(0.6947368383407593)\n",
      "evaluation_human_metric_hard_accuracy tensor(0.8700639009475708)\n",
      "evaluation_human_metric_hard_f1 tensor(0.8850058317184448)\n",
      "evaluation_mouse_metric_hard_accuracy_1 tensor(0.8736861348152161)\n",
      "evaluation_mouse_metric_hard_f1_1 tensor(0.8878336548805237)\n"
     ]
    },
    {
     "data": {
      "application/vnd.jupyter.widget-view+json": {
       "model_id": "",
       "version_major": 2,
       "version_minor": 0
      },
      "text/plain": [
       "HBox(children=(HTML(value='Current Batch:'), FloatProgress(value=0.0, max=177.0), HTML(value='')))"
      ]
     },
     "metadata": {},
     "output_type": "display_data"
    },
    {
     "name": "stdout",
     "output_type": "stream",
     "text": [
      "align_evaluation_train_align_0.5_metric_hard_accuracy_align tensor(0.8825226426124573)\n",
      "align_evaluation_train_align_0.5_metric_hard_f1_align tensor(0.8948727846145630)\n",
      "align_evaluation_train_align_0.5_metric_hard_accuracy_align_mean tensor(0.7967848181724548)\n",
      "align_evaluation_train_align_0.5_metric_hard_f1_align_mean tensor(0.8311065435409546)\n",
      "align_evaluation_dev_align_0.5_metric_hard_accuracy_align tensor(0.6336633563041687)\n",
      "align_evaluation_dev_align_0.5_metric_hard_f1_align tensor(0.6035714745521545)\n",
      "align_evaluation_dev_align_0.5_metric_hard_accuracy_align_mean tensor(0.6683168411254883)\n",
      "align_evaluation_dev_align_0.5_metric_hard_f1_align_mean tensor(0.6968325376510620)\n",
      "evaluation_human_metric_hard_accuracy tensor(0.8696283102035522)\n",
      "evaluation_human_metric_hard_f1 tensor(0.8846647739410400)\n",
      "evaluation_mouse_metric_hard_accuracy_1 tensor(0.8743315339088440)\n",
      "evaluation_mouse_metric_hard_f1_1 tensor(0.8883427381515503)\n"
     ]
    },
    {
     "data": {
      "application/vnd.jupyter.widget-view+json": {
       "model_id": "",
       "version_major": 2,
       "version_minor": 0
      },
      "text/plain": [
       "HBox(children=(HTML(value='Current Batch:'), FloatProgress(value=0.0, max=177.0), HTML(value='')))"
      ]
     },
     "metadata": {},
     "output_type": "display_data"
    },
    {
     "name": "stdout",
     "output_type": "stream",
     "text": [
      "align_evaluation_train_align_0.5_metric_hard_accuracy_align tensor(0.8833470940589905)\n",
      "align_evaluation_train_align_0.5_metric_hard_f1_align tensor(0.8955333828926086)\n",
      "align_evaluation_train_align_0.5_metric_hard_accuracy_align_mean tensor(0.7971970438957214)\n",
      "align_evaluation_train_align_0.5_metric_hard_f1_align_mean tensor(0.8313913345336914)\n",
      "align_evaluation_dev_align_0.5_metric_hard_accuracy_align tensor(0.6353135108947754)\n",
      "align_evaluation_dev_align_0.5_metric_hard_f1_align tensor(0.6046512126922607)\n",
      "align_evaluation_dev_align_0.5_metric_hard_accuracy_align_mean tensor(0.6699669957160950)\n",
      "align_evaluation_dev_align_0.5_metric_hard_f1_align_mean tensor(0.6978852152824402)\n",
      "evaluation_human_metric_hard_accuracy tensor(0.8693379759788513)\n",
      "evaluation_human_metric_hard_f1 tensor(0.8844376206398010)\n",
      "evaluation_mouse_metric_hard_accuracy_1 tensor(0.8743315339088440)\n",
      "evaluation_mouse_metric_hard_f1_1 tensor(0.8883427381515503)\n"
     ]
    },
    {
     "data": {
      "application/vnd.jupyter.widget-view+json": {
       "model_id": "",
       "version_major": 2,
       "version_minor": 0
      },
      "text/plain": [
       "HBox(children=(HTML(value='Current Batch:'), FloatProgress(value=0.0, max=177.0), HTML(value='')))"
      ]
     },
     "metadata": {},
     "output_type": "display_data"
    },
    {
     "name": "stdout",
     "output_type": "stream",
     "text": [
      "align_evaluation_train_align_0.5_metric_hard_accuracy_align tensor(0.8837592601776123)\n",
      "align_evaluation_train_align_0.5_metric_hard_f1_align tensor(0.8958640694618225)\n",
      "align_evaluation_train_align_0.5_metric_hard_accuracy_align_mean tensor(0.7984336614608765)\n",
      "align_evaluation_train_align_0.5_metric_hard_f1_align_mean tensor(0.8322470188140869)\n",
      "align_evaluation_dev_align_0.5_metric_hard_accuracy_align tensor(0.6353135108947754)\n",
      "align_evaluation_dev_align_0.5_metric_hard_f1_align tensor(0.6046512126922607)\n",
      "align_evaluation_dev_align_0.5_metric_hard_accuracy_align_mean tensor(0.6683168411254883)\n",
      "align_evaluation_dev_align_0.5_metric_hard_f1_align_mean tensor(0.6968325376510620)\n",
      "evaluation_human_metric_hard_accuracy tensor(0.8691927790641785)\n",
      "evaluation_human_metric_hard_f1 tensor(0.8843240141868591)\n",
      "evaluation_mouse_metric_hard_accuracy_1 tensor(0.8745159506797791)\n",
      "evaluation_mouse_metric_hard_f1_1 tensor(0.8884882926940918)\n"
     ]
    },
    {
     "data": {
      "application/vnd.jupyter.widget-view+json": {
       "model_id": "",
       "version_major": 2,
       "version_minor": 0
      },
      "text/plain": [
       "HBox(children=(HTML(value='Current Batch:'), FloatProgress(value=0.0, max=177.0), HTML(value='')))"
      ]
     },
     "metadata": {},
     "output_type": "display_data"
    },
    {
     "name": "stdout",
     "output_type": "stream",
     "text": [
      "align_evaluation_train_align_0.5_metric_hard_accuracy_align tensor(0.8837592601776123)\n",
      "align_evaluation_train_align_0.5_metric_hard_f1_align tensor(0.8958640694618225)\n",
      "align_evaluation_train_align_0.5_metric_hard_accuracy_align_mean tensor(0.7996702194213867)\n",
      "align_evaluation_train_align_0.5_metric_hard_f1_align_mean tensor(0.8331043720245361)\n",
      "align_evaluation_dev_align_0.5_metric_hard_accuracy_align tensor(0.6336633563041687)\n",
      "align_evaluation_dev_align_0.5_metric_hard_f1_align tensor(0.6035714745521545)\n",
      "align_evaluation_dev_align_0.5_metric_hard_accuracy_align_mean tensor(0.6732673048973083)\n",
      "align_evaluation_dev_align_0.5_metric_hard_f1_align_mean tensor(0.7000000476837158)\n",
      "evaluation_human_metric_hard_accuracy tensor(0.8696283102035522)\n",
      "evaluation_human_metric_hard_f1 tensor(0.8846647739410400)\n",
      "evaluation_mouse_metric_hard_accuracy_1 tensor(0.8741471767425537)\n",
      "evaluation_mouse_metric_hard_f1_1 tensor(0.8881971836090088)\n"
     ]
    },
    {
     "data": {
      "application/vnd.jupyter.widget-view+json": {
       "model_id": "",
       "version_major": 2,
       "version_minor": 0
      },
      "text/plain": [
       "HBox(children=(HTML(value='Current Batch:'), FloatProgress(value=0.0, max=177.0), HTML(value='')))"
      ]
     },
     "metadata": {},
     "output_type": "display_data"
    },
    {
     "name": "stdout",
     "output_type": "stream",
     "text": [
      "align_evaluation_train_align_0.5_metric_hard_accuracy_align tensor(0.8841714859008789)\n",
      "align_evaluation_train_align_0.5_metric_hard_f1_align tensor(0.8961950540542603)\n",
      "align_evaluation_train_align_0.5_metric_hard_accuracy_align_mean tensor(0.8004946708679199)\n",
      "align_evaluation_train_align_0.5_metric_hard_f1_align_mean tensor(0.8336769938468933)\n",
      "align_evaluation_dev_align_0.5_metric_hard_accuracy_align tensor(0.6353135108947754)\n",
      "align_evaluation_dev_align_0.5_metric_hard_f1_align tensor(0.6032316088676453)\n",
      "align_evaluation_dev_align_0.5_metric_hard_accuracy_align_mean tensor(0.6749175190925598)\n",
      "align_evaluation_dev_align_0.5_metric_hard_f1_align_mean tensor(0.7010622024536133)\n",
      "evaluation_human_metric_hard_accuracy tensor(0.8696283102035522)\n",
      "evaluation_human_metric_hard_f1 tensor(0.8846647739410400)\n",
      "evaluation_mouse_metric_hard_accuracy_1 tensor(0.8737783432006836)\n",
      "evaluation_mouse_metric_hard_f1_1 tensor(0.8879063129425049)\n"
     ]
    },
    {
     "data": {
      "application/vnd.jupyter.widget-view+json": {
       "model_id": "",
       "version_major": 2,
       "version_minor": 0
      },
      "text/plain": [
       "HBox(children=(HTML(value='Current Batch:'), FloatProgress(value=0.0, max=177.0), HTML(value='')))"
      ]
     },
     "metadata": {},
     "output_type": "display_data"
    },
    {
     "name": "stdout",
     "output_type": "stream",
     "text": [
      "align_evaluation_train_align_0.5_metric_hard_accuracy_align tensor(0.8845836520195007)\n",
      "align_evaluation_train_align_0.5_metric_hard_f1_align tensor(0.8965262770652771)\n",
      "align_evaluation_train_align_0.5_metric_hard_accuracy_align_mean tensor(0.8009068369865417)\n",
      "align_evaluation_train_align_0.5_metric_hard_f1_align_mean tensor(0.8339635729789734)\n",
      "align_evaluation_dev_align_0.5_metric_hard_accuracy_align tensor(0.6303630471229553)\n",
      "align_evaluation_dev_align_0.5_metric_hard_f1_align tensor(0.5985662937164307)\n",
      "align_evaluation_dev_align_0.5_metric_hard_accuracy_align_mean tensor(0.6749175190925598)\n",
      "align_evaluation_dev_align_0.5_metric_hard_f1_align_mean tensor(0.7010622024536133)\n",
      "evaluation_human_metric_hard_accuracy tensor(0.8694831728935242)\n",
      "evaluation_human_metric_hard_f1 tensor(0.8845511674880981)\n",
      "evaluation_mouse_metric_hard_accuracy_1 tensor(0.8735939264297485)\n",
      "evaluation_mouse_metric_hard_f1_1 tensor(0.8877609372138977)\n"
     ]
    },
    {
     "data": {
      "application/vnd.jupyter.widget-view+json": {
       "model_id": "",
       "version_major": 2,
       "version_minor": 0
      },
      "text/plain": [
       "HBox(children=(HTML(value='Current Batch:'), FloatProgress(value=0.0, max=177.0), HTML(value='')))"
      ]
     },
     "metadata": {},
     "output_type": "display_data"
    },
    {
     "name": "stdout",
     "output_type": "stream",
     "text": [
      "align_evaluation_train_align_0.5_metric_hard_accuracy_align tensor(0.8849958777427673)\n",
      "align_evaluation_train_align_0.5_metric_hard_f1_align tensor(0.8968576788902283)\n",
      "align_evaluation_train_align_0.5_metric_hard_accuracy_align_mean tensor(0.8017312288284302)\n",
      "align_evaluation_train_align_0.5_metric_hard_f1_align_mean tensor(0.8345373272895813)\n",
      "align_evaluation_dev_align_0.5_metric_hard_accuracy_align tensor(0.6336633563041687)\n",
      "align_evaluation_dev_align_0.5_metric_hard_f1_align tensor(0.6007194519042969)\n",
      "align_evaluation_dev_align_0.5_metric_hard_accuracy_align_mean tensor(0.6749175190925598)\n",
      "align_evaluation_dev_align_0.5_metric_hard_f1_align_mean tensor(0.7010622024536133)\n",
      "evaluation_human_metric_hard_accuracy tensor(0.8687572479248047)\n",
      "evaluation_human_metric_hard_f1 tensor(0.8839836120605469)\n",
      "evaluation_mouse_metric_hard_accuracy_1 tensor(0.8738705515861511)\n",
      "evaluation_mouse_metric_hard_f1_1 tensor(0.8879789710044861)\n"
     ]
    },
    {
     "data": {
      "application/vnd.jupyter.widget-view+json": {
       "model_id": "",
       "version_major": 2,
       "version_minor": 0
      },
      "text/plain": [
       "HBox(children=(HTML(value='Current Batch:'), FloatProgress(value=0.0, max=177.0), HTML(value='')))"
      ]
     },
     "metadata": {},
     "output_type": "display_data"
    },
    {
     "name": "stdout",
     "output_type": "stream",
     "text": [
      "align_evaluation_train_align_0.5_metric_hard_accuracy_align tensor(0.8845836520195007)\n",
      "align_evaluation_train_align_0.5_metric_hard_f1_align tensor(0.8965262770652771)\n",
      "align_evaluation_train_align_0.5_metric_hard_accuracy_align_mean tensor(0.8025556206703186)\n",
      "align_evaluation_train_align_0.5_metric_hard_f1_align_mean tensor(0.8351119160652161)\n",
      "align_evaluation_dev_align_0.5_metric_hard_accuracy_align tensor(0.6320132017135620)\n",
      "align_evaluation_dev_align_0.5_metric_hard_f1_align tensor(0.5996409654617310)\n",
      "align_evaluation_dev_align_0.5_metric_hard_accuracy_align_mean tensor(0.6749175190925598)\n",
      "align_evaluation_dev_align_0.5_metric_hard_f1_align_mean tensor(0.7010622024536133)\n",
      "evaluation_human_metric_hard_accuracy tensor(0.8690476417541504)\n",
      "evaluation_human_metric_hard_f1 tensor(0.8842105269432068)\n",
      "evaluation_mouse_metric_hard_accuracy_1 tensor(0.8737783432006836)\n",
      "evaluation_mouse_metric_hard_f1_1 tensor(0.8879063129425049)\n"
     ]
    },
    {
     "data": {
      "application/vnd.jupyter.widget-view+json": {
       "model_id": "",
       "version_major": 2,
       "version_minor": 0
      },
      "text/plain": [
       "HBox(children=(HTML(value='Current Batch:'), FloatProgress(value=0.0, max=177.0), HTML(value='')))"
      ]
     },
     "metadata": {},
     "output_type": "display_data"
    },
    {
     "name": "stdout",
     "output_type": "stream",
     "text": [
      "align_evaluation_train_align_0.5_metric_hard_accuracy_align tensor(0.8841714859008789)\n",
      "align_evaluation_train_align_0.5_metric_hard_f1_align tensor(0.8961950540542603)\n",
      "align_evaluation_train_align_0.5_metric_hard_accuracy_align_mean tensor(0.8017312288284302)\n",
      "align_evaluation_train_align_0.5_metric_hard_f1_align_mean tensor(0.8345373272895813)\n",
      "align_evaluation_dev_align_0.5_metric_hard_accuracy_align tensor(0.6303630471229553)\n",
      "align_evaluation_dev_align_0.5_metric_hard_f1_align tensor(0.5985662937164307)\n",
      "align_evaluation_dev_align_0.5_metric_hard_accuracy_align_mean tensor(0.6749175190925598)\n",
      "align_evaluation_dev_align_0.5_metric_hard_f1_align_mean tensor(0.7010622024536133)\n",
      "evaluation_human_metric_hard_accuracy tensor(0.8690476417541504)\n",
      "evaluation_human_metric_hard_f1 tensor(0.8842105269432068)\n",
      "evaluation_mouse_metric_hard_accuracy_1 tensor(0.8734095692634583)\n",
      "evaluation_mouse_metric_hard_f1_1 tensor(0.8876156210899353)\n"
     ]
    },
    {
     "data": {
      "application/vnd.jupyter.widget-view+json": {
       "model_id": "",
       "version_major": 2,
       "version_minor": 0
      },
      "text/plain": [
       "HBox(children=(HTML(value='Current Batch:'), FloatProgress(value=0.0, max=177.0), HTML(value='')))"
      ]
     },
     "metadata": {},
     "output_type": "display_data"
    },
    {
     "name": "stdout",
     "output_type": "stream",
     "text": [
      "align_evaluation_train_align_0.5_metric_hard_accuracy_align tensor(0.8841714859008789)\n",
      "align_evaluation_train_align_0.5_metric_hard_f1_align tensor(0.8961950540542603)\n",
      "align_evaluation_train_align_0.5_metric_hard_accuracy_align_mean tensor(0.8029678463935852)\n",
      "align_evaluation_train_align_0.5_metric_hard_f1_align_mean tensor(0.8353994488716125)\n",
      "align_evaluation_dev_align_0.5_metric_hard_accuracy_align tensor(0.6320132017135620)\n",
      "align_evaluation_dev_align_0.5_metric_hard_f1_align tensor(0.5996409654617310)\n",
      "align_evaluation_dev_align_0.5_metric_hard_accuracy_align_mean tensor(0.6749175190925598)\n",
      "align_evaluation_dev_align_0.5_metric_hard_f1_align_mean tensor(0.7010622024536133)\n",
      "evaluation_human_metric_hard_accuracy tensor(0.8689024448394775)\n",
      "evaluation_human_metric_hard_f1 tensor(0.8840970396995544)\n",
      "evaluation_mouse_metric_hard_accuracy_1 tensor(0.8735017776489258)\n",
      "evaluation_mouse_metric_hard_f1_1 tensor(0.8876882791519165)\n"
     ]
    },
    {
     "data": {
      "application/vnd.jupyter.widget-view+json": {
       "model_id": "",
       "version_major": 2,
       "version_minor": 0
      },
      "text/plain": [
       "HBox(children=(HTML(value='Current Batch:'), FloatProgress(value=0.0, max=177.0), HTML(value='')))"
      ]
     },
     "metadata": {},
     "output_type": "display_data"
    },
    {
     "name": "stdout",
     "output_type": "stream",
     "text": [
      "align_evaluation_train_align_0.5_metric_hard_accuracy_align tensor(0.8849958777427673)\n",
      "align_evaluation_train_align_0.5_metric_hard_f1_align tensor(0.8968576788902283)\n",
      "align_evaluation_train_align_0.5_metric_hard_accuracy_align_mean tensor(0.8037922382354736)\n",
      "align_evaluation_train_align_0.5_metric_hard_f1_align_mean tensor(0.8359752297401428)\n",
      "align_evaluation_dev_align_0.5_metric_hard_accuracy_align tensor(0.6303630471229553)\n",
      "align_evaluation_dev_align_0.5_metric_hard_f1_align tensor(0.5985662937164307)\n",
      "align_evaluation_dev_align_0.5_metric_hard_accuracy_align_mean tensor(0.6749175190925598)\n",
      "align_evaluation_dev_align_0.5_metric_hard_f1_align_mean tensor(0.7010622024536133)\n",
      "evaluation_human_metric_hard_accuracy tensor(0.8690476417541504)\n",
      "evaluation_human_metric_hard_f1 tensor(0.8842105269432068)\n",
      "evaluation_mouse_metric_hard_accuracy_1 tensor(0.8733173608779907)\n",
      "evaluation_mouse_metric_hard_f1_1 tensor(0.8875429630279541)\n"
     ]
    },
    {
     "data": {
      "application/vnd.jupyter.widget-view+json": {
       "model_id": "",
       "version_major": 2,
       "version_minor": 0
      },
      "text/plain": [
       "HBox(children=(HTML(value='Current Batch:'), FloatProgress(value=0.0, max=177.0), HTML(value='')))"
      ]
     },
     "metadata": {},
     "output_type": "display_data"
    },
    {
     "name": "stdout",
     "output_type": "stream",
     "text": [
      "align_evaluation_train_align_0.5_metric_hard_accuracy_align tensor(0.8854081034660339)\n",
      "align_evaluation_train_align_0.5_metric_hard_f1_align tensor(0.8971893787384033)\n",
      "align_evaluation_train_align_0.5_metric_hard_accuracy_align_mean tensor(0.8046166300773621)\n",
      "align_evaluation_train_align_0.5_metric_hard_f1_align_mean tensor(0.8365517258644104)\n",
      "align_evaluation_dev_align_0.5_metric_hard_accuracy_align tensor(0.6320132017135620)\n",
      "align_evaluation_dev_align_0.5_metric_hard_f1_align tensor(0.5996409654617310)\n",
      "align_evaluation_dev_align_0.5_metric_hard_accuracy_align_mean tensor(0.6749175190925598)\n",
      "align_evaluation_dev_align_0.5_metric_hard_f1_align_mean tensor(0.7010622024536133)\n",
      "evaluation_human_metric_hard_accuracy tensor(0.8690476417541504)\n",
      "evaluation_human_metric_hard_f1 tensor(0.8842105269432068)\n",
      "evaluation_mouse_metric_hard_accuracy_1 tensor(0.8734095692634583)\n",
      "evaluation_mouse_metric_hard_f1_1 tensor(0.8876156210899353)\n"
     ]
    },
    {
     "data": {
      "application/vnd.jupyter.widget-view+json": {
       "model_id": "",
       "version_major": 2,
       "version_minor": 0
      },
      "text/plain": [
       "HBox(children=(HTML(value='Current Batch:'), FloatProgress(value=0.0, max=177.0), HTML(value='')))"
      ]
     },
     "metadata": {},
     "output_type": "display_data"
    },
    {
     "name": "stdout",
     "output_type": "stream",
     "text": [
      "align_evaluation_train_align_0.5_metric_hard_accuracy_align tensor(0.8862324953079224)\n",
      "align_evaluation_train_align_0.5_metric_hard_f1_align tensor(0.8978534340858459)\n",
      "align_evaluation_train_align_0.5_metric_hard_accuracy_align_mean tensor(0.8042044639587402)\n",
      "align_evaluation_train_align_0.5_metric_hard_f1_align_mean tensor(0.8362632989883423)\n",
      "align_evaluation_dev_align_0.5_metric_hard_accuracy_align tensor(0.6336633563041687)\n",
      "align_evaluation_dev_align_0.5_metric_hard_f1_align tensor(0.6021505594253540)\n",
      "align_evaluation_dev_align_0.5_metric_hard_accuracy_align_mean tensor(0.6732673048973083)\n",
      "align_evaluation_dev_align_0.5_metric_hard_f1_align_mean tensor(0.6990881562232971)\n",
      "evaluation_human_metric_hard_accuracy tensor(0.8690476417541504)\n",
      "evaluation_human_metric_hard_f1 tensor(0.8842105269432068)\n",
      "evaluation_mouse_metric_hard_accuracy_1 tensor(0.8734095692634583)\n",
      "evaluation_mouse_metric_hard_f1_1 tensor(0.8876156210899353)\n"
     ]
    },
    {
     "data": {
      "application/vnd.jupyter.widget-view+json": {
       "model_id": "",
       "version_major": 2,
       "version_minor": 0
      },
      "text/plain": [
       "HBox(children=(HTML(value='Current Batch:'), FloatProgress(value=0.0, max=177.0), HTML(value='')))"
      ]
     },
     "metadata": {},
     "output_type": "display_data"
    },
    {
     "name": "stdout",
     "output_type": "stream",
     "text": [
      "align_evaluation_train_align_0.5_metric_hard_accuracy_align tensor(0.8858202695846558)\n",
      "align_evaluation_train_align_0.5_metric_hard_f1_align tensor(0.8975212574005127)\n",
      "align_evaluation_train_align_0.5_metric_hard_accuracy_align_mean tensor(0.8042044639587402)\n",
      "align_evaluation_train_align_0.5_metric_hard_f1_align_mean tensor(0.8362632989883423)\n",
      "align_evaluation_dev_align_0.5_metric_hard_accuracy_align tensor(0.6353135108947754)\n",
      "align_evaluation_dev_align_0.5_metric_hard_f1_align tensor(0.6032316088676453)\n",
      "align_evaluation_dev_align_0.5_metric_hard_accuracy_align_mean tensor(0.6732673048973083)\n",
      "align_evaluation_dev_align_0.5_metric_hard_f1_align_mean tensor(0.6990881562232971)\n",
      "evaluation_human_metric_hard_accuracy tensor(0.8689024448394775)\n",
      "evaluation_human_metric_hard_f1 tensor(0.8840970396995544)\n",
      "evaluation_mouse_metric_hard_accuracy_1 tensor(0.8735939264297485)\n",
      "evaluation_mouse_metric_hard_f1_1 tensor(0.8877609372138977)\n"
     ]
    },
    {
     "data": {
      "application/vnd.jupyter.widget-view+json": {
       "model_id": "",
       "version_major": 2,
       "version_minor": 0
      },
      "text/plain": [
       "HBox(children=(HTML(value='Current Batch:'), FloatProgress(value=0.0, max=177.0), HTML(value='')))"
      ]
     },
     "metadata": {},
     "output_type": "display_data"
    },
    {
     "name": "stdout",
     "output_type": "stream",
     "text": [
      "align_evaluation_train_align_0.5_metric_hard_accuracy_align tensor(0.8858202695846558)\n",
      "align_evaluation_train_align_0.5_metric_hard_f1_align tensor(0.8975212574005127)\n",
      "align_evaluation_train_align_0.5_metric_hard_accuracy_align_mean tensor(0.8050288558006287)\n",
      "align_evaluation_train_align_0.5_metric_hard_f1_align_mean tensor(0.8368403315544128)\n",
      "align_evaluation_dev_align_0.5_metric_hard_accuracy_align tensor(0.6369637250900269)\n",
      "align_evaluation_dev_align_0.5_metric_hard_f1_align tensor(0.6057347655296326)\n",
      "align_evaluation_dev_align_0.5_metric_hard_accuracy_align_mean tensor(0.6732673048973083)\n",
      "align_evaluation_dev_align_0.5_metric_hard_f1_align_mean tensor(0.6990881562232971)\n",
      "evaluation_human_metric_hard_accuracy tensor(0.8687572479248047)\n",
      "evaluation_human_metric_hard_f1 tensor(0.8839836120605469)\n",
      "evaluation_mouse_metric_hard_accuracy_1 tensor(0.8734095692634583)\n",
      "evaluation_mouse_metric_hard_f1_1 tensor(0.8876156210899353)\n"
     ]
    },
    {
     "data": {
      "application/vnd.jupyter.widget-view+json": {
       "model_id": "",
       "version_major": 2,
       "version_minor": 0
      },
      "text/plain": [
       "HBox(children=(HTML(value='Current Batch:'), FloatProgress(value=0.0, max=177.0), HTML(value='')))"
      ]
     },
     "metadata": {},
     "output_type": "display_data"
    },
    {
     "name": "stdout",
     "output_type": "stream",
     "text": [
      "align_evaluation_train_align_0.5_metric_hard_accuracy_align tensor(0.8858202695846558)\n",
      "align_evaluation_train_align_0.5_metric_hard_f1_align tensor(0.8975212574005127)\n",
      "align_evaluation_train_align_0.5_metric_hard_accuracy_align_mean tensor(0.8054410815238953)\n",
      "align_evaluation_train_align_0.5_metric_hard_f1_align_mean tensor(0.8371290564537048)\n",
      "align_evaluation_dev_align_0.5_metric_hard_accuracy_align tensor(0.6386138796806335)\n",
      "align_evaluation_dev_align_0.5_metric_hard_f1_align tensor(0.6068222522735596)\n",
      "align_evaluation_dev_align_0.5_metric_hard_accuracy_align_mean tensor(0.6765676736831665)\n",
      "align_evaluation_dev_align_0.5_metric_hard_f1_align_mean tensor(0.7012194991111755)\n",
      "evaluation_human_metric_hard_accuracy tensor(0.8689024448394775)\n",
      "evaluation_human_metric_hard_f1 tensor(0.8840970396995544)\n",
      "evaluation_mouse_metric_hard_accuracy_1 tensor(0.8735939264297485)\n",
      "evaluation_mouse_metric_hard_f1_1 tensor(0.8877609372138977)\n"
     ]
    },
    {
     "data": {
      "application/vnd.jupyter.widget-view+json": {
       "model_id": "",
       "version_major": 2,
       "version_minor": 0
      },
      "text/plain": [
       "HBox(children=(HTML(value='Current Batch:'), FloatProgress(value=0.0, max=177.0), HTML(value='')))"
      ]
     },
     "metadata": {},
     "output_type": "display_data"
    },
    {
     "name": "stdout",
     "output_type": "stream",
     "text": [
      "align_evaluation_train_align_0.5_metric_hard_accuracy_align tensor(0.8858202695846558)\n",
      "align_evaluation_train_align_0.5_metric_hard_f1_align tensor(0.8975212574005127)\n",
      "align_evaluation_train_align_0.5_metric_hard_accuracy_align_mean tensor(0.8054410815238953)\n",
      "align_evaluation_train_align_0.5_metric_hard_f1_align_mean tensor(0.8371290564537048)\n",
      "align_evaluation_dev_align_0.5_metric_hard_accuracy_align tensor(0.6386138796806335)\n",
      "align_evaluation_dev_align_0.5_metric_hard_f1_align tensor(0.6068222522735596)\n",
      "align_evaluation_dev_align_0.5_metric_hard_accuracy_align_mean tensor(0.6749175190925598)\n",
      "align_evaluation_dev_align_0.5_metric_hard_f1_align_mean tensor(0.7001521587371826)\n",
      "evaluation_human_metric_hard_accuracy tensor(0.8687572479248047)\n",
      "evaluation_human_metric_hard_f1 tensor(0.8839836120605469)\n",
      "evaluation_mouse_metric_hard_accuracy_1 tensor(0.8735017776489258)\n",
      "evaluation_mouse_metric_hard_f1_1 tensor(0.8876882791519165)\n"
     ]
    },
    {
     "data": {
      "application/vnd.jupyter.widget-view+json": {
       "model_id": "",
       "version_major": 2,
       "version_minor": 0
      },
      "text/plain": [
       "HBox(children=(HTML(value='Current Batch:'), FloatProgress(value=0.0, max=177.0), HTML(value='')))"
      ]
     },
     "metadata": {},
     "output_type": "display_data"
    },
    {
     "name": "stdout",
     "output_type": "stream",
     "text": [
      "align_evaluation_train_align_0.5_metric_hard_accuracy_align tensor(0.8862324953079224)\n",
      "align_evaluation_train_align_0.5_metric_hard_f1_align tensor(0.8978534340858459)\n",
      "align_evaluation_train_align_0.5_metric_hard_accuracy_align_mean tensor(0.8062654733657837)\n",
      "align_evaluation_train_align_0.5_metric_hard_f1_align_mean tensor(0.8377072215080261)\n",
      "align_evaluation_dev_align_0.5_metric_hard_accuracy_align tensor(0.6386138796806335)\n",
      "align_evaluation_dev_align_0.5_metric_hard_f1_align tensor(0.6068222522735596)\n",
      "align_evaluation_dev_align_0.5_metric_hard_accuracy_align_mean tensor(0.6765676736831665)\n",
      "align_evaluation_dev_align_0.5_metric_hard_f1_align_mean tensor(0.7012194991111755)\n",
      "evaluation_human_metric_hard_accuracy tensor(0.8689024448394775)\n",
      "evaluation_human_metric_hard_f1 tensor(0.8840970396995544)\n",
      "evaluation_mouse_metric_hard_accuracy_1 tensor(0.8735939264297485)\n",
      "evaluation_mouse_metric_hard_f1_1 tensor(0.8877609372138977)\n"
     ]
    },
    {
     "data": {
      "application/vnd.jupyter.widget-view+json": {
       "model_id": "",
       "version_major": 2,
       "version_minor": 0
      },
      "text/plain": [
       "HBox(children=(HTML(value='Current Batch:'), FloatProgress(value=0.0, max=177.0), HTML(value='')))"
      ]
     },
     "metadata": {},
     "output_type": "display_data"
    },
    {
     "name": "stdout",
     "output_type": "stream",
     "text": [
      "align_evaluation_train_align_0.5_metric_hard_accuracy_align tensor(0.8866446614265442)\n",
      "align_evaluation_train_align_0.5_metric_hard_f1_align tensor(0.8981858491897583)\n",
      "align_evaluation_train_align_0.5_metric_hard_accuracy_align_mean tensor(0.8058532476425171)\n",
      "align_evaluation_train_align_0.5_metric_hard_f1_align_mean tensor(0.8374180197715759)\n",
      "align_evaluation_dev_align_0.5_metric_hard_accuracy_align tensor(0.6386138796806335)\n",
      "align_evaluation_dev_align_0.5_metric_hard_f1_align tensor(0.6068222522735596)\n",
      "align_evaluation_dev_align_0.5_metric_hard_accuracy_align_mean tensor(0.6749175190925598)\n",
      "align_evaluation_dev_align_0.5_metric_hard_f1_align_mean tensor(0.7001521587371826)\n",
      "evaluation_human_metric_hard_accuracy tensor(0.8689024448394775)\n",
      "evaluation_human_metric_hard_f1 tensor(0.8840970396995544)\n",
      "evaluation_mouse_metric_hard_accuracy_1 tensor(0.8735939264297485)\n",
      "evaluation_mouse_metric_hard_f1_1 tensor(0.8877609372138977)\n"
     ]
    },
    {
     "data": {
      "application/vnd.jupyter.widget-view+json": {
       "model_id": "",
       "version_major": 2,
       "version_minor": 0
      },
      "text/plain": [
       "HBox(children=(HTML(value='Current Batch:'), FloatProgress(value=0.0, max=177.0), HTML(value='')))"
      ]
     },
     "metadata": {},
     "output_type": "display_data"
    },
    {
     "name": "stdout",
     "output_type": "stream",
     "text": [
      "align_evaluation_train_align_0.5_metric_hard_accuracy_align tensor(0.8866446614265442)\n",
      "align_evaluation_train_align_0.5_metric_hard_f1_align tensor(0.8981858491897583)\n",
      "align_evaluation_train_align_0.5_metric_hard_accuracy_align_mean tensor(0.8058532476425171)\n",
      "align_evaluation_train_align_0.5_metric_hard_f1_align_mean tensor(0.8374180197715759)\n",
      "align_evaluation_dev_align_0.5_metric_hard_accuracy_align tensor(0.6386138796806335)\n",
      "align_evaluation_dev_align_0.5_metric_hard_f1_align tensor(0.6068222522735596)\n",
      "align_evaluation_dev_align_0.5_metric_hard_accuracy_align_mean tensor(0.6749175190925598)\n",
      "align_evaluation_dev_align_0.5_metric_hard_f1_align_mean tensor(0.6992366909980774)\n",
      "evaluation_human_metric_hard_accuracy tensor(0.8689024448394775)\n",
      "evaluation_human_metric_hard_f1 tensor(0.8840970396995544)\n",
      "evaluation_mouse_metric_hard_accuracy_1 tensor(0.8735017776489258)\n",
      "evaluation_mouse_metric_hard_f1_1 tensor(0.8876882791519165)\n"
     ]
    },
    {
     "data": {
      "application/vnd.jupyter.widget-view+json": {
       "model_id": "",
       "version_major": 2,
       "version_minor": 0
      },
      "text/plain": [
       "HBox(children=(HTML(value='Current Batch:'), FloatProgress(value=0.0, max=177.0), HTML(value='')))"
      ]
     },
     "metadata": {},
     "output_type": "display_data"
    },
    {
     "name": "stdout",
     "output_type": "stream",
     "text": [
      "align_evaluation_train_align_0.5_metric_hard_accuracy_align tensor(0.8866446614265442)\n",
      "align_evaluation_train_align_0.5_metric_hard_f1_align tensor(0.8981858491897583)\n",
      "align_evaluation_train_align_0.5_metric_hard_accuracy_align_mean tensor(0.8058532476425171)\n",
      "align_evaluation_train_align_0.5_metric_hard_f1_align_mean tensor(0.8374180197715759)\n",
      "align_evaluation_dev_align_0.5_metric_hard_accuracy_align tensor(0.6386138796806335)\n",
      "align_evaluation_dev_align_0.5_metric_hard_f1_align tensor(0.6068222522735596)\n",
      "align_evaluation_dev_align_0.5_metric_hard_accuracy_align_mean tensor(0.6732673048973083)\n",
      "align_evaluation_dev_align_0.5_metric_hard_f1_align_mean tensor(0.6981707811355591)\n",
      "evaluation_human_metric_hard_accuracy tensor(0.8689024448394775)\n",
      "evaluation_human_metric_hard_f1 tensor(0.8840970396995544)\n",
      "evaluation_mouse_metric_hard_accuracy_1 tensor(0.8733173608779907)\n",
      "evaluation_mouse_metric_hard_f1_1 tensor(0.8875429630279541)\n"
     ]
    },
    {
     "data": {
      "application/vnd.jupyter.widget-view+json": {
       "model_id": "",
       "version_major": 2,
       "version_minor": 0
      },
      "text/plain": [
       "HBox(children=(HTML(value='Current Batch:'), FloatProgress(value=0.0, max=177.0), HTML(value='')))"
      ]
     },
     "metadata": {},
     "output_type": "display_data"
    },
    {
     "name": "stdout",
     "output_type": "stream",
     "text": [
      "align_evaluation_train_align_0.5_metric_hard_accuracy_align tensor(0.8862324953079224)\n",
      "align_evaluation_train_align_0.5_metric_hard_f1_align tensor(0.8978534340858459)\n",
      "align_evaluation_train_align_0.5_metric_hard_accuracy_align_mean tensor(0.8062654733657837)\n",
      "align_evaluation_train_align_0.5_metric_hard_f1_align_mean tensor(0.8377072215080261)\n",
      "align_evaluation_dev_align_0.5_metric_hard_accuracy_align tensor(0.6386138796806335)\n",
      "align_evaluation_dev_align_0.5_metric_hard_f1_align tensor(0.6068222522735596)\n",
      "align_evaluation_dev_align_0.5_metric_hard_accuracy_align_mean tensor(0.6732673048973083)\n",
      "align_evaluation_dev_align_0.5_metric_hard_f1_align_mean tensor(0.6981707811355591)\n",
      "evaluation_human_metric_hard_accuracy tensor(0.8689024448394775)\n",
      "evaluation_human_metric_hard_f1 tensor(0.8840970396995544)\n",
      "evaluation_mouse_metric_hard_accuracy_1 tensor(0.8735017776489258)\n",
      "evaluation_mouse_metric_hard_f1_1 tensor(0.8876882791519165)\n"
     ]
    },
    {
     "data": {
      "application/vnd.jupyter.widget-view+json": {
       "model_id": "",
       "version_major": 2,
       "version_minor": 0
      },
      "text/plain": [
       "HBox(children=(HTML(value='Current Batch:'), FloatProgress(value=0.0, max=177.0), HTML(value='')))"
      ]
     },
     "metadata": {},
     "output_type": "display_data"
    },
    {
     "name": "stdout",
     "output_type": "stream",
     "text": [
      "align_evaluation_train_align_0.5_metric_hard_accuracy_align tensor(0.8866446614265442)\n",
      "align_evaluation_train_align_0.5_metric_hard_f1_align tensor(0.8981858491897583)\n",
      "align_evaluation_train_align_0.5_metric_hard_accuracy_align_mean tensor(0.8070898652076721)\n",
      "align_evaluation_train_align_0.5_metric_hard_f1_align_mean tensor(0.8382860422134399)\n",
      "align_evaluation_dev_align_0.5_metric_hard_accuracy_align tensor(0.6386138796806335)\n",
      "align_evaluation_dev_align_0.5_metric_hard_f1_align tensor(0.6068222522735596)\n",
      "align_evaluation_dev_align_0.5_metric_hard_accuracy_align_mean tensor(0.6749175190925598)\n",
      "align_evaluation_dev_align_0.5_metric_hard_f1_align_mean tensor(0.6992366909980774)\n",
      "evaluation_human_metric_hard_accuracy tensor(0.8689024448394775)\n",
      "evaluation_human_metric_hard_f1 tensor(0.8840970396995544)\n",
      "evaluation_mouse_metric_hard_accuracy_1 tensor(0.8734095692634583)\n",
      "evaluation_mouse_metric_hard_f1_1 tensor(0.8876156210899353)\n"
     ]
    },
    {
     "data": {
      "application/vnd.jupyter.widget-view+json": {
       "model_id": "",
       "version_major": 2,
       "version_minor": 0
      },
      "text/plain": [
       "HBox(children=(HTML(value='Current Batch:'), FloatProgress(value=0.0, max=177.0), HTML(value='')))"
      ]
     },
     "metadata": {},
     "output_type": "display_data"
    },
    {
     "name": "stdout",
     "output_type": "stream",
     "text": [
      "align_evaluation_train_align_0.5_metric_hard_accuracy_align tensor(0.8874691128730774)\n",
      "align_evaluation_train_align_0.5_metric_hard_f1_align tensor(0.8988513946533203)\n",
      "align_evaluation_train_align_0.5_metric_hard_accuracy_align_mean tensor(0.8070898652076721)\n",
      "align_evaluation_train_align_0.5_metric_hard_f1_align_mean tensor(0.8382860422134399)\n",
      "align_evaluation_dev_align_0.5_metric_hard_accuracy_align tensor(0.6386138796806335)\n",
      "align_evaluation_dev_align_0.5_metric_hard_f1_align tensor(0.6068222522735596)\n",
      "align_evaluation_dev_align_0.5_metric_hard_accuracy_align_mean tensor(0.6749175190925598)\n",
      "align_evaluation_dev_align_0.5_metric_hard_f1_align_mean tensor(0.6992366909980774)\n",
      "evaluation_human_metric_hard_accuracy tensor(0.8689024448394775)\n",
      "evaluation_human_metric_hard_f1 tensor(0.8840970396995544)\n",
      "evaluation_mouse_metric_hard_accuracy_1 tensor(0.8734095692634583)\n",
      "evaluation_mouse_metric_hard_f1_1 tensor(0.8876156210899353)\n"
     ]
    },
    {
     "data": {
      "application/vnd.jupyter.widget-view+json": {
       "model_id": "",
       "version_major": 2,
       "version_minor": 0
      },
      "text/plain": [
       "HBox(children=(HTML(value='Current Batch:'), FloatProgress(value=0.0, max=177.0), HTML(value='')))"
      ]
     },
     "metadata": {},
     "output_type": "display_data"
    },
    {
     "name": "stdout",
     "output_type": "stream",
     "text": [
      "align_evaluation_train_align_0.5_metric_hard_accuracy_align tensor(0.8866446614265442)\n",
      "align_evaluation_train_align_0.5_metric_hard_f1_align tensor(0.8981858491897583)\n",
      "align_evaluation_train_align_0.5_metric_hard_accuracy_align_mean tensor(0.8070898652076721)\n",
      "align_evaluation_train_align_0.5_metric_hard_f1_align_mean tensor(0.8382860422134399)\n",
      "align_evaluation_dev_align_0.5_metric_hard_accuracy_align tensor(0.6386138796806335)\n",
      "align_evaluation_dev_align_0.5_metric_hard_f1_align tensor(0.6068222522735596)\n",
      "align_evaluation_dev_align_0.5_metric_hard_accuracy_align_mean tensor(0.6732673048973083)\n",
      "align_evaluation_dev_align_0.5_metric_hard_f1_align_mean tensor(0.6981707811355591)\n",
      "evaluation_human_metric_hard_accuracy tensor(0.8689024448394775)\n",
      "evaluation_human_metric_hard_f1 tensor(0.8840970396995544)\n",
      "evaluation_mouse_metric_hard_accuracy_1 tensor(0.8735017776489258)\n",
      "evaluation_mouse_metric_hard_f1_1 tensor(0.8876882791519165)\n"
     ]
    },
    {
     "data": {
      "application/vnd.jupyter.widget-view+json": {
       "model_id": "",
       "version_major": 2,
       "version_minor": 0
      },
      "text/plain": [
       "HBox(children=(HTML(value='Current Batch:'), FloatProgress(value=0.0, max=177.0), HTML(value='')))"
      ]
     },
     "metadata": {},
     "output_type": "display_data"
    },
    {
     "name": "stdout",
     "output_type": "stream",
     "text": [
      "align_evaluation_train_align_0.5_metric_hard_accuracy_align tensor(0.8870568871498108)\n",
      "align_evaluation_train_align_0.5_metric_hard_f1_align tensor(0.8985185027122498)\n",
      "align_evaluation_train_align_0.5_metric_hard_accuracy_align_mean tensor(0.8083264827728271)\n",
      "align_evaluation_train_align_0.5_metric_hard_f1_align_mean tensor(0.8391559720039368)\n",
      "align_evaluation_dev_align_0.5_metric_hard_accuracy_align tensor(0.6386138796806335)\n",
      "align_evaluation_dev_align_0.5_metric_hard_f1_align tensor(0.6068222522735596)\n",
      "align_evaluation_dev_align_0.5_metric_hard_accuracy_align_mean tensor(0.6732673048973083)\n",
      "align_evaluation_dev_align_0.5_metric_hard_f1_align_mean tensor(0.6981707811355591)\n",
      "evaluation_human_metric_hard_accuracy tensor(0.8689024448394775)\n",
      "evaluation_human_metric_hard_f1 tensor(0.8840970396995544)\n",
      "evaluation_mouse_metric_hard_accuracy_1 tensor(0.8735017776489258)\n",
      "evaluation_mouse_metric_hard_f1_1 tensor(0.8876882791519165)\n"
     ]
    },
    {
     "data": {
      "application/vnd.jupyter.widget-view+json": {
       "model_id": "",
       "version_major": 2,
       "version_minor": 0
      },
      "text/plain": [
       "HBox(children=(HTML(value='Current Batch:'), FloatProgress(value=0.0, max=177.0), HTML(value='')))"
      ]
     },
     "metadata": {},
     "output_type": "display_data"
    },
    {
     "name": "stdout",
     "output_type": "stream",
     "text": [
      "align_evaluation_train_align_0.5_metric_hard_accuracy_align tensor(0.8870568871498108)\n",
      "align_evaluation_train_align_0.5_metric_hard_f1_align tensor(0.8985185027122498)\n",
      "align_evaluation_train_align_0.5_metric_hard_accuracy_align_mean tensor(0.8083264827728271)\n",
      "align_evaluation_train_align_0.5_metric_hard_f1_align_mean tensor(0.8391559720039368)\n",
      "align_evaluation_dev_align_0.5_metric_hard_accuracy_align tensor(0.6386138796806335)\n",
      "align_evaluation_dev_align_0.5_metric_hard_f1_align tensor(0.6068222522735596)\n",
      "align_evaluation_dev_align_0.5_metric_hard_accuracy_align_mean tensor(0.6749175190925598)\n",
      "align_evaluation_dev_align_0.5_metric_hard_f1_align_mean tensor(0.6992366909980774)\n",
      "evaluation_human_metric_hard_accuracy tensor(0.8689024448394775)\n",
      "evaluation_human_metric_hard_f1 tensor(0.8840970396995544)\n",
      "evaluation_mouse_metric_hard_accuracy_1 tensor(0.8735939264297485)\n",
      "evaluation_mouse_metric_hard_f1_1 tensor(0.8877609372138977)\n"
     ]
    },
    {
     "data": {
      "application/vnd.jupyter.widget-view+json": {
       "model_id": "",
       "version_major": 2,
       "version_minor": 0
      },
      "text/plain": [
       "HBox(children=(HTML(value='Current Batch:'), FloatProgress(value=0.0, max=177.0), HTML(value='')))"
      ]
     },
     "metadata": {},
     "output_type": "display_data"
    },
    {
     "name": "stdout",
     "output_type": "stream",
     "text": [
      "align_evaluation_train_align_0.5_metric_hard_accuracy_align tensor(0.8870568871498108)\n",
      "align_evaluation_train_align_0.5_metric_hard_f1_align tensor(0.8985185027122498)\n",
      "align_evaluation_train_align_0.5_metric_hard_accuracy_align_mean tensor(0.8079142570495605)\n",
      "align_evaluation_train_align_0.5_metric_hard_f1_align_mean tensor(0.8388658165931702)\n",
      "align_evaluation_dev_align_0.5_metric_hard_accuracy_align tensor(0.6386138796806335)\n",
      "align_evaluation_dev_align_0.5_metric_hard_f1_align tensor(0.6068222522735596)\n",
      "align_evaluation_dev_align_0.5_metric_hard_accuracy_align_mean tensor(0.6749175190925598)\n",
      "align_evaluation_dev_align_0.5_metric_hard_f1_align_mean tensor(0.6992366909980774)\n",
      "evaluation_human_metric_hard_accuracy tensor(0.8687572479248047)\n",
      "evaluation_human_metric_hard_f1 tensor(0.8839836120605469)\n",
      "evaluation_mouse_metric_hard_accuracy_1 tensor(0.8736861348152161)\n",
      "evaluation_mouse_metric_hard_f1_1 tensor(0.8878336548805237)\n"
     ]
    },
    {
     "data": {
      "application/vnd.jupyter.widget-view+json": {
       "model_id": "",
       "version_major": 2,
       "version_minor": 0
      },
      "text/plain": [
       "HBox(children=(HTML(value='Current Batch:'), FloatProgress(value=0.0, max=177.0), HTML(value='')))"
      ]
     },
     "metadata": {},
     "output_type": "display_data"
    },
    {
     "name": "stdout",
     "output_type": "stream",
     "text": [
      "align_evaluation_train_align_0.5_metric_hard_accuracy_align tensor(0.8870568871498108)\n",
      "align_evaluation_train_align_0.5_metric_hard_f1_align tensor(0.8985185027122498)\n",
      "align_evaluation_train_align_0.5_metric_hard_accuracy_align_mean tensor(0.8079142570495605)\n",
      "align_evaluation_train_align_0.5_metric_hard_f1_align_mean tensor(0.8388658165931702)\n",
      "align_evaluation_dev_align_0.5_metric_hard_accuracy_align tensor(0.6386138796806335)\n",
      "align_evaluation_dev_align_0.5_metric_hard_f1_align tensor(0.6068222522735596)\n",
      "align_evaluation_dev_align_0.5_metric_hard_accuracy_align_mean tensor(0.6749175190925598)\n",
      "align_evaluation_dev_align_0.5_metric_hard_f1_align_mean tensor(0.6992366909980774)\n",
      "evaluation_human_metric_hard_accuracy tensor(0.8687572479248047)\n",
      "evaluation_human_metric_hard_f1 tensor(0.8839836120605469)\n",
      "evaluation_mouse_metric_hard_accuracy_1 tensor(0.8736861348152161)\n",
      "evaluation_mouse_metric_hard_f1_1 tensor(0.8878336548805237)\n"
     ]
    },
    {
     "data": {
      "application/vnd.jupyter.widget-view+json": {
       "model_id": "",
       "version_major": 2,
       "version_minor": 0
      },
      "text/plain": [
       "HBox(children=(HTML(value='Current Batch:'), FloatProgress(value=0.0, max=177.0), HTML(value='')))"
      ]
     },
     "metadata": {},
     "output_type": "display_data"
    },
    {
     "name": "stdout",
     "output_type": "stream",
     "text": [
      "align_evaluation_train_align_0.5_metric_hard_accuracy_align tensor(0.8870568871498108)\n",
      "align_evaluation_train_align_0.5_metric_hard_f1_align tensor(0.8985185027122498)\n",
      "align_evaluation_train_align_0.5_metric_hard_accuracy_align_mean tensor(0.8083264827728271)\n",
      "align_evaluation_train_align_0.5_metric_hard_f1_align_mean tensor(0.8391559720039368)\n",
      "align_evaluation_dev_align_0.5_metric_hard_accuracy_align tensor(0.6386138796806335)\n",
      "align_evaluation_dev_align_0.5_metric_hard_f1_align tensor(0.6068222522735596)\n",
      "align_evaluation_dev_align_0.5_metric_hard_accuracy_align_mean tensor(0.6749175190925598)\n",
      "align_evaluation_dev_align_0.5_metric_hard_f1_align_mean tensor(0.6992366909980774)\n",
      "evaluation_human_metric_hard_accuracy tensor(0.8689024448394775)\n",
      "evaluation_human_metric_hard_f1 tensor(0.8840970396995544)\n",
      "evaluation_mouse_metric_hard_accuracy_1 tensor(0.8736861348152161)\n",
      "evaluation_mouse_metric_hard_f1_1 tensor(0.8878336548805237)\n"
     ]
    },
    {
     "data": {
      "application/vnd.jupyter.widget-view+json": {
       "model_id": "",
       "version_major": 2,
       "version_minor": 0
      },
      "text/plain": [
       "HBox(children=(HTML(value='Current Batch:'), FloatProgress(value=0.0, max=177.0), HTML(value='')))"
      ]
     },
     "metadata": {},
     "output_type": "display_data"
    },
    {
     "name": "stdout",
     "output_type": "stream",
     "text": [
      "align_evaluation_train_align_0.5_metric_hard_accuracy_align tensor(0.8870568871498108)\n",
      "align_evaluation_train_align_0.5_metric_hard_f1_align tensor(0.8985185027122498)\n",
      "align_evaluation_train_align_0.5_metric_hard_accuracy_align_mean tensor(0.8083264827728271)\n",
      "align_evaluation_train_align_0.5_metric_hard_f1_align_mean tensor(0.8391559720039368)\n",
      "align_evaluation_dev_align_0.5_metric_hard_accuracy_align tensor(0.6386138796806335)\n",
      "align_evaluation_dev_align_0.5_metric_hard_f1_align tensor(0.6068222522735596)\n",
      "align_evaluation_dev_align_0.5_metric_hard_accuracy_align_mean tensor(0.6749175190925598)\n",
      "align_evaluation_dev_align_0.5_metric_hard_f1_align_mean tensor(0.6992366909980774)\n",
      "evaluation_human_metric_hard_accuracy tensor(0.8687572479248047)\n",
      "evaluation_human_metric_hard_f1 tensor(0.8839836120605469)\n",
      "evaluation_mouse_metric_hard_accuracy_1 tensor(0.8736861348152161)\n",
      "evaluation_mouse_metric_hard_f1_1 tensor(0.8878336548805237)\n"
     ]
    },
    {
     "data": {
      "application/vnd.jupyter.widget-view+json": {
       "model_id": "",
       "version_major": 2,
       "version_minor": 0
      },
      "text/plain": [
       "HBox(children=(HTML(value='Current Batch:'), FloatProgress(value=0.0, max=177.0), HTML(value='')))"
      ]
     },
     "metadata": {},
     "output_type": "display_data"
    },
    {
     "name": "stdout",
     "output_type": "stream",
     "text": [
      "align_evaluation_train_align_0.5_metric_hard_accuracy_align tensor(0.8870568871498108)\n",
      "align_evaluation_train_align_0.5_metric_hard_f1_align tensor(0.8985185027122498)\n",
      "align_evaluation_train_align_0.5_metric_hard_accuracy_align_mean tensor(0.8091508746147156)\n",
      "align_evaluation_train_align_0.5_metric_hard_f1_align_mean tensor(0.8397369384765625)\n",
      "align_evaluation_dev_align_0.5_metric_hard_accuracy_align tensor(0.6386138796806335)\n",
      "align_evaluation_dev_align_0.5_metric_hard_f1_align tensor(0.6068222522735596)\n",
      "align_evaluation_dev_align_0.5_metric_hard_accuracy_align_mean tensor(0.6749175190925598)\n",
      "align_evaluation_dev_align_0.5_metric_hard_f1_align_mean tensor(0.6992366909980774)\n",
      "evaluation_human_metric_hard_accuracy tensor(0.8687572479248047)\n",
      "evaluation_human_metric_hard_f1 tensor(0.8839836120605469)\n",
      "evaluation_mouse_metric_hard_accuracy_1 tensor(0.8737783432006836)\n",
      "evaluation_mouse_metric_hard_f1_1 tensor(0.8879063129425049)\n"
     ]
    },
    {
     "data": {
      "application/vnd.jupyter.widget-view+json": {
       "model_id": "",
       "version_major": 2,
       "version_minor": 0
      },
      "text/plain": [
       "HBox(children=(HTML(value='Current Batch:'), FloatProgress(value=0.0, max=177.0), HTML(value='')))"
      ]
     },
     "metadata": {},
     "output_type": "display_data"
    },
    {
     "name": "stdout",
     "output_type": "stream",
     "text": [
      "align_evaluation_train_align_0.5_metric_hard_accuracy_align tensor(0.8870568871498108)\n",
      "align_evaluation_train_align_0.5_metric_hard_f1_align tensor(0.8985185027122498)\n",
      "align_evaluation_train_align_0.5_metric_hard_accuracy_align_mean tensor(0.8091508746147156)\n",
      "align_evaluation_train_align_0.5_metric_hard_f1_align_mean tensor(0.8397369384765625)\n",
      "align_evaluation_dev_align_0.5_metric_hard_accuracy_align tensor(0.6386138796806335)\n",
      "align_evaluation_dev_align_0.5_metric_hard_f1_align tensor(0.6068222522735596)\n",
      "align_evaluation_dev_align_0.5_metric_hard_accuracy_align_mean tensor(0.6749175190925598)\n",
      "align_evaluation_dev_align_0.5_metric_hard_f1_align_mean tensor(0.6992366909980774)\n",
      "evaluation_human_metric_hard_accuracy tensor(0.8689024448394775)\n",
      "evaluation_human_metric_hard_f1 tensor(0.8840970396995544)\n",
      "evaluation_mouse_metric_hard_accuracy_1 tensor(0.8738705515861511)\n",
      "evaluation_mouse_metric_hard_f1_1 tensor(0.8879789710044861)\n"
     ]
    },
    {
     "data": {
      "application/vnd.jupyter.widget-view+json": {
       "model_id": "",
       "version_major": 2,
       "version_minor": 0
      },
      "text/plain": [
       "HBox(children=(HTML(value='Current Batch:'), FloatProgress(value=0.0, max=177.0), HTML(value='')))"
      ]
     },
     "metadata": {},
     "output_type": "display_data"
    },
    {
     "name": "stdout",
     "output_type": "stream",
     "text": [
      "align_evaluation_train_align_0.5_metric_hard_accuracy_align tensor(0.8870568871498108)\n",
      "align_evaluation_train_align_0.5_metric_hard_f1_align tensor(0.8985185027122498)\n",
      "align_evaluation_train_align_0.5_metric_hard_accuracy_align_mean tensor(0.8099752664566040)\n",
      "align_evaluation_train_align_0.5_metric_hard_f1_align_mean tensor(0.8403186202049255)\n",
      "align_evaluation_dev_align_0.5_metric_hard_accuracy_align tensor(0.6386138796806335)\n",
      "align_evaluation_dev_align_0.5_metric_hard_f1_align tensor(0.6068222522735596)\n",
      "align_evaluation_dev_align_0.5_metric_hard_accuracy_align_mean tensor(0.6749175190925598)\n",
      "align_evaluation_dev_align_0.5_metric_hard_f1_align_mean tensor(0.6992366909980774)\n",
      "evaluation_human_metric_hard_accuracy tensor(0.8690476417541504)\n",
      "evaluation_human_metric_hard_f1 tensor(0.8842105269432068)\n",
      "evaluation_mouse_metric_hard_accuracy_1 tensor(0.8736861348152161)\n",
      "evaluation_mouse_metric_hard_f1_1 tensor(0.8878336548805237)\n"
     ]
    },
    {
     "data": {
      "application/vnd.jupyter.widget-view+json": {
       "model_id": "",
       "version_major": 2,
       "version_minor": 0
      },
      "text/plain": [
       "HBox(children=(HTML(value='Current Batch:'), FloatProgress(value=0.0, max=177.0), HTML(value='')))"
      ]
     },
     "metadata": {},
     "output_type": "display_data"
    },
    {
     "name": "stdout",
     "output_type": "stream",
     "text": [
      "align_evaluation_train_align_0.5_metric_hard_accuracy_align tensor(0.8870568871498108)\n",
      "align_evaluation_train_align_0.5_metric_hard_f1_align tensor(0.8985185027122498)\n",
      "align_evaluation_train_align_0.5_metric_hard_accuracy_align_mean tensor(0.8095630407333374)\n",
      "align_evaluation_train_align_0.5_metric_hard_f1_align_mean tensor(0.8400276899337769)\n",
      "align_evaluation_dev_align_0.5_metric_hard_accuracy_align tensor(0.6386138796806335)\n",
      "align_evaluation_dev_align_0.5_metric_hard_f1_align tensor(0.6068222522735596)\n",
      "align_evaluation_dev_align_0.5_metric_hard_accuracy_align_mean tensor(0.6749175190925598)\n",
      "align_evaluation_dev_align_0.5_metric_hard_f1_align_mean tensor(0.6992366909980774)\n",
      "evaluation_human_metric_hard_accuracy tensor(0.8689024448394775)\n",
      "evaluation_human_metric_hard_f1 tensor(0.8840970396995544)\n",
      "evaluation_mouse_metric_hard_accuracy_1 tensor(0.8737783432006836)\n",
      "evaluation_mouse_metric_hard_f1_1 tensor(0.8879063129425049)\n"
     ]
    },
    {
     "data": {
      "application/vnd.jupyter.widget-view+json": {
       "model_id": "",
       "version_major": 2,
       "version_minor": 0
      },
      "text/plain": [
       "HBox(children=(HTML(value='Current Batch:'), FloatProgress(value=0.0, max=177.0), HTML(value='')))"
      ]
     },
     "metadata": {},
     "output_type": "display_data"
    },
    {
     "name": "stdout",
     "output_type": "stream",
     "text": [
      "align_evaluation_train_align_0.5_metric_hard_accuracy_align tensor(0.8870568871498108)\n",
      "align_evaluation_train_align_0.5_metric_hard_f1_align tensor(0.8985185027122498)\n",
      "align_evaluation_train_align_0.5_metric_hard_accuracy_align_mean tensor(0.8099752664566040)\n",
      "align_evaluation_train_align_0.5_metric_hard_f1_align_mean tensor(0.8403186202049255)\n",
      "align_evaluation_dev_align_0.5_metric_hard_accuracy_align tensor(0.6386138796806335)\n",
      "align_evaluation_dev_align_0.5_metric_hard_f1_align tensor(0.6068222522735596)\n",
      "align_evaluation_dev_align_0.5_metric_hard_accuracy_align_mean tensor(0.6749175190925598)\n",
      "align_evaluation_dev_align_0.5_metric_hard_f1_align_mean tensor(0.6992366909980774)\n",
      "evaluation_human_metric_hard_accuracy tensor(0.8690476417541504)\n",
      "evaluation_human_metric_hard_f1 tensor(0.8842105269432068)\n",
      "evaluation_mouse_metric_hard_accuracy_1 tensor(0.8737783432006836)\n",
      "evaluation_mouse_metric_hard_f1_1 tensor(0.8879063129425049)\n"
     ]
    },
    {
     "data": {
      "application/vnd.jupyter.widget-view+json": {
       "model_id": "",
       "version_major": 2,
       "version_minor": 0
      },
      "text/plain": [
       "HBox(children=(HTML(value='Current Batch:'), FloatProgress(value=0.0, max=177.0), HTML(value='')))"
      ]
     },
     "metadata": {},
     "output_type": "display_data"
    },
    {
     "name": "stdout",
     "output_type": "stream",
     "text": [
      "align_evaluation_train_align_0.5_metric_hard_accuracy_align tensor(0.8870568871498108)\n",
      "align_evaluation_train_align_0.5_metric_hard_f1_align tensor(0.8985185027122498)\n",
      "align_evaluation_train_align_0.5_metric_hard_accuracy_align_mean tensor(0.8099752664566040)\n",
      "align_evaluation_train_align_0.5_metric_hard_f1_align_mean tensor(0.8403186202049255)\n",
      "align_evaluation_dev_align_0.5_metric_hard_accuracy_align tensor(0.6386138796806335)\n",
      "align_evaluation_dev_align_0.5_metric_hard_f1_align tensor(0.6068222522735596)\n",
      "align_evaluation_dev_align_0.5_metric_hard_accuracy_align_mean tensor(0.6749175190925598)\n",
      "align_evaluation_dev_align_0.5_metric_hard_f1_align_mean tensor(0.6992366909980774)\n",
      "evaluation_human_metric_hard_accuracy tensor(0.8690476417541504)\n",
      "evaluation_human_metric_hard_f1 tensor(0.8842105269432068)\n",
      "evaluation_mouse_metric_hard_accuracy_1 tensor(0.8737783432006836)\n",
      "evaluation_mouse_metric_hard_f1_1 tensor(0.8879063129425049)\n"
     ]
    },
    {
     "data": {
      "application/vnd.jupyter.widget-view+json": {
       "model_id": "",
       "version_major": 2,
       "version_minor": 0
      },
      "text/plain": [
       "HBox(children=(HTML(value='Current Batch:'), FloatProgress(value=0.0, max=177.0), HTML(value='')))"
      ]
     },
     "metadata": {},
     "output_type": "display_data"
    },
    {
     "name": "stdout",
     "output_type": "stream",
     "text": [
      "align_evaluation_train_align_0.5_metric_hard_accuracy_align tensor(0.8870568871498108)\n",
      "align_evaluation_train_align_0.5_metric_hard_f1_align tensor(0.8985185027122498)\n",
      "align_evaluation_train_align_0.5_metric_hard_accuracy_align_mean tensor(0.8099752664566040)\n",
      "align_evaluation_train_align_0.5_metric_hard_f1_align_mean tensor(0.8403186202049255)\n",
      "align_evaluation_dev_align_0.5_metric_hard_accuracy_align tensor(0.6386138796806335)\n",
      "align_evaluation_dev_align_0.5_metric_hard_f1_align tensor(0.6068222522735596)\n",
      "align_evaluation_dev_align_0.5_metric_hard_accuracy_align_mean tensor(0.6749175190925598)\n",
      "align_evaluation_dev_align_0.5_metric_hard_f1_align_mean tensor(0.6992366909980774)\n",
      "evaluation_human_metric_hard_accuracy tensor(0.8690476417541504)\n",
      "evaluation_human_metric_hard_f1 tensor(0.8842105269432068)\n",
      "evaluation_mouse_metric_hard_accuracy_1 tensor(0.8737783432006836)\n",
      "evaluation_mouse_metric_hard_f1_1 tensor(0.8879063129425049)\n"
     ]
    },
    {
     "data": {
      "application/vnd.jupyter.widget-view+json": {
       "model_id": "",
       "version_major": 2,
       "version_minor": 0
      },
      "text/plain": [
       "HBox(children=(HTML(value='Current Batch:'), FloatProgress(value=0.0, max=177.0), HTML(value='')))"
      ]
     },
     "metadata": {},
     "output_type": "display_data"
    },
    {
     "name": "stdout",
     "output_type": "stream",
     "text": [
      "align_evaluation_train_align_0.5_metric_hard_accuracy_align tensor(0.8870568871498108)\n",
      "align_evaluation_train_align_0.5_metric_hard_f1_align tensor(0.8985185027122498)\n",
      "align_evaluation_train_align_0.5_metric_hard_accuracy_align_mean tensor(0.8099752664566040)\n",
      "align_evaluation_train_align_0.5_metric_hard_f1_align_mean tensor(0.8403186202049255)\n",
      "align_evaluation_dev_align_0.5_metric_hard_accuracy_align tensor(0.6386138796806335)\n",
      "align_evaluation_dev_align_0.5_metric_hard_f1_align tensor(0.6068222522735596)\n",
      "align_evaluation_dev_align_0.5_metric_hard_accuracy_align_mean tensor(0.6749175190925598)\n",
      "align_evaluation_dev_align_0.5_metric_hard_f1_align_mean tensor(0.6992366909980774)\n",
      "evaluation_human_metric_hard_accuracy tensor(0.8690476417541504)\n",
      "evaluation_human_metric_hard_f1 tensor(0.8842105269432068)\n",
      "evaluation_mouse_metric_hard_accuracy_1 tensor(0.8737783432006836)\n",
      "evaluation_mouse_metric_hard_f1_1 tensor(0.8879063129425049)\n"
     ]
    },
    {
     "data": {
      "application/vnd.jupyter.widget-view+json": {
       "model_id": "",
       "version_major": 2,
       "version_minor": 0
      },
      "text/plain": [
       "HBox(children=(HTML(value='Current Batch:'), FloatProgress(value=0.0, max=177.0), HTML(value='')))"
      ]
     },
     "metadata": {},
     "output_type": "display_data"
    },
    {
     "name": "stdout",
     "output_type": "stream",
     "text": [
      "align_evaluation_train_align_0.5_metric_hard_accuracy_align tensor(0.8870568871498108)\n",
      "align_evaluation_train_align_0.5_metric_hard_f1_align tensor(0.8985185027122498)\n",
      "align_evaluation_train_align_0.5_metric_hard_accuracy_align_mean tensor(0.8099752664566040)\n",
      "align_evaluation_train_align_0.5_metric_hard_f1_align_mean tensor(0.8403186202049255)\n",
      "align_evaluation_dev_align_0.5_metric_hard_accuracy_align tensor(0.6386138796806335)\n",
      "align_evaluation_dev_align_0.5_metric_hard_f1_align tensor(0.6068222522735596)\n",
      "align_evaluation_dev_align_0.5_metric_hard_accuracy_align_mean tensor(0.6749175190925598)\n",
      "align_evaluation_dev_align_0.5_metric_hard_f1_align_mean tensor(0.6992366909980774)\n",
      "evaluation_human_metric_hard_accuracy tensor(0.8690476417541504)\n",
      "evaluation_human_metric_hard_f1 tensor(0.8842105269432068)\n",
      "evaluation_mouse_metric_hard_accuracy_1 tensor(0.8737783432006836)\n",
      "evaluation_mouse_metric_hard_f1_1 tensor(0.8879063129425049)\n"
     ]
    },
    {
     "data": {
      "application/vnd.jupyter.widget-view+json": {
       "model_id": "",
       "version_major": 2,
       "version_minor": 0
      },
      "text/plain": [
       "HBox(children=(HTML(value='Current Batch:'), FloatProgress(value=0.0, max=177.0), HTML(value='')))"
      ]
     },
     "metadata": {},
     "output_type": "display_data"
    },
    {
     "name": "stdout",
     "output_type": "stream",
     "text": [
      "align_evaluation_train_align_0.5_metric_hard_accuracy_align tensor(0.8870568871498108)\n",
      "align_evaluation_train_align_0.5_metric_hard_f1_align tensor(0.8985185027122498)\n",
      "align_evaluation_train_align_0.5_metric_hard_accuracy_align_mean tensor(0.8099752664566040)\n",
      "align_evaluation_train_align_0.5_metric_hard_f1_align_mean tensor(0.8403186202049255)\n",
      "align_evaluation_dev_align_0.5_metric_hard_accuracy_align tensor(0.6386138796806335)\n",
      "align_evaluation_dev_align_0.5_metric_hard_f1_align tensor(0.6068222522735596)\n",
      "align_evaluation_dev_align_0.5_metric_hard_accuracy_align_mean tensor(0.6749175190925598)\n",
      "align_evaluation_dev_align_0.5_metric_hard_f1_align_mean tensor(0.6992366909980774)\n",
      "evaluation_human_metric_hard_accuracy tensor(0.8690476417541504)\n",
      "evaluation_human_metric_hard_f1 tensor(0.8842105269432068)\n",
      "evaluation_mouse_metric_hard_accuracy_1 tensor(0.8739627599716187)\n",
      "evaluation_mouse_metric_hard_f1_1 tensor(0.8880518078804016)\n"
     ]
    },
    {
     "data": {
      "application/vnd.jupyter.widget-view+json": {
       "model_id": "",
       "version_major": 2,
       "version_minor": 0
      },
      "text/plain": [
       "HBox(children=(HTML(value='Current Batch:'), FloatProgress(value=0.0, max=177.0), HTML(value='')))"
      ]
     },
     "metadata": {},
     "output_type": "display_data"
    },
    {
     "name": "stdout",
     "output_type": "stream",
     "text": [
      "align_evaluation_train_align_0.5_metric_hard_accuracy_align tensor(0.8870568871498108)\n",
      "align_evaluation_train_align_0.5_metric_hard_f1_align tensor(0.8985185027122498)\n",
      "align_evaluation_train_align_0.5_metric_hard_accuracy_align_mean tensor(0.8099752664566040)\n",
      "align_evaluation_train_align_0.5_metric_hard_f1_align_mean tensor(0.8403186202049255)\n",
      "align_evaluation_dev_align_0.5_metric_hard_accuracy_align tensor(0.6386138796806335)\n",
      "align_evaluation_dev_align_0.5_metric_hard_f1_align tensor(0.6068222522735596)\n",
      "align_evaluation_dev_align_0.5_metric_hard_accuracy_align_mean tensor(0.6749175190925598)\n",
      "align_evaluation_dev_align_0.5_metric_hard_f1_align_mean tensor(0.6992366909980774)\n",
      "evaluation_human_metric_hard_accuracy tensor(0.8690476417541504)\n",
      "evaluation_human_metric_hard_f1 tensor(0.8842105269432068)\n",
      "evaluation_mouse_metric_hard_accuracy_1 tensor(0.8738705515861511)\n",
      "evaluation_mouse_metric_hard_f1_1 tensor(0.8879789710044861)\n"
     ]
    },
    {
     "data": {
      "application/vnd.jupyter.widget-view+json": {
       "model_id": "",
       "version_major": 2,
       "version_minor": 0
      },
      "text/plain": [
       "HBox(children=(HTML(value='Current Batch:'), FloatProgress(value=0.0, max=177.0), HTML(value='')))"
      ]
     },
     "metadata": {},
     "output_type": "display_data"
    },
    {
     "name": "stdout",
     "output_type": "stream",
     "text": [
      "align_evaluation_train_align_0.5_metric_hard_accuracy_align tensor(0.8870568871498108)\n",
      "align_evaluation_train_align_0.5_metric_hard_f1_align tensor(0.8985185027122498)\n",
      "align_evaluation_train_align_0.5_metric_hard_accuracy_align_mean tensor(0.8103874921798706)\n",
      "align_evaluation_train_align_0.5_metric_hard_f1_align_mean tensor(0.8406098484992981)\n",
      "align_evaluation_dev_align_0.5_metric_hard_accuracy_align tensor(0.6386138796806335)\n",
      "align_evaluation_dev_align_0.5_metric_hard_f1_align tensor(0.6068222522735596)\n",
      "align_evaluation_dev_align_0.5_metric_hard_accuracy_align_mean tensor(0.6749175190925598)\n",
      "align_evaluation_dev_align_0.5_metric_hard_f1_align_mean tensor(0.6992366909980774)\n",
      "evaluation_human_metric_hard_accuracy tensor(0.8690476417541504)\n",
      "evaluation_human_metric_hard_f1 tensor(0.8842105269432068)\n",
      "evaluation_mouse_metric_hard_accuracy_1 tensor(0.8738705515861511)\n",
      "evaluation_mouse_metric_hard_f1_1 tensor(0.8879789710044861)\n"
     ]
    },
    {
     "data": {
      "application/vnd.jupyter.widget-view+json": {
       "model_id": "",
       "version_major": 2,
       "version_minor": 0
      },
      "text/plain": [
       "HBox(children=(HTML(value='Current Batch:'), FloatProgress(value=0.0, max=177.0), HTML(value='')))"
      ]
     },
     "metadata": {},
     "output_type": "display_data"
    },
    {
     "name": "stdout",
     "output_type": "stream",
     "text": [
      "align_evaluation_train_align_0.5_metric_hard_accuracy_align tensor(0.8870568871498108)\n",
      "align_evaluation_train_align_0.5_metric_hard_f1_align tensor(0.8985185027122498)\n",
      "align_evaluation_train_align_0.5_metric_hard_accuracy_align_mean tensor(0.8103874921798706)\n",
      "align_evaluation_train_align_0.5_metric_hard_f1_align_mean tensor(0.8406098484992981)\n",
      "align_evaluation_dev_align_0.5_metric_hard_accuracy_align tensor(0.6386138796806335)\n",
      "align_evaluation_dev_align_0.5_metric_hard_f1_align tensor(0.6068222522735596)\n",
      "align_evaluation_dev_align_0.5_metric_hard_accuracy_align_mean tensor(0.6749175190925598)\n",
      "align_evaluation_dev_align_0.5_metric_hard_f1_align_mean tensor(0.6992366909980774)\n",
      "evaluation_human_metric_hard_accuracy tensor(0.8690476417541504)\n",
      "evaluation_human_metric_hard_f1 tensor(0.8842105269432068)\n",
      "evaluation_mouse_metric_hard_accuracy_1 tensor(0.8737783432006836)\n",
      "evaluation_mouse_metric_hard_f1_1 tensor(0.8879063129425049)\n"
     ]
    },
    {
     "data": {
      "application/vnd.jupyter.widget-view+json": {
       "model_id": "",
       "version_major": 2,
       "version_minor": 0
      },
      "text/plain": [
       "HBox(children=(HTML(value='Current Batch:'), FloatProgress(value=0.0, max=177.0), HTML(value='')))"
      ]
     },
     "metadata": {},
     "output_type": "display_data"
    },
    {
     "name": "stdout",
     "output_type": "stream",
     "text": [
      "align_evaluation_train_align_0.5_metric_hard_accuracy_align tensor(0.8870568871498108)\n",
      "align_evaluation_train_align_0.5_metric_hard_f1_align tensor(0.8985185027122498)\n",
      "align_evaluation_train_align_0.5_metric_hard_accuracy_align_mean tensor(0.8103874921798706)\n",
      "align_evaluation_train_align_0.5_metric_hard_f1_align_mean tensor(0.8406098484992981)\n",
      "align_evaluation_dev_align_0.5_metric_hard_accuracy_align tensor(0.6386138796806335)\n",
      "align_evaluation_dev_align_0.5_metric_hard_f1_align tensor(0.6068222522735596)\n",
      "align_evaluation_dev_align_0.5_metric_hard_accuracy_align_mean tensor(0.6749175190925598)\n",
      "align_evaluation_dev_align_0.5_metric_hard_f1_align_mean tensor(0.6992366909980774)\n",
      "evaluation_human_metric_hard_accuracy tensor(0.8690476417541504)\n",
      "evaluation_human_metric_hard_f1 tensor(0.8842105269432068)\n",
      "evaluation_mouse_metric_hard_accuracy_1 tensor(0.8738705515861511)\n",
      "evaluation_mouse_metric_hard_f1_1 tensor(0.8879789710044861)\n"
     ]
    },
    {
     "data": {
      "application/vnd.jupyter.widget-view+json": {
       "model_id": "",
       "version_major": 2,
       "version_minor": 0
      },
      "text/plain": [
       "HBox(children=(HTML(value='Current Batch:'), FloatProgress(value=0.0, max=177.0), HTML(value='')))"
      ]
     },
     "metadata": {},
     "output_type": "display_data"
    },
    {
     "name": "stdout",
     "output_type": "stream",
     "text": [
      "align_evaluation_train_align_0.5_metric_hard_accuracy_align tensor(0.8870568871498108)\n",
      "align_evaluation_train_align_0.5_metric_hard_f1_align tensor(0.8985185027122498)\n",
      "align_evaluation_train_align_0.5_metric_hard_accuracy_align_mean tensor(0.8103874921798706)\n",
      "align_evaluation_train_align_0.5_metric_hard_f1_align_mean tensor(0.8406098484992981)\n",
      "align_evaluation_dev_align_0.5_metric_hard_accuracy_align tensor(0.6386138796806335)\n",
      "align_evaluation_dev_align_0.5_metric_hard_f1_align tensor(0.6068222522735596)\n",
      "align_evaluation_dev_align_0.5_metric_hard_accuracy_align_mean tensor(0.6749175190925598)\n",
      "align_evaluation_dev_align_0.5_metric_hard_f1_align_mean tensor(0.6992366909980774)\n",
      "evaluation_human_metric_hard_accuracy tensor(0.8690476417541504)\n",
      "evaluation_human_metric_hard_f1 tensor(0.8842105269432068)\n",
      "evaluation_mouse_metric_hard_accuracy_1 tensor(0.8737783432006836)\n",
      "evaluation_mouse_metric_hard_f1_1 tensor(0.8879063129425049)\n"
     ]
    },
    {
     "data": {
      "application/vnd.jupyter.widget-view+json": {
       "model_id": "",
       "version_major": 2,
       "version_minor": 0
      },
      "text/plain": [
       "HBox(children=(HTML(value='Current Batch:'), FloatProgress(value=0.0, max=177.0), HTML(value='')))"
      ]
     },
     "metadata": {},
     "output_type": "display_data"
    },
    {
     "name": "stdout",
     "output_type": "stream",
     "text": [
      "align_evaluation_train_align_0.5_metric_hard_accuracy_align tensor(0.8870568871498108)\n",
      "align_evaluation_train_align_0.5_metric_hard_f1_align tensor(0.8985185027122498)\n",
      "align_evaluation_train_align_0.5_metric_hard_accuracy_align_mean tensor(0.8103874921798706)\n",
      "align_evaluation_train_align_0.5_metric_hard_f1_align_mean tensor(0.8406098484992981)\n",
      "align_evaluation_dev_align_0.5_metric_hard_accuracy_align tensor(0.6386138796806335)\n",
      "align_evaluation_dev_align_0.5_metric_hard_f1_align tensor(0.6068222522735596)\n",
      "align_evaluation_dev_align_0.5_metric_hard_accuracy_align_mean tensor(0.6749175190925598)\n",
      "align_evaluation_dev_align_0.5_metric_hard_f1_align_mean tensor(0.6992366909980774)\n",
      "evaluation_human_metric_hard_accuracy tensor(0.8690476417541504)\n",
      "evaluation_human_metric_hard_f1 tensor(0.8842105269432068)\n",
      "evaluation_mouse_metric_hard_accuracy_1 tensor(0.8738705515861511)\n",
      "evaluation_mouse_metric_hard_f1_1 tensor(0.8879789710044861)\n"
     ]
    },
    {
     "data": {
      "application/vnd.jupyter.widget-view+json": {
       "model_id": "",
       "version_major": 2,
       "version_minor": 0
      },
      "text/plain": [
       "HBox(children=(HTML(value='Current Batch:'), FloatProgress(value=0.0, max=177.0), HTML(value='')))"
      ]
     },
     "metadata": {},
     "output_type": "display_data"
    },
    {
     "name": "stdout",
     "output_type": "stream",
     "text": [
      "align_evaluation_train_align_0.5_metric_hard_accuracy_align tensor(0.8870568871498108)\n",
      "align_evaluation_train_align_0.5_metric_hard_f1_align tensor(0.8985185027122498)\n",
      "align_evaluation_train_align_0.5_metric_hard_accuracy_align_mean tensor(0.8103874921798706)\n",
      "align_evaluation_train_align_0.5_metric_hard_f1_align_mean tensor(0.8406098484992981)\n",
      "align_evaluation_dev_align_0.5_metric_hard_accuracy_align tensor(0.6386138796806335)\n",
      "align_evaluation_dev_align_0.5_metric_hard_f1_align tensor(0.6068222522735596)\n",
      "align_evaluation_dev_align_0.5_metric_hard_accuracy_align_mean tensor(0.6749175190925598)\n",
      "align_evaluation_dev_align_0.5_metric_hard_f1_align_mean tensor(0.6992366909980774)\n",
      "evaluation_human_metric_hard_accuracy tensor(0.8691927790641785)\n",
      "evaluation_human_metric_hard_f1 tensor(0.8843240141868591)\n",
      "evaluation_mouse_metric_hard_accuracy_1 tensor(0.8740549683570862)\n",
      "evaluation_mouse_metric_hard_f1_1 tensor(0.8881244659423828)\n"
     ]
    },
    {
     "data": {
      "application/vnd.jupyter.widget-view+json": {
       "model_id": "",
       "version_major": 2,
       "version_minor": 0
      },
      "text/plain": [
       "HBox(children=(HTML(value='Current Batch:'), FloatProgress(value=0.0, max=177.0), HTML(value='')))"
      ]
     },
     "metadata": {},
     "output_type": "display_data"
    },
    {
     "name": "stdout",
     "output_type": "stream",
     "text": [
      "align_evaluation_train_align_0.5_metric_hard_accuracy_align tensor(0.8870568871498108)\n",
      "align_evaluation_train_align_0.5_metric_hard_f1_align tensor(0.8985185027122498)\n",
      "align_evaluation_train_align_0.5_metric_hard_accuracy_align_mean tensor(0.8103874921798706)\n",
      "align_evaluation_train_align_0.5_metric_hard_f1_align_mean tensor(0.8406098484992981)\n",
      "align_evaluation_dev_align_0.5_metric_hard_accuracy_align tensor(0.6386138796806335)\n",
      "align_evaluation_dev_align_0.5_metric_hard_f1_align tensor(0.6068222522735596)\n",
      "align_evaluation_dev_align_0.5_metric_hard_accuracy_align_mean tensor(0.6749175190925598)\n",
      "align_evaluation_dev_align_0.5_metric_hard_f1_align_mean tensor(0.6992366909980774)\n",
      "evaluation_human_metric_hard_accuracy tensor(0.8691927790641785)\n",
      "evaluation_human_metric_hard_f1 tensor(0.8843240141868591)\n",
      "evaluation_mouse_metric_hard_accuracy_1 tensor(0.8739627599716187)\n",
      "evaluation_mouse_metric_hard_f1_1 tensor(0.8880518078804016)\n"
     ]
    },
    {
     "data": {
      "application/vnd.jupyter.widget-view+json": {
       "model_id": "",
       "version_major": 2,
       "version_minor": 0
      },
      "text/plain": [
       "HBox(children=(HTML(value='Current Batch:'), FloatProgress(value=0.0, max=177.0), HTML(value='')))"
      ]
     },
     "metadata": {},
     "output_type": "display_data"
    },
    {
     "name": "stdout",
     "output_type": "stream",
     "text": [
      "align_evaluation_train_align_0.5_metric_hard_accuracy_align tensor(0.8870568871498108)\n",
      "align_evaluation_train_align_0.5_metric_hard_f1_align tensor(0.8985185027122498)\n",
      "align_evaluation_train_align_0.5_metric_hard_accuracy_align_mean tensor(0.8103874921798706)\n",
      "align_evaluation_train_align_0.5_metric_hard_f1_align_mean tensor(0.8406098484992981)\n",
      "align_evaluation_dev_align_0.5_metric_hard_accuracy_align tensor(0.6386138796806335)\n",
      "align_evaluation_dev_align_0.5_metric_hard_f1_align tensor(0.6068222522735596)\n",
      "align_evaluation_dev_align_0.5_metric_hard_accuracy_align_mean tensor(0.6749175190925598)\n",
      "align_evaluation_dev_align_0.5_metric_hard_f1_align_mean tensor(0.6992366909980774)\n",
      "evaluation_human_metric_hard_accuracy tensor(0.8691927790641785)\n",
      "evaluation_human_metric_hard_f1 tensor(0.8843240141868591)\n",
      "evaluation_mouse_metric_hard_accuracy_1 tensor(0.8739627599716187)\n",
      "evaluation_mouse_metric_hard_f1_1 tensor(0.8880518078804016)\n"
     ]
    },
    {
     "data": {
      "application/vnd.jupyter.widget-view+json": {
       "model_id": "",
       "version_major": 2,
       "version_minor": 0
      },
      "text/plain": [
       "HBox(children=(HTML(value='Current Batch:'), FloatProgress(value=0.0, max=177.0), HTML(value='')))"
      ]
     },
     "metadata": {},
     "output_type": "display_data"
    },
    {
     "name": "stdout",
     "output_type": "stream",
     "text": [
      "align_evaluation_train_align_0.5_metric_hard_accuracy_align tensor(0.8870568871498108)\n",
      "align_evaluation_train_align_0.5_metric_hard_f1_align tensor(0.8985185027122498)\n",
      "align_evaluation_train_align_0.5_metric_hard_accuracy_align_mean tensor(0.8103874921798706)\n",
      "align_evaluation_train_align_0.5_metric_hard_f1_align_mean tensor(0.8406098484992981)\n",
      "align_evaluation_dev_align_0.5_metric_hard_accuracy_align tensor(0.6386138796806335)\n",
      "align_evaluation_dev_align_0.5_metric_hard_f1_align tensor(0.6068222522735596)\n",
      "align_evaluation_dev_align_0.5_metric_hard_accuracy_align_mean tensor(0.6749175190925598)\n",
      "align_evaluation_dev_align_0.5_metric_hard_f1_align_mean tensor(0.6992366909980774)\n",
      "evaluation_human_metric_hard_accuracy tensor(0.8691927790641785)\n",
      "evaluation_human_metric_hard_f1 tensor(0.8843240141868591)\n",
      "evaluation_mouse_metric_hard_accuracy_1 tensor(0.8739627599716187)\n",
      "evaluation_mouse_metric_hard_f1_1 tensor(0.8880518078804016)\n"
     ]
    },
    {
     "data": {
      "application/vnd.jupyter.widget-view+json": {
       "model_id": "",
       "version_major": 2,
       "version_minor": 0
      },
      "text/plain": [
       "HBox(children=(HTML(value='Current Batch:'), FloatProgress(value=0.0, max=177.0), HTML(value='')))"
      ]
     },
     "metadata": {},
     "output_type": "display_data"
    },
    {
     "name": "stdout",
     "output_type": "stream",
     "text": [
      "align_evaluation_train_align_0.5_metric_hard_accuracy_align tensor(0.8870568871498108)\n",
      "align_evaluation_train_align_0.5_metric_hard_f1_align tensor(0.8985185027122498)\n",
      "align_evaluation_train_align_0.5_metric_hard_accuracy_align_mean tensor(0.8103874921798706)\n",
      "align_evaluation_train_align_0.5_metric_hard_f1_align_mean tensor(0.8406098484992981)\n",
      "align_evaluation_dev_align_0.5_metric_hard_accuracy_align tensor(0.6386138796806335)\n",
      "align_evaluation_dev_align_0.5_metric_hard_f1_align tensor(0.6068222522735596)\n",
      "align_evaluation_dev_align_0.5_metric_hard_accuracy_align_mean tensor(0.6749175190925598)\n",
      "align_evaluation_dev_align_0.5_metric_hard_f1_align_mean tensor(0.6992366909980774)\n",
      "evaluation_human_metric_hard_accuracy tensor(0.8691927790641785)\n",
      "evaluation_human_metric_hard_f1 tensor(0.8843240141868591)\n",
      "evaluation_mouse_metric_hard_accuracy_1 tensor(0.8740549683570862)\n",
      "evaluation_mouse_metric_hard_f1_1 tensor(0.8881244659423828)\n"
     ]
    },
    {
     "data": {
      "application/vnd.jupyter.widget-view+json": {
       "model_id": "",
       "version_major": 2,
       "version_minor": 0
      },
      "text/plain": [
       "HBox(children=(HTML(value='Current Batch:'), FloatProgress(value=0.0, max=177.0), HTML(value='')))"
      ]
     },
     "metadata": {},
     "output_type": "display_data"
    },
    {
     "name": "stdout",
     "output_type": "stream",
     "text": [
      "align_evaluation_train_align_0.5_metric_hard_accuracy_align tensor(0.8870568871498108)\n",
      "align_evaluation_train_align_0.5_metric_hard_f1_align tensor(0.8985185027122498)\n",
      "align_evaluation_train_align_0.5_metric_hard_accuracy_align_mean tensor(0.8103874921798706)\n",
      "align_evaluation_train_align_0.5_metric_hard_f1_align_mean tensor(0.8406098484992981)\n",
      "align_evaluation_dev_align_0.5_metric_hard_accuracy_align tensor(0.6386138796806335)\n",
      "align_evaluation_dev_align_0.5_metric_hard_f1_align tensor(0.6068222522735596)\n",
      "align_evaluation_dev_align_0.5_metric_hard_accuracy_align_mean tensor(0.6749175190925598)\n",
      "align_evaluation_dev_align_0.5_metric_hard_f1_align_mean tensor(0.6992366909980774)\n",
      "evaluation_human_metric_hard_accuracy tensor(0.8691927790641785)\n",
      "evaluation_human_metric_hard_f1 tensor(0.8843240141868591)\n",
      "evaluation_mouse_metric_hard_accuracy_1 tensor(0.8740549683570862)\n",
      "evaluation_mouse_metric_hard_f1_1 tensor(0.8881244659423828)\n"
     ]
    },
    {
     "data": {
      "application/vnd.jupyter.widget-view+json": {
       "model_id": "",
       "version_major": 2,
       "version_minor": 0
      },
      "text/plain": [
       "HBox(children=(HTML(value='Current Batch:'), FloatProgress(value=0.0, max=177.0), HTML(value='')))"
      ]
     },
     "metadata": {},
     "output_type": "display_data"
    },
    {
     "name": "stdout",
     "output_type": "stream",
     "text": [
      "align_evaluation_train_align_0.5_metric_hard_accuracy_align tensor(0.8870568871498108)\n",
      "align_evaluation_train_align_0.5_metric_hard_f1_align tensor(0.8985185027122498)\n",
      "align_evaluation_train_align_0.5_metric_hard_accuracy_align_mean tensor(0.8103874921798706)\n",
      "align_evaluation_train_align_0.5_metric_hard_f1_align_mean tensor(0.8406098484992981)\n",
      "align_evaluation_dev_align_0.5_metric_hard_accuracy_align tensor(0.6386138796806335)\n",
      "align_evaluation_dev_align_0.5_metric_hard_f1_align tensor(0.6068222522735596)\n",
      "align_evaluation_dev_align_0.5_metric_hard_accuracy_align_mean tensor(0.6749175190925598)\n",
      "align_evaluation_dev_align_0.5_metric_hard_f1_align_mean tensor(0.6992366909980774)\n",
      "evaluation_human_metric_hard_accuracy tensor(0.8691927790641785)\n",
      "evaluation_human_metric_hard_f1 tensor(0.8843240141868591)\n",
      "evaluation_mouse_metric_hard_accuracy_1 tensor(0.8740549683570862)\n",
      "evaluation_mouse_metric_hard_f1_1 tensor(0.8881244659423828)\n"
     ]
    },
    {
     "data": {
      "application/vnd.jupyter.widget-view+json": {
       "model_id": "",
       "version_major": 2,
       "version_minor": 0
      },
      "text/plain": [
       "HBox(children=(HTML(value='Current Batch:'), FloatProgress(value=0.0, max=177.0), HTML(value='')))"
      ]
     },
     "metadata": {},
     "output_type": "display_data"
    },
    {
     "name": "stdout",
     "output_type": "stream",
     "text": [
      "align_evaluation_train_align_0.5_metric_hard_accuracy_align tensor(0.8870568871498108)\n",
      "align_evaluation_train_align_0.5_metric_hard_f1_align tensor(0.8985185027122498)\n",
      "align_evaluation_train_align_0.5_metric_hard_accuracy_align_mean tensor(0.8103874921798706)\n",
      "align_evaluation_train_align_0.5_metric_hard_f1_align_mean tensor(0.8406098484992981)\n",
      "align_evaluation_dev_align_0.5_metric_hard_accuracy_align tensor(0.6386138796806335)\n",
      "align_evaluation_dev_align_0.5_metric_hard_f1_align tensor(0.6068222522735596)\n",
      "align_evaluation_dev_align_0.5_metric_hard_accuracy_align_mean tensor(0.6749175190925598)\n",
      "align_evaluation_dev_align_0.5_metric_hard_f1_align_mean tensor(0.6992366909980774)\n",
      "evaluation_human_metric_hard_accuracy tensor(0.8691927790641785)\n",
      "evaluation_human_metric_hard_f1 tensor(0.8843240141868591)\n",
      "evaluation_mouse_metric_hard_accuracy_1 tensor(0.8739627599716187)\n",
      "evaluation_mouse_metric_hard_f1_1 tensor(0.8880518078804016)\n"
     ]
    },
    {
     "data": {
      "application/vnd.jupyter.widget-view+json": {
       "model_id": "",
       "version_major": 2,
       "version_minor": 0
      },
      "text/plain": [
       "HBox(children=(HTML(value='Current Batch:'), FloatProgress(value=0.0, max=177.0), HTML(value='')))"
      ]
     },
     "metadata": {},
     "output_type": "display_data"
    },
    {
     "name": "stdout",
     "output_type": "stream",
     "text": [
      "align_evaluation_train_align_0.5_metric_hard_accuracy_align tensor(0.8874691128730774)\n",
      "align_evaluation_train_align_0.5_metric_hard_f1_align tensor(0.8988513946533203)\n",
      "align_evaluation_train_align_0.5_metric_hard_accuracy_align_mean tensor(0.8103874921798706)\n",
      "align_evaluation_train_align_0.5_metric_hard_f1_align_mean tensor(0.8406098484992981)\n",
      "align_evaluation_dev_align_0.5_metric_hard_accuracy_align tensor(0.6386138796806335)\n",
      "align_evaluation_dev_align_0.5_metric_hard_f1_align tensor(0.6068222522735596)\n",
      "align_evaluation_dev_align_0.5_metric_hard_accuracy_align_mean tensor(0.6749175190925598)\n",
      "align_evaluation_dev_align_0.5_metric_hard_f1_align_mean tensor(0.6992366909980774)\n",
      "evaluation_human_metric_hard_accuracy tensor(0.8691927790641785)\n",
      "evaluation_human_metric_hard_f1 tensor(0.8843240141868591)\n",
      "evaluation_mouse_metric_hard_accuracy_1 tensor(0.8740549683570862)\n",
      "evaluation_mouse_metric_hard_f1_1 tensor(0.8881244659423828)\n"
     ]
    },
    {
     "data": {
      "application/vnd.jupyter.widget-view+json": {
       "model_id": "",
       "version_major": 2,
       "version_minor": 0
      },
      "text/plain": [
       "HBox(children=(HTML(value='Current Batch:'), FloatProgress(value=0.0, max=177.0), HTML(value='')))"
      ]
     },
     "metadata": {},
     "output_type": "display_data"
    },
    {
     "name": "stdout",
     "output_type": "stream",
     "text": [
      "align_evaluation_train_align_0.5_metric_hard_accuracy_align tensor(0.8874691128730774)\n",
      "align_evaluation_train_align_0.5_metric_hard_f1_align tensor(0.8988513946533203)\n",
      "align_evaluation_train_align_0.5_metric_hard_accuracy_align_mean tensor(0.8103874921798706)\n",
      "align_evaluation_train_align_0.5_metric_hard_f1_align_mean tensor(0.8406098484992981)\n",
      "align_evaluation_dev_align_0.5_metric_hard_accuracy_align tensor(0.6386138796806335)\n",
      "align_evaluation_dev_align_0.5_metric_hard_f1_align tensor(0.6068222522735596)\n",
      "align_evaluation_dev_align_0.5_metric_hard_accuracy_align_mean tensor(0.6749175190925598)\n",
      "align_evaluation_dev_align_0.5_metric_hard_f1_align_mean tensor(0.6992366909980774)\n",
      "evaluation_human_metric_hard_accuracy tensor(0.8691927790641785)\n",
      "evaluation_human_metric_hard_f1 tensor(0.8843240141868591)\n",
      "evaluation_mouse_metric_hard_accuracy_1 tensor(0.8740549683570862)\n",
      "evaluation_mouse_metric_hard_f1_1 tensor(0.8881244659423828)\n"
     ]
    },
    {
     "data": {
      "application/vnd.jupyter.widget-view+json": {
       "model_id": "",
       "version_major": 2,
       "version_minor": 0
      },
      "text/plain": [
       "HBox(children=(HTML(value='Current Batch:'), FloatProgress(value=0.0, max=177.0), HTML(value='')))"
      ]
     },
     "metadata": {},
     "output_type": "display_data"
    },
    {
     "name": "stdout",
     "output_type": "stream",
     "text": [
      "align_evaluation_train_align_0.5_metric_hard_accuracy_align tensor(0.8874691128730774)\n",
      "align_evaluation_train_align_0.5_metric_hard_f1_align tensor(0.8988513946533203)\n",
      "align_evaluation_train_align_0.5_metric_hard_accuracy_align_mean tensor(0.8103874921798706)\n",
      "align_evaluation_train_align_0.5_metric_hard_f1_align_mean tensor(0.8406098484992981)\n",
      "align_evaluation_dev_align_0.5_metric_hard_accuracy_align tensor(0.6386138796806335)\n",
      "align_evaluation_dev_align_0.5_metric_hard_f1_align tensor(0.6068222522735596)\n",
      "align_evaluation_dev_align_0.5_metric_hard_accuracy_align_mean tensor(0.6765676736831665)\n",
      "align_evaluation_dev_align_0.5_metric_hard_f1_align_mean tensor(0.7003058195114136)\n",
      "evaluation_human_metric_hard_accuracy tensor(0.8691927790641785)\n",
      "evaluation_human_metric_hard_f1 tensor(0.8843240141868591)\n",
      "evaluation_mouse_metric_hard_accuracy_1 tensor(0.8740549683570862)\n",
      "evaluation_mouse_metric_hard_f1_1 tensor(0.8881244659423828)\n"
     ]
    },
    {
     "data": {
      "application/vnd.jupyter.widget-view+json": {
       "model_id": "",
       "version_major": 2,
       "version_minor": 0
      },
      "text/plain": [
       "HBox(children=(HTML(value='Current Batch:'), FloatProgress(value=0.0, max=177.0), HTML(value='')))"
      ]
     },
     "metadata": {},
     "output_type": "display_data"
    },
    {
     "name": "stdout",
     "output_type": "stream",
     "text": [
      "align_evaluation_train_align_0.5_metric_hard_accuracy_align tensor(0.8870568871498108)\n",
      "align_evaluation_train_align_0.5_metric_hard_f1_align tensor(0.8985185027122498)\n",
      "align_evaluation_train_align_0.5_metric_hard_accuracy_align_mean tensor(0.8103874921798706)\n",
      "align_evaluation_train_align_0.5_metric_hard_f1_align_mean tensor(0.8406098484992981)\n",
      "align_evaluation_dev_align_0.5_metric_hard_accuracy_align tensor(0.6386138796806335)\n",
      "align_evaluation_dev_align_0.5_metric_hard_f1_align tensor(0.6068222522735596)\n",
      "align_evaluation_dev_align_0.5_metric_hard_accuracy_align_mean tensor(0.6749175190925598)\n",
      "align_evaluation_dev_align_0.5_metric_hard_f1_align_mean tensor(0.6992366909980774)\n",
      "evaluation_human_metric_hard_accuracy tensor(0.8691927790641785)\n",
      "evaluation_human_metric_hard_f1 tensor(0.8843240141868591)\n",
      "evaluation_mouse_metric_hard_accuracy_1 tensor(0.8740549683570862)\n",
      "evaluation_mouse_metric_hard_f1_1 tensor(0.8881244659423828)\n"
     ]
    },
    {
     "data": {
      "application/vnd.jupyter.widget-view+json": {
       "model_id": "",
       "version_major": 2,
       "version_minor": 0
      },
      "text/plain": [
       "HBox(children=(HTML(value='Current Batch:'), FloatProgress(value=0.0, max=177.0), HTML(value='')))"
      ]
     },
     "metadata": {},
     "output_type": "display_data"
    },
    {
     "name": "stdout",
     "output_type": "stream",
     "text": [
      "align_evaluation_train_align_0.5_metric_hard_accuracy_align tensor(0.8874691128730774)\n",
      "align_evaluation_train_align_0.5_metric_hard_f1_align tensor(0.8988513946533203)\n",
      "align_evaluation_train_align_0.5_metric_hard_accuracy_align_mean tensor(0.8103874921798706)\n",
      "align_evaluation_train_align_0.5_metric_hard_f1_align_mean tensor(0.8406098484992981)\n",
      "align_evaluation_dev_align_0.5_metric_hard_accuracy_align tensor(0.6386138796806335)\n",
      "align_evaluation_dev_align_0.5_metric_hard_f1_align tensor(0.6068222522735596)\n",
      "align_evaluation_dev_align_0.5_metric_hard_accuracy_align_mean tensor(0.6749175190925598)\n",
      "align_evaluation_dev_align_0.5_metric_hard_f1_align_mean tensor(0.6992366909980774)\n",
      "evaluation_human_metric_hard_accuracy tensor(0.8691927790641785)\n",
      "evaluation_human_metric_hard_f1 tensor(0.8843240141868591)\n",
      "evaluation_mouse_metric_hard_accuracy_1 tensor(0.8740549683570862)\n",
      "evaluation_mouse_metric_hard_f1_1 tensor(0.8881244659423828)\n"
     ]
    },
    {
     "data": {
      "application/vnd.jupyter.widget-view+json": {
       "model_id": "",
       "version_major": 2,
       "version_minor": 0
      },
      "text/plain": [
       "HBox(children=(HTML(value='Current Batch:'), FloatProgress(value=0.0, max=177.0), HTML(value='')))"
      ]
     },
     "metadata": {},
     "output_type": "display_data"
    },
    {
     "name": "stdout",
     "output_type": "stream",
     "text": [
      "align_evaluation_train_align_0.5_metric_hard_accuracy_align tensor(0.8874691128730774)\n",
      "align_evaluation_train_align_0.5_metric_hard_f1_align tensor(0.8988513946533203)\n",
      "align_evaluation_train_align_0.5_metric_hard_accuracy_align_mean tensor(0.8103874921798706)\n",
      "align_evaluation_train_align_0.5_metric_hard_f1_align_mean tensor(0.8406098484992981)\n",
      "align_evaluation_dev_align_0.5_metric_hard_accuracy_align tensor(0.6386138796806335)\n",
      "align_evaluation_dev_align_0.5_metric_hard_f1_align tensor(0.6068222522735596)\n",
      "align_evaluation_dev_align_0.5_metric_hard_accuracy_align_mean tensor(0.6749175190925598)\n",
      "align_evaluation_dev_align_0.5_metric_hard_f1_align_mean tensor(0.6992366909980774)\n",
      "evaluation_human_metric_hard_accuracy tensor(0.8691927790641785)\n",
      "evaluation_human_metric_hard_f1 tensor(0.8843240141868591)\n",
      "evaluation_mouse_metric_hard_accuracy_1 tensor(0.8739627599716187)\n",
      "evaluation_mouse_metric_hard_f1_1 tensor(0.8880518078804016)\n"
     ]
    },
    {
     "data": {
      "application/vnd.jupyter.widget-view+json": {
       "model_id": "",
       "version_major": 2,
       "version_minor": 0
      },
      "text/plain": [
       "HBox(children=(HTML(value='Current Batch:'), FloatProgress(value=0.0, max=177.0), HTML(value='')))"
      ]
     },
     "metadata": {},
     "output_type": "display_data"
    },
    {
     "name": "stdout",
     "output_type": "stream",
     "text": [
      "align_evaluation_train_align_0.5_metric_hard_accuracy_align tensor(0.8874691128730774)\n",
      "align_evaluation_train_align_0.5_metric_hard_f1_align tensor(0.8988513946533203)\n",
      "align_evaluation_train_align_0.5_metric_hard_accuracy_align_mean tensor(0.8103874921798706)\n",
      "align_evaluation_train_align_0.5_metric_hard_f1_align_mean tensor(0.8406098484992981)\n",
      "align_evaluation_dev_align_0.5_metric_hard_accuracy_align tensor(0.6386138796806335)\n",
      "align_evaluation_dev_align_0.5_metric_hard_f1_align tensor(0.6068222522735596)\n",
      "align_evaluation_dev_align_0.5_metric_hard_accuracy_align_mean tensor(0.6749175190925598)\n",
      "align_evaluation_dev_align_0.5_metric_hard_f1_align_mean tensor(0.6992366909980774)\n",
      "evaluation_human_metric_hard_accuracy tensor(0.8691927790641785)\n",
      "evaluation_human_metric_hard_f1 tensor(0.8843240141868591)\n",
      "evaluation_mouse_metric_hard_accuracy_1 tensor(0.8739627599716187)\n",
      "evaluation_mouse_metric_hard_f1_1 tensor(0.8880518078804016)\n",
      "\n"
     ]
    }
   ],
   "source": [
    "nEpochs = 100\n",
    "l.train(nEpochs)"
   ]
  },
  {
   "cell_type": "code",
   "execution_count": null,
   "metadata": {},
   "outputs": [],
   "source": []
  },
  {
   "cell_type": "code",
   "execution_count": null,
   "metadata": {},
   "outputs": [],
   "source": []
  },
  {
   "cell_type": "code",
   "execution_count": 232,
   "metadata": {
    "scrolled": true
   },
   "outputs": [
    {
     "name": "stdout",
     "output_type": "stream",
     "text": [
      "evaluation_human_metric_hard_accuracy tensor(0.5000000000000000)\n",
      "evaluation_human_metric_hard_f1 tensor(nan)\n",
      "evaluation_mouse_metric_hard_accuracy_1 tensor(0.5000000000000000)\n",
      "evaluation_mouse_metric_hard_f1_1 tensor(nan)\n"
     ]
    },
    {
     "data": {
      "application/vnd.jupyter.widget-view+json": {
       "model_id": "ee893e61c87240479c2236d0e0005cbb",
       "version_major": 2,
       "version_minor": 0
      },
      "text/plain": [
       "HBox(children=(HTML(value='Overall Training:'), FloatProgress(value=0.0), HTML(value='')))"
      ]
     },
     "metadata": {},
     "output_type": "display_data"
    },
    {
     "data": {
      "application/vnd.jupyter.widget-view+json": {
       "model_id": "",
       "version_major": 2,
       "version_minor": 0
      },
      "text/plain": [
       "HBox(children=(HTML(value='Current Batch:'), FloatProgress(value=0.0, max=177.0), HTML(value='')))"
      ]
     },
     "metadata": {},
     "output_type": "display_data"
    },
    {
     "name": "stdout",
     "output_type": "stream",
     "text": [
      "align_evaluation_train_align_0.5_metric_hard_accuracy_align tensor(0.5032976269721985)\n",
      "align_evaluation_train_align_0.5_metric_hard_f1_align tensor(0.0131040131673217)\n",
      "align_evaluation_train_align_0.5_metric_hard_accuracy_align_mean tensor(0.5173124670982361)\n",
      "align_evaluation_train_align_0.5_metric_hard_f1_align_mean tensor(0.0684168711304665)\n",
      "align_evaluation_dev_align_0.5_metric_hard_accuracy_align tensor(0.5000000000000000)\n",
      "align_evaluation_dev_align_0.5_metric_hard_f1_align tensor(nan)\n",
      "align_evaluation_dev_align_0.5_metric_hard_accuracy_align_mean tensor(0.5000000000000000)\n",
      "align_evaluation_dev_align_0.5_metric_hard_f1_align_mean tensor(0.0065573775209486)\n",
      "evaluation_human_metric_hard_accuracy tensor(0.7224158048629761)\n",
      "evaluation_human_metric_hard_f1 tensor(0.6358095407485962)\n",
      "evaluation_mouse_metric_hard_accuracy_1 tensor(0.7901530265808105)\n",
      "evaluation_mouse_metric_hard_f1_1 tensor(0.7525548934936523)\n"
     ]
    },
    {
     "data": {
      "application/vnd.jupyter.widget-view+json": {
       "model_id": "",
       "version_major": 2,
       "version_minor": 0
      },
      "text/plain": [
       "HBox(children=(HTML(value='Current Batch:'), FloatProgress(value=0.0, max=177.0), HTML(value='')))"
      ]
     },
     "metadata": {},
     "output_type": "display_data"
    },
    {
     "name": "stdout",
     "output_type": "stream",
     "text": [
      "align_evaluation_train_align_0.5_metric_hard_accuracy_align tensor(0.5251442790031433)\n",
      "align_evaluation_train_align_0.5_metric_hard_f1_align tensor(0.1111111044883728)\n",
      "align_evaluation_train_align_0.5_metric_hard_accuracy_align_mean tensor(0.6739488840103149)\n",
      "align_evaluation_train_align_0.5_metric_hard_f1_align_mean tensor(0.5598219633102417)\n",
      "align_evaluation_dev_align_0.5_metric_hard_accuracy_align tensor(0.5016501545906067)\n",
      "align_evaluation_dev_align_0.5_metric_hard_f1_align tensor(0.0503144674003124)\n",
      "align_evaluation_dev_align_0.5_metric_hard_accuracy_align_mean tensor(0.5099009871482849)\n",
      "align_evaluation_dev_align_0.5_metric_hard_f1_align_mean tensor(0.1633802801370621)\n",
      "evaluation_human_metric_hard_accuracy tensor(0.8712252974510193)\n",
      "evaluation_human_metric_hard_f1 tensor(0.8739877939224243)\n",
      "evaluation_mouse_metric_hard_accuracy_1 tensor(0.8803245425224304)\n",
      "evaluation_mouse_metric_hard_f1_1 tensor(0.8865186572074890)\n"
     ]
    },
    {
     "data": {
      "application/vnd.jupyter.widget-view+json": {
       "model_id": "",
       "version_major": 2,
       "version_minor": 0
      },
      "text/plain": [
       "HBox(children=(HTML(value='Current Batch:'), FloatProgress(value=0.0, max=177.0), HTML(value='')))"
      ]
     },
     "metadata": {},
     "output_type": "display_data"
    },
    {
     "name": "stdout",
     "output_type": "stream",
     "text": [
      "align_evaluation_train_align_0.5_metric_hard_accuracy_align tensor(0.5399835109710693)\n",
      "align_evaluation_train_align_0.5_metric_hard_f1_align tensor(0.1889534890651703)\n",
      "align_evaluation_train_align_0.5_metric_hard_accuracy_align_mean tensor(0.7757625579833984)\n",
      "align_evaluation_train_align_0.5_metric_hard_f1_align_mean tensor(0.7536231875419617)\n",
      "align_evaluation_dev_align_0.5_metric_hard_accuracy_align tensor(0.5132012963294983)\n",
      "align_evaluation_dev_align_0.5_metric_hard_f1_align tensor(0.1399416923522949)\n",
      "align_evaluation_dev_align_0.5_metric_hard_accuracy_align_mean tensor(0.5198019742965698)\n",
      "align_evaluation_dev_align_0.5_metric_hard_f1_align_mean tensor(0.2595419585704803)\n",
      "evaluation_human_metric_hard_accuracy tensor(0.8734030127525330)\n",
      "evaluation_human_metric_hard_f1 tensor(0.8837953209877014)\n",
      "evaluation_mouse_metric_hard_accuracy_1 tensor(0.8755301237106323)\n",
      "evaluation_mouse_metric_hard_f1_1 tensor(0.8868967890739441)\n"
     ]
    },
    {
     "data": {
      "application/vnd.jupyter.widget-view+json": {
       "model_id": "",
       "version_major": 2,
       "version_minor": 0
      },
      "text/plain": [
       "HBox(children=(HTML(value='Current Batch:'), FloatProgress(value=0.0, max=177.0), HTML(value='')))"
      ]
     },
     "metadata": {},
     "output_type": "display_data"
    },
    {
     "name": "stdout",
     "output_type": "stream",
     "text": [
      "align_evaluation_train_align_0.5_metric_hard_accuracy_align tensor(0.5560593605041504)\n",
      "align_evaluation_train_align_0.5_metric_hard_f1_align tensor(0.2628336548805237)\n",
      "align_evaluation_train_align_0.5_metric_hard_accuracy_align_mean tensor(0.8050288558006287)\n",
      "align_evaluation_train_align_0.5_metric_hard_f1_align_mean tensor(0.8010096549987793)\n",
      "align_evaluation_dev_align_0.5_metric_hard_accuracy_align tensor(0.5297029614448547)\n",
      "align_evaluation_dev_align_0.5_metric_hard_f1_align tensor(0.1971831023693085)\n",
      "align_evaluation_dev_align_0.5_metric_hard_accuracy_align_mean tensor(0.5181518197059631)\n",
      "align_evaluation_dev_align_0.5_metric_hard_f1_align_mean tensor(0.3080568611621857)\n",
      "evaluation_human_metric_hard_accuracy tensor(0.8735482096672058)\n",
      "evaluation_human_metric_hard_f1 tensor(0.8861289024353027)\n",
      "evaluation_mouse_metric_hard_accuracy_1 tensor(0.8717499375343323)\n",
      "evaluation_mouse_metric_hard_f1_1 tensor(0.8852593302726746)\n"
     ]
    },
    {
     "data": {
      "application/vnd.jupyter.widget-view+json": {
       "model_id": "",
       "version_major": 2,
       "version_minor": 0
      },
      "text/plain": [
       "HBox(children=(HTML(value='Current Batch:'), FloatProgress(value=0.0, max=177.0), HTML(value='')))"
      ]
     },
     "metadata": {},
     "output_type": "display_data"
    },
    {
     "name": "stdout",
     "output_type": "stream",
     "text": [
      "align_evaluation_train_align_0.5_metric_hard_accuracy_align tensor(0.5605935454368591)\n",
      "align_evaluation_train_align_0.5_metric_hard_f1_align tensor(0.2996057868003845)\n",
      "align_evaluation_train_align_0.5_metric_hard_accuracy_align_mean tensor(0.8169826865196228)\n",
      "align_evaluation_train_align_0.5_metric_hard_f1_align_mean tensor(0.8224000334739685)\n",
      "align_evaluation_dev_align_0.5_metric_hard_accuracy_align tensor(0.5231022834777832)\n",
      "align_evaluation_dev_align_0.5_metric_hard_f1_align tensor(0.1949860751628876)\n",
      "align_evaluation_dev_align_0.5_metric_hard_accuracy_align_mean tensor(0.5099009871482849)\n",
      "align_evaluation_dev_align_0.5_metric_hard_f1_align_mean tensor(0.3203661143779755)\n",
      "evaluation_human_metric_hard_accuracy tensor(0.8709349632263184)\n",
      "evaluation_human_metric_hard_f1 tensor(0.8850975632667542)\n",
      "evaluation_mouse_metric_hard_accuracy_1 tensor(0.8718421459197998)\n",
      "evaluation_mouse_metric_hard_f1_1 tensor(0.8859907984733582)\n"
     ]
    },
    {
     "data": {
      "application/vnd.jupyter.widget-view+json": {
       "model_id": "",
       "version_major": 2,
       "version_minor": 0
      },
      "text/plain": [
       "HBox(children=(HTML(value='Current Batch:'), FloatProgress(value=0.0, max=177.0), HTML(value='')))"
      ]
     },
     "metadata": {},
     "output_type": "display_data"
    },
    {
     "name": "stdout",
     "output_type": "stream",
     "text": [
      "align_evaluation_train_align_0.5_metric_hard_accuracy_align tensor(0.5692498087882996)\n",
      "align_evaluation_train_align_0.5_metric_hard_f1_align tensor(0.3296985328197479)\n",
      "align_evaluation_train_align_0.5_metric_hard_accuracy_align_mean tensor(0.8359439373016357)\n",
      "align_evaluation_train_align_0.5_metric_hard_f1_align_mean tensor(0.8453768491744995)\n",
      "align_evaluation_dev_align_0.5_metric_hard_accuracy_align tensor(0.5264026522636414)\n",
      "align_evaluation_dev_align_0.5_metric_hard_f1_align tensor(0.2222222238779068)\n",
      "align_evaluation_dev_align_0.5_metric_hard_accuracy_align_mean tensor(0.5115511417388916)\n",
      "align_evaluation_dev_align_0.5_metric_hard_f1_align_mean tensor(0.3451327383518219)\n",
      "evaluation_human_metric_hard_accuracy tensor(0.8684669137001038)\n",
      "evaluation_human_metric_hard_f1 tensor(0.8833676576614380)\n",
      "evaluation_mouse_metric_hard_accuracy_1 tensor(0.8679697513580322)\n",
      "evaluation_mouse_metric_hard_f1_1 tensor(0.8830639123916626)\n"
     ]
    },
    {
     "data": {
      "application/vnd.jupyter.widget-view+json": {
       "model_id": "",
       "version_major": 2,
       "version_minor": 0
      },
      "text/plain": [
       "HBox(children=(HTML(value='Current Batch:'), FloatProgress(value=0.0, max=177.0), HTML(value='')))"
      ]
     },
     "metadata": {},
     "output_type": "display_data"
    },
    {
     "name": "stdout",
     "output_type": "stream",
     "text": [
      "align_evaluation_train_align_0.5_metric_hard_accuracy_align tensor(0.5985160470008850)\n",
      "align_evaluation_train_align_0.5_metric_hard_f1_align tensor(0.4082624912261963)\n",
      "align_evaluation_train_align_0.5_metric_hard_accuracy_align_mean tensor(0.8425391316413879)\n",
      "align_evaluation_train_align_0.5_metric_hard_f1_align_mean tensor(0.8556311726570129)\n",
      "align_evaluation_dev_align_0.5_metric_hard_accuracy_align tensor(0.5264026522636414)\n",
      "align_evaluation_dev_align_0.5_metric_hard_f1_align tensor(0.2222222238779068)\n",
      "align_evaluation_dev_align_0.5_metric_hard_accuracy_align_mean tensor(0.5132012963294983)\n",
      "align_evaluation_dev_align_0.5_metric_hard_f1_align_mean tensor(0.3572984635829926)\n",
      "evaluation_human_metric_hard_accuracy tensor(0.8689024448394775)\n",
      "evaluation_human_metric_hard_f1 tensor(0.8838286399841309)\n",
      "evaluation_mouse_metric_hard_accuracy_1 tensor(0.8694449663162231)\n",
      "evaluation_mouse_metric_hard_f1_1 tensor(0.8842759728431702)\n"
     ]
    },
    {
     "data": {
      "application/vnd.jupyter.widget-view+json": {
       "model_id": "",
       "version_major": 2,
       "version_minor": 0
      },
      "text/plain": [
       "HBox(children=(HTML(value='Current Batch:'), FloatProgress(value=0.0, max=177.0), HTML(value='')))"
      ]
     },
     "metadata": {},
     "output_type": "display_data"
    },
    {
     "name": "stdout",
     "output_type": "stream",
     "text": [
      "align_evaluation_train_align_0.5_metric_hard_accuracy_align tensor(0.6253091692924500)\n",
      "align_evaluation_train_align_0.5_metric_hard_f1_align tensor(0.4687317609786987)\n",
      "align_evaluation_train_align_0.5_metric_hard_accuracy_align_mean tensor(0.8458367586135864)\n",
      "align_evaluation_train_align_0.5_metric_hard_f1_align_mean tensor(0.8611729741096497)\n",
      "align_evaluation_dev_align_0.5_metric_hard_accuracy_align tensor(0.5313531160354614)\n",
      "align_evaluation_dev_align_0.5_metric_hard_f1_align tensor(0.2324324399232864)\n",
      "align_evaluation_dev_align_0.5_metric_hard_accuracy_align_mean tensor(0.5099009871482849)\n",
      "align_evaluation_dev_align_0.5_metric_hard_f1_align_mean tensor(0.3585313260555267)\n",
      "evaluation_human_metric_hard_accuracy tensor(0.8670151233673096)\n",
      "evaluation_human_metric_hard_f1 tensor(0.8825038075447083)\n",
      "evaluation_mouse_metric_hard_accuracy_1 tensor(0.8676009774208069)\n",
      "evaluation_mouse_metric_hard_f1_1 tensor(0.8829665780067444)\n"
     ]
    },
    {
     "data": {
      "application/vnd.jupyter.widget-view+json": {
       "model_id": "",
       "version_major": 2,
       "version_minor": 0
      },
      "text/plain": [
       "HBox(children=(HTML(value='Current Batch:'), FloatProgress(value=0.0, max=177.0), HTML(value='')))"
      ]
     },
     "metadata": {},
     "output_type": "display_data"
    },
    {
     "name": "stdout",
     "output_type": "stream",
     "text": [
      "align_evaluation_train_align_0.5_metric_hard_accuracy_align tensor(0.6492168307304382)\n",
      "align_evaluation_train_align_0.5_metric_hard_f1_align tensor(0.5259053111076355)\n",
      "align_evaluation_train_align_0.5_metric_hard_accuracy_align_mean tensor(0.8557295799255371)\n",
      "align_evaluation_train_align_0.5_metric_hard_f1_align_mean tensor(0.8711340427398682)\n",
      "align_evaluation_dev_align_0.5_metric_hard_accuracy_align tensor(0.5363036394119263)\n",
      "align_evaluation_dev_align_0.5_metric_hard_f1_align tensor(0.2466488033533096)\n",
      "align_evaluation_dev_align_0.5_metric_hard_accuracy_align_mean tensor(0.5115511417388916)\n",
      "align_evaluation_dev_align_0.5_metric_hard_f1_align_mean tensor(0.3675213456153870)\n",
      "evaluation_human_metric_hard_accuracy tensor(0.8641114830970764)\n",
      "evaluation_human_metric_hard_f1 tensor(0.8802762627601624)\n",
      "evaluation_mouse_metric_hard_accuracy_1 tensor(0.8685229420661926)\n",
      "evaluation_mouse_metric_hard_f1_1 tensor(0.8837246894836426)\n"
     ]
    },
    {
     "data": {
      "application/vnd.jupyter.widget-view+json": {
       "model_id": "",
       "version_major": 2,
       "version_minor": 0
      },
      "text/plain": [
       "HBox(children=(HTML(value='Current Batch:'), FloatProgress(value=0.0, max=177.0), HTML(value='')))"
      ]
     },
     "metadata": {},
     "output_type": "display_data"
    },
    {
     "name": "stdout",
     "output_type": "stream",
     "text": [
      "align_evaluation_train_align_0.5_metric_hard_accuracy_align tensor(0.6698268651962280)\n",
      "align_evaluation_train_align_0.5_metric_hard_f1_align tensor(0.5681940913200378)\n",
      "align_evaluation_train_align_0.5_metric_hard_accuracy_align_mean tensor(0.8557295799255371)\n",
      "align_evaluation_train_align_0.5_metric_hard_f1_align_mean tensor(0.8717008829116821)\n",
      "align_evaluation_dev_align_0.5_metric_hard_accuracy_align tensor(0.5379537940025330)\n",
      "align_evaluation_dev_align_0.5_metric_hard_f1_align tensor(0.2553191483020782)\n",
      "align_evaluation_dev_align_0.5_metric_hard_accuracy_align_mean tensor(0.5033003091812134)\n",
      "align_evaluation_dev_align_0.5_metric_hard_f1_align_mean tensor(0.3582089245319366)\n",
      "evaluation_human_metric_hard_accuracy tensor(0.8681765198707581)\n",
      "evaluation_human_metric_hard_f1 tensor(0.8835001587867737)\n",
      "evaluation_mouse_metric_hard_accuracy_1 tensor(0.8692605495452881)\n",
      "evaluation_mouse_metric_hard_f1_1 tensor(0.8843016028404236)\n"
     ]
    },
    {
     "data": {
      "application/vnd.jupyter.widget-view+json": {
       "model_id": "",
       "version_major": 2,
       "version_minor": 0
      },
      "text/plain": [
       "HBox(children=(HTML(value='Current Batch:'), FloatProgress(value=0.0, max=177.0), HTML(value='')))"
      ]
     },
     "metadata": {},
     "output_type": "display_data"
    },
    {
     "name": "stdout",
     "output_type": "stream",
     "text": [
      "align_evaluation_train_align_0.5_metric_hard_accuracy_align tensor(0.6887881159782410)\n",
      "align_evaluation_train_align_0.5_metric_hard_f1_align tensor(0.6040901541709900)\n",
      "align_evaluation_train_align_0.5_metric_hard_accuracy_align_mean tensor(0.8516075611114502)\n",
      "align_evaluation_train_align_0.5_metric_hard_f1_align_mean tensor(0.8689956068992615)\n",
      "align_evaluation_dev_align_0.5_metric_hard_accuracy_align tensor(0.5445544719696045)\n",
      "align_evaluation_dev_align_0.5_metric_hard_f1_align tensor(0.2736842036247253)\n",
      "align_evaluation_dev_align_0.5_metric_hard_accuracy_align_mean tensor(0.5066006779670715)\n",
      "align_evaluation_dev_align_0.5_metric_hard_f1_align_mean tensor(0.3678646981716156)\n",
      "evaluation_human_metric_hard_accuracy tensor(0.8664343953132629)\n",
      "evaluation_human_metric_hard_f1 tensor(0.8820815086364746)\n",
      "evaluation_mouse_metric_hard_accuracy_1 tensor(0.8711045384407043)\n",
      "evaluation_mouse_metric_hard_f1_1 tensor(0.8858029842376709)\n"
     ]
    },
    {
     "data": {
      "application/vnd.jupyter.widget-view+json": {
       "model_id": "",
       "version_major": 2,
       "version_minor": 0
      },
      "text/plain": [
       "HBox(children=(HTML(value='Current Batch:'), FloatProgress(value=0.0, max=177.0), HTML(value='')))"
      ]
     },
     "metadata": {},
     "output_type": "display_data"
    },
    {
     "name": "stdout",
     "output_type": "stream",
     "text": [
      "align_evaluation_train_align_0.5_metric_hard_accuracy_align tensor(0.7135201692581177)\n",
      "align_evaluation_train_align_0.5_metric_hard_f1_align tensor(0.6477445363998413)\n",
      "align_evaluation_train_align_0.5_metric_hard_accuracy_align_mean tensor(0.8565539717674255)\n",
      "align_evaluation_train_align_0.5_metric_hard_f1_align_mean tensor(0.8740954995155334)\n",
      "align_evaluation_dev_align_0.5_metric_hard_accuracy_align tensor(0.5346534848213196)\n",
      "align_evaluation_dev_align_0.5_metric_hard_f1_align tensor(0.2578947544097900)\n",
      "align_evaluation_dev_align_0.5_metric_hard_accuracy_align_mean tensor(0.5049505233764648)\n",
      "align_evaluation_dev_align_0.5_metric_hard_f1_align_mean tensor(0.3644067943096161)\n",
      "evaluation_human_metric_hard_accuracy tensor(0.8668699264526367)\n",
      "evaluation_human_metric_hard_f1 tensor(0.8824811577796936)\n",
      "evaluation_mouse_metric_hard_accuracy_1 tensor(0.8703669309616089)\n",
      "evaluation_mouse_metric_hard_f1_1 tensor(0.8851682543754578)\n"
     ]
    },
    {
     "data": {
      "application/vnd.jupyter.widget-view+json": {
       "model_id": "",
       "version_major": 2,
       "version_minor": 0
      },
      "text/plain": [
       "HBox(children=(HTML(value='Current Batch:'), FloatProgress(value=0.0, max=177.0), HTML(value='')))"
      ]
     },
     "metadata": {},
     "output_type": "display_data"
    },
    {
     "name": "stdout",
     "output_type": "stream",
     "text": [
      "align_evaluation_train_align_0.5_metric_hard_accuracy_align tensor(0.7320692539215088)\n",
      "align_evaluation_train_align_0.5_metric_hard_f1_align tensor(0.6823069453239441)\n",
      "align_evaluation_train_align_0.5_metric_hard_accuracy_align_mean tensor(0.8586149811744690)\n",
      "align_evaluation_train_align_0.5_metric_hard_f1_align_mean tensor(0.8758595585823059)\n",
      "align_evaluation_dev_align_0.5_metric_hard_accuracy_align tensor(0.5346534848213196)\n",
      "align_evaluation_dev_align_0.5_metric_hard_f1_align tensor(0.2617801129817963)\n",
      "align_evaluation_dev_align_0.5_metric_hard_accuracy_align_mean tensor(0.5066006779670715)\n",
      "align_evaluation_dev_align_0.5_metric_hard_f1_align_mean tensor(0.3705263137817383)\n",
      "evaluation_human_metric_hard_accuracy tensor(0.8683217167854309)\n",
      "evaluation_human_metric_hard_f1 tensor(0.8835836052894592)\n",
      "evaluation_mouse_metric_hard_accuracy_1 tensor(0.8708279728889465)\n",
      "evaluation_mouse_metric_hard_f1_1 tensor(0.8855859637260437)\n"
     ]
    },
    {
     "data": {
      "application/vnd.jupyter.widget-view+json": {
       "model_id": "",
       "version_major": 2,
       "version_minor": 0
      },
      "text/plain": [
       "HBox(children=(HTML(value='Current Batch:'), FloatProgress(value=0.0, max=177.0), HTML(value='')))"
      ]
     },
     "metadata": {},
     "output_type": "display_data"
    },
    {
     "name": "stdout",
     "output_type": "stream",
     "text": [
      "align_evaluation_train_align_0.5_metric_hard_accuracy_align tensor(0.7629843354225159)\n",
      "align_evaluation_train_align_0.5_metric_hard_f1_align tensor(0.7271001338958740)\n",
      "align_evaluation_train_align_0.5_metric_hard_accuracy_align_mean tensor(0.8557295799255371)\n",
      "align_evaluation_train_align_0.5_metric_hard_f1_align_mean tensor(0.8736461997032166)\n",
      "align_evaluation_dev_align_0.5_metric_hard_accuracy_align tensor(0.5330032706260681)\n",
      "align_evaluation_dev_align_0.5_metric_hard_f1_align tensor(0.2610965967178345)\n",
      "align_evaluation_dev_align_0.5_metric_hard_accuracy_align_mean tensor(0.4983498454093933)\n",
      "align_evaluation_dev_align_0.5_metric_hard_f1_align_mean tensor(0.3666666448116302)\n",
      "evaluation_human_metric_hard_accuracy tensor(0.8675957918167114)\n",
      "evaluation_human_metric_hard_f1 tensor(0.8830469250679016)\n",
      "evaluation_mouse_metric_hard_accuracy_1 tensor(0.8704591393470764)\n",
      "evaluation_mouse_metric_hard_f1_1 tensor(0.8853154778480530)\n"
     ]
    },
    {
     "data": {
      "application/vnd.jupyter.widget-view+json": {
       "model_id": "",
       "version_major": 2,
       "version_minor": 0
      },
      "text/plain": [
       "HBox(children=(HTML(value='Current Batch:'), FloatProgress(value=0.0, max=177.0), HTML(value='')))"
      ]
     },
     "metadata": {},
     "output_type": "display_data"
    },
    {
     "name": "stdout",
     "output_type": "stream",
     "text": [
      "align_evaluation_train_align_0.5_metric_hard_accuracy_align tensor(0.7745259404182434)\n",
      "align_evaluation_train_align_0.5_metric_hard_f1_align tensor(0.7456997036933899)\n",
      "align_evaluation_train_align_0.5_metric_hard_accuracy_align_mean tensor(0.8561418056488037)\n",
      "align_evaluation_train_align_0.5_metric_hard_f1_align_mean tensor(0.8740527033805847)\n",
      "align_evaluation_dev_align_0.5_metric_hard_accuracy_align tensor(0.5363036394119263)\n",
      "align_evaluation_dev_align_0.5_metric_hard_f1_align tensor(0.2701298594474792)\n",
      "align_evaluation_dev_align_0.5_metric_hard_accuracy_align_mean tensor(0.5033003091812134)\n",
      "align_evaluation_dev_align_0.5_metric_hard_f1_align_mean tensor(0.3742203712463379)\n",
      "evaluation_human_metric_hard_accuracy tensor(0.8687572479248047)\n",
      "evaluation_human_metric_hard_f1 tensor(0.8839836120605469)\n",
      "evaluation_mouse_metric_hard_accuracy_1 tensor(0.8728563785552979)\n",
      "evaluation_mouse_metric_hard_f1_1 tensor(0.8871983885765076)\n"
     ]
    },
    {
     "data": {
      "application/vnd.jupyter.widget-view+json": {
       "model_id": "",
       "version_major": 2,
       "version_minor": 0
      },
      "text/plain": [
       "HBox(children=(HTML(value='Current Batch:'), FloatProgress(value=0.0, max=177.0), HTML(value='')))"
      ]
     },
     "metadata": {},
     "output_type": "display_data"
    },
    {
     "name": "stdout",
     "output_type": "stream",
     "text": [
      "align_evaluation_train_align_0.5_metric_hard_accuracy_align tensor(0.7906017899513245)\n",
      "align_evaluation_train_align_0.5_metric_hard_f1_align tensor(0.7676120996475220)\n",
      "align_evaluation_train_align_0.5_metric_hard_accuracy_align_mean tensor(0.8544930219650269)\n",
      "align_evaluation_train_align_0.5_metric_hard_f1_align_mean tensor(0.8729758858680725)\n",
      "align_evaluation_dev_align_0.5_metric_hard_accuracy_align tensor(0.5330032706260681)\n",
      "align_evaluation_dev_align_0.5_metric_hard_f1_align tensor(0.2687338590621948)\n",
      "align_evaluation_dev_align_0.5_metric_hard_accuracy_align_mean tensor(0.5016501545906067)\n",
      "align_evaluation_dev_align_0.5_metric_hard_f1_align_mean tensor(0.3734439611434937)\n",
      "evaluation_human_metric_hard_accuracy tensor(0.8687572479248047)\n",
      "evaluation_human_metric_hard_f1 tensor(0.8839538097381592)\n",
      "evaluation_mouse_metric_hard_accuracy_1 tensor(0.8722109794616699)\n",
      "evaluation_mouse_metric_hard_f1_1 tensor(0.8866536021232605)\n"
     ]
    },
    {
     "data": {
      "application/vnd.jupyter.widget-view+json": {
       "model_id": "",
       "version_major": 2,
       "version_minor": 0
      },
      "text/plain": [
       "HBox(children=(HTML(value='Current Batch:'), FloatProgress(value=0.0, max=177.0), HTML(value='')))"
      ]
     },
     "metadata": {},
     "output_type": "display_data"
    },
    {
     "name": "stdout",
     "output_type": "stream",
     "text": [
      "align_evaluation_train_align_0.5_metric_hard_accuracy_align tensor(0.8309975266456604)\n",
      "align_evaluation_train_align_0.5_metric_hard_f1_align tensor(0.8215840458869934)\n",
      "align_evaluation_train_align_0.5_metric_hard_accuracy_align_mean tensor(0.8495465517044067)\n",
      "align_evaluation_train_align_0.5_metric_hard_f1_align_mean tensor(0.8690348267555237)\n",
      "align_evaluation_dev_align_0.5_metric_hard_accuracy_align tensor(0.5346534848213196)\n",
      "align_evaluation_dev_align_0.5_metric_hard_f1_align tensor(0.2806122303009033)\n",
      "align_evaluation_dev_align_0.5_metric_hard_accuracy_align_mean tensor(0.5000000000000000)\n",
      "align_evaluation_dev_align_0.5_metric_hard_f1_align_mean tensor(0.3752577304840088)\n",
      "evaluation_human_metric_hard_accuracy tensor(0.8689024448394775)\n",
      "evaluation_human_metric_hard_f1 tensor(0.8840672969818115)\n",
      "evaluation_mouse_metric_hard_accuracy_1 tensor(0.8728563785552979)\n",
      "evaluation_mouse_metric_hard_f1_1 tensor(0.8871983885765076)\n"
     ]
    },
    {
     "data": {
      "application/vnd.jupyter.widget-view+json": {
       "model_id": "",
       "version_major": 2,
       "version_minor": 0
      },
      "text/plain": [
       "HBox(children=(HTML(value='Current Batch:'), FloatProgress(value=0.0, max=177.0), HTML(value='')))"
      ]
     },
     "metadata": {},
     "output_type": "display_data"
    },
    {
     "name": "stdout",
     "output_type": "stream",
     "text": [
      "align_evaluation_train_align_0.5_metric_hard_accuracy_align tensor(0.8483099937438965)\n",
      "align_evaluation_train_align_0.5_metric_hard_f1_align tensor(0.8430033922195435)\n",
      "align_evaluation_train_align_0.5_metric_hard_accuracy_align_mean tensor(0.8524320125579834)\n",
      "align_evaluation_train_align_0.5_metric_hard_f1_align_mean tensor(0.8713155984878540)\n",
      "align_evaluation_dev_align_0.5_metric_hard_accuracy_align tensor(0.5363036394119263)\n",
      "align_evaluation_dev_align_0.5_metric_hard_f1_align tensor(0.2776349782943726)\n",
      "align_evaluation_dev_align_0.5_metric_hard_accuracy_align_mean tensor(0.5016501545906067)\n",
      "align_evaluation_dev_align_0.5_metric_hard_f1_align_mean tensor(0.3760330677032471)\n",
      "evaluation_human_metric_hard_accuracy tensor(0.8700639009475708)\n",
      "evaluation_human_metric_hard_f1 tensor(0.8850058317184448)\n",
      "evaluation_mouse_metric_hard_accuracy_1 tensor(0.8729485273361206)\n",
      "evaluation_mouse_metric_hard_f1_1 tensor(0.8872709274291992)\n"
     ]
    },
    {
     "data": {
      "application/vnd.jupyter.widget-view+json": {
       "model_id": "",
       "version_major": 2,
       "version_minor": 0
      },
      "text/plain": [
       "HBox(children=(HTML(value='Current Batch:'), FloatProgress(value=0.0, max=177.0), HTML(value='')))"
      ]
     },
     "metadata": {},
     "output_type": "display_data"
    },
    {
     "name": "stdout",
     "output_type": "stream",
     "text": [
      "align_evaluation_train_align_0.5_metric_hard_accuracy_align tensor(0.8561418056488037)\n",
      "align_evaluation_train_align_0.5_metric_hard_f1_align tensor(0.8530526161193848)\n",
      "align_evaluation_train_align_0.5_metric_hard_accuracy_align_mean tensor(0.8495465517044067)\n",
      "align_evaluation_train_align_0.5_metric_hard_f1_align_mean tensor(0.8692224621772766)\n",
      "align_evaluation_dev_align_0.5_metric_hard_accuracy_align tensor(0.5313531160354614)\n",
      "align_evaluation_dev_align_0.5_metric_hard_f1_align tensor(0.2717948555946350)\n",
      "align_evaluation_dev_align_0.5_metric_hard_accuracy_align_mean tensor(0.4966996610164642)\n",
      "align_evaluation_dev_align_0.5_metric_hard_f1_align_mean tensor(0.3737166225910187)\n",
      "evaluation_human_metric_hard_accuracy tensor(0.8684669137001038)\n",
      "evaluation_human_metric_hard_f1 tensor(0.8837566971778870)\n",
      "evaluation_mouse_metric_hard_accuracy_1 tensor(0.8739627599716187)\n",
      "evaluation_mouse_metric_hard_f1_1 tensor(0.8880700469017029)\n"
     ]
    },
    {
     "data": {
      "application/vnd.jupyter.widget-view+json": {
       "model_id": "",
       "version_major": 2,
       "version_minor": 0
      },
      "text/plain": [
       "HBox(children=(HTML(value='Current Batch:'), FloatProgress(value=0.0, max=177.0), HTML(value='')))"
      ]
     },
     "metadata": {},
     "output_type": "display_data"
    },
    {
     "name": "stdout",
     "output_type": "stream",
     "text": [
      "align_evaluation_train_align_0.5_metric_hard_accuracy_align tensor(0.8771640658378601)\n",
      "align_evaluation_train_align_0.5_metric_hard_f1_align tensor(0.8771640658378601)\n",
      "align_evaluation_train_align_0.5_metric_hard_accuracy_align_mean tensor(0.8474856019020081)\n",
      "align_evaluation_train_align_0.5_metric_hard_f1_align_mean tensor(0.8676680922508240)\n",
      "align_evaluation_dev_align_0.5_metric_hard_accuracy_align tensor(0.5379537940025330)\n",
      "align_evaluation_dev_align_0.5_metric_hard_f1_align tensor(0.2893401086330414)\n",
      "align_evaluation_dev_align_0.5_metric_hard_accuracy_align_mean tensor(0.5016501545906067)\n",
      "align_evaluation_dev_align_0.5_metric_hard_f1_align_mean tensor(0.3786008059978485)\n",
      "evaluation_human_metric_hard_accuracy tensor(0.8694831728935242)\n",
      "evaluation_human_metric_hard_f1 tensor(0.8845511674880981)\n",
      "evaluation_mouse_metric_hard_accuracy_1 tensor(0.8735939264297485)\n",
      "evaluation_mouse_metric_hard_f1_1 tensor(0.8877793550491333)\n"
     ]
    },
    {
     "data": {
      "application/vnd.jupyter.widget-view+json": {
       "model_id": "",
       "version_major": 2,
       "version_minor": 0
      },
      "text/plain": [
       "HBox(children=(HTML(value='Current Batch:'), FloatProgress(value=0.0, max=177.0), HTML(value='')))"
      ]
     },
     "metadata": {},
     "output_type": "display_data"
    },
    {
     "name": "stdout",
     "output_type": "stream",
     "text": [
      "align_evaluation_train_align_0.5_metric_hard_accuracy_align tensor(0.8878812789916992)\n",
      "align_evaluation_train_align_0.5_metric_hard_f1_align tensor(0.8891605734825134)\n",
      "align_evaluation_train_align_0.5_metric_hard_accuracy_align_mean tensor(0.8441879749298096)\n",
      "align_evaluation_train_align_0.5_metric_hard_f1_align_mean tensor(0.8651925921440125)\n",
      "align_evaluation_dev_align_0.5_metric_hard_accuracy_align tensor(0.5379537940025330)\n",
      "align_evaluation_dev_align_0.5_metric_hard_f1_align tensor(0.2893401086330414)\n",
      "align_evaluation_dev_align_0.5_metric_hard_accuracy_align_mean tensor(0.5016501545906067)\n",
      "align_evaluation_dev_align_0.5_metric_hard_f1_align_mean tensor(0.3786008059978485)\n",
      "evaluation_human_metric_hard_accuracy tensor(0.8709349632263184)\n",
      "evaluation_human_metric_hard_f1 tensor(0.8856886029243469)\n",
      "evaluation_mouse_metric_hard_accuracy_1 tensor(0.8736861348152161)\n",
      "evaluation_mouse_metric_hard_f1_1 tensor(0.8878520131111145)\n"
     ]
    },
    {
     "data": {
      "application/vnd.jupyter.widget-view+json": {
       "model_id": "",
       "version_major": 2,
       "version_minor": 0
      },
      "text/plain": [
       "HBox(children=(HTML(value='Current Batch:'), FloatProgress(value=0.0, max=177.0), HTML(value='')))"
      ]
     },
     "metadata": {},
     "output_type": "display_data"
    },
    {
     "name": "stdout",
     "output_type": "stream",
     "text": [
      "align_evaluation_train_align_0.5_metric_hard_accuracy_align tensor(0.8973619341850281)\n",
      "align_evaluation_train_align_0.5_metric_hard_f1_align tensor(0.8994751572608948)\n",
      "align_evaluation_train_align_0.5_metric_hard_accuracy_align_mean tensor(0.8450123667716980)\n",
      "align_evaluation_train_align_0.5_metric_hard_f1_align_mean tensor(0.8658101558685303)\n",
      "align_evaluation_dev_align_0.5_metric_hard_accuracy_align tensor(0.5313531160354614)\n",
      "align_evaluation_dev_align_0.5_metric_hard_f1_align tensor(0.2791878283023834)\n",
      "align_evaluation_dev_align_0.5_metric_hard_accuracy_align_mean tensor(0.5000000000000000)\n",
      "align_evaluation_dev_align_0.5_metric_hard_f1_align_mean tensor(0.3778234124183655)\n",
      "evaluation_human_metric_hard_accuracy tensor(0.8687572479248047)\n",
      "evaluation_human_metric_hard_f1 tensor(0.8839836120605469)\n",
      "evaluation_mouse_metric_hard_accuracy_1 tensor(0.8747925758361816)\n",
      "evaluation_mouse_metric_hard_f1_1 tensor(0.8887249827384949)\n"
     ]
    },
    {
     "data": {
      "application/vnd.jupyter.widget-view+json": {
       "model_id": "",
       "version_major": 2,
       "version_minor": 0
      },
      "text/plain": [
       "HBox(children=(HTML(value='Current Batch:'), FloatProgress(value=0.0, max=177.0), HTML(value='')))"
      ]
     },
     "metadata": {},
     "output_type": "display_data"
    },
    {
     "name": "stdout",
     "output_type": "stream",
     "text": [
      "align_evaluation_train_align_0.5_metric_hard_accuracy_align tensor(0.9097279310226440)\n",
      "align_evaluation_train_align_0.5_metric_hard_f1_align tensor(0.9132672548294067)\n",
      "align_evaluation_train_align_0.5_metric_hard_accuracy_align_mean tensor(0.8441879749298096)\n",
      "align_evaluation_train_align_0.5_metric_hard_f1_align_mean tensor(0.8651925921440125)\n",
      "align_evaluation_dev_align_0.5_metric_hard_accuracy_align tensor(0.5313531160354614)\n",
      "align_evaluation_dev_align_0.5_metric_hard_f1_align tensor(0.2864321768283844)\n",
      "align_evaluation_dev_align_0.5_metric_hard_accuracy_align_mean tensor(0.4966996610164642)\n",
      "align_evaluation_dev_align_0.5_metric_hard_f1_align_mean tensor(0.3762781023979187)\n",
      "evaluation_human_metric_hard_accuracy tensor(0.8694831728935242)\n",
      "evaluation_human_metric_hard_f1 tensor(0.8845511674880981)\n",
      "evaluation_mouse_metric_hard_accuracy_1 tensor(0.8739627599716187)\n",
      "evaluation_mouse_metric_hard_f1_1 tensor(0.8880700469017029)\n"
     ]
    },
    {
     "data": {
      "application/vnd.jupyter.widget-view+json": {
       "model_id": "",
       "version_major": 2,
       "version_minor": 0
      },
      "text/plain": [
       "HBox(children=(HTML(value='Current Batch:'), FloatProgress(value=0.0, max=177.0), HTML(value='')))"
      ]
     },
     "metadata": {},
     "output_type": "display_data"
    },
    {
     "name": "stdout",
     "output_type": "stream",
     "text": [
      "align_evaluation_train_align_0.5_metric_hard_accuracy_align tensor(0.9163231849670410)\n",
      "align_evaluation_train_align_0.5_metric_hard_f1_align tensor(0.9196676015853882)\n",
      "align_evaluation_train_align_0.5_metric_hard_accuracy_align_mean tensor(0.8421269655227661)\n",
      "align_evaluation_train_align_0.5_metric_hard_f1_align_mean tensor(0.8636525869369507)\n",
      "align_evaluation_dev_align_0.5_metric_hard_accuracy_align tensor(0.5330032706260681)\n",
      "align_evaluation_dev_align_0.5_metric_hard_f1_align tensor(0.2871536612510681)\n",
      "align_evaluation_dev_align_0.5_metric_hard_accuracy_align_mean tensor(0.4966996610164642)\n",
      "align_evaluation_dev_align_0.5_metric_hard_f1_align_mean tensor(0.3762781023979187)\n",
      "evaluation_human_metric_hard_accuracy tensor(0.8700639009475708)\n",
      "evaluation_human_metric_hard_f1 tensor(0.8850058317184448)\n",
      "evaluation_mouse_metric_hard_accuracy_1 tensor(0.8753457665443420)\n",
      "evaluation_mouse_metric_hard_f1_1 tensor(0.8891621828079224)\n"
     ]
    },
    {
     "data": {
      "application/vnd.jupyter.widget-view+json": {
       "model_id": "f8902b38f3ef4c2b89fe4c63fd633b9a",
       "version_major": 2,
       "version_minor": 0
      },
      "text/plain": [
       "HBox(children=(HTML(value='Current Batch:'), FloatProgress(value=0.0, max=177.0), HTML(value='')))"
      ]
     },
     "metadata": {},
     "output_type": "display_data"
    },
    {
     "name": "stdout",
     "output_type": "stream",
     "text": [
      "\n",
      "Stopped training at 24.548022598870055 epochs due to keyboard interrupt.\n"
     ]
    }
   ],
   "source": [
    "nEpochs = 100\n",
    "l.train(nEpochs)"
   ]
  },
  {
   "cell_type": "code",
   "execution_count": null,
   "metadata": {},
   "outputs": [],
   "source": []
  },
  {
   "cell_type": "code",
   "execution_count": null,
   "metadata": {},
   "outputs": [],
   "source": []
  }
 ],
 "metadata": {
  "kernelspec": {
   "display_name": "Python 3",
   "language": "python",
   "name": "python3"
  },
  "language_info": {
   "codemirror_mode": {
    "name": "ipython",
    "version": 3
   },
   "file_extension": ".py",
   "mimetype": "text/x-python",
   "name": "python",
   "nbconvert_exporter": "python",
   "pygments_lexer": "ipython3",
   "version": "3.7.9"
  }
 },
 "nbformat": 4,
 "nbformat_minor": 4
}
